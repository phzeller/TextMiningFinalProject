{
 "cells": [
  {
   "cell_type": "code",
   "execution_count": 78,
   "id": "516e3838",
   "metadata": {
    "ExecuteTime": {
     "end_time": "2022-03-08T12:03:29.021269Z",
     "start_time": "2022-03-08T12:03:23.471982Z"
    }
   },
   "outputs": [],
   "source": [
    "import re\n",
    "import matplotlib.pyplot as plt\n",
    "import string\n",
    "from nltk.tokenize.treebank import TreebankWordDetokenizer\n",
    "from gensim.utils import simple_preprocess\n",
    "import gensim\n",
    "from sklearn.model_selection import train_test_split\n",
    "import pickle\n",
    "import warnings\n",
    "warnings.filterwarnings('ignore')\n",
    "import seaborn as sns\n",
    "from sklearn.metrics import confusion_matrix\n",
    "import matplotlib.pyplot as plt \n",
    "import tensorflow as tf\n",
    "import keras\n",
    "import numpy as np\n",
    "import pandas as pd\n",
    "from nltk.corpus import stopwords\n",
    "import nltk\n",
    "\n",
    "import pandas as pd\n",
    "import matplotlib.pyplot as plt\n",
    "import numpy as np\n",
    "import re\n",
    "from tqdm import tqdm\n",
    "from tensorflow.keras.preprocessing.text import Tokenizer\n",
    "from tensorflow.keras.preprocessing.sequence import pad_sequences\n",
    "from tensorflow.keras.models import Sequential\n",
    "from tensorflow.keras.layers import LSTM,Dense, Dropout, SpatialDropout1D\n",
    "from tensorflow.keras.layers import Embedding\n",
    "from keras.layers import Dense, Dropout, BatchNormalization\n",
    "from keras.layers.wrappers import Bidirectional\n",
    "\n",
    "import pandas\n",
    "import pickle\n",
    "import bz2\n",
    "import _pickle as cPickle\n",
    "import zipfile\n",
    "from tqdm import tqdm\n",
    "\n",
    "import gensim\n",
    "from gensim.utils import simple_preprocess\n",
    "from gensim.parsing.preprocessing import STOPWORDS\n",
    "from nltk.stem import WordNetLemmatizer, SnowballStemmer\n",
    "from nltk.stem.porter import *\n",
    "import numpy as np\n",
    "np.random.seed(2018)\n",
    "import nltk"
   ]
  },
  {
   "cell_type": "code",
   "execution_count": 2,
   "id": "3f9d4c4b",
   "metadata": {
    "ExecuteTime": {
     "end_time": "2022-03-08T09:30:02.972606Z",
     "start_time": "2022-03-08T09:30:02.839246Z"
    }
   },
   "outputs": [],
   "source": [
    "df=pd.read_csv(r'C:\\Users\\chriq\\OneDrive\\Documents\\my_data\\Textminingdata\\minutes.csv')"
   ]
  },
  {
   "cell_type": "code",
   "execution_count": 3,
   "id": "548a64e9",
   "metadata": {
    "ExecuteTime": {
     "end_time": "2022-03-08T09:30:03.685025Z",
     "start_time": "2022-03-08T09:30:03.657580Z"
    }
   },
   "outputs": [
    {
     "data": {
      "text/html": [
       "<div>\n",
       "<style scoped>\n",
       "    .dataframe tbody tr th:only-of-type {\n",
       "        vertical-align: middle;\n",
       "    }\n",
       "\n",
       "    .dataframe tbody tr th {\n",
       "        vertical-align: top;\n",
       "    }\n",
       "\n",
       "    .dataframe thead th {\n",
       "        text-align: right;\n",
       "    }\n",
       "</style>\n",
       "<table border=\"1\" class=\"dataframe\">\n",
       "  <thead>\n",
       "    <tr style=\"text-align: right;\">\n",
       "      <th></th>\n",
       "      <th>Unnamed: 0</th>\n",
       "      <th>date</th>\n",
       "      <th>contents</th>\n",
       "      <th>speaker</th>\n",
       "      <th>title</th>\n",
       "    </tr>\n",
       "  </thead>\n",
       "  <tbody>\n",
       "    <tr>\n",
       "      <th>0</th>\n",
       "      <td>0</td>\n",
       "      <td>1993-02-03</td>\n",
       "      <td>A meeting of the Federal Open Market Committee...</td>\n",
       "      <td>Alan Greenspan</td>\n",
       "      <td>FOMC Meeting Minutes</td>\n",
       "    </tr>\n",
       "    <tr>\n",
       "      <th>1</th>\n",
       "      <td>1</td>\n",
       "      <td>1993-03-23</td>\n",
       "      <td>A meeting of the Federal Open Market Committee...</td>\n",
       "      <td>Alan Greenspan</td>\n",
       "      <td>FOMC Meeting Minutes</td>\n",
       "    </tr>\n",
       "    <tr>\n",
       "      <th>2</th>\n",
       "      <td>2</td>\n",
       "      <td>1993-05-18</td>\n",
       "      <td>A meeting of the Federal Open Market Committee...</td>\n",
       "      <td>Alan Greenspan</td>\n",
       "      <td>FOMC Meeting Minutes</td>\n",
       "    </tr>\n",
       "    <tr>\n",
       "      <th>3</th>\n",
       "      <td>3</td>\n",
       "      <td>1993-07-07</td>\n",
       "      <td>A meeting of the Federal Open Market Committee...</td>\n",
       "      <td>Alan Greenspan</td>\n",
       "      <td>FOMC Meeting Minutes</td>\n",
       "    </tr>\n",
       "    <tr>\n",
       "      <th>4</th>\n",
       "      <td>4</td>\n",
       "      <td>1993-08-17</td>\n",
       "      <td>A meeting of the Federal Open Market Committee...</td>\n",
       "      <td>Alan Greenspan</td>\n",
       "      <td>FOMC Meeting Minutes</td>\n",
       "    </tr>\n",
       "    <tr>\n",
       "      <th>...</th>\n",
       "      <td>...</td>\n",
       "      <td>...</td>\n",
       "      <td>...</td>\n",
       "      <td>...</td>\n",
       "      <td>...</td>\n",
       "    </tr>\n",
       "    <tr>\n",
       "      <th>219</th>\n",
       "      <td>219</td>\n",
       "      <td>2021-07-28</td>\n",
       "      <td>The Federal Reserve, the central bank of the U...</td>\n",
       "      <td>Jerome Powell</td>\n",
       "      <td>FOMC Meeting Minutes</td>\n",
       "    </tr>\n",
       "    <tr>\n",
       "      <th>220</th>\n",
       "      <td>220</td>\n",
       "      <td>2021-09-22</td>\n",
       "      <td>The Federal Reserve, the central bank of the U...</td>\n",
       "      <td>Jerome Powell</td>\n",
       "      <td>FOMC Meeting Minutes</td>\n",
       "    </tr>\n",
       "    <tr>\n",
       "      <th>221</th>\n",
       "      <td>221</td>\n",
       "      <td>2021-11-03</td>\n",
       "      <td>The Federal Reserve, the central bank of the U...</td>\n",
       "      <td>Jerome Powell</td>\n",
       "      <td>FOMC Meeting Minutes</td>\n",
       "    </tr>\n",
       "    <tr>\n",
       "      <th>222</th>\n",
       "      <td>222</td>\n",
       "      <td>2021-12-15</td>\n",
       "      <td>The Federal Reserve, the central bank of the U...</td>\n",
       "      <td>Jerome Powell</td>\n",
       "      <td>FOMC Meeting Minutes</td>\n",
       "    </tr>\n",
       "    <tr>\n",
       "      <th>223</th>\n",
       "      <td>223</td>\n",
       "      <td>2022-01-26</td>\n",
       "      <td>The Federal Reserve, the central bank of the U...</td>\n",
       "      <td>other</td>\n",
       "      <td>FOMC Meeting Minutes</td>\n",
       "    </tr>\n",
       "  </tbody>\n",
       "</table>\n",
       "<p>224 rows × 5 columns</p>\n",
       "</div>"
      ],
      "text/plain": [
       "     Unnamed: 0        date  \\\n",
       "0             0  1993-02-03   \n",
       "1             1  1993-03-23   \n",
       "2             2  1993-05-18   \n",
       "3             3  1993-07-07   \n",
       "4             4  1993-08-17   \n",
       "..          ...         ...   \n",
       "219         219  2021-07-28   \n",
       "220         220  2021-09-22   \n",
       "221         221  2021-11-03   \n",
       "222         222  2021-12-15   \n",
       "223         223  2022-01-26   \n",
       "\n",
       "                                              contents         speaker  \\\n",
       "0    A meeting of the Federal Open Market Committee...  Alan Greenspan   \n",
       "1    A meeting of the Federal Open Market Committee...  Alan Greenspan   \n",
       "2    A meeting of the Federal Open Market Committee...  Alan Greenspan   \n",
       "3    A meeting of the Federal Open Market Committee...  Alan Greenspan   \n",
       "4    A meeting of the Federal Open Market Committee...  Alan Greenspan   \n",
       "..                                                 ...             ...   \n",
       "219  The Federal Reserve, the central bank of the U...   Jerome Powell   \n",
       "220  The Federal Reserve, the central bank of the U...   Jerome Powell   \n",
       "221  The Federal Reserve, the central bank of the U...   Jerome Powell   \n",
       "222  The Federal Reserve, the central bank of the U...   Jerome Powell   \n",
       "223  The Federal Reserve, the central bank of the U...           other   \n",
       "\n",
       "                    title  \n",
       "0    FOMC Meeting Minutes  \n",
       "1    FOMC Meeting Minutes  \n",
       "2    FOMC Meeting Minutes  \n",
       "3    FOMC Meeting Minutes  \n",
       "4    FOMC Meeting Minutes  \n",
       "..                    ...  \n",
       "219  FOMC Meeting Minutes  \n",
       "220  FOMC Meeting Minutes  \n",
       "221  FOMC Meeting Minutes  \n",
       "222  FOMC Meeting Minutes  \n",
       "223  FOMC Meeting Minutes  \n",
       "\n",
       "[224 rows x 5 columns]"
      ]
     },
     "execution_count": 3,
     "metadata": {},
     "output_type": "execute_result"
    }
   ],
   "source": [
    "df"
   ]
  },
  {
   "cell_type": "code",
   "execution_count": 4,
   "id": "6a1c8c8d",
   "metadata": {
    "ExecuteTime": {
     "end_time": "2022-03-08T09:30:04.219338Z",
     "start_time": "2022-03-08T09:30:04.212339Z"
    }
   },
   "outputs": [
    {
     "data": {
      "text/plain": [
       "Alan Greenspan    110\n",
       "Ben Bernanke       65\n",
       "Jerome Powell      32\n",
       "Janet Yellen       16\n",
       "other               1\n",
       "Name: speaker, dtype: int64"
      ]
     },
     "execution_count": 4,
     "metadata": {},
     "output_type": "execute_result"
    }
   ],
   "source": [
    "df.speaker.value_counts()"
   ]
  },
  {
   "cell_type": "code",
   "execution_count": 5,
   "id": "fd0843f7",
   "metadata": {
    "ExecuteTime": {
     "end_time": "2022-03-08T09:30:05.350738Z",
     "start_time": "2022-03-08T09:30:05.327530Z"
    }
   },
   "outputs": [
    {
     "name": "stdout",
     "output_type": "stream",
     "text": [
      "<class 'pandas.core.frame.DataFrame'>\n",
      "RangeIndex: 224 entries, 0 to 223\n",
      "Data columns (total 5 columns):\n",
      " #   Column      Non-Null Count  Dtype \n",
      "---  ------      --------------  ----- \n",
      " 0   Unnamed: 0  224 non-null    int64 \n",
      " 1   date        224 non-null    object\n",
      " 2   contents    224 non-null    object\n",
      " 3   speaker     224 non-null    object\n",
      " 4   title       224 non-null    object\n",
      "dtypes: int64(1), object(4)\n",
      "memory usage: 8.9+ KB\n"
     ]
    }
   ],
   "source": [
    "df.info()"
   ]
  },
  {
   "cell_type": "code",
   "execution_count": 6,
   "id": "d2f9213f",
   "metadata": {
    "ExecuteTime": {
     "end_time": "2022-03-08T09:30:05.817764Z",
     "start_time": "2022-03-08T09:30:05.806730Z"
    }
   },
   "outputs": [],
   "source": [
    "df.rename({'index':'Unnamed: 0'},inplace=True)"
   ]
  },
  {
   "cell_type": "code",
   "execution_count": 7,
   "id": "14ae0f6a",
   "metadata": {
    "ExecuteTime": {
     "end_time": "2022-03-08T09:30:07.278904Z",
     "start_time": "2022-03-08T09:30:07.260890Z"
    }
   },
   "outputs": [
    {
     "name": "stdout",
     "output_type": "stream",
     "text": [
      "<class 'pandas.core.frame.DataFrame'>\n",
      "Int64Index: 224 entries, 0 to 223\n",
      "Data columns (total 5 columns):\n",
      " #   Column      Non-Null Count  Dtype \n",
      "---  ------      --------------  ----- \n",
      " 0   Unnamed: 0  224 non-null    int64 \n",
      " 1   date        224 non-null    object\n",
      " 2   contents    224 non-null    object\n",
      " 3   speaker     224 non-null    object\n",
      " 4   title       224 non-null    object\n",
      "dtypes: int64(1), object(4)\n",
      "memory usage: 10.5+ KB\n"
     ]
    }
   ],
   "source": [
    "df.info()"
   ]
  },
  {
   "cell_type": "markdown",
   "id": "938fae83",
   "metadata": {},
   "source": [
    "# Preprocessing"
   ]
  },
  {
   "cell_type": "code",
   "execution_count": 13,
   "id": "3adf3716",
   "metadata": {
    "ExecuteTime": {
     "end_time": "2022-03-08T09:31:15.777600Z",
     "start_time": "2022-03-08T09:31:15.364528Z"
    }
   },
   "outputs": [
    {
     "name": "stderr",
     "output_type": "stream",
     "text": [
      "[nltk_data] Downloading package wordnet to\n",
      "[nltk_data]     C:\\Users\\chriq\\AppData\\Roaming\\nltk_data...\n",
      "[nltk_data]   Package wordnet is already up-to-date!\n"
     ]
    },
    {
     "data": {
      "text/plain": [
       "True"
      ]
     },
     "execution_count": 13,
     "metadata": {},
     "output_type": "execute_result"
    }
   ],
   "source": [
    "import gensim\n",
    "from gensim.utils import simple_preprocess\n",
    "from gensim.parsing.preprocessing import STOPWORDS\n",
    "from nltk.stem import WordNetLemmatizer, SnowballStemmer\n",
    "from nltk.stem.porter import *\n",
    "import numpy as np\n",
    "np.random.seed(2018)\n",
    "import nltk\n",
    "nltk.download('wordnet')"
   ]
  },
  {
   "cell_type": "code",
   "execution_count": 16,
   "id": "1a336786",
   "metadata": {
    "ExecuteTime": {
     "end_time": "2022-03-08T09:32:21.064277Z",
     "start_time": "2022-03-08T09:32:21.049273Z"
    }
   },
   "outputs": [],
   "source": [
    "stemmer = SnowballStemmer('english')"
   ]
  },
  {
   "cell_type": "code",
   "execution_count": 17,
   "id": "919a0de7",
   "metadata": {
    "ExecuteTime": {
     "end_time": "2022-03-08T09:32:21.797339Z",
     "start_time": "2022-03-08T09:32:21.790969Z"
    }
   },
   "outputs": [],
   "source": [
    "def lemmatize_stemming(text):\n",
    "    return stemmer.stem(WordNetLemmatizer().lemmatize(text, pos='v'))\n",
    "def preprocess(text):\n",
    "    result = []\n",
    "    for token in gensim.utils.simple_preprocess(text):\n",
    "        if token not in gensim.parsing.preprocessing.STOPWORDS and len(token) > 3:\n",
    "            result.append(lemmatize_stemming(token))\n",
    "    return result"
   ]
  },
  {
   "cell_type": "code",
   "execution_count": 18,
   "id": "7c3c3930",
   "metadata": {
    "ExecuteTime": {
     "end_time": "2022-03-08T09:32:38.314428Z",
     "start_time": "2022-03-08T09:32:22.385475Z"
    }
   },
   "outputs": [
    {
     "data": {
      "text/plain": [
       "0      [meet, feder, open, market, committe, hold, of...\n",
       "1      [meet, feder, open, market, committe, hold, of...\n",
       "2      [meet, feder, open, market, committe, hold, of...\n",
       "3      [meet, feder, open, market, committe, hold, of...\n",
       "4      [meet, feder, open, market, committe, hold, of...\n",
       "                             ...                        \n",
       "219    [feder, reserv, central, bank, unit, state, pr...\n",
       "220    [feder, reserv, central, bank, unit, state, pr...\n",
       "221    [feder, reserv, central, bank, unit, state, pr...\n",
       "222    [feder, reserv, central, bank, unit, state, pr...\n",
       "223    [feder, reserv, central, bank, unit, state, pr...\n",
       "Name: contents, Length: 224, dtype: object"
      ]
     },
     "execution_count": 18,
     "metadata": {},
     "output_type": "execute_result"
    }
   ],
   "source": [
    "processed_docs = df['contents'].map(preprocess)\n",
    "processed_docs"
   ]
  },
  {
   "cell_type": "code",
   "execution_count": 19,
   "id": "e124568d",
   "metadata": {
    "ExecuteTime": {
     "end_time": "2022-03-08T09:32:41.237386Z",
     "start_time": "2022-03-08T09:32:40.921351Z"
    }
   },
   "outputs": [
    {
     "name": "stdout",
     "output_type": "stream",
     "text": [
      "0 abat\n",
      "1 abil\n",
      "2 abroad\n",
      "3 abrupt\n",
      "4 absenc\n",
      "5 acceler\n",
      "6 accept\n",
      "7 accommod\n",
      "8 accompani\n",
      "9 accord\n",
      "10 account\n"
     ]
    }
   ],
   "source": [
    "dictionary = gensim.corpora.Dictionary(processed_docs)\n",
    "count = 0\n",
    "for k, v in dictionary.iteritems():\n",
    "    print(k, v)\n",
    "    count += 1\n",
    "    if count > 10:\n",
    "        break"
   ]
  },
  {
   "cell_type": "code",
   "execution_count": 20,
   "id": "100f3fea",
   "metadata": {
    "ExecuteTime": {
     "end_time": "2022-03-08T09:32:44.924481Z",
     "start_time": "2022-03-08T09:32:44.897437Z"
    }
   },
   "outputs": [],
   "source": [
    "dictionary.filter_extremes(no_below=15, no_above=0.5, keep_n=100000)"
   ]
  },
  {
   "cell_type": "code",
   "execution_count": 21,
   "id": "ce7704f8",
   "metadata": {
    "ExecuteTime": {
     "end_time": "2022-03-08T09:32:46.090227Z",
     "start_time": "2022-03-08T09:32:45.902458Z"
    }
   },
   "outputs": [
    {
     "data": {
      "text/plain": [
       "[(0, 1),\n",
       " (16, 1),\n",
       " (17, 3),\n",
       " (18, 1),\n",
       " (23, 1),\n",
       " (25, 1),\n",
       " (29, 1),\n",
       " (33, 1),\n",
       " (37, 2),\n",
       " (39, 2),\n",
       " (41, 1),\n",
       " (43, 1),\n",
       " (44, 1),\n",
       " (45, 1),\n",
       " (47, 1),\n",
       " (51, 1),\n",
       " (62, 1),\n",
       " (63, 2),\n",
       " (69, 1),\n",
       " (72, 1),\n",
       " (75, 1),\n",
       " (79, 2),\n",
       " (95, 2),\n",
       " (100, 2),\n",
       " (102, 1),\n",
       " (104, 1),\n",
       " (105, 1),\n",
       " (106, 1),\n",
       " (109, 1),\n",
       " (121, 1),\n",
       " (130, 1),\n",
       " (135, 1),\n",
       " (138, 1),\n",
       " (139, 1),\n",
       " (141, 1),\n",
       " (144, 2),\n",
       " (147, 1),\n",
       " (150, 3),\n",
       " (151, 1),\n",
       " (158, 1),\n",
       " (160, 1),\n",
       " (162, 3),\n",
       " (164, 1),\n",
       " (166, 1),\n",
       " (167, 1),\n",
       " (174, 3),\n",
       " (178, 3),\n",
       " (190, 1),\n",
       " (191, 1),\n",
       " (192, 1),\n",
       " (196, 2),\n",
       " (197, 1),\n",
       " (198, 2),\n",
       " (201, 1),\n",
       " (202, 1),\n",
       " (211, 1),\n",
       " (214, 1),\n",
       " (217, 1),\n",
       " (222, 1),\n",
       " (224, 1),\n",
       " (225, 1),\n",
       " (235, 1),\n",
       " (239, 2),\n",
       " (245, 1),\n",
       " (249, 1),\n",
       " (257, 2),\n",
       " (258, 1),\n",
       " (260, 1),\n",
       " (268, 1),\n",
       " (271, 1),\n",
       " (279, 1),\n",
       " (283, 1),\n",
       " (288, 3),\n",
       " (294, 2),\n",
       " (297, 1),\n",
       " (301, 1),\n",
       " (303, 1),\n",
       " (306, 1),\n",
       " (307, 2),\n",
       " (317, 1),\n",
       " (321, 1),\n",
       " (322, 1),\n",
       " (323, 1),\n",
       " (334, 2),\n",
       " (335, 1),\n",
       " (343, 1),\n",
       " (344, 1),\n",
       " (346, 1),\n",
       " (351, 1),\n",
       " (359, 4),\n",
       " (361, 3),\n",
       " (363, 1),\n",
       " (374, 3),\n",
       " (376, 1),\n",
       " (377, 1),\n",
       " (380, 1),\n",
       " (381, 1),\n",
       " (388, 3),\n",
       " (390, 1),\n",
       " (391, 1),\n",
       " (392, 1),\n",
       " (399, 1),\n",
       " (402, 1),\n",
       " (405, 2),\n",
       " (406, 1),\n",
       " (407, 1),\n",
       " (413, 2),\n",
       " (414, 1),\n",
       " (415, 1),\n",
       " (417, 1),\n",
       " (422, 1),\n",
       " (426, 2),\n",
       " (428, 1),\n",
       " (431, 2),\n",
       " (439, 2),\n",
       " (441, 1),\n",
       " (444, 1),\n",
       " (446, 2),\n",
       " (449, 1),\n",
       " (450, 1),\n",
       " (453, 1),\n",
       " (458, 1),\n",
       " (461, 1),\n",
       " (476, 1),\n",
       " (484, 1),\n",
       " (489, 1),\n",
       " (491, 1),\n",
       " (496, 2),\n",
       " (508, 2),\n",
       " (513, 2),\n",
       " (516, 1),\n",
       " (517, 23),\n",
       " (518, 1),\n",
       " (519, 3),\n",
       " (525, 2),\n",
       " (531, 1),\n",
       " (533, 2),\n",
       " (534, 1),\n",
       " (538, 1),\n",
       " (539, 1),\n",
       " (543, 1),\n",
       " (547, 1),\n",
       " (549, 1),\n",
       " (552, 2),\n",
       " (564, 1),\n",
       " (565, 1),\n",
       " (566, 2),\n",
       " (567, 2),\n",
       " (569, 1),\n",
       " (571, 2),\n",
       " (576, 2),\n",
       " (578, 2),\n",
       " (585, 1),\n",
       " (586, 2),\n",
       " (588, 1),\n",
       " (597, 1),\n",
       " (598, 2),\n",
       " (605, 1),\n",
       " (606, 2),\n",
       " (608, 1),\n",
       " (628, 1),\n",
       " (629, 2),\n",
       " (631, 2),\n",
       " (632, 1),\n",
       " (634, 1),\n",
       " (641, 3),\n",
       " (646, 1),\n",
       " (650, 1),\n",
       " (653, 1),\n",
       " (663, 1),\n",
       " (675, 1),\n",
       " (683, 1),\n",
       " (693, 1),\n",
       " (699, 9),\n",
       " (704, 2),\n",
       " (705, 1),\n",
       " (713, 1),\n",
       " (719, 1),\n",
       " (724, 1),\n",
       " (731, 1),\n",
       " (732, 1),\n",
       " (733, 1),\n",
       " (737, 1),\n",
       " (742, 1),\n",
       " (751, 1),\n",
       " (766, 1),\n",
       " (769, 1),\n",
       " (772, 1),\n",
       " (780, 1),\n",
       " (781, 1),\n",
       " (783, 1),\n",
       " (792, 1),\n",
       " (798, 1),\n",
       " (801, 1),\n",
       " (810, 1),\n",
       " (817, 1),\n",
       " (822, 1),\n",
       " (828, 1),\n",
       " (834, 7),\n",
       " (835, 1),\n",
       " (838, 1),\n",
       " (839, 1),\n",
       " (843, 1),\n",
       " (848, 1),\n",
       " (861, 1),\n",
       " (867, 1),\n",
       " (870, 1),\n",
       " (873, 1),\n",
       " (882, 1),\n",
       " (883, 2),\n",
       " (893, 1),\n",
       " (906, 1),\n",
       " (911, 1),\n",
       " (914, 1),\n",
       " (933, 1),\n",
       " (960, 1),\n",
       " (975, 1),\n",
       " (977, 1),\n",
       " (981, 1),\n",
       " (996, 1),\n",
       " (1002, 1),\n",
       " (1007, 1),\n",
       " (1017, 1),\n",
       " (1020, 2),\n",
       " (1021, 1),\n",
       " (1025, 1),\n",
       " (1029, 1),\n",
       " (1030, 1),\n",
       " (1034, 3),\n",
       " (1037, 1),\n",
       " (1041, 1),\n",
       " (1047, 1),\n",
       " (1048, 1),\n",
       " (1049, 1),\n",
       " (1050, 1)]"
      ]
     },
     "execution_count": 21,
     "metadata": {},
     "output_type": "execute_result"
    }
   ],
   "source": [
    "bow_corpus = [dictionary.doc2bow(doc) for doc in processed_docs]\n",
    "bow_corpus[43]"
   ]
  },
  {
   "cell_type": "code",
   "execution_count": 22,
   "id": "288b9eba",
   "metadata": {
    "ExecuteTime": {
     "end_time": "2022-03-08T09:32:47.072134Z",
     "start_time": "2022-03-08T09:32:47.051132Z"
    }
   },
   "outputs": [
    {
     "name": "stdout",
     "output_type": "stream",
     "text": [
      "Word 0 (\"abat\") appears 1 time.\n",
      "Word 16 (\"amend\") appears 1 time.\n",
      "Word 17 (\"ampl\") appears 3 time.\n",
      "Word 18 (\"analysi\") appears 1 time.\n",
      "Word 23 (\"aris\") appears 1 time.\n",
      "Word 25 (\"array\") appears 1 time.\n",
      "Word 29 (\"assumpt\") appears 1 time.\n",
      "Word 33 (\"attract\") appears 1 time.\n",
      "Word 37 (\"banker\") appears 2 time.\n",
      "Word 39 (\"behavior\") appears 2 time.\n",
      "Word 41 (\"best\") appears 1 time.\n",
      "Word 43 (\"boehn\") appears 1 time.\n",
      "Word 44 (\"broaddus\") appears 1 time.\n",
      "Word 45 (\"broader\") appears 1 time.\n",
      "Word 47 (\"buoy\") appears 1 time.\n",
      "Word 51 (\"canadian\") appears 1 time.\n",
      "Word 62 (\"choic\") appears 1 time.\n",
      "Word 63 (\"civilian\") appears 2 time.\n",
      "Word 69 (\"concentr\") appears 1 time.\n",
      "Word 72 (\"congression\") appears 1 time.\n",
      "Word 75 (\"consecut\") appears 1 time.\n",
      "Word 79 (\"contempl\") appears 2 time.\n",
      "Word 95 (\"deal\") appears 2 time.\n",
      "Word 100 (\"delay\") appears 2 time.\n",
      "Word 102 (\"deliveri\") appears 1 time.\n",
      "Word 104 (\"depositori\") appears 1 time.\n",
      "Word 105 (\"design\") appears 1 time.\n",
      "Word 106 (\"deterior\") appears 1 time.\n",
      "Word 109 (\"dewald\") appears 1 time.\n",
      "Word 121 (\"drain\") appears 1 time.\n",
      "Word 130 (\"element\") appears 1 time.\n",
      "Word 135 (\"enhanc\") appears 1 time.\n",
      "Word 138 (\"ettin\") appears 1 time.\n",
      "Word 139 (\"evalu\") appears 1 time.\n",
      "Word 141 (\"evolv\") appears 1 time.\n",
      "Word 144 (\"exert\") appears 2 time.\n",
      "Word 147 (\"face\") appears 1 time.\n",
      "Word 150 (\"felt\") appears 3 time.\n",
      "Word 151 (\"finish\") appears 1 time.\n",
      "Word 158 (\"french\") appears 1 time.\n",
      "Word 160 (\"further\") appears 1 time.\n",
      "Word 162 (\"german\") appears 3 time.\n",
      "Word 164 (\"gillum\") appears 1 time.\n",
      "Word 166 (\"goodfriend\") appears 1 time.\n",
      "Word 167 (\"greenspan\") appears 1 time.\n",
      "Word 174 (\"heavi\") appears 3 time.\n",
      "Word 178 (\"imbal\") appears 3 time.\n",
      "Word 190 (\"intent\") appears 1 time.\n",
      "Word 191 (\"interv\") appears 1 time.\n",
      "Word 192 (\"involv\") appears 1 time.\n",
      "Word 196 (\"japanes\") appears 2 time.\n",
      "Word 197 (\"job\") appears 1 time.\n",
      "Word 198 (\"jordan\") appears 2 time.\n",
      "Word 201 (\"kelley\") appears 1 time.\n",
      "Word 202 (\"lang\") appears 1 time.\n",
      "Word 211 (\"lesser\") appears 1 time.\n",
      "Word 214 (\"lindsey\") appears 1 time.\n",
      "Word 217 (\"machineri\") appears 1 time.\n",
      "Word 222 (\"mat\") appears 1 time.\n",
      "Word 224 (\"mcdonough\") appears 1 time.\n",
      "Word 225 (\"mcteer\") appears 1 time.\n",
      "Word 235 (\"momentum\") appears 1 time.\n",
      "Word 239 (\"nondur\") appears 2 time.\n",
      "Word 245 (\"offer\") appears 1 time.\n",
      "Word 249 (\"optim\") appears 1 time.\n",
      "Word 257 (\"owe\") appears 2 time.\n",
      "Word 258 (\"paragraph\") appears 1 time.\n",
      "Word 260 (\"parri\") appears 1 time.\n",
      "Word 268 (\"percept\") appears 1 time.\n",
      "Word 271 (\"phillip\") appears 1 time.\n",
      "Word 279 (\"prell\") appears 1 time.\n",
      "Word 283 (\"procedur\") appears 1 time.\n",
      "Word 288 (\"prove\") appears 3 time.\n",
      "Word 294 (\"question\") appears 2 time.\n",
      "Word 297 (\"realiz\") appears 1 time.\n",
      "Word 301 (\"recogn\") appears 1 time.\n",
      "Word 303 (\"refin\") appears 1 time.\n",
      "Word 306 (\"relationship\") appears 1 time.\n",
      "Word 307 (\"renew\") appears 2 time.\n",
      "Word 317 (\"resolv\") appears 1 time.\n",
      "Word 321 (\"retard\") appears 1 time.\n",
      "Word 322 (\"retent\") appears 1 time.\n",
      "Word 323 (\"retrac\") appears 1 time.\n",
      "Word 334 (\"sensit\") appears 2 time.\n",
      "Word 335 (\"serv\") appears 1 time.\n",
      "Word 343 (\"simpson\") appears 1 time.\n",
      "Word 344 (\"soft\") appears 1 time.\n",
      "Word 346 (\"sooner\") appears 1 time.\n",
      "Word 351 (\"steep\") appears 1 time.\n",
      "Word 359 (\"suffici\") appears 4 time.\n",
      "Word 361 (\"surround\") appears 3 time.\n",
      "Word 363 (\"swing\") appears 1 time.\n",
      "Word 374 (\"tilt\") appears 3 time.\n",
      "Word 376 (\"train\") appears 1 time.\n",
      "Word 377 (\"trajectori\") appears 1 time.\n",
      "Word 380 (\"truck\") appears 1 time.\n",
      "Word 381 (\"truman\") appears 1 time.\n",
      "Word 388 (\"uptrend\") appears 3 time.\n",
      "Word 390 (\"varieti\") appears 1 time.\n",
      "Word 391 (\"veloc\") appears 1 time.\n",
      "Word 392 (\"vigor\") appears 1 time.\n",
      "Word 399 (\"wholesal\") appears 1 time.\n",
      "Word 402 (\"winn\") appears 1 time.\n",
      "Word 405 (\"acknowledg\") appears 2 time.\n",
      "Word 406 (\"advantag\") appears 1 time.\n",
      "Word 407 (\"amount\") appears 1 time.\n",
      "Word 413 (\"bolster\") appears 2 time.\n",
      "Word 414 (\"bring\") appears 1 time.\n",
      "Word 415 (\"brown\") appears 1 time.\n",
      "Word 417 (\"caus\") appears 1 time.\n",
      "Word 422 (\"confirm\") appears 1 time.\n",
      "Word 426 (\"decad\") appears 2 time.\n",
      "Word 428 (\"depreci\") appears 1 time.\n",
      "Word 431 (\"disrupt\") appears 2 time.\n",
      "Word 439 (\"factori\") appears 2 time.\n",
      "Word 441 (\"fluctuat\") appears 1 time.\n",
      "Word 444 (\"fundament\") appears 1 time.\n",
      "Word 446 (\"great\") appears 2 time.\n",
      "Word 449 (\"homebuild\") appears 1 time.\n",
      "Word 450 (\"hooper\") appears 1 time.\n",
      "Word 453 (\"intensifi\") appears 1 time.\n",
      "Word 458 (\"lag\") appears 1 time.\n",
      "Word 461 (\"lowest\") appears 1 time.\n",
      "Word 476 (\"persuad\") appears 1 time.\n",
      "Word 484 (\"pronounc\") appears 1 time.\n",
      "Word 489 (\"rent\") appears 1 time.\n",
      "Word 491 (\"rolnick\") appears 1 time.\n",
      "Word 496 (\"slip\") appears 2 time.\n",
      "Word 508 (\"unsettl\") appears 2 time.\n",
      "Word 513 (\"worsen\") appears 2 time.\n",
      "Word 516 (\"aim\") appears 1 time.\n",
      "Word 517 (\"april\") appears 23 time.\n",
      "Word 518 (\"asymmetr\") appears 1 time.\n",
      "Word 519 (\"bias\") appears 3 time.\n",
      "Word 525 (\"continent\") appears 2 time.\n",
      "Word 531 (\"downtrend\") appears 1 time.\n",
      "Word 533 (\"europ\") appears 2 time.\n",
      "Word 534 (\"exacerb\") appears 1 time.\n",
      "Word 538 (\"intervent\") appears 1 time.\n",
      "Word 539 (\"judd\") appears 1 time.\n",
      "Word 543 (\"mses\") appears 1 time.\n",
      "Word 547 (\"outsiz\") appears 1 time.\n",
      "Word 549 (\"packag\") appears 1 time.\n",
      "Word 552 (\"problem\") appears 2 time.\n",
      "Word 564 (\"troubl\") appears 1 time.\n",
      "Word 565 (\"underscor\") appears 1 time.\n",
      "Word 566 (\"unlik\") appears 2 time.\n",
      "Word 567 (\"unsustain\") appears 2 time.\n",
      "Word 569 (\"wait\") appears 1 time.\n",
      "Word 571 (\"world\") appears 2 time.\n",
      "Word 576 (\"attribut\") appears 2 time.\n",
      "Word 578 (\"brief\") appears 2 time.\n",
      "Word 585 (\"donald\") appears 1 time.\n",
      "Word 586 (\"ebulli\") appears 2 time.\n",
      "Word 588 (\"employe\") appears 1 time.\n",
      "Word 597 (\"likewis\") appears 1 time.\n",
      "Word 598 (\"low\") appears 2 time.\n",
      "Word 605 (\"pattern\") appears 1 time.\n",
      "Word 606 (\"postpon\") appears 2 time.\n",
      "Word 608 (\"properti\") appears 1 time.\n",
      "Word 628 (\"winter\") appears 1 time.\n",
      "Word 629 (\"afford\") appears 2 time.\n",
      "Word 631 (\"agricultur\") appears 2 time.\n",
      "Word 632 (\"american\") appears 1 time.\n",
      "Word 634 (\"automobil\") appears 1 time.\n",
      "Word 641 (\"drag\") appears 3 time.\n",
      "Word 646 (\"fuel\") appears 1 time.\n",
      "Word 650 (\"johnson\") appears 1 time.\n",
      "Word 653 (\"meyer\") appears 1 time.\n",
      "Word 663 (\"shortag\") appears 1 time.\n",
      "Word 675 (\"curb\") appears 1 time.\n",
      "Word 683 (\"hear\") appears 1 time.\n",
      "Word 693 (\"mute\") appears 1 time.\n",
      "Word 699 (\"asian\") appears 9 time.\n",
      "Word 704 (\"detail\") appears 2 time.\n",
      "Word 705 (\"east\") appears 1 time.\n",
      "Word 713 (\"latin\") appears 1 time.\n",
      "Word 719 (\"readi\") appears 1 time.\n",
      "Word 724 (\"vacanc\") appears 1 time.\n",
      "Word 731 (\"forestal\") appears 1 time.\n",
      "Word 732 (\"group\") appears 1 time.\n",
      "Word 733 (\"indirect\") appears 1 time.\n",
      "Word 737 (\"ownership\") appears 1 time.\n",
      "Word 742 (\"repercuss\") appears 1 time.\n",
      "Word 751 (\"avert\") appears 1 time.\n",
      "Word 766 (\"justifi\") appears 1 time.\n",
      "Word 769 (\"outpac\") appears 1 time.\n",
      "Word 772 (\"reinhart\") appears 1 time.\n",
      "Word 780 (\"worldwid\") appears 1 time.\n",
      "Word 781 (\"abl\") appears 1 time.\n",
      "Word 783 (\"await\") appears 1 time.\n",
      "Word 792 (\"frequent\") appears 1 time.\n",
      "Word 798 (\"minehan\") appears 1 time.\n",
      "Word 801 (\"pool\") appears 1 time.\n",
      "Word 810 (\"stag\") appears 1 time.\n",
      "Word 817 (\"altig\") appears 1 time.\n",
      "Word 822 (\"partner\") appears 1 time.\n",
      "Word 828 (\"salari\") appears 1 time.\n",
      "Word 834 (\"asia\") appears 7 time.\n",
      "Word 835 (\"basic\") appears 1 time.\n",
      "Word 838 (\"failur\") appears 1 time.\n",
      "Word 839 (\"furthermor\") appears 1 time.\n",
      "Word 843 (\"repeat\") appears 1 time.\n",
      "Word 848 (\"ultim\") appears 1 time.\n",
      "Word 861 (\"moskow\") appears 1 time.\n",
      "Word 867 (\"inevit\") appears 1 time.\n",
      "Word 870 (\"linger\") appears 1 time.\n",
      "Word 873 (\"amid\") appears 1 time.\n",
      "Word 882 (\"tighter\") appears 1 time.\n",
      "Word 883 (\"worth\") appears 2 time.\n",
      "Word 893 (\"extraordinari\") appears 1 time.\n",
      "Word 906 (\"tobacco\") appears 1 time.\n",
      "Word 911 (\"warm\") appears 1 time.\n",
      "Word 914 (\"hunter\") appears 1 time.\n",
      "Word 933 (\"clearer\") appears 1 time.\n",
      "Word 960 (\"guynn\") appears 1 time.\n",
      "Word 975 (\"eisenbei\") appears 1 time.\n",
      "Word 977 (\"adapt\") appears 1 time.\n",
      "Word 981 (\"rivlin\") appears 1 time.\n",
      "Word 996 (\"benign\") appears 1 time.\n",
      "Word 1002 (\"spill\") appears 1 time.\n",
      "Word 1007 (\"hakkio\") appears 1 time.\n",
      "Word 1017 (\"precautionari\") appears 1 time.\n",
      "Word 1020 (\"power\") appears 2 time.\n",
      "Word 1021 (\"cecchetti\") appears 1 time.\n",
      "Word 1025 (\"alexand\") appears 1 time.\n",
      "Word 1029 (\"ferguson\") appears 1 time.\n",
      "Word 1030 (\"gramlich\") appears 1 time.\n",
      "Word 1034 (\"turmoil\") appears 3 time.\n",
      "Word 1037 (\"peopl\") appears 1 time.\n",
      "Word 1041 (\"concur\") appears 1 time.\n",
      "Word 1047 (\"district\") appears 1 time.\n",
      "Word 1048 (\"kumasaka\") appears 1 time.\n",
      "Word 1049 (\"land\") appears 1 time.\n",
      "Word 1050 (\"tell\") appears 1 time.\n"
     ]
    }
   ],
   "source": [
    "bow_doc_43 = bow_corpus[43]\n",
    "\n",
    "for i in range(len(bow_doc_43)):\n",
    "    print(\"Word {} (\\\"{}\\\") appears {} time.\".format(bow_doc_43[i][0], \n",
    "                                                     dictionary[bow_doc_43[i][0]], \n",
    "                                                     bow_doc_43[i][1]))"
   ]
  },
  {
   "cell_type": "code",
   "execution_count": 23,
   "id": "c0f7af37",
   "metadata": {
    "ExecuteTime": {
     "end_time": "2022-03-08T09:32:49.045420Z",
     "start_time": "2022-03-08T09:32:48.984467Z"
    }
   },
   "outputs": [
    {
     "name": "stdout",
     "output_type": "stream",
     "text": [
      "[(0, 0.012977378074608494),\n",
      " (1, 0.00979559938225213),\n",
      " (2, 0.031394728720227034),\n",
      " (3, 0.009316619981098393),\n",
      " (4, 0.0250339642766676),\n",
      " (5, 0.025641495941106023),\n",
      " (6, 0.04168847169223786),\n",
      " (7, 0.059955424508320476),\n",
      " (8, 0.025456103994112453),\n",
      " (9, 0.02209046797497028),\n",
      " (10, 0.02834248125487993),\n",
      " (11, 0.01794763952110274),\n",
      " (12, 0.013296675802254354),\n",
      " (13, 0.012977378074608494),\n",
      " (14, 0.05460843874622501),\n",
      " (15, 0.0250339642766676),\n",
      " (16, 0.07777467189003318),\n",
      " (17, 0.013296675802254354),\n",
      " (18, 0.017485393565289928),\n",
      " (19, 0.03708702896332435),\n",
      " (20, 0.03685323784451296),\n",
      " (21, 0.020264971910252217),\n",
      " (22, 0.02114429684958015),\n",
      " (23, 0.042920536000493795),\n",
      " (24, 0.1688078859857297),\n",
      " (25, 0.0328613547280109),\n",
      " (26, 0.05178611724002607),\n",
      " (27, 0.01918151241411245),\n",
      " (28, 0.008855384692798675),\n",
      " (29, 0.02084423584611893),\n",
      " (30, 0.02276370918022269),\n",
      " (31, 0.016402944736663254),\n",
      " (32, 0.0422885936991603),\n",
      " (33, 0.012362342987774784),\n",
      " (34, 0.0250339642766676),\n",
      " (35, 0.06726761728963025),\n",
      " (36, 0.035328785040642005),\n",
      " (37, 0.13172952973166466),\n",
      " (38, 0.01842661892225648),\n",
      " (39, 0.07969846223518808),\n",
      " (40, 0.01081264843250395),\n",
      " (41, 0.019443667972508294),\n",
      " (42, 0.0422885936991603),\n",
      " (43, 0.03322445156423097),\n",
      " (44, 0.02136176151503347),\n",
      " (45, 0.008742696782644964),\n",
      " (46, 0.011354121962769149),\n",
      " (47, 0.01794763952110274),\n",
      " (48, 0.05754453724233736),\n",
      " (49, 0.026815845834139998),\n",
      " (50, 0.04621877585005937),\n",
      " (51, 0.01867319983310816),\n",
      " (52, 0.03589527904220548),\n",
      " (53, 0.012213216306114584),\n",
      " (54, 0.011354121962769149),\n",
      " (55, 0.021767023060245895),\n",
      " (56, 0.019711461714875582),\n",
      " (57, 0.011776261680214003),\n",
      " (58, 0.027812531954116797),\n",
      " (59, 0.02889599145025656),\n",
      " (60, 0.02834248125487993),\n",
      " (61, 0.010042180293103817),\n",
      " (62, 0.03366498381667195),\n",
      " (63, 0.03576064866285974),\n",
      " (64, 0.05779198290051312),\n",
      " (65, 0.023847168676362458),\n",
      " (66, 0.05269181189266586),\n",
      " (67, 0.04776903377065654),\n",
      " (68, 0.03734639966621632),\n",
      " (69, 0.01016732636246401),\n",
      " (70, 0.013960936171136076),\n",
      " (71, 0.03280588947332651),\n",
      " (72, 0.02889599145025656),\n",
      " (73, 0.010680880757516735),\n",
      " (74, 0.07978005481352612),\n",
      " (75, 0.016402944736663254),\n",
      " (76, 0.02209046797497028),\n",
      " (77, 0.014306845333497933),\n",
      " (78, 0.15943397765695727),\n",
      " (79, 0.035328785040642005),\n",
      " (80, 0.015406258616686454),\n",
      " (81, 0.04621877585005937),\n",
      " (82, 0.06435530253167208),\n",
      " (83, 0.023475441696150578),\n",
      " (84, 0.017486404232803017),\n",
      " (85, 0.02462566772806173),\n",
      " (86, 0.016197123040889664),\n",
      " (87, 0.04353404612049179),\n",
      " (88, 0.02055123576095759),\n",
      " (89, 0.021767023060245895),\n",
      " (90, 0.023847168676362458),\n",
      " (91, 0.05112493560322852),\n",
      " (92, 0.0567742875360455),\n",
      " (93, 0.03997028300554699),\n",
      " (94, 0.038462243911659026),\n",
      " (95, 0.018924762512015168),\n",
      " (96, 0.05779198290051312),\n",
      " (97, 0.03576064866285974),\n",
      " (98, 0.03636965258827131),\n",
      " (99, 0.04418093594994056),\n",
      " (100, 0.01081264843250395),\n",
      " (101, 0.021767023060245895),\n",
      " (102, 0.04920883420998976),\n",
      " (103, 0.02145176751055736),\n",
      " (104, 0.044845078193086835),\n",
      " (105, 0.06644890312846194),\n",
      " (106, 0.009199699600105775),\n",
      " (107, 0.018633239962196787),\n",
      " (108, 0.040529943820504434),\n",
      " (109, 0.02145176751055736),\n",
      " (110, 0.008855384692798675),\n",
      " (111, 0.032106461236154925),\n",
      " (112, 0.02462566772806173),\n",
      " (113, 0.012977378074608494),\n",
      " (114, 0.03072148751497462),\n",
      " (115, 0.02276370918022269),\n",
      " (116, 0.013960936171136076),\n",
      " (117, 0.025456103994112453),\n",
      " (118, 0.016825084454108106),\n",
      " (119, 0.02276370918022269),\n",
      " (120, 0.013459448434965934),\n",
      " (121, 0.032106461236154925),\n",
      " (122, 0.10094877167524009),\n",
      " (123, 0.0300827870505617),\n",
      " (124, 0.02114429684958015),\n",
      " (125, 0.027304219373112504),\n",
      " (126, 0.01794763952110274),\n",
      " (127, 0.022422539096543417),\n",
      " (128, 0.0354215387711947),\n",
      " (129, 0.06812188529607029),\n",
      " (130, 0.03280588947332651),\n",
      " (131, 0.03408329040215235),\n",
      " (132, 0.026593351604508708),\n",
      " (133, 0.01842661892225648),\n",
      " (134, 0.016612225782115485),\n",
      " (135, 0.01094582541416328),\n",
      " (136, 0.022986502218995845),\n",
      " (137, 0.02084423584611893),\n",
      " (138, 0.01081264843250395),\n",
      " (139, 0.029386798146756394),\n",
      " (140, 0.05519819760063464),\n",
      " (141, 0.01094582541416328),\n",
      " (142, 0.08044753750242),\n",
      " (143, 0.013459448434965934),\n",
      " (144, 0.010680880757516735),\n",
      " (145, 0.01842661892225648),\n",
      " (146, 0.08191265811933753),\n",
      " (147, 0.009199699600105775),\n",
      " (148, 0.010293742972010822),\n",
      " (149, 0.06829112754066809),\n",
      " (150, 0.022433060372275576),\n",
      " (151, 0.033649590558413364),\n",
      " (152, 0.017262039080008687),\n",
      " (153, 0.009316619981098393),\n",
      " (154, 0.008631019540004344),\n",
      " (155, 0.055625063908233595),\n",
      " (156, 0.0500679285533352),\n",
      " (157, 0.06435530253167208),\n",
      " (158, 0.0328613547280109),\n",
      " (159, 0.012666063632434481),\n",
      " (160, 0.03280588947332651),\n",
      " (161, 0.03366498381667195),\n",
      " (162, 0.014483471402559494),\n",
      " (163, 0.059955424508320476),\n",
      " (164, 0.011633952370247874),\n",
      " (165, 0.02145176751055736),\n",
      " (166, 0.01094582541416328),\n",
      " (167, 0.008969101730527517),\n",
      " (168, 0.025026554619151615),\n",
      " (169, 0.019711461714875582),\n",
      " (170, 0.029475255386123275),\n",
      " (171, 0.03198929637611477),\n",
      " (172, 0.0657227094560218),\n",
      " (173, 0.012820747970553012),\n",
      " (174, 0.023552523360428006),\n",
      " (175, 0.014483471402559494),\n",
      " (176, 0.02055123576095759),\n",
      " (177, 0.0657227094560218),\n",
      " (178, 0.011776261680214003),\n",
      " (179, 0.017041645201076174),\n",
      " (180, 0.011493251109497922),\n",
      " (181, 0.018184826294135654),\n",
      " (182, 0.03119863129600442),\n",
      " (183, 0.011633952370247874),\n",
      " (184, 0.015216149136358114),\n",
      " (185, 0.034524078160017374),\n",
      " (186, 0.016612225782115485),\n",
      " (187, 0.02209046797497028),\n",
      " (188, 0.04345041420767848),\n",
      " (189, 0.07636831198233736),\n",
      " (190, 0.022433060372275576),\n",
      " (191, 0.020264971910252217),\n",
      " (192, 0.025026554619151615),\n",
      " (193, 0.029475255386123275),\n",
      " (194, 0.02033465272492802),\n",
      " (195, 0.011633952370247874),\n",
      " (196, 0.011633952370247874),\n",
      " (197, 0.018869297257330775),\n",
      " (198, 0.024131708957394072),\n",
      " (199, 0.011920216220953244),\n",
      " (200, 0.0250339642766676),\n",
      " (201, 0.013296675802254354),\n",
      " (202, 0.016825084454108106),\n",
      " (203, 0.013960936171136076),\n",
      " (204, 0.031394728720227034),\n",
      " (205, 0.04925133545612346),\n",
      " (206, 0.02276370918022269),\n",
      " (207, 0.013960936171136076),\n",
      " (208, 0.016825084454108106),\n",
      " (209, 0.019711461714875582),\n",
      " (210, 0.019443667972508294),\n",
      " (211, 0.04508669566133433),\n",
      " (212, 0.011776261680214003),\n",
      " (213, 0.012820747970553012),\n",
      " (214, 0.022986502218995845),\n",
      " (215, 0.09538867470544983),\n",
      " (216, 0.06421292247230985),\n",
      " (217, 0.04168847169223786),\n",
      " (218, 0.019985141502773494),\n",
      " (219, 0.032106461236154925),\n",
      " (220, 0.01959119876450426),\n",
      " (221, 0.016197123040889664),\n",
      " (222, 0.011080442174871237),\n",
      " (223, 0.05245921269840906),\n",
      " (224, 0.023267904740495747),\n",
      " (225, 0.02033465272492802),\n",
      " (226, 0.023552523360428006),\n",
      " (227, 0.02145176751055736),\n",
      " (228, 0.0500679285533352),\n",
      " (229, 0.01842661892225648),\n",
      " (230, 0.023475441696150578),\n",
      " (231, 0.019985141502773494),\n",
      " (232, 0.15934596426155884),\n",
      " (233, 0.01867319983310816),\n",
      " (234, 0.029475255386123275),\n",
      " (235, 0.03324132652461371),\n",
      " (236, 0.029475255386123275),\n",
      " (237, 0.024131708957394072),\n",
      " (238, 0.021767023060245895),\n",
      " (239, 0.04110247152191518),\n",
      " (240, 0.0328613547280109),\n",
      " (241, 0.02145176751055736),\n",
      " (242, 0.028966942805118988),\n",
      " (243, 0.02145176751055736),\n",
      " (244, 0.02055123576095759),\n",
      " (245, 0.008969101730527517),\n",
      " (246, 0.03576064866285974),\n",
      " (247, 0.011776261680214003),\n",
      " (248, 0.009918279478916239),\n",
      " (249, 0.013624377059214056),\n",
      " (250, 0.014844422156146233),\n",
      " (251, 0.010293742972010822),\n",
      " (252, 0.023114490942563837),\n",
      " (253, 0.023847168676362458),\n",
      " (254, 0.022422539096543417),\n",
      " (255, 0.02055123576095759),\n",
      " (256, 0.03072148751497462),\n",
      " (257, 0.042398068920655035),\n",
      " (258, 0.12325006893349164),\n",
      " (259, 0.0328613547280109),\n",
      " (260, 0.021100985748216214),\n",
      " (261, 0.021767023060245895),\n",
      " (262, 0.01094582541416328),\n",
      " (263, 0.010550492874108107),\n",
      " (264, 0.031394728720227034),\n",
      " (265, 0.04564844740907434),\n",
      " (266, 0.015795413072224825),\n",
      " (267, 0.029754838436748716),\n",
      " (268, 0.015406258616686454),\n",
      " (269, 0.02889599145025656),\n",
      " (270, 0.020264971910252217),\n",
      " (271, 0.019711461714875582),\n",
      " (272, 0.03366498381667195),\n",
      " (273, 0.0250339642766676),\n",
      " (274, 0.0422885936991603),\n",
      " (275, 0.012213216306114584),\n",
      " (276, 0.022422539096543417),\n",
      " (277, 0.01794763952110274),\n",
      " (278, 0.02145176751055736),\n",
      " (279, 0.016825084454108106),\n",
      " (280, 0.08969015638617367),\n",
      " (281, 0.03365016890821621),\n",
      " (282, 0.017262039080008687),\n",
      " (283, 0.15943397765695727),\n",
      " (284, 0.0328613547280109),\n",
      " (285, 0.027304219373112504),\n",
      " (286, 0.02145176751055736),\n",
      " (287, 0.03072148751497462),\n",
      " (288, 0.009199699600105775),\n",
      " (289, 0.03447975332849377),\n",
      " (290, 0.08502744376463978),\n",
      " (291, 0.02084423584611893),\n",
      " (292, 0.08479613784131007),\n",
      " (293, 0.1192358433818123),\n",
      " (294, 0.0354215387711947),\n",
      " (295, 0.010042180293103817),\n",
      " (296, 0.030126540879311454),\n",
      " (297, 0.017714886406328584),\n",
      " (298, 0.06435530253167208),\n",
      " (299, 0.013791519556539072),\n",
      " (300, 0.042920536000493795),\n",
      " (301, 0.009434648628665387),\n",
      " (302, 0.027812531954116797),\n",
      " (303, 0.017485393565289928),\n",
      " (304, 0.04272352303006694),\n",
      " (305, 0.024131708957394072),\n",
      " (306, 0.06561177894665302),\n",
      " (307, 0.019836558957832477),\n",
      " (308, 0.0328613547280109),\n",
      " (309, 0.022422539096543417),\n",
      " (310, 0.014662638940981477),\n",
      " (311, 0.009674116183660568),\n",
      " (312, 0.05313230815679205),\n",
      " (313, 0.060115594215112436),\n",
      " (314, 0.023114490942563837),\n",
      " (315, 0.025893058620013034),\n",
      " (316, 0.05913438514462675),\n",
      " (317, 0.020264971910252217),\n",
      " (318, 0.014132689640218344),\n",
      " (319, 0.0693434728276915),\n",
      " (320, 0.025893058620013034),\n",
      " (321, 0.039422923429751164),\n",
      " (322, 0.04552741836044538),\n",
      " (323, 0.012666063632434481),\n",
      " (324, 0.035328785040642005),\n",
      " (325, 0.01094582541416328),\n",
      " (326, 0.03366498381667195),\n",
      " (327, 0.027304219373112504),\n",
      " (328, 0.04272352303006694),\n",
      " (329, 0.022422539096543417),\n",
      " (330, 0.03888733594501659),\n",
      " (331, 0.022433060372275576),\n",
      " (332, 0.07153422666748967),\n",
      " (333, 0.10263847258687034),\n",
      " (334, 0.027921872342272152),\n",
      " (335, 0.050210901465519084),\n",
      " (336, 0.02595475614921699),\n",
      " (337, 0.015406258616686454),\n",
      " (338, 0.02595475614921699),\n",
      " (339, 0.5577459552744913),\n",
      " (340, 0.05601959949932448),\n",
      " (341, 0.022422539096543417),\n",
      " (342, 0.03773859451466155),\n",
      " (343, 0.009674116183660568),\n",
      " (344, 0.010421456184785568),\n",
      " (345, 0.014483471402559494),\n",
      " (346, 0.02084423584611893),\n",
      " (347, 0.02462566772806173),\n",
      " (348, 0.04272352303006694),\n",
      " (349, 0.037849525024030335),\n",
      " (350, 0.0383630248282249),\n",
      " (351, 0.03081251723337291),\n",
      " (352, 0.025893058620013034),\n",
      " (353, 0.02595475614921699),\n",
      " (354, 0.023847168676362458),\n",
      " (355, 0.02114429684958015),\n",
      " (356, 0.025893058620013034),\n",
      " (357, 0.22964122631328554),\n",
      " (358, 0.019443667972508294),\n",
      " (359, 0.008855384692798675),\n",
      " (360, 0.017041645201076174),\n",
      " (361, 0.018167733732648482),\n",
      " (362, 0.03366498381667195),\n",
      " (363, 0.021767023060245895),\n",
      " (364, 0.02055123576095759),\n",
      " (365, 0.014662638940981477),\n",
      " (366, 0.023114490942563837),\n",
      " (367, 0.034972808465606034),\n",
      " (368, 0.06994561693121207),\n",
      " (369, 0.11920216220953243),\n",
      " (370, 0.02889599145025656),\n",
      " (371, 0.024230335188006553),\n",
      " (372, 0.0250339642766676),\n",
      " (373, 0.02889599145025656),\n",
      " (374, 0.008969101730527517),\n",
      " (375, 0.023475441696150578),\n",
      " (376, 0.02834248125487993),\n",
      " (377, 0.024131708957394072),\n",
      " (378, 0.04110247152191518),\n",
      " (379, 0.04846067037601311),\n",
      " (380, 0.015028898553778109),\n",
      " (381, 0.02084423584611893),\n",
      " (382, 0.0300827870505617),\n",
      " (383, 0.03366498381667195),\n",
      " (384, 0.024230335188006553),\n",
      " (385, 0.06895950665698754),\n",
      " (386, 0.07085954562531434),\n",
      " (387, 0.03366498381667195),\n",
      " (388, 0.015795413072224825),\n",
      " (389, 0.013624377059214056),\n",
      " (390, 0.011920216220953244),\n",
      " (391, 0.1439518336925165),\n",
      " (392, 0.015216149136358114),\n",
      " (393, 0.017262039080008687),\n",
      " (394, 0.012213216306114584),\n",
      " (395, 0.023475441696150578),\n",
      " (396, 0.027304219373112504),\n",
      " (397, 0.020264971910252217),\n",
      " (398, 0.023847168676362458),\n",
      " (399, 0.026566154078396024),\n",
      " (400, 0.0250339642766676),\n",
      " (401, 0.06239726259200884),\n",
      " (402, 0.02209046797497028),\n",
      " (403, 0.032106461236154925),\n",
      " (404, 0.025456103994112453)]\n"
     ]
    }
   ],
   "source": [
    "from gensim import corpora, models\n",
    "\n",
    "tfidf = models.TfidfModel(bow_corpus)\n",
    "corpus_tfidf = tfidf[bow_corpus]\n",
    "from pprint import pprint\n",
    "\n",
    "for doc in corpus_tfidf:\n",
    "    pprint(doc)\n",
    "    break"
   ]
  },
  {
   "cell_type": "markdown",
   "id": "a2753f52",
   "metadata": {},
   "source": [
    "# LDA using bag of words"
   ]
  },
  {
   "cell_type": "code",
   "execution_count": 24,
   "id": "a713f5e9",
   "metadata": {
    "ExecuteTime": {
     "end_time": "2022-03-08T09:32:53.360580Z",
     "start_time": "2022-03-08T09:32:51.213351Z"
    }
   },
   "outputs": [],
   "source": [
    "lda_model = gensim.models.LdaMulticore(bow_corpus, num_topics=10, id2word=dictionary, passes=2, workers=2)"
   ]
  },
  {
   "cell_type": "code",
   "execution_count": 25,
   "id": "6a1dafc3",
   "metadata": {
    "ExecuteTime": {
     "end_time": "2022-03-08T09:32:54.493216Z",
     "start_time": "2022-03-08T09:32:54.472133Z"
    }
   },
   "outputs": [
    {
     "name": "stdout",
     "output_type": "stream",
     "text": [
      "Topic: 0 \n",
      "Words: 0.011*\"april\" + 0.007*\"tech\" + 0.007*\"arrang\" + 0.006*\"deterior\" + 0.005*\"soften\" + 0.005*\"greenspan\" + 0.004*\"forese\" + 0.004*\"moskow\" + 0.004*\"pool\" + 0.004*\"strain\"\n",
      "Topic: 1 \n",
      "Words: 0.027*\"shall\" + 0.017*\"arrang\" + 0.013*\"subcommitte\" + 0.011*\"paragraph\" + 0.011*\"consult\" + 0.009*\"draw\" + 0.007*\"repurchas\" + 0.007*\"procedur\" + 0.007*\"sell\" + 0.006*\"million\"\n",
      "Topic: 2 \n",
      "Words: 0.017*\"april\" + 0.010*\"back\" + 0.009*\"david\" + 0.008*\"desk\" + 0.007*\"tool\" + 0.007*\"reinvest\" + 0.005*\"princip\" + 0.005*\"mandat\" + 0.005*\"guidanc\" + 0.005*\"soma\"\n",
      "Topic: 3 \n",
      "Words: 0.011*\"back\" + 0.009*\"mandat\" + 0.008*\"guidanc\" + 0.008*\"desk\" + 0.007*\"april\" + 0.007*\"tool\" + 0.007*\"arrang\" + 0.006*\"strain\" + 0.005*\"dual\" + 0.005*\"shall\"\n",
      "Topic: 4 \n",
      "Words: 0.011*\"desk\" + 0.010*\"pandem\" + 0.008*\"select\" + 0.007*\"repo\" + 0.007*\"tool\" + 0.007*\"back\" + 0.006*\"arrang\" + 0.006*\"princip\" + 0.006*\"overnight\" + 0.006*\"text\"\n",
      "Topic: 5 \n",
      "Words: 0.012*\"shall\" + 0.012*\"arrang\" + 0.011*\"select\" + 0.011*\"pandem\" + 0.008*\"subcommitte\" + 0.007*\"paragraph\" + 0.006*\"desk\" + 0.006*\"back\" + 0.006*\"repurchas\" + 0.006*\"overnight\"\n",
      "Topic: 6 \n",
      "Words: 0.017*\"april\" + 0.007*\"pandem\" + 0.007*\"back\" + 0.007*\"tool\" + 0.007*\"repo\" + 0.006*\"guidanc\" + 0.005*\"desk\" + 0.005*\"david\" + 0.005*\"arrang\" + 0.004*\"strain\"\n",
      "Topic: 7 \n",
      "Words: 0.007*\"back\" + 0.007*\"arrang\" + 0.006*\"desk\" + 0.005*\"shall\" + 0.004*\"deterior\" + 0.004*\"repurchas\" + 0.004*\"select\" + 0.004*\"april\" + 0.004*\"david\" + 0.004*\"mandat\"\n",
      "Topic: 8 \n",
      "Words: 0.021*\"april\" + 0.006*\"lindsey\" + 0.006*\"lesser\" + 0.006*\"behavior\" + 0.005*\"veloc\" + 0.005*\"finish\" + 0.005*\"civilian\" + 0.005*\"greenspan\" + 0.005*\"contempl\" + 0.005*\"kelley\"\n",
      "Topic: 9 \n",
      "Words: 0.009*\"back\" + 0.008*\"guidanc\" + 0.007*\"desk\" + 0.007*\"april\" + 0.006*\"mandat\" + 0.006*\"reinvest\" + 0.006*\"strategi\" + 0.006*\"tool\" + 0.005*\"david\" + 0.005*\"princip\"\n"
     ]
    }
   ],
   "source": [
    "for idx, topic in lda_model.print_topics(-1):\n",
    "    print('Topic: {} \\nWords: {}'.format(idx, topic))"
   ]
  },
  {
   "cell_type": "markdown",
   "id": "632d8b7e",
   "metadata": {},
   "source": [
    "# LDA using TF-IDF"
   ]
  },
  {
   "cell_type": "code",
   "execution_count": 26,
   "id": "8edd8c49",
   "metadata": {
    "ExecuteTime": {
     "end_time": "2022-03-08T09:33:22.563548Z",
     "start_time": "2022-03-08T09:33:18.950692Z"
    }
   },
   "outputs": [],
   "source": [
    "lda_model_tfidf = gensim.models.LdaMulticore(corpus_tfidf, num_topics=10, id2word=dictionary, passes=2, workers=4)"
   ]
  },
  {
   "cell_type": "code",
   "execution_count": 27,
   "id": "1f8d66ed",
   "metadata": {
    "ExecuteTime": {
     "end_time": "2022-03-08T09:33:22.937513Z",
     "start_time": "2022-03-08T09:33:22.921266Z"
    }
   },
   "outputs": [
    {
     "name": "stdout",
     "output_type": "stream",
     "text": [
      "Topic: 0 Word: 0.005*\"lawar\" + 0.004*\"legisl\" + 0.004*\"april\" + 0.004*\"lesser\" + 0.004*\"veloc\" + 0.004*\"phillip\" + 0.003*\"lindsey\" + 0.003*\"bias\" + 0.003*\"forrest\" + 0.003*\"attitud\"\n",
      "Topic: 1 Word: 0.009*\"april\" + 0.003*\"strain\" + 0.003*\"tech\" + 0.003*\"deterior\" + 0.003*\"headlin\" + 0.003*\"forese\" + 0.003*\"soften\" + 0.003*\"arrang\" + 0.003*\"disinfl\" + 0.003*\"press\"\n",
      "Topic: 2 Word: 0.004*\"pandem\" + 0.003*\"asia\" + 0.003*\"shall\" + 0.003*\"turmoil\" + 0.002*\"strike\" + 0.002*\"studi\" + 0.002*\"arrang\" + 0.002*\"april\" + 0.002*\"latin\" + 0.002*\"covid\"\n",
      "Topic: 3 Word: 0.003*\"april\" + 0.003*\"forese\" + 0.003*\"shall\" + 0.003*\"olson\" + 0.002*\"geopolit\" + 0.002*\"santomero\" + 0.002*\"bie\" + 0.002*\"gramlich\" + 0.002*\"south\" + 0.002*\"ferguson\"\n",
      "Topic: 4 Word: 0.003*\"regim\" + 0.002*\"owe\" + 0.002*\"april\" + 0.002*\"remov\" + 0.002*\"reinvest\" + 0.002*\"equal\" + 0.002*\"disappoint\" + 0.002*\"virtual\" + 0.002*\"refund\" + 0.002*\"surpris\"\n",
      "Topic: 5 Word: 0.007*\"pandem\" + 0.003*\"april\" + 0.003*\"virus\" + 0.002*\"distanc\" + 0.002*\"fulfil\" + 0.002*\"gasolin\" + 0.002*\"expens\" + 0.002*\"policymak\" + 0.002*\"remov\" + 0.002*\"repo\"\n",
      "Topic: 6 Word: 0.008*\"pandem\" + 0.005*\"back\" + 0.005*\"tool\" + 0.005*\"desk\" + 0.004*\"guidanc\" + 0.004*\"david\" + 0.004*\"april\" + 0.004*\"reinvest\" + 0.004*\"mandat\" + 0.003*\"soma\"\n",
      "Topic: 7 Word: 0.003*\"shall\" + 0.003*\"april\" + 0.002*\"hurrican\" + 0.002*\"arrang\" + 0.002*\"consult\" + 0.002*\"subcommitte\" + 0.001*\"paragraph\" + 0.001*\"strategi\" + 0.001*\"forese\" + 0.001*\"million\"\n",
      "Topic: 8 Word: 0.013*\"shall\" + 0.005*\"arrang\" + 0.005*\"subcommitte\" + 0.005*\"april\" + 0.005*\"paragraph\" + 0.005*\"consult\" + 0.004*\"select\" + 0.003*\"pursuant\" + 0.003*\"symmetr\" + 0.003*\"million\"\n",
      "Topic: 9 Word: 0.003*\"april\" + 0.003*\"shall\" + 0.002*\"mandat\" + 0.002*\"arrang\" + 0.002*\"subcommitte\" + 0.001*\"pandem\" + 0.001*\"back\" + 0.001*\"reinvest\" + 0.001*\"guidanc\" + 0.001*\"consult\"\n"
     ]
    }
   ],
   "source": [
    "for idx, topic in lda_model_tfidf.print_topics(-1):\n",
    "    print('Topic: {} Word: {}'.format(idx, topic))"
   ]
  },
  {
   "cell_type": "markdown",
   "id": "97298f2c",
   "metadata": {},
   "source": [
    "# Doc2vec"
   ]
  },
  {
   "cell_type": "code",
   "execution_count": 28,
   "id": "ca359e4f",
   "metadata": {
    "ExecuteTime": {
     "end_time": "2022-03-08T09:33:32.508669Z",
     "start_time": "2022-03-08T09:33:31.125556Z"
    }
   },
   "outputs": [],
   "source": [
    "def read_corpus(f, tokens_only=False):\n",
    "        for i, line in enumerate(f):\n",
    "            tokens = gensim.utils.simple_preprocess(line)\n",
    "            if tokens_only:\n",
    "                yield tokens\n",
    "            else:\n",
    "                # For training data, add tags\n",
    "                yield gensim.models.doc2vec.TaggedDocument(tokens, [i])\n",
    "\n",
    "train_corpus = list(read_corpus(df.contents))"
   ]
  },
  {
   "cell_type": "code",
   "execution_count": 29,
   "id": "5d64593a",
   "metadata": {
    "ExecuteTime": {
     "end_time": "2022-03-08T09:33:38.749203Z",
     "start_time": "2022-03-08T09:33:32.947811Z"
    },
    "scrolled": true
   },
   "outputs": [],
   "source": [
    "#session crashed when i ran this, even when I had a GPU connected it didnt seem to use the GPU\n",
    "from gensim.models.doc2vec import Doc2Vec\n",
    "model = Doc2Vec(train_corpus, vector_size=200, window=3, min_count=1, workers=4)"
   ]
  },
  {
   "cell_type": "code",
   "execution_count": 30,
   "id": "7ed27065",
   "metadata": {
    "ExecuteTime": {
     "end_time": "2022-03-08T09:33:38.765187Z",
     "start_time": "2022-03-08T09:33:38.750185Z"
    }
   },
   "outputs": [],
   "source": [
    "def getVecs(model_name, corpus, size):\n",
    "    vecs = [np.array(model_name[z.tags[0]]).reshape((1, size)) for z in corpus]\n",
    "    return np.concatenate(vecs)\n",
    "train_vecs_dm = getVecs(model, train_corpus, 200)"
   ]
  },
  {
   "cell_type": "code",
   "execution_count": 31,
   "id": "5f358954",
   "metadata": {
    "ExecuteTime": {
     "end_time": "2022-03-08T09:33:38.781208Z",
     "start_time": "2022-03-08T09:33:38.766187Z"
    }
   },
   "outputs": [
    {
     "data": {
      "text/plain": [
       "array([[-0.80111235,  0.1565466 , -0.17663424, ..., -0.28549618,\n",
       "        -0.05449621,  0.26253825],\n",
       "       [-0.9383391 , -1.1676013 , -0.44975588, ..., -1.4603425 ,\n",
       "        -0.3754907 ,  0.43858108],\n",
       "       [-0.7781848 , -0.7107702 , -0.69337916, ..., -1.149301  ,\n",
       "         0.9771428 ,  0.6328382 ],\n",
       "       ...,\n",
       "       [-1.7138871 , -1.0565069 , -1.964551  , ...,  0.59366804,\n",
       "        -0.98265755,  1.0837404 ],\n",
       "       [ 0.2353587 ,  0.43755105,  0.91504425, ..., -0.16311298,\n",
       "        -0.2697544 ,  0.6788294 ],\n",
       "       [-0.6331355 , -1.4183699 ,  0.5514546 , ...,  0.34547153,\n",
       "        -0.783713  , -0.7623654 ]], dtype=float32)"
      ]
     },
     "execution_count": 31,
     "metadata": {},
     "output_type": "execute_result"
    }
   ],
   "source": [
    "train_vecs_dm"
   ]
  },
  {
   "cell_type": "markdown",
   "id": "08e350fc",
   "metadata": {},
   "source": [
    "# Predictions on SPY changes\n"
   ]
  },
  {
   "cell_type": "code",
   "execution_count": 43,
   "id": "2b0d1c01",
   "metadata": {
    "ExecuteTime": {
     "end_time": "2022-03-08T11:38:26.155768Z",
     "start_time": "2022-03-08T11:38:22.865312Z"
    }
   },
   "outputs": [],
   "source": [
    "data=pd.read_csv(\"https://raw.githubusercontent.com/phzeller/TextMiningFinalProject/main/data/CompleteTable.csv?token=GHSAT0AAAAAABQ5RVENJWJE4HFO7VVPX5JIYRQPFJQ\")"
   ]
  },
  {
   "cell_type": "code",
   "execution_count": 44,
   "id": "27a3795e",
   "metadata": {
    "ExecuteTime": {
     "end_time": "2022-03-08T11:38:27.652213Z",
     "start_time": "2022-03-08T11:38:27.636214Z"
    },
    "scrolled": true
   },
   "outputs": [
    {
     "name": "stdout",
     "output_type": "stream",
     "text": [
      "<class 'pandas.core.frame.DataFrame'>\n",
      "RangeIndex: 240 entries, 0 to 239\n",
      "Data columns (total 23 columns):\n",
      " #   Column           Non-Null Count  Dtype  \n",
      "---  ------           --------------  -----  \n",
      " 0   date             240 non-null    object \n",
      " 1   contents         240 non-null    object \n",
      " 2   speaker          240 non-null    object \n",
      " 3   title            240 non-null    object \n",
      " 4   cleaned content  240 non-null    object \n",
      " 5   SPY: d-1         239 non-null    float64\n",
      " 6   SPY: d+0         239 non-null    float64\n",
      " 7   SPY: d+1         239 non-null    float64\n",
      " 8   SPY: d+2         239 non-null    float64\n",
      " 9   SPY: d+3         239 non-null    float64\n",
      " 10  SPY: d+4         239 non-null    float64\n",
      " 11  SPY: d+5         239 non-null    float64\n",
      " 12  SPY: d+6         239 non-null    float64\n",
      " 13  SPY: d+7         239 non-null    float64\n",
      " 14  SPY: d+8         239 non-null    float64\n",
      " 15  SPY: d+9         239 non-null    float64\n",
      " 16  SPY: d+10        239 non-null    float64\n",
      " 17  SPY: d+11        239 non-null    float64\n",
      " 18  SPY: d+12        239 non-null    float64\n",
      " 19  SPY: d+13        239 non-null    float64\n",
      " 20  SPY: d+14        239 non-null    float64\n",
      " 21  ^TNX: d-1        239 non-null    float64\n",
      " 22  ^TNX: d+0        239 non-null    float64\n",
      "dtypes: float64(18), object(5)\n",
      "memory usage: 43.2+ KB\n"
     ]
    }
   ],
   "source": [
    "data.info()"
   ]
  },
  {
   "cell_type": "code",
   "execution_count": 45,
   "id": "78bb8062",
   "metadata": {
    "ExecuteTime": {
     "end_time": "2022-03-08T11:38:28.663079Z",
     "start_time": "2022-03-08T11:38:28.638987Z"
    }
   },
   "outputs": [
    {
     "data": {
      "text/html": [
       "<div>\n",
       "<style scoped>\n",
       "    .dataframe tbody tr th:only-of-type {\n",
       "        vertical-align: middle;\n",
       "    }\n",
       "\n",
       "    .dataframe tbody tr th {\n",
       "        vertical-align: top;\n",
       "    }\n",
       "\n",
       "    .dataframe thead th {\n",
       "        text-align: right;\n",
       "    }\n",
       "</style>\n",
       "<table border=\"1\" class=\"dataframe\">\n",
       "  <thead>\n",
       "    <tr style=\"text-align: right;\">\n",
       "      <th></th>\n",
       "      <th>date</th>\n",
       "      <th>contents</th>\n",
       "      <th>speaker</th>\n",
       "      <th>title</th>\n",
       "      <th>cleaned content</th>\n",
       "      <th>SPY: d-1</th>\n",
       "      <th>SPY: d+0</th>\n",
       "      <th>SPY: d+1</th>\n",
       "      <th>SPY: d+2</th>\n",
       "      <th>SPY: d+3</th>\n",
       "      <th>...</th>\n",
       "      <th>SPY: d+7</th>\n",
       "      <th>SPY: d+8</th>\n",
       "      <th>SPY: d+9</th>\n",
       "      <th>SPY: d+10</th>\n",
       "      <th>SPY: d+11</th>\n",
       "      <th>SPY: d+12</th>\n",
       "      <th>SPY: d+13</th>\n",
       "      <th>SPY: d+14</th>\n",
       "      <th>^TNX: d-1</th>\n",
       "      <th>^TNX: d+0</th>\n",
       "    </tr>\n",
       "  </thead>\n",
       "  <tbody>\n",
       "    <tr>\n",
       "      <th>0</th>\n",
       "      <td>1993-02-03</td>\n",
       "      <td>A meeting of the Federal Open Market Committee...</td>\n",
       "      <td>Alan Greenspan</td>\n",
       "      <td>FOMC Meeting Minutes</td>\n",
       "      <td>['meeting', 'Federal', 'Open', 'Market', 'Comm...</td>\n",
       "      <td>25.864319</td>\n",
       "      <td>26.137705</td>\n",
       "      <td>26.247076</td>\n",
       "      <td>26.228842</td>\n",
       "      <td>26.228842</td>\n",
       "      <td>...</td>\n",
       "      <td>26.010128</td>\n",
       "      <td>25.353931</td>\n",
       "      <td>25.335707</td>\n",
       "      <td>25.317488</td>\n",
       "      <td>25.408623</td>\n",
       "      <td>25.499762</td>\n",
       "      <td>25.481527</td>\n",
       "      <td>25.809631</td>\n",
       "      <td>6.46</td>\n",
       "      <td>6.45</td>\n",
       "    </tr>\n",
       "    <tr>\n",
       "      <th>1</th>\n",
       "      <td>1993-03-23</td>\n",
       "      <td>A meeting of the Federal Open Market Committee...</td>\n",
       "      <td>Alan Greenspan</td>\n",
       "      <td>FOMC Meeting Minutes</td>\n",
       "      <td>['meeting', 'Federal', 'Open', 'Market', 'Comm...</td>\n",
       "      <td>26.242840</td>\n",
       "      <td>26.297781</td>\n",
       "      <td>26.297781</td>\n",
       "      <td>26.462601</td>\n",
       "      <td>26.316103</td>\n",
       "      <td>...</td>\n",
       "      <td>26.389343</td>\n",
       "      <td>25.839956</td>\n",
       "      <td>25.968130</td>\n",
       "      <td>25.894896</td>\n",
       "      <td>25.986469</td>\n",
       "      <td>25.949833</td>\n",
       "      <td>26.316103</td>\n",
       "      <td>26.371027</td>\n",
       "      <td>5.96</td>\n",
       "      <td>5.91</td>\n",
       "    </tr>\n",
       "    <tr>\n",
       "      <th>2</th>\n",
       "      <td>1993-05-18</td>\n",
       "      <td>A meeting of the Federal Open Market Committee...</td>\n",
       "      <td>Alan Greenspan</td>\n",
       "      <td>FOMC Meeting Minutes</td>\n",
       "      <td>['meeting', 'Federal', 'Open', 'Market', 'Comm...</td>\n",
       "      <td>25.876574</td>\n",
       "      <td>25.858263</td>\n",
       "      <td>26.389343</td>\n",
       "      <td>26.462601</td>\n",
       "      <td>26.224524</td>\n",
       "      <td>...</td>\n",
       "      <td>26.627411</td>\n",
       "      <td>26.499220</td>\n",
       "      <td>26.755627</td>\n",
       "      <td>26.718983</td>\n",
       "      <td>26.627411</td>\n",
       "      <td>26.535849</td>\n",
       "      <td>26.444286</td>\n",
       "      <td>26.206215</td>\n",
       "      <td>6.07</td>\n",
       "      <td>6.15</td>\n",
       "    </tr>\n",
       "    <tr>\n",
       "      <th>3</th>\n",
       "      <td>1993-07-07</td>\n",
       "      <td>A meeting of the Federal Open Market Committee...</td>\n",
       "      <td>Alan Greenspan</td>\n",
       "      <td>FOMC Meeting Minutes</td>\n",
       "      <td>['meeting', 'Federal', 'Open', 'Market', 'Comm...</td>\n",
       "      <td>26.096848</td>\n",
       "      <td>26.170630</td>\n",
       "      <td>26.465719</td>\n",
       "      <td>26.539494</td>\n",
       "      <td>26.521049</td>\n",
       "      <td>...</td>\n",
       "      <td>26.410383</td>\n",
       "      <td>26.391937</td>\n",
       "      <td>26.465719</td>\n",
       "      <td>26.447269</td>\n",
       "      <td>26.262844</td>\n",
       "      <td>26.391937</td>\n",
       "      <td>26.539494</td>\n",
       "      <td>26.521049</td>\n",
       "      <td>5.80</td>\n",
       "      <td>5.80</td>\n",
       "    </tr>\n",
       "    <tr>\n",
       "      <th>4</th>\n",
       "      <td>1993-08-17</td>\n",
       "      <td>A meeting of the Federal Open Market Committee...</td>\n",
       "      <td>Alan Greenspan</td>\n",
       "      <td>FOMC Meeting Minutes</td>\n",
       "      <td>['meeting', 'Federal', 'Open', 'Market', 'Comm...</td>\n",
       "      <td>26.779249</td>\n",
       "      <td>26.871473</td>\n",
       "      <td>27.019001</td>\n",
       "      <td>27.019001</td>\n",
       "      <td>27.037451</td>\n",
       "      <td>...</td>\n",
       "      <td>27.314091</td>\n",
       "      <td>27.295652</td>\n",
       "      <td>27.406319</td>\n",
       "      <td>27.480087</td>\n",
       "      <td>27.443205</td>\n",
       "      <td>27.350975</td>\n",
       "      <td>27.369415</td>\n",
       "      <td>27.184986</td>\n",
       "      <td>5.68</td>\n",
       "      <td>5.70</td>\n",
       "    </tr>\n",
       "  </tbody>\n",
       "</table>\n",
       "<p>5 rows × 23 columns</p>\n",
       "</div>"
      ],
      "text/plain": [
       "         date                                           contents  \\\n",
       "0  1993-02-03  A meeting of the Federal Open Market Committee...   \n",
       "1  1993-03-23  A meeting of the Federal Open Market Committee...   \n",
       "2  1993-05-18  A meeting of the Federal Open Market Committee...   \n",
       "3  1993-07-07  A meeting of the Federal Open Market Committee...   \n",
       "4  1993-08-17  A meeting of the Federal Open Market Committee...   \n",
       "\n",
       "          speaker                 title  \\\n",
       "0  Alan Greenspan  FOMC Meeting Minutes   \n",
       "1  Alan Greenspan  FOMC Meeting Minutes   \n",
       "2  Alan Greenspan  FOMC Meeting Minutes   \n",
       "3  Alan Greenspan  FOMC Meeting Minutes   \n",
       "4  Alan Greenspan  FOMC Meeting Minutes   \n",
       "\n",
       "                                     cleaned content   SPY: d-1   SPY: d+0  \\\n",
       "0  ['meeting', 'Federal', 'Open', 'Market', 'Comm...  25.864319  26.137705   \n",
       "1  ['meeting', 'Federal', 'Open', 'Market', 'Comm...  26.242840  26.297781   \n",
       "2  ['meeting', 'Federal', 'Open', 'Market', 'Comm...  25.876574  25.858263   \n",
       "3  ['meeting', 'Federal', 'Open', 'Market', 'Comm...  26.096848  26.170630   \n",
       "4  ['meeting', 'Federal', 'Open', 'Market', 'Comm...  26.779249  26.871473   \n",
       "\n",
       "    SPY: d+1   SPY: d+2   SPY: d+3  ...   SPY: d+7   SPY: d+8   SPY: d+9  \\\n",
       "0  26.247076  26.228842  26.228842  ...  26.010128  25.353931  25.335707   \n",
       "1  26.297781  26.462601  26.316103  ...  26.389343  25.839956  25.968130   \n",
       "2  26.389343  26.462601  26.224524  ...  26.627411  26.499220  26.755627   \n",
       "3  26.465719  26.539494  26.521049  ...  26.410383  26.391937  26.465719   \n",
       "4  27.019001  27.019001  27.037451  ...  27.314091  27.295652  27.406319   \n",
       "\n",
       "   SPY: d+10  SPY: d+11  SPY: d+12  SPY: d+13  SPY: d+14  ^TNX: d-1  ^TNX: d+0  \n",
       "0  25.317488  25.408623  25.499762  25.481527  25.809631       6.46       6.45  \n",
       "1  25.894896  25.986469  25.949833  26.316103  26.371027       5.96       5.91  \n",
       "2  26.718983  26.627411  26.535849  26.444286  26.206215       6.07       6.15  \n",
       "3  26.447269  26.262844  26.391937  26.539494  26.521049       5.80       5.80  \n",
       "4  27.480087  27.443205  27.350975  27.369415  27.184986       5.68       5.70  \n",
       "\n",
       "[5 rows x 23 columns]"
      ]
     },
     "execution_count": 45,
     "metadata": {},
     "output_type": "execute_result"
    }
   ],
   "source": [
    "data.head()"
   ]
  },
  {
   "cell_type": "code",
   "execution_count": 49,
   "id": "383c3703",
   "metadata": {
    "ExecuteTime": {
     "end_time": "2022-03-08T11:39:31.895486Z",
     "start_time": "2022-03-08T11:39:29.790402Z"
    }
   },
   "outputs": [],
   "source": [
    "def read_corpus(f, tokens_only=False):\n",
    "        for i, line in enumerate(f):\n",
    "            tokens = gensim.utils.simple_preprocess(line)\n",
    "            if tokens_only:\n",
    "                yield tokens\n",
    "            else:\n",
    "                # For training data, add tags\n",
    "                yield gensim.models.doc2vec.TaggedDocument(tokens, [i])\n",
    "\n",
    "train_corpus = list(read_corpus(data.contents))"
   ]
  },
  {
   "cell_type": "code",
   "execution_count": 50,
   "id": "5d64593a",
   "metadata": {
    "ExecuteTime": {
     "end_time": "2022-03-08T11:39:41.961476Z",
     "start_time": "2022-03-08T11:39:32.691655Z"
    },
    "scrolled": true
   },
   "outputs": [],
   "source": [
    "#session crashed when i ran this, even when I had a GPU connected it didnt seem to use the GPU\n",
    "from gensim.models.doc2vec import Doc2Vec\n",
    "model = Doc2Vec(train_corpus, vector_size=200, window=3, min_count=1, workers=4)"
   ]
  },
  {
   "cell_type": "code",
   "execution_count": 51,
   "id": "7ed27065",
   "metadata": {
    "ExecuteTime": {
     "end_time": "2022-03-08T11:39:41.977471Z",
     "start_time": "2022-03-08T11:39:41.963473Z"
    }
   },
   "outputs": [],
   "source": [
    "def getVecs(model_name, corpus, size):\n",
    "    vecs = [np.array(model_name[z.tags[0]]).reshape((1, size)) for z in corpus]\n",
    "    return np.concatenate(vecs)\n",
    "train_vecs_dm = getVecs(model, train_corpus, 200)"
   ]
  },
  {
   "cell_type": "code",
   "execution_count": 55,
   "id": "10ea7bc3",
   "metadata": {
    "ExecuteTime": {
     "end_time": "2022-03-08T11:42:35.051536Z",
     "start_time": "2022-03-08T11:42:35.023541Z"
    }
   },
   "outputs": [
    {
     "data": {
      "text/html": [
       "<div>\n",
       "<style scoped>\n",
       "    .dataframe tbody tr th:only-of-type {\n",
       "        vertical-align: middle;\n",
       "    }\n",
       "\n",
       "    .dataframe tbody tr th {\n",
       "        vertical-align: top;\n",
       "    }\n",
       "\n",
       "    .dataframe thead th {\n",
       "        text-align: right;\n",
       "    }\n",
       "</style>\n",
       "<table border=\"1\" class=\"dataframe\">\n",
       "  <thead>\n",
       "    <tr style=\"text-align: right;\">\n",
       "      <th></th>\n",
       "      <th>date</th>\n",
       "      <th>contents</th>\n",
       "      <th>speaker</th>\n",
       "      <th>title</th>\n",
       "      <th>cleaned content</th>\n",
       "      <th>SPY: d-1</th>\n",
       "      <th>SPY: d+0</th>\n",
       "      <th>SPY: d+1</th>\n",
       "      <th>SPY: d+2</th>\n",
       "      <th>SPY: d+3</th>\n",
       "      <th>...</th>\n",
       "      <th>SPY: d+7</th>\n",
       "      <th>SPY: d+8</th>\n",
       "      <th>SPY: d+9</th>\n",
       "      <th>SPY: d+10</th>\n",
       "      <th>SPY: d+11</th>\n",
       "      <th>SPY: d+12</th>\n",
       "      <th>SPY: d+13</th>\n",
       "      <th>SPY: d+14</th>\n",
       "      <th>^TNX: d-1</th>\n",
       "      <th>^TNX: d+0</th>\n",
       "    </tr>\n",
       "  </thead>\n",
       "  <tbody>\n",
       "    <tr>\n",
       "      <th>193</th>\n",
       "      <td>2016-04-27</td>\n",
       "      <td>The Federal Reserve, the central bank of the U...</td>\n",
       "      <td>Janet Yellen</td>\n",
       "      <td>FOMC Meeting Minutes</td>\n",
       "      <td>['Federal', 'Reserve', 'central', 'bank', 'Uni...</td>\n",
       "      <td>188.156586</td>\n",
       "      <td>188.543884</td>\n",
       "      <td>186.832672</td>\n",
       "      <td>185.823990</td>\n",
       "      <td>187.301025</td>\n",
       "      <td>...</td>\n",
       "      <td>185.274658</td>\n",
       "      <td>185.427719</td>\n",
       "      <td>187.733337</td>\n",
       "      <td>185.977127</td>\n",
       "      <td>186.031128</td>\n",
       "      <td>184.410034</td>\n",
       "      <td>186.229309</td>\n",
       "      <td>184.491089</td>\n",
       "      <td>1.931</td>\n",
       "      <td>1.860</td>\n",
       "    </tr>\n",
       "    <tr>\n",
       "      <th>35</th>\n",
       "      <td>1997-05-20</td>\n",
       "      <td>A meeting of the Federal Open Market Committee...</td>\n",
       "      <td>Alan Greenspan</td>\n",
       "      <td>FOMC Meeting Minutes</td>\n",
       "      <td>['meeting', 'Federal', 'Open', 'Market', 'Comm...</td>\n",
       "      <td>53.668827</td>\n",
       "      <td>54.311848</td>\n",
       "      <td>54.191246</td>\n",
       "      <td>54.010452</td>\n",
       "      <td>54.512783</td>\n",
       "      <td>...</td>\n",
       "      <td>54.753891</td>\n",
       "      <td>54.512783</td>\n",
       "      <td>54.331902</td>\n",
       "      <td>54.271648</td>\n",
       "      <td>54.472569</td>\n",
       "      <td>55.537502</td>\n",
       "      <td>55.818802</td>\n",
       "      <td>55.989586</td>\n",
       "      <td>6.694</td>\n",
       "      <td>6.690</td>\n",
       "    </tr>\n",
       "    <tr>\n",
       "      <th>97</th>\n",
       "      <td>2004-06-30</td>\n",
       "      <td>A meeting of the Federal Open Market Committee...</td>\n",
       "      <td>Alan Greenspan</td>\n",
       "      <td>FOMC Meeting Minutes</td>\n",
       "      <td>['meeting', 'Federal', 'Open', 'Market', 'Comm...</td>\n",
       "      <td>80.735870</td>\n",
       "      <td>81.168144</td>\n",
       "      <td>80.041321</td>\n",
       "      <td>79.998772</td>\n",
       "      <td>79.297195</td>\n",
       "      <td>...</td>\n",
       "      <td>79.219215</td>\n",
       "      <td>79.275909</td>\n",
       "      <td>79.034943</td>\n",
       "      <td>78.524696</td>\n",
       "      <td>78.460876</td>\n",
       "      <td>78.127800</td>\n",
       "      <td>79.119980</td>\n",
       "      <td>77.660057</td>\n",
       "      <td>4.695</td>\n",
       "      <td>4.617</td>\n",
       "    </tr>\n",
       "    <tr>\n",
       "      <th>65</th>\n",
       "      <td>2000-12-19</td>\n",
       "      <td>A meeting of the Federal Open Market Committee...</td>\n",
       "      <td>Alan Greenspan</td>\n",
       "      <td>FOMC Meeting Minutes</td>\n",
       "      <td>['meeting', 'Federal', 'Open', 'Market', 'Comm...</td>\n",
       "      <td>89.314407</td>\n",
       "      <td>87.495308</td>\n",
       "      <td>84.961205</td>\n",
       "      <td>85.550041</td>\n",
       "      <td>88.115685</td>\n",
       "      <td>...</td>\n",
       "      <td>88.283958</td>\n",
       "      <td>86.685669</td>\n",
       "      <td>90.849617</td>\n",
       "      <td>89.871742</td>\n",
       "      <td>86.938034</td>\n",
       "      <td>87.611000</td>\n",
       "      <td>87.379654</td>\n",
       "      <td>88.914833</td>\n",
       "      <td>5.156</td>\n",
       "      <td>5.184</td>\n",
       "    </tr>\n",
       "    <tr>\n",
       "      <th>143</th>\n",
       "      <td>2010-01-27</td>\n",
       "      <td>January 26-27, 2010\\n\\n[SECTION]\\n\\nPRESENT:\\n...</td>\n",
       "      <td>Ben Bernanke</td>\n",
       "      <td>FOMC Meeting Minutes</td>\n",
       "      <td>['January', '26-27', '2010', 'SECTION', 'PRESE...</td>\n",
       "      <td>86.700676</td>\n",
       "      <td>87.113167</td>\n",
       "      <td>86.113770</td>\n",
       "      <td>85.177834</td>\n",
       "      <td>86.502411</td>\n",
       "      <td>...</td>\n",
       "      <td>84.598824</td>\n",
       "      <td>83.988083</td>\n",
       "      <td>85.043007</td>\n",
       "      <td>84.876411</td>\n",
       "      <td>85.764755</td>\n",
       "      <td>85.693390</td>\n",
       "      <td>87.041771</td>\n",
       "      <td>87.454208</td>\n",
       "      <td>3.630</td>\n",
       "      <td>3.644</td>\n",
       "    </tr>\n",
       "    <tr>\n",
       "      <th>93</th>\n",
       "      <td>2003-12-09</td>\n",
       "      <td>A meeting of the Federal Open Market Committee...</td>\n",
       "      <td>Alan Greenspan</td>\n",
       "      <td>FOMC Meeting Minutes</td>\n",
       "      <td>['meeting', 'Federal', 'Open', 'Market', 'Comm...</td>\n",
       "      <td>75.336952</td>\n",
       "      <td>74.755676</td>\n",
       "      <td>74.748695</td>\n",
       "      <td>75.589088</td>\n",
       "      <td>75.736153</td>\n",
       "      <td>...</td>\n",
       "      <td>76.842720</td>\n",
       "      <td>76.628784</td>\n",
       "      <td>77.163612</td>\n",
       "      <td>77.212875</td>\n",
       "      <td>77.135445</td>\n",
       "      <td>77.191757</td>\n",
       "      <td>78.219078</td>\n",
       "      <td>78.233139</td>\n",
       "      <td>4.278</td>\n",
       "      <td>4.352</td>\n",
       "    </tr>\n",
       "    <tr>\n",
       "      <th>99</th>\n",
       "      <td>2004-09-21</td>\n",
       "      <td>A meeting of the Federal Open Market Committee...</td>\n",
       "      <td>Alan Greenspan</td>\n",
       "      <td>FOMC Meeting Minutes</td>\n",
       "      <td>['meeting', 'Federal', 'Open', 'Market', 'Comm...</td>\n",
       "      <td>80.040016</td>\n",
       "      <td>80.388725</td>\n",
       "      <td>79.385262</td>\n",
       "      <td>78.958275</td>\n",
       "      <td>79.321259</td>\n",
       "      <td>...</td>\n",
       "      <td>79.534744</td>\n",
       "      <td>80.879768</td>\n",
       "      <td>81.014977</td>\n",
       "      <td>81.057655</td>\n",
       "      <td>81.612808</td>\n",
       "      <td>80.737427</td>\n",
       "      <td>80.068466</td>\n",
       "      <td>80.395866</td>\n",
       "      <td>4.058</td>\n",
       "      <td>4.037</td>\n",
       "    </tr>\n",
       "    <tr>\n",
       "      <th>38</th>\n",
       "      <td>1997-09-30</td>\n",
       "      <td>A meeting of the Federal Open Market Committee...</td>\n",
       "      <td>Alan Greenspan</td>\n",
       "      <td>FOMC Meeting Minutes</td>\n",
       "      <td>['meeting', 'Federal', 'Open', 'Market', 'Comm...</td>\n",
       "      <td>61.788975</td>\n",
       "      <td>61.141106</td>\n",
       "      <td>61.950909</td>\n",
       "      <td>62.295090</td>\n",
       "      <td>62.608902</td>\n",
       "      <td>...</td>\n",
       "      <td>62.942963</td>\n",
       "      <td>62.760719</td>\n",
       "      <td>62.821434</td>\n",
       "      <td>62.841732</td>\n",
       "      <td>62.700005</td>\n",
       "      <td>61.707973</td>\n",
       "      <td>61.080357</td>\n",
       "      <td>61.950909</td>\n",
       "      <td>6.081</td>\n",
       "      <td>6.107</td>\n",
       "    </tr>\n",
       "    <tr>\n",
       "      <th>141</th>\n",
       "      <td>2009-11-04</td>\n",
       "      <td>November 3-4, 2009\\n\\n[SECTION]\\n\\nPRESENT:Mr....</td>\n",
       "      <td>Ben Bernanke</td>\n",
       "      <td>FOMC Meeting Minutes</td>\n",
       "      <td>['November', '3-4', '2009', 'SECTION', 'PRESEN...</td>\n",
       "      <td>82.560066</td>\n",
       "      <td>82.773079</td>\n",
       "      <td>84.295692</td>\n",
       "      <td>84.516586</td>\n",
       "      <td>86.441551</td>\n",
       "      <td>...</td>\n",
       "      <td>86.480988</td>\n",
       "      <td>87.735367</td>\n",
       "      <td>87.837952</td>\n",
       "      <td>87.782700</td>\n",
       "      <td>86.638763</td>\n",
       "      <td>86.331100</td>\n",
       "      <td>87.427689</td>\n",
       "      <td>87.561813</td>\n",
       "      <td>3.473</td>\n",
       "      <td>3.546</td>\n",
       "    </tr>\n",
       "    <tr>\n",
       "      <th>89</th>\n",
       "      <td>2003-06-25</td>\n",
       "      <td>A meeting of the Federal Open Market Committee...</td>\n",
       "      <td>Alan Greenspan</td>\n",
       "      <td>FOMC Meeting Minutes</td>\n",
       "      <td>['meeting', 'Federal', 'Open', 'Market', 'Comm...</td>\n",
       "      <td>68.734894</td>\n",
       "      <td>68.044212</td>\n",
       "      <td>68.930260</td>\n",
       "      <td>68.134926</td>\n",
       "      <td>68.113983</td>\n",
       "      <td>...</td>\n",
       "      <td>70.255821</td>\n",
       "      <td>70.569771</td>\n",
       "      <td>70.172134</td>\n",
       "      <td>69.279099</td>\n",
       "      <td>69.934914</td>\n",
       "      <td>70.276756</td>\n",
       "      <td>70.123276</td>\n",
       "      <td>69.711639</td>\n",
       "      <td>3.265</td>\n",
       "      <td>3.361</td>\n",
       "    </tr>\n",
       "  </tbody>\n",
       "</table>\n",
       "<p>10 rows × 23 columns</p>\n",
       "</div>"
      ],
      "text/plain": [
       "           date                                           contents  \\\n",
       "193  2016-04-27  The Federal Reserve, the central bank of the U...   \n",
       "35   1997-05-20  A meeting of the Federal Open Market Committee...   \n",
       "97   2004-06-30  A meeting of the Federal Open Market Committee...   \n",
       "65   2000-12-19  A meeting of the Federal Open Market Committee...   \n",
       "143  2010-01-27  January 26-27, 2010\\n\\n[SECTION]\\n\\nPRESENT:\\n...   \n",
       "93   2003-12-09  A meeting of the Federal Open Market Committee...   \n",
       "99   2004-09-21  A meeting of the Federal Open Market Committee...   \n",
       "38   1997-09-30  A meeting of the Federal Open Market Committee...   \n",
       "141  2009-11-04  November 3-4, 2009\\n\\n[SECTION]\\n\\nPRESENT:Mr....   \n",
       "89   2003-06-25  A meeting of the Federal Open Market Committee...   \n",
       "\n",
       "            speaker                 title  \\\n",
       "193    Janet Yellen  FOMC Meeting Minutes   \n",
       "35   Alan Greenspan  FOMC Meeting Minutes   \n",
       "97   Alan Greenspan  FOMC Meeting Minutes   \n",
       "65   Alan Greenspan  FOMC Meeting Minutes   \n",
       "143    Ben Bernanke  FOMC Meeting Minutes   \n",
       "93   Alan Greenspan  FOMC Meeting Minutes   \n",
       "99   Alan Greenspan  FOMC Meeting Minutes   \n",
       "38   Alan Greenspan  FOMC Meeting Minutes   \n",
       "141    Ben Bernanke  FOMC Meeting Minutes   \n",
       "89   Alan Greenspan  FOMC Meeting Minutes   \n",
       "\n",
       "                                       cleaned content    SPY: d-1  \\\n",
       "193  ['Federal', 'Reserve', 'central', 'bank', 'Uni...  188.156586   \n",
       "35   ['meeting', 'Federal', 'Open', 'Market', 'Comm...   53.668827   \n",
       "97   ['meeting', 'Federal', 'Open', 'Market', 'Comm...   80.735870   \n",
       "65   ['meeting', 'Federal', 'Open', 'Market', 'Comm...   89.314407   \n",
       "143  ['January', '26-27', '2010', 'SECTION', 'PRESE...   86.700676   \n",
       "93   ['meeting', 'Federal', 'Open', 'Market', 'Comm...   75.336952   \n",
       "99   ['meeting', 'Federal', 'Open', 'Market', 'Comm...   80.040016   \n",
       "38   ['meeting', 'Federal', 'Open', 'Market', 'Comm...   61.788975   \n",
       "141  ['November', '3-4', '2009', 'SECTION', 'PRESEN...   82.560066   \n",
       "89   ['meeting', 'Federal', 'Open', 'Market', 'Comm...   68.734894   \n",
       "\n",
       "       SPY: d+0    SPY: d+1    SPY: d+2    SPY: d+3  ...    SPY: d+7  \\\n",
       "193  188.543884  186.832672  185.823990  187.301025  ...  185.274658   \n",
       "35    54.311848   54.191246   54.010452   54.512783  ...   54.753891   \n",
       "97    81.168144   80.041321   79.998772   79.297195  ...   79.219215   \n",
       "65    87.495308   84.961205   85.550041   88.115685  ...   88.283958   \n",
       "143   87.113167   86.113770   85.177834   86.502411  ...   84.598824   \n",
       "93    74.755676   74.748695   75.589088   75.736153  ...   76.842720   \n",
       "99    80.388725   79.385262   78.958275   79.321259  ...   79.534744   \n",
       "38    61.141106   61.950909   62.295090   62.608902  ...   62.942963   \n",
       "141   82.773079   84.295692   84.516586   86.441551  ...   86.480988   \n",
       "89    68.044212   68.930260   68.134926   68.113983  ...   70.255821   \n",
       "\n",
       "       SPY: d+8    SPY: d+9   SPY: d+10   SPY: d+11   SPY: d+12   SPY: d+13  \\\n",
       "193  185.427719  187.733337  185.977127  186.031128  184.410034  186.229309   \n",
       "35    54.512783   54.331902   54.271648   54.472569   55.537502   55.818802   \n",
       "97    79.275909   79.034943   78.524696   78.460876   78.127800   79.119980   \n",
       "65    86.685669   90.849617   89.871742   86.938034   87.611000   87.379654   \n",
       "143   83.988083   85.043007   84.876411   85.764755   85.693390   87.041771   \n",
       "93    76.628784   77.163612   77.212875   77.135445   77.191757   78.219078   \n",
       "99    80.879768   81.014977   81.057655   81.612808   80.737427   80.068466   \n",
       "38    62.760719   62.821434   62.841732   62.700005   61.707973   61.080357   \n",
       "141   87.735367   87.837952   87.782700   86.638763   86.331100   87.427689   \n",
       "89    70.569771   70.172134   69.279099   69.934914   70.276756   70.123276   \n",
       "\n",
       "      SPY: d+14  ^TNX: d-1  ^TNX: d+0  \n",
       "193  184.491089      1.931      1.860  \n",
       "35    55.989586      6.694      6.690  \n",
       "97    77.660057      4.695      4.617  \n",
       "65    88.914833      5.156      5.184  \n",
       "143   87.454208      3.630      3.644  \n",
       "93    78.233139      4.278      4.352  \n",
       "99    80.395866      4.058      4.037  \n",
       "38    61.950909      6.081      6.107  \n",
       "141   87.561813      3.473      3.546  \n",
       "89    69.711639      3.265      3.361  \n",
       "\n",
       "[10 rows x 23 columns]"
      ]
     },
     "execution_count": 55,
     "metadata": {},
     "output_type": "execute_result"
    }
   ],
   "source": [
    "data.sample(10)"
   ]
  },
  {
   "cell_type": "code",
   "execution_count": 65,
   "id": "b1e4bb46",
   "metadata": {
    "ExecuteTime": {
     "end_time": "2022-03-08T11:55:10.489196Z",
     "start_time": "2022-03-08T11:55:10.481194Z"
    }
   },
   "outputs": [],
   "source": [
    "def pct_change_from_day_0(announcement):\n",
    "    pct_change= (announcement['SPY: d+7']/announcement['SPY: d-1'])-1\n",
    "    if pct_change>0:\n",
    "        return 'up'\n",
    "    else:\n",
    "        return 'down'"
   ]
  },
  {
   "cell_type": "code",
   "execution_count": 66,
   "id": "22ef2840",
   "metadata": {
    "ExecuteTime": {
     "end_time": "2022-03-08T11:55:11.395101Z",
     "start_time": "2022-03-08T11:55:11.375003Z"
    }
   },
   "outputs": [
    {
     "data": {
      "text/plain": [
       "'up'"
      ]
     },
     "execution_count": 66,
     "metadata": {},
     "output_type": "execute_result"
    }
   ],
   "source": [
    "pct_change_from_day_0(data.iloc[141])"
   ]
  },
  {
   "cell_type": "code",
   "execution_count": 67,
   "id": "648cba43",
   "metadata": {
    "ExecuteTime": {
     "end_time": "2022-03-08T11:55:13.932249Z",
     "start_time": "2022-03-08T11:55:13.910217Z"
    }
   },
   "outputs": [],
   "source": [
    "data['+7change']=data.apply(pct_change_from_day_0,axis=1)"
   ]
  },
  {
   "cell_type": "code",
   "execution_count": 68,
   "id": "17a84b77",
   "metadata": {
    "ExecuteTime": {
     "end_time": "2022-03-08T11:55:14.744369Z",
     "start_time": "2022-03-08T11:55:14.728313Z"
    }
   },
   "outputs": [
    {
     "data": {
      "text/plain": [
       "date                                                      2009-11-04\n",
       "contents           November 3-4, 2009\\n\\n[SECTION]\\n\\nPRESENT:Mr....\n",
       "speaker                                                 Ben Bernanke\n",
       "title                                           FOMC Meeting Minutes\n",
       "cleaned content    ['November', '3-4', '2009', 'SECTION', 'PRESEN...\n",
       "SPY: d-1                                                   82.560066\n",
       "SPY: d+0                                                   82.773079\n",
       "SPY: d+1                                                   84.295692\n",
       "SPY: d+2                                                   84.516586\n",
       "SPY: d+3                                                   86.441551\n",
       "SPY: d+4                                                   86.457344\n",
       "SPY: d+5                                                   86.899109\n",
       "SPY: d+6                                                   86.015572\n",
       "SPY: d+7                                                   86.480988\n",
       "SPY: d+8                                                   87.735367\n",
       "SPY: d+9                                                   87.837952\n",
       "SPY: d+10                                                    87.7827\n",
       "SPY: d+11                                                  86.638763\n",
       "SPY: d+12                                                    86.3311\n",
       "SPY: d+13                                                  87.427689\n",
       "SPY: d+14                                                  87.561813\n",
       "^TNX: d-1                                                      3.473\n",
       "^TNX: d+0                                                      3.546\n",
       "+7change                                                          up\n",
       "Name: 141, dtype: object"
      ]
     },
     "execution_count": 68,
     "metadata": {},
     "output_type": "execute_result"
    }
   ],
   "source": [
    "data.iloc[141]"
   ]
  },
  {
   "cell_type": "code",
   "execution_count": 70,
   "id": "bee52246",
   "metadata": {
    "ExecuteTime": {
     "end_time": "2022-03-08T11:55:55.269894Z",
     "start_time": "2022-03-08T11:55:55.255893Z"
    }
   },
   "outputs": [
    {
     "data": {
      "text/plain": [
       "up      146\n",
       "down     94\n",
       "Name: +7change, dtype: int64"
      ]
     },
     "execution_count": 70,
     "metadata": {},
     "output_type": "execute_result"
    }
   ],
   "source": [
    "data['+7change'].value_counts()"
   ]
  },
  {
   "cell_type": "code",
   "execution_count": 74,
   "id": "07afe01a",
   "metadata": {
    "ExecuteTime": {
     "end_time": "2022-03-08T12:02:01.924426Z",
     "start_time": "2022-03-08T12:02:01.912425Z"
    }
   },
   "outputs": [],
   "source": [
    "labels=data['+7change'].to_numpy()\n",
    "labels_onehot=pd.get_dummies(labels).values"
   ]
  },
  {
   "cell_type": "code",
   "execution_count": 76,
   "id": "9f0f273d",
   "metadata": {
    "ExecuteTime": {
     "end_time": "2022-03-08T12:02:15.898767Z",
     "start_time": "2022-03-08T12:02:15.878735Z"
    }
   },
   "outputs": [
    {
     "data": {
      "text/plain": [
       "array([[0, 1],\n",
       "       [0, 1],\n",
       "       [0, 1],\n",
       "       [0, 1],\n",
       "       [0, 1],\n",
       "       [0, 1],\n",
       "       [1, 0],\n",
       "       [1, 0],\n",
       "       [1, 0],\n",
       "       [1, 0]], dtype=uint8)"
      ]
     },
     "execution_count": 76,
     "metadata": {},
     "output_type": "execute_result"
    }
   ],
   "source": [
    "labels_onehot[:10]"
   ]
  },
  {
   "cell_type": "code",
   "execution_count": 109,
   "id": "5df99556",
   "metadata": {
    "ExecuteTime": {
     "end_time": "2022-03-08T12:12:49.283359Z",
     "start_time": "2022-03-08T12:12:49.272357Z"
    }
   },
   "outputs": [
    {
     "name": "stdout",
     "output_type": "stream",
     "text": [
      "216 24 216 24\n"
     ]
    }
   ],
   "source": [
    "X_train, X_test, y_train, y_test = train_test_split(train_vecs_dm,labels_onehot,train_size=0.9)\n",
    "print (len(X_train),len(X_test),len(y_train),len(y_test))"
   ]
  },
  {
   "cell_type": "code",
   "execution_count": 110,
   "id": "bbb57161",
   "metadata": {
    "ExecuteTime": {
     "end_time": "2022-03-08T12:12:49.951634Z",
     "start_time": "2022-03-08T12:12:49.941632Z"
    }
   },
   "outputs": [
    {
     "name": "stdout",
     "output_type": "stream",
     "text": [
      "194 22 194 22\n"
     ]
    }
   ],
   "source": [
    "X_train_m, X_val, y_train_m, y_val = train_test_split(X_train,y_train,train_size=0.9)\n",
    "print (len(X_train_m),len(X_val),len(y_train_m),len(y_val))"
   ]
  },
  {
   "cell_type": "code",
   "execution_count": 111,
   "id": "149bdd4c",
   "metadata": {
    "ExecuteTime": {
     "end_time": "2022-03-08T12:13:11.322642Z",
     "start_time": "2022-03-08T12:12:50.501115Z"
    }
   },
   "outputs": [
    {
     "name": "stdout",
     "output_type": "stream",
     "text": [
      "Epoch 1/30\n",
      "2/2 [==============================] - 4s 806ms/step - loss: 0.2971 - accuracy: 0.5155 - val_loss: 0.2478 - val_accuracy: 0.6364\n",
      "Epoch 2/30\n",
      "2/2 [==============================] - 0s 254ms/step - loss: 0.2748 - accuracy: 0.5670 - val_loss: 0.2463 - val_accuracy: 0.6364\n",
      "Epoch 3/30\n",
      "2/2 [==============================] - 1s 289ms/step - loss: 0.2753 - accuracy: 0.5567 - val_loss: 0.2450 - val_accuracy: 0.6364\n",
      "Epoch 4/30\n",
      "2/2 [==============================] - 1s 319ms/step - loss: 0.2830 - accuracy: 0.5000 - val_loss: 0.2438 - val_accuracy: 0.6364\n",
      "Epoch 5/30\n",
      "2/2 [==============================] - 1s 312ms/step - loss: 0.2505 - accuracy: 0.5773 - val_loss: 0.2427 - val_accuracy: 0.6364\n",
      "Epoch 6/30\n",
      "2/2 [==============================] - 1s 316ms/step - loss: 0.2662 - accuracy: 0.6237 - val_loss: 0.2417 - val_accuracy: 0.6364\n",
      "Epoch 7/30\n",
      "2/2 [==============================] - 1s 310ms/step - loss: 0.2630 - accuracy: 0.5670 - val_loss: 0.2407 - val_accuracy: 0.6364\n",
      "Epoch 8/30\n",
      "2/2 [==============================] - 1s 307ms/step - loss: 0.2446 - accuracy: 0.6186 - val_loss: 0.2398 - val_accuracy: 0.6364\n",
      "Epoch 9/30\n",
      "2/2 [==============================] - 1s 313ms/step - loss: 0.2550 - accuracy: 0.5876 - val_loss: 0.2390 - val_accuracy: 0.6364\n",
      "Epoch 10/30\n",
      "2/2 [==============================] - 1s 311ms/step - loss: 0.2557 - accuracy: 0.6031 - val_loss: 0.2383 - val_accuracy: 0.6364\n",
      "Epoch 11/30\n",
      "2/2 [==============================] - 1s 312ms/step - loss: 0.2507 - accuracy: 0.5928 - val_loss: 0.2376 - val_accuracy: 0.6364\n",
      "Epoch 12/30\n",
      "2/2 [==============================] - 1s 302ms/step - loss: 0.2537 - accuracy: 0.6186 - val_loss: 0.2371 - val_accuracy: 0.6364\n",
      "Epoch 13/30\n",
      "2/2 [==============================] - 1s 300ms/step - loss: 0.2417 - accuracy: 0.6443 - val_loss: 0.2366 - val_accuracy: 0.6364\n",
      "Epoch 14/30\n",
      "2/2 [==============================] - 1s 314ms/step - loss: 0.2522 - accuracy: 0.6289 - val_loss: 0.2361 - val_accuracy: 0.6364\n",
      "Epoch 15/30\n",
      "2/2 [==============================] - 1s 302ms/step - loss: 0.2277 - accuracy: 0.6598 - val_loss: 0.2356 - val_accuracy: 0.6364\n",
      "Epoch 16/30\n",
      "2/2 [==============================] - 1s 306ms/step - loss: 0.2286 - accuracy: 0.6701 - val_loss: 0.2351 - val_accuracy: 0.6364\n",
      "Epoch 17/30\n",
      "2/2 [==============================] - 1s 297ms/step - loss: 0.2448 - accuracy: 0.6031 - val_loss: 0.2347 - val_accuracy: 0.6364\n",
      "Epoch 18/30\n",
      "2/2 [==============================] - 1s 299ms/step - loss: 0.2341 - accuracy: 0.6649 - val_loss: 0.2343 - val_accuracy: 0.6364\n",
      "Epoch 19/30\n",
      "2/2 [==============================] - 1s 310ms/step - loss: 0.2265 - accuracy: 0.6598 - val_loss: 0.2339 - val_accuracy: 0.6364\n",
      "Epoch 20/30\n",
      "2/2 [==============================] - 1s 303ms/step - loss: 0.2292 - accuracy: 0.6753 - val_loss: 0.2334 - val_accuracy: 0.6364\n",
      "Epoch 21/30\n",
      "2/2 [==============================] - 1s 313ms/step - loss: 0.2327 - accuracy: 0.6186 - val_loss: 0.2330 - val_accuracy: 0.6364\n",
      "Epoch 22/30\n",
      "2/2 [==============================] - 1s 318ms/step - loss: 0.2348 - accuracy: 0.6392 - val_loss: 0.2326 - val_accuracy: 0.6364\n",
      "Epoch 23/30\n",
      "2/2 [==============================] - 1s 305ms/step - loss: 0.2351 - accuracy: 0.6443 - val_loss: 0.2323 - val_accuracy: 0.6364\n",
      "Epoch 24/30\n",
      "2/2 [==============================] - 1s 296ms/step - loss: 0.2318 - accuracy: 0.6495 - val_loss: 0.2319 - val_accuracy: 0.6364\n",
      "Epoch 25/30\n",
      "2/2 [==============================] - 1s 297ms/step - loss: 0.2359 - accuracy: 0.6186 - val_loss: 0.2317 - val_accuracy: 0.6364\n",
      "Epoch 26/30\n",
      "2/2 [==============================] - 1s 309ms/step - loss: 0.2378 - accuracy: 0.6701 - val_loss: 0.2314 - val_accuracy: 0.6364\n",
      "Epoch 27/30\n",
      "2/2 [==============================] - 1s 307ms/step - loss: 0.2361 - accuracy: 0.6546 - val_loss: 0.2311 - val_accuracy: 0.6364\n",
      "Epoch 28/30\n",
      "2/2 [==============================] - 1s 325ms/step - loss: 0.2375 - accuracy: 0.6546 - val_loss: 0.2308 - val_accuracy: 0.6364\n",
      "Epoch 29/30\n",
      "2/2 [==============================] - 1s 309ms/step - loss: 0.2266 - accuracy: 0.6649 - val_loss: 0.2305 - val_accuracy: 0.6364\n",
      "Epoch 30/30\n",
      "2/2 [==============================] - 1s 306ms/step - loss: 0.2289 - accuracy: 0.6237 - val_loss: 0.2303 - val_accuracy: 0.6364\n"
     ]
    }
   ],
   "source": [
    "model = Sequential()\n",
    "\n",
    "model.add(LSTM(units = 50, return_sequences = True, input_shape = (X_train.shape[1], 1)))\n",
    "model.add(Dropout(0.2))\n",
    "model.add(BatchNormalization())\n",
    "\n",
    "\n",
    "model.add(LSTM(units = 50))\n",
    "model.add(Dropout(0.25))\n",
    "model.add(BatchNormalization())\n",
    "\n",
    "model.add(Dense(2, activation='sigmoid'))\n",
    "\n",
    "model.compile(optimizer = 'adam', loss = 'mean_squared_error',metrics=['accuracy'])\n",
    "\n",
    "history=model.fit(X_train_m, y_train_m,validation_data=(X_val,y_val), epochs = 30, batch_size = 100)"
   ]
  },
  {
   "cell_type": "code",
   "execution_count": 112,
   "id": "87c5bd95",
   "metadata": {
    "ExecuteTime": {
     "end_time": "2022-03-08T12:13:11.539732Z",
     "start_time": "2022-03-08T12:13:11.324641Z"
    }
   },
   "outputs": [
    {
     "data": {
      "image/png": "[encoded data removed]",
      "text/plain": [
       "<Figure size 432x288 with 1 Axes>"
      ]
     },
     "metadata": {
      "needs_background": "light"
     },
     "output_type": "display_data"
    },
    {
     "data": {
      "text/plain": [
       "<Figure size 432x288 with 0 Axes>"
      ]
     },
     "metadata": {},
     "output_type": "display_data"
    }
   ],
   "source": [
    "plt.plot(history.history['accuracy'], label='acc')\n",
    "plt.plot(history.history['val_accuracy'], label='val_acc')\n",
    "plt.title('Training and validation accuracy evolution through epochs')\n",
    "plt.legend()\n",
    "plt.show()\n",
    "plt.savefig(\"Accuracy plot.jpg\")"
   ]
  },
  {
   "cell_type": "code",
   "execution_count": 113,
   "id": "47397b81",
   "metadata": {
    "ExecuteTime": {
     "end_time": "2022-03-08T12:13:11.824670Z",
     "start_time": "2022-03-08T12:13:11.541654Z"
    }
   },
   "outputs": [
    {
     "name": "stdout",
     "output_type": "stream",
     "text": [
      "7/7 [==============================] - 0s 31ms/step - loss: 0.2393 - accuracy: 0.6111\n"
     ]
    },
    {
     "data": {
      "text/plain": [
       "[0.23927396535873413, 0.6111111044883728]"
      ]
     },
     "execution_count": 113,
     "metadata": {},
     "output_type": "execute_result"
    }
   ],
   "source": [
    "model.evaluate(X_train,y_train)"
   ]
  },
  {
   "cell_type": "code",
   "execution_count": 114,
   "id": "d98cc966",
   "metadata": {
    "ExecuteTime": {
     "end_time": "2022-03-08T12:13:11.919663Z",
     "start_time": "2022-03-08T12:13:11.825659Z"
    }
   },
   "outputs": [
    {
     "name": "stdout",
     "output_type": "stream",
     "text": [
      "1/1 [==============================] - 0s 46ms/step - loss: 0.2476 - accuracy: 0.5833\n"
     ]
    },
    {
     "data": {
      "text/plain": [
       "[0.24757099151611328, 0.5833333134651184]"
      ]
     },
     "execution_count": 114,
     "metadata": {},
     "output_type": "execute_result"
    }
   ],
   "source": [
    "model.evaluate(X_test,y_test)"
   ]
  },
  {
   "cell_type": "code",
   "execution_count": null,
   "id": "cf88f5df",
   "metadata": {},
   "outputs": [],
   "source": []
  }
 ],
 "metadata": {
  "kernelspec": {
   "display_name": "Python 3",
   "language": "python",
   "name": "python3"
  },
  "language_info": {
   "codemirror_mode": {
    "name": "ipython",
    "version": 3
   },
   "file_extension": ".py",
   "mimetype": "text/x-python",
   "name": "python",
   "nbconvert_exporter": "python",
   "pygments_lexer": "ipython3",
   "version": "3.8.8"
  },
  "toc": {
   "base_numbering": 1,
   "nav_menu": {},
   "number_sections": true,
   "sideBar": true,
   "skip_h1_title": false,
   "title_cell": "Table of Contents",
   "title_sidebar": "Contents",
   "toc_cell": false,
   "toc_position": {
    "height": "calc(100% - 180px)",
    "left": "10px",
    "top": "150px",
    "width": "195.273px"
   },
   "toc_section_display": true,
   "toc_window_display": true
  }
 },
 "nbformat": 4,
 "nbformat_minor": 5
}
