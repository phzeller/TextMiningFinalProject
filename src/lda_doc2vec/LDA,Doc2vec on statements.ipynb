{
 "cells": [
  {
   "cell_type": "code",
   "execution_count": 109,
   "id": "516e3838",
   "metadata": {
    "ExecuteTime": {
     "end_time": "2022-03-11T13:01:39.675028Z",
     "start_time": "2022-03-11T13:01:39.667025Z"
    }
   },
   "outputs": [],
   "source": [
    "import re\n",
    "import matplotlib.pyplot as plt\n",
    "import string\n",
    "from nltk.tokenize.treebank import TreebankWordDetokenizer\n",
    "from gensim.utils import simple_preprocess\n",
    "import gensim\n",
    "from sklearn.model_selection import train_test_split\n",
    "import pickle\n",
    "import warnings\n",
    "warnings.filterwarnings('ignore')\n",
    "import seaborn as sns\n",
    "from sklearn.metrics import confusion_matrix\n",
    "import matplotlib.pyplot as plt \n",
    "import tensorflow as tf\n",
    "import keras\n",
    "import numpy as np\n",
    "import pandas as pd\n",
    "from nltk.corpus import stopwords\n",
    "import nltk\n",
    "\n",
    "import pandas as pd\n",
    "import matplotlib.pyplot as plt\n",
    "import numpy as np\n",
    "import re\n",
    "from tqdm import tqdm\n",
    "from tensorflow.keras.preprocessing.text import Tokenizer\n",
    "from tensorflow.keras.preprocessing.sequence import pad_sequences\n",
    "from tensorflow.keras.models import Sequential\n",
    "from tensorflow.keras.layers import LSTM,Dense, Dropout, SpatialDropout1D\n",
    "from tensorflow.keras.layers import Embedding\n",
    "from keras.layers import Dense, Dropout, BatchNormalization\n",
    "from keras.layers.wrappers import Bidirectional\n",
    "\n",
    "import pandas\n",
    "import pickle\n",
    "import bz2\n",
    "import _pickle as cPickle\n",
    "import zipfile\n",
    "from tqdm import tqdm\n",
    "\n",
    "import gensim\n",
    "from gensim.utils import simple_preprocess\n",
    "from gensim.parsing.preprocessing import STOPWORDS\n",
    "from nltk.stem import WordNetLemmatizer, SnowballStemmer\n",
    "from nltk.stem.porter import *\n",
    "import numpy as np\n",
    "np.random.seed(2018)\n",
    "import nltk"
   ]
  },
  {
   "cell_type": "code",
   "execution_count": 110,
   "id": "3f9d4c4b",
   "metadata": {
    "ExecuteTime": {
     "end_time": "2022-03-11T13:01:40.094637Z",
     "start_time": "2022-03-11T13:01:39.999545Z"
    }
   },
   "outputs": [],
   "source": [
    "df=pd.read_csv(r\"C:\\Users\\chriq\\OneDrive\\Documents\\my_data\\Textminingdata\\text_financial\\minutes_spy.csv\", parse_dates=['date'])"
   ]
  },
  {
   "cell_type": "code",
   "execution_count": 111,
   "id": "548a64e9",
   "metadata": {
    "ExecuteTime": {
     "end_time": "2022-03-11T13:01:40.638894Z",
     "start_time": "2022-03-11T13:01:40.596735Z"
    }
   },
   "outputs": [
    {
     "data": {
      "text/html": [
       "<div>\n",
       "<style scoped>\n",
       "    .dataframe tbody tr th:only-of-type {\n",
       "        vertical-align: middle;\n",
       "    }\n",
       "\n",
       "    .dataframe tbody tr th {\n",
       "        vertical-align: top;\n",
       "    }\n",
       "\n",
       "    .dataframe thead th {\n",
       "        text-align: right;\n",
       "    }\n",
       "</style>\n",
       "<table border=\"1\" class=\"dataframe\">\n",
       "  <thead>\n",
       "    <tr style=\"text-align: right;\">\n",
       "      <th></th>\n",
       "      <th>Unnamed: 0</th>\n",
       "      <th>date</th>\n",
       "      <th>contents</th>\n",
       "      <th>speaker</th>\n",
       "      <th>title</th>\n",
       "      <th>SPY: d-1</th>\n",
       "      <th>SPY: d+0</th>\n",
       "      <th>SPY: d+1</th>\n",
       "      <th>SPY: d+2</th>\n",
       "      <th>SPY: d+3</th>\n",
       "      <th>...</th>\n",
       "      <th>SPY: d+5</th>\n",
       "      <th>SPY: d+6</th>\n",
       "      <th>SPY: d+7</th>\n",
       "      <th>SPY: d+8</th>\n",
       "      <th>SPY: d+9</th>\n",
       "      <th>SPY: d+10</th>\n",
       "      <th>SPY: d+11</th>\n",
       "      <th>SPY: d+12</th>\n",
       "      <th>SPY: d+13</th>\n",
       "      <th>SPY: d+14</th>\n",
       "    </tr>\n",
       "  </thead>\n",
       "  <tbody>\n",
       "    <tr>\n",
       "      <th>0</th>\n",
       "      <td>0</td>\n",
       "      <td>1993-02-03</td>\n",
       "      <td>A meeting of the Federal Open Market Committee...</td>\n",
       "      <td>Alan Greenspan</td>\n",
       "      <td>FOMC Meeting Minutes</td>\n",
       "      <td>25.864319</td>\n",
       "      <td>26.137705</td>\n",
       "      <td>26.247076</td>\n",
       "      <td>26.228842</td>\n",
       "      <td>26.228842</td>\n",
       "      <td>...</td>\n",
       "      <td>26.083029</td>\n",
       "      <td>26.210615</td>\n",
       "      <td>26.010128</td>\n",
       "      <td>25.353931</td>\n",
       "      <td>25.335707</td>\n",
       "      <td>25.317488</td>\n",
       "      <td>25.408623</td>\n",
       "      <td>25.499762</td>\n",
       "      <td>25.481527</td>\n",
       "      <td>25.809631</td>\n",
       "    </tr>\n",
       "    <tr>\n",
       "      <th>1</th>\n",
       "      <td>1</td>\n",
       "      <td>1993-03-23</td>\n",
       "      <td>A meeting of the Federal Open Market Committee...</td>\n",
       "      <td>Alan Greenspan</td>\n",
       "      <td>FOMC Meeting Minutes</td>\n",
       "      <td>26.242840</td>\n",
       "      <td>26.297781</td>\n",
       "      <td>26.297781</td>\n",
       "      <td>26.462601</td>\n",
       "      <td>26.316103</td>\n",
       "      <td>...</td>\n",
       "      <td>26.499220</td>\n",
       "      <td>26.480902</td>\n",
       "      <td>26.389343</td>\n",
       "      <td>25.839956</td>\n",
       "      <td>25.968130</td>\n",
       "      <td>25.894896</td>\n",
       "      <td>25.986469</td>\n",
       "      <td>25.949833</td>\n",
       "      <td>26.316103</td>\n",
       "      <td>26.371027</td>\n",
       "    </tr>\n",
       "    <tr>\n",
       "      <th>2</th>\n",
       "      <td>2</td>\n",
       "      <td>1993-05-18</td>\n",
       "      <td>A meeting of the Federal Open Market Committee...</td>\n",
       "      <td>Alan Greenspan</td>\n",
       "      <td>FOMC Meeting Minutes</td>\n",
       "      <td>25.876574</td>\n",
       "      <td>25.858263</td>\n",
       "      <td>26.389343</td>\n",
       "      <td>26.462601</td>\n",
       "      <td>26.224524</td>\n",
       "      <td>...</td>\n",
       "      <td>26.389343</td>\n",
       "      <td>26.718983</td>\n",
       "      <td>26.627411</td>\n",
       "      <td>26.499220</td>\n",
       "      <td>26.755627</td>\n",
       "      <td>26.718983</td>\n",
       "      <td>26.627411</td>\n",
       "      <td>26.535849</td>\n",
       "      <td>26.444286</td>\n",
       "      <td>26.206215</td>\n",
       "    </tr>\n",
       "    <tr>\n",
       "      <th>3</th>\n",
       "      <td>3</td>\n",
       "      <td>1993-07-07</td>\n",
       "      <td>A meeting of the Federal Open Market Committee...</td>\n",
       "      <td>Alan Greenspan</td>\n",
       "      <td>FOMC Meeting Minutes</td>\n",
       "      <td>26.096848</td>\n",
       "      <td>26.170630</td>\n",
       "      <td>26.465719</td>\n",
       "      <td>26.539494</td>\n",
       "      <td>26.521049</td>\n",
       "      <td>...</td>\n",
       "      <td>26.594809</td>\n",
       "      <td>26.484146</td>\n",
       "      <td>26.410383</td>\n",
       "      <td>26.391937</td>\n",
       "      <td>26.465719</td>\n",
       "      <td>26.447269</td>\n",
       "      <td>26.262844</td>\n",
       "      <td>26.391937</td>\n",
       "      <td>26.539494</td>\n",
       "      <td>26.521049</td>\n",
       "    </tr>\n",
       "    <tr>\n",
       "      <th>4</th>\n",
       "      <td>4</td>\n",
       "      <td>1993-08-17</td>\n",
       "      <td>A meeting of the Federal Open Market Committee...</td>\n",
       "      <td>Alan Greenspan</td>\n",
       "      <td>FOMC Meeting Minutes</td>\n",
       "      <td>26.779249</td>\n",
       "      <td>26.871473</td>\n",
       "      <td>27.019001</td>\n",
       "      <td>27.019001</td>\n",
       "      <td>27.037451</td>\n",
       "      <td>...</td>\n",
       "      <td>27.277197</td>\n",
       "      <td>27.295652</td>\n",
       "      <td>27.314091</td>\n",
       "      <td>27.295652</td>\n",
       "      <td>27.406319</td>\n",
       "      <td>27.480087</td>\n",
       "      <td>27.443205</td>\n",
       "      <td>27.350975</td>\n",
       "      <td>27.369415</td>\n",
       "      <td>27.184986</td>\n",
       "    </tr>\n",
       "    <tr>\n",
       "      <th>...</th>\n",
       "      <td>...</td>\n",
       "      <td>...</td>\n",
       "      <td>...</td>\n",
       "      <td>...</td>\n",
       "      <td>...</td>\n",
       "      <td>...</td>\n",
       "      <td>...</td>\n",
       "      <td>...</td>\n",
       "      <td>...</td>\n",
       "      <td>...</td>\n",
       "      <td>...</td>\n",
       "      <td>...</td>\n",
       "      <td>...</td>\n",
       "      <td>...</td>\n",
       "      <td>...</td>\n",
       "      <td>...</td>\n",
       "      <td>...</td>\n",
       "      <td>...</td>\n",
       "      <td>...</td>\n",
       "      <td>...</td>\n",
       "      <td>...</td>\n",
       "    </tr>\n",
       "    <tr>\n",
       "      <th>219</th>\n",
       "      <td>219</td>\n",
       "      <td>2021-07-28</td>\n",
       "      <td>The Federal Reserve, the central bank of the U...</td>\n",
       "      <td>Jerome Powell</td>\n",
       "      <td>FOMC Meeting Minutes</td>\n",
       "      <td>436.076019</td>\n",
       "      <td>435.897217</td>\n",
       "      <td>437.705048</td>\n",
       "      <td>435.579346</td>\n",
       "      <td>434.665497</td>\n",
       "      <td>...</td>\n",
       "      <td>436.046234</td>\n",
       "      <td>438.807648</td>\n",
       "      <td>439.532745</td>\n",
       "      <td>439.175140</td>\n",
       "      <td>439.721466</td>\n",
       "      <td>440.814148</td>\n",
       "      <td>442.135254</td>\n",
       "      <td>442.939850</td>\n",
       "      <td>443.982819</td>\n",
       "      <td>441.072418</td>\n",
       "    </tr>\n",
       "    <tr>\n",
       "      <th>220</th>\n",
       "      <td>220</td>\n",
       "      <td>2021-09-22</td>\n",
       "      <td>The Federal Reserve, the central bank of the U...</td>\n",
       "      <td>Jerome Powell</td>\n",
       "      <td>FOMC Meeting Minutes</td>\n",
       "      <td>432.111908</td>\n",
       "      <td>436.327057</td>\n",
       "      <td>441.628448</td>\n",
       "      <td>442.355896</td>\n",
       "      <td>441.090363</td>\n",
       "      <td>...</td>\n",
       "      <td>432.929016</td>\n",
       "      <td>427.637634</td>\n",
       "      <td>432.719757</td>\n",
       "      <td>427.139374</td>\n",
       "      <td>431.583740</td>\n",
       "      <td>433.377441</td>\n",
       "      <td>437.124268</td>\n",
       "      <td>436.327057</td>\n",
       "      <td>433.168182</td>\n",
       "      <td>432.101929</td>\n",
       "    </tr>\n",
       "    <tr>\n",
       "      <th>221</th>\n",
       "      <td>221</td>\n",
       "      <td>2021-11-03</td>\n",
       "      <td>The Federal Reserve, the central bank of the U...</td>\n",
       "      <td>Jerome Powell</td>\n",
       "      <td>FOMC Meeting Minutes</td>\n",
       "      <td>460.282898</td>\n",
       "      <td>463.093048</td>\n",
       "      <td>465.275391</td>\n",
       "      <td>466.889709</td>\n",
       "      <td>467.288300</td>\n",
       "      <td>...</td>\n",
       "      <td>461.996887</td>\n",
       "      <td>462.146362</td>\n",
       "      <td>465.634094</td>\n",
       "      <td>465.793549</td>\n",
       "      <td>467.637085</td>\n",
       "      <td>466.501099</td>\n",
       "      <td>468.085510</td>\n",
       "      <td>467.248474</td>\n",
       "      <td>465.933075</td>\n",
       "      <td>466.550903</td>\n",
       "    </tr>\n",
       "    <tr>\n",
       "      <th>222</th>\n",
       "      <td>222</td>\n",
       "      <td>2021-12-15</td>\n",
       "      <td>The Federal Reserve, the central bank of the U...</td>\n",
       "      <td>Jerome Powell</td>\n",
       "      <td>FOMC Meeting Minutes</td>\n",
       "      <td>461.737793</td>\n",
       "      <td>468.952454</td>\n",
       "      <td>464.816986</td>\n",
       "      <td>459.869995</td>\n",
       "      <td>454.980011</td>\n",
       "      <td>...</td>\n",
       "      <td>467.690002</td>\n",
       "      <td>470.600006</td>\n",
       "      <td>477.260010</td>\n",
       "      <td>476.869995</td>\n",
       "      <td>477.480011</td>\n",
       "      <td>476.160004</td>\n",
       "      <td>474.959991</td>\n",
       "      <td>477.709991</td>\n",
       "      <td>477.549988</td>\n",
       "      <td>468.380005</td>\n",
       "    </tr>\n",
       "    <tr>\n",
       "      <th>223</th>\n",
       "      <td>223</td>\n",
       "      <td>2022-01-26</td>\n",
       "      <td>The Federal Reserve, the central bank of the U...</td>\n",
       "      <td>other</td>\n",
       "      <td>FOMC Meeting Minutes</td>\n",
       "      <td>434.470001</td>\n",
       "      <td>433.380005</td>\n",
       "      <td>431.239990</td>\n",
       "      <td>441.950012</td>\n",
       "      <td>449.910004</td>\n",
       "      <td>...</td>\n",
       "      <td>457.350006</td>\n",
       "      <td>446.600006</td>\n",
       "      <td>448.700012</td>\n",
       "      <td>447.260010</td>\n",
       "      <td>450.940002</td>\n",
       "      <td>457.540009</td>\n",
       "      <td>449.320007</td>\n",
       "      <td>440.459991</td>\n",
       "      <td>439.019989</td>\n",
       "      <td>446.100006</td>\n",
       "    </tr>\n",
       "  </tbody>\n",
       "</table>\n",
       "<p>224 rows × 21 columns</p>\n",
       "</div>"
      ],
      "text/plain": [
       "     Unnamed: 0       date                                           contents  \\\n",
       "0             0 1993-02-03  A meeting of the Federal Open Market Committee...   \n",
       "1             1 1993-03-23  A meeting of the Federal Open Market Committee...   \n",
       "2             2 1993-05-18  A meeting of the Federal Open Market Committee...   \n",
       "3             3 1993-07-07  A meeting of the Federal Open Market Committee...   \n",
       "4             4 1993-08-17  A meeting of the Federal Open Market Committee...   \n",
       "..          ...        ...                                                ...   \n",
       "219         219 2021-07-28  The Federal Reserve, the central bank of the U...   \n",
       "220         220 2021-09-22  The Federal Reserve, the central bank of the U...   \n",
       "221         221 2021-11-03  The Federal Reserve, the central bank of the U...   \n",
       "222         222 2021-12-15  The Federal Reserve, the central bank of the U...   \n",
       "223         223 2022-01-26  The Federal Reserve, the central bank of the U...   \n",
       "\n",
       "            speaker                 title    SPY: d-1    SPY: d+0    SPY: d+1  \\\n",
       "0    Alan Greenspan  FOMC Meeting Minutes   25.864319   26.137705   26.247076   \n",
       "1    Alan Greenspan  FOMC Meeting Minutes   26.242840   26.297781   26.297781   \n",
       "2    Alan Greenspan  FOMC Meeting Minutes   25.876574   25.858263   26.389343   \n",
       "3    Alan Greenspan  FOMC Meeting Minutes   26.096848   26.170630   26.465719   \n",
       "4    Alan Greenspan  FOMC Meeting Minutes   26.779249   26.871473   27.019001   \n",
       "..              ...                   ...         ...         ...         ...   \n",
       "219   Jerome Powell  FOMC Meeting Minutes  436.076019  435.897217  437.705048   \n",
       "220   Jerome Powell  FOMC Meeting Minutes  432.111908  436.327057  441.628448   \n",
       "221   Jerome Powell  FOMC Meeting Minutes  460.282898  463.093048  465.275391   \n",
       "222   Jerome Powell  FOMC Meeting Minutes  461.737793  468.952454  464.816986   \n",
       "223           other  FOMC Meeting Minutes  434.470001  433.380005  431.239990   \n",
       "\n",
       "       SPY: d+2    SPY: d+3  ...    SPY: d+5    SPY: d+6    SPY: d+7  \\\n",
       "0     26.228842   26.228842  ...   26.083029   26.210615   26.010128   \n",
       "1     26.462601   26.316103  ...   26.499220   26.480902   26.389343   \n",
       "2     26.462601   26.224524  ...   26.389343   26.718983   26.627411   \n",
       "3     26.539494   26.521049  ...   26.594809   26.484146   26.410383   \n",
       "4     27.019001   27.037451  ...   27.277197   27.295652   27.314091   \n",
       "..          ...         ...  ...         ...         ...         ...   \n",
       "219  435.579346  434.665497  ...  436.046234  438.807648  439.532745   \n",
       "220  442.355896  441.090363  ...  432.929016  427.637634  432.719757   \n",
       "221  466.889709  467.288300  ...  461.996887  462.146362  465.634094   \n",
       "222  459.869995  454.980011  ...  467.690002  470.600006  477.260010   \n",
       "223  441.950012  449.910004  ...  457.350006  446.600006  448.700012   \n",
       "\n",
       "       SPY: d+8    SPY: d+9   SPY: d+10   SPY: d+11   SPY: d+12   SPY: d+13  \\\n",
       "0     25.353931   25.335707   25.317488   25.408623   25.499762   25.481527   \n",
       "1     25.839956   25.968130   25.894896   25.986469   25.949833   26.316103   \n",
       "2     26.499220   26.755627   26.718983   26.627411   26.535849   26.444286   \n",
       "3     26.391937   26.465719   26.447269   26.262844   26.391937   26.539494   \n",
       "4     27.295652   27.406319   27.480087   27.443205   27.350975   27.369415   \n",
       "..          ...         ...         ...         ...         ...         ...   \n",
       "219  439.175140  439.721466  440.814148  442.135254  442.939850  443.982819   \n",
       "220  427.139374  431.583740  433.377441  437.124268  436.327057  433.168182   \n",
       "221  465.793549  467.637085  466.501099  468.085510  467.248474  465.933075   \n",
       "222  476.869995  477.480011  476.160004  474.959991  477.709991  477.549988   \n",
       "223  447.260010  450.940002  457.540009  449.320007  440.459991  439.019989   \n",
       "\n",
       "      SPY: d+14  \n",
       "0     25.809631  \n",
       "1     26.371027  \n",
       "2     26.206215  \n",
       "3     26.521049  \n",
       "4     27.184986  \n",
       "..          ...  \n",
       "219  441.072418  \n",
       "220  432.101929  \n",
       "221  466.550903  \n",
       "222  468.380005  \n",
       "223  446.100006  \n",
       "\n",
       "[224 rows x 21 columns]"
      ]
     },
     "execution_count": 111,
     "metadata": {},
     "output_type": "execute_result"
    }
   ],
   "source": [
    "df['contents'] = df['contents'].apply(lambda x: x.replace('\\n\\n[SECTION]\\n\\n', '').replace('\\n', ' ').replace('\\r', ' ').strip())\n",
    "df"
   ]
  },
  {
   "cell_type": "code",
   "execution_count": 112,
   "id": "6a1c8c8d",
   "metadata": {
    "ExecuteTime": {
     "end_time": "2022-03-11T13:01:40.796311Z",
     "start_time": "2022-03-11T13:01:40.780216Z"
    }
   },
   "outputs": [
    {
     "name": "stdout",
     "output_type": "stream",
     "text": [
      "A meeting of the Federal Open Market Committee was held in       the offices of the Board of Governors of the Federal Reserve System in       Washington, D.C., on Tuesday, February 2, 1993, at 2:30 p.m. and was       continued on Wednesday, February 3, 1993, at 9:00 a.m.PRESENT:Mr. Greenspan, Chairman        Mr. Corrigan, Vice Chairman        Mr. Angell        Mr. Boehne        Mr. Keehn        Mr. Kelley        Mr. LaWare        Mr. Lindsey        Mr. McTeer        Mr. Mullins        Ms. Phillips        Mr. SternMessrs. Broaddus, Jordan, Forrestal, and Parry, Alternate        Members of the Federal Open Market CommitteeMessrs. Hoenig, Melzer, and Syron, Presidents of the Federal        Reserve Banks of Kansas City, St. Louis, and Boston,        respectivelyMr. Kohn, Secretary and Economist        Mr. Bernard, Deputy Secretary        Mr. Coyne, Assistant Secretary        Mr. Gillum, Assistant Secretary        Mr. Mattingly, General Counsel        Mr. Patrikis,1 Deputy General Counsel        Mr. Prell, Economist        Mr. Truman, EconomistMessrs. R. Davis, Lang, Lindsey, Promisel,        Rosenblum, Scheld, Siegman, Simpson,        and Slifman, Associate EconomistsMr. McDonough, Manager of the System Open Market        AccountMs. Greene, Deputy Manager for Foreign OperationsMs. Lovett,2 Deputy Manager for Domestic OperationsMr. Ettin, Deputy Director, Division of Research and        Statistics, Board of GovernorsMr. Stockton, Associate Director, Division of Research and        Statistics, Board of GovernorsMr. Madigan, Assistant Director, Division of Monetary        Affairs, Board of GovernorsMr. Brady,3 Section Chief, Division of Monetary Affairs,      Board of GovernorsMr. Rosine,3 Senior Economist, Division of Research and      Statistics, Board of GovernorsMr. Wiles,4 Secretary of the Board, Office of the      Secretary, Board of GovernorsMr. Winn,4 Assistant to the Board, Office of Board Members,      Board of GovernorsMs. Werneke,4 Special Assistant to the Board, Office of      Board Members, Board of GovernorsMr. Siciliano,4 Special Assistant to the General Counsel,      Legal Division, Board of GovernorsMs. Low, Open Market Secretariat Assistant, Division of        Monetary Affairs, Board of GovernorsMessrs. Beebe, T. Davis, Dewald, Goodfriend, and Ms.        Tschinkel, Senior Vice Presidents, Federal Reserve        Banks of San Francisco, Kansas City, St. Louis,        Richmond, and Atlanta, respectivelyMr. McNees, Vice President, Federal Reserve Bank of BostonMr. Gavin, Assistant Vice President, Federal Reserve Bank of        ClevelandMr. Weber, Senior Research Officer, Federal Reserve Bank of        MinneapolisMs. Meulendyke, Manager, Open Market Operations, Federal        Reserve Bank of New York1. Attended Wednesday session only.2. Attended Tuesday session only.3. Attended portion of meeting relating to the Committee's           discussion of the economic outlook and its longer-run           objectives for monetary and debt aggregates.4. Attended portion of the meeting relating to the release of           FOMC information to the public.The Secretary reported that advices of the election of the       Reserve Bank members and alternate members of the Federal Open Market       Committee for the period commencing January 1, 1993, and ending       December 31, 1993, had been received and that these individuals had       executed their oaths of office. The elected members and alternate       members were as follows:E. Gerald Corrigan, President of the Federal Reserve Bank of New York,       with James H. Oltman, First Vice President of the Federal Reserve       Bank of New York, as alternate;Edward G. Boehne, President of the Federal Reserve Bank of       Philadelphia, with J. Alfred Broaddus, Jr., President of the       Federal Reserve Bank of Richmond, as alternate;Silas Keehn, President of the Federal Reserve Bank of Chicago, with       Jerry L. Jordan, President of the Federal Reserve Bank of       Cleveland, as alternate;Robert D. McTeer, Jr., President of the Federal Reserve Bank of       Dallas, with Robert P. Forrestal, President of the Federal Reserve       Bank of Atlanta, as alternate;Gary H. Stern, President of the Federal Reserve Bank of Minneapolis,       with Robert T. Parry, President of the Federal Reserve Bank of San       Francisco, as alternate.By unanimous vote, the Committee elected the following       officers of the Federal Open Market Committee to serve until the       election of their successors at the first meeting of the Committee       after December 31, 1993, with the understanding that in the event of       the discontinuance of their official connection with the Board of       Governors or with a Federal Reserve Bank, they would cease to have any       official connection with the Federal Open Market Committee:By unanimous vote, the Federal Reserve Bank of New York was       selected to execute transactions for the System Open Market Account       until the adjournment of the first meeting of the Committee after       December 31, 1993.By unanimous vote, William J. McDonough, Margaret L. Greene,       and Joan E. Lovett were selected to serve at the pleasure of the       Committee in the capacities of Manager of the System Open Market       Account, Deputy Manager for Foreign Operations, System Open Market       Account, and Deputy Manager for Domestic Operations, System Open       Market Account respectively, on the understanding that their selection       was subject to their being satisfactory to the Federal Reserve Bank of       New York.Secretary's note: Advice subsequently was received         that the selections indicated above were satisfactory         to the board of directors of the Federal Reserve Bank         of New York.On January 15, 1993, the continuing rules, regulations,       authorizations, and other instruments of the Committee listed below       were distributed with the advice that, in accordance with procedures       approved by the Committee, they were being called to the Committee's       attention before the February 2-3 organization meeting to give members       an opportunity to raise any questions they might have concerning them.       Members were asked to indicate if they wished to have any of the       instruments in question placed on the agenda for consideration at this       meeting. No requests for substantive consideration were received.At the meeting; the Committee voted unanimously to update the       references to the Management of the System Open Market Account that       were contained in the following: (1) Procedures for allocation of       securities in the System Open Market Account and (2) Program for       Security of FOMC Information. Apart from the indicated updating of       titles, all of the instruments listed below remained in effect in       their existing forms.1. Procedures for allocation of securities in the System Open Market       Account.2. Authority for the Chairman to appoint a Federal Reserve Bank as       agent to operate the System Account in case the New York Bank is       unable to function.3. Resolution of FOMC to provide for the continued operation of the       Committee during an emergency; Resolution of FOMC authorizing       certain actions by Federal Reserve Banks during an emergency.4. Resolution relating to examinations of the System Open Market       Account.5. Guidelines for the conduct of System operations in Federal agency       issues.6. Regulation relating to Open Market Operations of Federal Reserve       Banks.7. Program for Security of FOMC Information.8. Federal Open Market Committee Rules.By unanimous vote, the Authorization for Domestic Open Market       Operations, as shown below, was reaffirmed:1. The Federal Open Market Committee authorizes and       directs the Federal Reserve Bank of New York, to the       extent necessary to carry out the most recent domestic       policy directive adopted at a meeting of the Committee:(a) To buy or sell U. S. Government securities,         including securities of the Federal Financing Bank, and         securities that are direct obligations of, or fully         guaranteed as to principal and interest by, any agency of         the United States in the open market, from or to         securities dealers and foreign and international accounts         maintained at the Federal Reserve Bank of New York, on a         cash, regular, or deferred delivery basis, for the System         Open Market Account at market prices, and, for such         Account, to exchange maturing U. S. Government and         Federal agency securities with the Treasury or the         individual agencies or to allow them to mature without         replacement; provided that the aggregate amount of U. S.         Government and Federal agency securities held in such         Account (including forward commitments) at the close of         business on the day of a meeting of the Committee at         which action is taken with respect to a domestic policy         directive shall not be increased or decreased by more         than $8.0 billion during the period commencing with the         opening of business on the day following such meeting and         ending with the close of business on the day of the next         such meeting;(b) When appropriate, to buy or sell in the open         market, from or to acceptance dealers and foreign         accounts maintained at the Federal Reserve Bank of New         York, on a cash, regular, or deferred delivery basis, for         the account of the Federal Reserve Bank of New York at         market discount rates, prime bankers acceptances with         maturities of up to nine months at the time of acceptance         that (1) arise out of the current shipment of goods         between countries or within the United States, or (2)         arise out of the storage within the United States of         goods under contract of sale or expected to move into the         channels of trade within a reasonable time and that are         secured throughout their life by a warehouse receipt or         similar document conveying title to the underlying goods;         provided that the aggregate amount of bankers acceptances         held at any one time shall not exceed $100 million;(c) To buy U. S. Government securities, obligations         that are direct obligations of, or fully guaranteed as to         principal and interest by, any agency of the United         States, and prime bankers acceptances of the types         authorized for purchase under l(b) above, from dealers         for the account of the Federal Reserve Bank of New York         under agreements for repurchase of such securities,         obligations, or acceptances in 15 calendar days or less,         at rates that, unless otherwise expressly authorized by         the Committee, shall be determined by competitive         bidding, after applying reasonable limitations on the         volume of agreements with individual dealers; provided         that in the event Government securities or agency issues         covered by any such agreement are not repurchased by the         dealer pursuant to the agreement or a renewal thereof,         they shall be sold in the market or transferred to the         System Open Market Account; and provided further that in         the event bankers acceptances covered by any such         agreement are not repurchased by the seller, they shall         continue to be held by the Federal Reserve Bank or shall         be sold in the open market.2. In order to ensure the effective conduct of open       market operations, the Federal Open Market Committee       authorizes and directs the Federal Reserve Banks to lend       U. S. Government securities held in the System Open       Market Account to Government securities dealers and to       banks participating in Government securities clearing       arrangements conducted through a Federal Reserve Bank,       under such instructions as the Committee may specify from       time to time.3. In order to ensure the effective conduct of open       market operations, while assisting in the provision of       short-term investments for foreign and international       accounts maintained at the Federal Reserve Bank of New       York, the Federal Open Market Committee authorizes and       directs the Federal Reserve Bank of New York (a) for       System Open Market Account, to sell U. S. Government       securities to such foreign and international accounts on       the bases set forth in paragraph l(a) under agreements       providing for the resale by such accounts of those       securities within 15 calendar days on terms comparable to       those available on such transactions in the market; and       (b) for New York Bank account, when appropriate, to       undertake with dealers, subject to the conditions imposed       on purchases and sales of securities in paragraph l(c),       repurchase agreements in U. S. Government and agency       securities, and to arrange corresponding sale and       repurchase agreements between its own account and foreign       and international accounts maintained at the Bank.       Transactions undertaken with such accounts under the       provisions of this paragraph may provide for a service       fee when appropriate.By unanimous vote, the Authorization for Foreign Currency       Operations was amended to update the title of the Manager of the       System Open Market Account. The Authorization, as amended, is shown       below:1. The Federal Open Market Committee authorizes and       directs the Federal Reserve Bank of New York, for System       Open Market Account, to the extent necessary to carry out       the Committee's foreign currency directive and express       authorizations by the Committee pursuant thereto, and in       conformity with such procedural instructions as the       Committee may issue from time to time:A. To purchase and sell the following foreign         currencies in the form of cable transfers through spot or         forward transactions on the open market at home and         abroad, including transactions with the U. S. Treasury,         with the U. S. Exchange Stabilization Fund established by         Section 10 of the Gold Reserve Act of 1934, with foreign         monetary authorities, with the Bank for International         Settlements, and with other international financial         institutions:Austrian schillings         Belgian francs         Canadian dollars         Danish kroner         Pounds sterling                 French francs                 German marks                 Italian lire         Japanese yen         Mexican pesos         Netherlands guilders         Norwegian kroner         Swedish kronor         Swiss francsB. To hold balances of, and to have outstanding forward         contracts to receive or to deliver, the foreign         currencies listed in paragraph A above.C. To draw foreign currencies and to permit foreign         banks to draw dollars under the reciprocal currency         arrangements listed in paragraph 2 below, provided that         drawings by either party to any such arrangement shall be         fully liquidated within 12 months after any amount         outstanding at that time was first drawn, unless the         Committee, because of exceptional circumstances,         specifically authorizes a delay.D. To maintain an overall open position in all foreign         currencies not exceeding $25.0 billion. For this         purpose, the overall open position in all foreign         currencies is defined as the sum (disregarding signs) of         net positions in individual currencies. The net position         in a single foreign currency is defined as holdings of         balances in that currency, plus outstanding contracts for         future receipt, minus outstanding contracts for future         delivery of that currency, i.e., as the sum of these         elements with due regard to sign.2. The Federal Open Market Committee directs the       Federal Reserve Bank of New York to maintain reciprocal       currency arrangements (\"swap\" arrangements) for the       System Open Market Account for periods up to a maximum of       12 months with the following foreign banks, which are       among those designated by the Board of Governors of the       Federal Reserve System under Section 214.5 of Regulation       N, Relations with Foreign Banks and Bankers, and with the       approval of the Committee to renew such arrangements on       maturity:Any changes in the terms of existing swap arrangements,       and the proposed terms of any new arrangements that may       be authorized, shall be referred for review and     approval to the Committee.3. All transactions in foreign currencies undertaken       under paragraph I(A) above shall, unless otherwise       expressly authorized by the Committee, be at prevailing       market rates. For the purpose of providing an       investment return on System holdings of foreign       currencies, or for the purpose of adjusting interest       rates paid or received in connection with swap       drawings, transactions with foreign central banks may       be undertaken at non-market exchange rates.4. It shall be the normal practice to arrange with       foreign central banks for the coordination of foreign       currency transactions. In making operating       arrangements with foreign central banks on System       holdings of foreign currencies, the Federal Reserve       Bank of New York shall not commit itself to maintain       any specific balance, unless authorized by the Federal       Open Market Committee. Any agreements or       understandings concerning the administration of the       accounts maintained by the Federal Reserve Bank of New       York with the foreign banks designated by the Board of       Governors under Section 214.5 of Regulation N shall be       referred for review and approval to the Committee.5. Foreign currency holdings shall be invested       insofar as practicable, considering needs for minimum       working balances. Such investments shall be in liquid       form, and generally have no more than 12 months       remaining to maturity. When appropriate in connection       with arrangements to provide investment facilities for       foreign currency holdings, U. S. Government securities       may be purchased from foreign central banks under       agreements for repurchase of such securities within 30       calendar days.6. All operations undertaken pursuant to the       preceding paragraphs shall be reported promptly to the       Foreign Currency Subcommittee and the Committee. The       Foreign Currency Subcommittee consists of the Chairman       and Vice Chairman of the Committee, the Vice Chairman       of the Board of Governors, and such other member of the       Board as the Chairman may designate (or in the absence       of members of the Board serving on the Subcommittee,       other Board Members designated by the Chairman as       alternates, and in the absence of the Vice Chairman of       the Committee, his alternate). Meetings of the       Subcommittee shall be called at the request of any       member, or at the request of the Manager of the System       Open Market Account, for the purposes of reviewing       recent or contemplated operations and of consulting       with the Manager on other matters relating to his       responsibilities. At the request of any member of the       Subcommittee, questions arising from such reviews and       consultations shall be referred for determination to       the Federal Open Market Committee.7. The Chairman is authorized:A. With the approval of the Committee, to enter         into any needed agreement or understanding with the         Secretary of the Treasury about the division of         responsibility for foreign currency operations between         the System and the Treasury;B. To keep the Secretary of the Treasury fully         advised concerning System foreign currency operations,         and to consult with the Secretary on policy matters         relating to foreign currency operations;C. From time to time, to transmit appropriate         reports and information to the National Advisory         Council on International Monetary and Financial         Policies.8. Staff officers of the Committee are authorized to       transmit pertinent information on System foreign       currency operations to appropriate officials of the       Treasury Department.9. All Federal Reserve Banks shall participate in the       foreign currency operations for System Account in       accordance with paragraph 3 G(1) of the Board of       Governors' Statement of Procedure with Respect to       Foreign Relationships of Federal Reserve Banks dated       January 1, 1944.By unanimous vote, the Foreign Currency Directive, as shown       below, was reaffirmed:1. System operations in foreign currencies shall       generally be directed at countering disorderly market       conditions, provided that market exchange rates for the       U. S. dollar reflect actions and behavior consistent       with the IMF Article IV, Section 1.2. To achieve this end the System shall:A. Undertake spot and forward purchases and sales         of foreign exchange.B. Maintain reciprocal currency (\"swap\")         arrangements with selected foreign central banks and         with the Bank for International Settlements.C. Cooperate in other respects with central banks       of other countries and with international monetary       institutions.3. Transactions may also be undertaken:A. To adjust System balances in light of probable         future needs for currencies.B. To provide means for meeting System and         Treasury commitments in particular currencies, and to         facilitate operations of the Exchange Stabilization         Fund.C. For such other purposes as may be expressly         authorized by the Committee.4. System foreign currency operations shall be       conducted:A. In close and continuous consultation and         cooperation with the United States Treasury;B. In cooperation, as appropriate, with foreign         monetary authorities; andC. In a manner consistent with the obligations of         the United States in the International Monetary Fund         regarding exchange arrangements under the IMF Article         IV.By unanimous vote, the Procedural Instructions with respect       to Foreign Currency Operations were amended to update the title of the       Manager of the System Open Market Account. The Procedural       Instructions, as amended, are shown below:In conducting operations pursuant to the       authorization and direction of the Federal Open Market       Committee as set forth in the Authorization for Foreign       Currency Operations and the Foreign Currency Directive,       the Federal Reserve Bank of New York, through the       Manager of the System Open Market Account (\"Manager\"),       shall be guided by the following procedural       understandings with respect to consultations and       clearance with the Committee, the Foreign Currency       Subcommittee, and the Chairman of the Committee. All       operations undertaken pursuant to such clearances shall       be reported promptly to the Committee.1. The Manager shall clear with the Subcommittee (or       with the Chairman, if the Chairman believes that       consultation with the Subcommittee is not feasible in       the time available):A. Any operation that would result in a change in         the System's overall open position in foreign         currencies exceeding $300 million on any day or $600         million since the most recent regular meeting of the         Committee.B. Any operation that would result in a change on         any day in the System's net position in a single         foreign currency exceeding $150 million, or $300         million when the operation is associated with repayment         of swap drawings.C. Any operation that might generate a         substantial volume of trading in a particular currency         by the System, even though the change in the System's         net position in that currency might be less than the         limits specified in 1B.D. Any swap drawing proposed by a foreign bank         not exceeding the larger of (i) $200 million or (ii) 15         percent of the size of the swap arrangement.2. The Manager shall clear with the Committee (or       with the Subcommittee, if the Subcommittee believes       that consultation with the full Committee is not       feasible in the time available, or with the Chairman,       if the Chairman believes that consultation with the       Subcommittee is not feasible in the time available):A. Any operation that would result in a change in         the System's overall open position in foreign         currencies exceeding $1.5 billion since the most recent         regular meeting of the Committee.B. Any swap drawing proposed by a foreign bank         exceeding the larger of (i) $200 million or (ii) 15         percent of the size of the swap arrangement.3. The Manager shall also consult with the       Subcommittee or the Chairman about proposed swap       drawings by the System, and about any operations that       are not of a routine character.The Report of Examination of the System Open Market Account,       conducted by the Board's Division of Reserve Bank Operations and       Payments Systems as of the close of business on July 31, 1992, was       accepted.By unanimous vote, the minutes of actions taken at the       meeting of the Federal Open Market Committee held on December 22,       1992, were approved.The Deputy Manager for Foreign Operations reported on       developments in foreign exchange markets during the period December       22, 1992, through February 2, 1993. There were no System open market       transactions in foreign currencies during this period, and thus no       vote was required of the Committee.The Manager of the System Open Market Account reported on       developments in domestic financial markets and on System open market       transactions in government securities and federal agency obligations       during the period December 22, 1992, through February 2, 1993. By       unanimous vote, the Committee ratified these transactions.The Committee then turned to a discussion of the economic       outlook, the ranges for the growth of money and debt in 1993, and the       implementation of monetary policy over the intermeeting period ahead.       A summary of the economic and financial information available at the       time of the meeting and of the Committee's discussion is provided       below, followed by the domestic policy directive that was approved by       the Committee and issued to the Federal Reserve Bank of New York.The information reviewed at this meeting indicated that       economic activity rose appreciably further in the fourth quarter.       Final demands were buoyed by strength in consumption, business       spending for durable equipment, and residential construction.       Manufacturing activity also increased considerably, and employment       appeared to be on a modest upward trajectory, despite a continuing       flow of announcements of layoffs by large corporations. Although       recent data on wages and prices had been mixed, on balance they       suggested that inflation was trending gradually lower.Total nonfarm payroll employment registered a small increase       in December for the fourth consecutive month. Service industries,       notably business and health services, and retail trade accounted for       nearly all of the rise in jobs. Manufacturing and construction       payrolls changed little, and government employment fell as temporary       election workers were dropped from payrolls. The civilian unemployment rate remained at 7.3 percent, almost 1/2 percentage point below       its mid-year peak but slightly above its level at the beginning of the       year.Industrial production advanced further in December and was up       considerably over the fourth quarter as a whole. Motor vehicle       assemblies rose sharply during the quarter; strong gains also were       registered in business equipment, partly reflecting a further jump in       output of computers, and in nondurable consumer goods. By contrast,       the production of durable consumer goods other than motor vehicles was       lower on balance after changing little over the third quarter, and the       output of defense and space equipment remained on a downward trend.       Total utilization of industrial capacity increased significantly in       the fourth quarter and for the year as a whole.Consumer spending was up substantially in the fourth quarter.       Retail sales, after rising sharply in October and changing little in       November, posted a further sizable increase in December. The largest       sales gains in the fourth quarter were reported at automotive dealers       and at building material and supply outlets, but most other types of       retail stores also recorded higher sales. By contrast, consumer       spending for services, as indicated by data on personal consumption       expenditures, rose more slowly. Housing starts surged in December,       with single family starts reaching their highest level in nearly three       years and multifamily starts picking up slightly from the very low       levels of October and November. Sales of new and existing homes       remained on a strong upward trend in December.Real outlays for business fixed investment apparently       registered a notable gain in the fourth quarter, particularly for       producers' durable equipment. Shipments of nondefense capital goods       rose in November and December after changing little in October; for       the quarter as a whole, shipments advanced substantially, with       increases widespread by category. Business purchases of cars and       trucks were up sharply in the fourth quarter, while nonresidential       construction activity retraced a small part of a third-quarter       decline.Business inventories expanded moderately in November as a       sizable drop in manufacturing inventories was more than offset by       increases in wholesale and retail inventories. At the manufacturing       level, the drawdown of stocks was associated with strong shipments of       durable goods, and inventory-to-shipments ratios in most industries       were at or near the bottom of their recent ranges. In the wholesale       sector, sizable inventory increases were reported in November for a       second straight month; most of the buildup was limited to machinery,       motor vehicles, and miscellaneous nondurable goods. With stocks       rising in line with sales since September, the stock-to-sales ratio in       wholesaling remained at the low end of its range over the past year.       Retail inventories increased moderately further in November; the       inventory-to-sales ratio for the sector was slightly below its average       for previous months of the year.The nominal U.S. merchandise trade deficit widened slightly       in November. For October and November together, however, the deficit       narrowed a little from its average rate in the third quarter, as the       value of exports rose more than the value of imports. Most of the       increase in exports was in capital goods, both machinery and aircraft,       and in consumer goods. Passenger cars accounted for a considerable       part of the rise in imports, while the inflow of consumer goods eased       from the very strong pace of the third quarter. Recent indicators       suggested that economic activity had remained weak in the major       foreign industrial countries and that unemployment rates had increased       further in most of those countries. The recovery in Canada appeared       to be continuing, but the downturn in western Germany and Japan       evidently had persisted into the fourth quarter.A small November decline in producer prices of finished       goods was reversed in December, with a rebound in prices of finished       foods outweighing a further drop in energy prices. For finished items       other than food and energy, producer prices rose in December, but the       advance followed six months of no change on balance; for 1992 as a       whole, this measure of prices increased by a considerably smaller       amount than in 1991. At the consumer level, the index for prices of       nonfood, non-energy items edged higher in December after somewhat       larger increases in the two preceding months. The rise in this index       in 1992 was the smallest for any year since the early 1970s, when wage       and price controls were in effect. Hourly compensation of private       industry workers advanced a little more rapidly in the fourth quarter       than in the two previous quarters, but the rise in total compensation       over the year as a whole was considerably smaller than in 1991. The       slowing of labor cost increases last year occurred in both the wages       and benefits components.At its meeting on December 22, the Committee adopted a       directive that called for maintaining the existing degree of pressure       on reserve positions and that did not include a presumption about the       likely direction of any adjustments to policy during the intermeeting       period. Accordingly, the directive indicated that in the context of       the Committee's long-run objectives for price stability and       sustainable economic growth, and giving careful consideration to       economic, financial, and monetary developments, slightly greater       reserve restraint or slightly lesser reserve restraint would be       acceptable during the intermeeting period. The reserve conditions       associated with this directive were expected to be consistent with       expansion of M2 at an annual rate of about 1-1/2 percent and with M3       remaining about unchanged on balance over the four-month period from       November through March.Open market operations during the intermeeting period were       directed toward maintaining the existing degree of pressure on reserve       positions. Adjustment plus seasonal borrowing was well above expected       levels in the first two full reserve maintenance periods in the       intermeeting interval; borrowing was sizable over the long New Year's       weekend and also later when unusually heavy Treasury tax receipts       drained reserves from the banking system. The federal funds rate       averaged close to expected levels over the intermeeting period.       However, the rate was somewhat volatile in late December as a result       of sizable swings in market factors affecting reserves and of shifting       market anticipations regarding year-end pressures.Most other short-term interest rates declined somewhat over       the intermeeting period, in part reflecting the passing of year-end       pressures. Intermediate- and long-term rates, including those on       fixed-rate mortgages, also moved somewhat lower; the declines occurred       in response to growing indications that any proposed near-term fiscal       stimulus would be quite moderate and that the new Administration       intended to recommend steps, possibly including new taxes, to lower       the trajectory of the fiscal deficit appreciably over time. Broad       indexes of stock prices exhibited mixed results over the intermeeting       period: Indexes giving heavy weight to large companies changed       little, while those primarily reflecting smaller companies rose       significantly.In foreign exchange markets, the trade-weighted value of the       dollar in terms of the other G-10 currencies rose on balance over the       intermeeting period. Through early January, the dollar appreciated       against both the yen and the mark, especially the latter, in response       to actual and expected further declines in interest rates in Japan and       Germany. Subsequently, the dollar's gains were partially erased as       the prospects for near-term easing in Germany diminished somewhat and       perceptions grew that fiscal initiatives in the United States would       lower the deficit and reduce the chances that monetary policy might be       tightened in the months ahead.After expanding at a moderate pace over the course of earlier       months, M2 contracted in December and January. Some of the weakness       reflected a slowdown in Ml growth associated with lower mortgage       refinancing activity. Within M2's nontransaction component, the       expansion of savings and money market deposit accounts slowed       abruptly, perhaps owing in part to the wider spread that had developed       during the fall between market rates and those paid on these accounts,       as well as to the use of monies in these accounts to fund a step-up in       consumer purchases and nonwithheld tax payments. In addition, the       continued attractiveness to investors of bond and stock mutual funds       might have contributed to a quickening of the runoff of holdings of       money market mutual funds and to the persisting weakness in other M2       accounts. Appreciable declines in M3 in December and January       reflected both the contraction in M2 and reduced needs by banks for       managed liabilities at a time of weak overall credit demand. From the       fourth quarter of 1991 to the fourth quarter of 1992, both M2 and M3       grew at rates somewhat below the lower ends of the Committee's annual       ranges. Total domestic nonfinancial debt appeared to have expanded at       the lower end of the Committee's monitoring range for 1992.The staff projection prepared for this meeting suggested that       economic activity would expand over the year ahead at a pace that       would be sufficient to reduce gradually margins of unemployed labor       and capital. Recent declines in long-term interest rates and more       optimistic attitudes on the part of businesses and households were       expected to support further solid gains in business fixed investment       and in homebuying. Continuing progress in reducing debt service       burdens and a gradual lessening of concerns regarding job security       were projected to foster an expansion of consumer spending a shade       faster than the growth in incomes. Export demand would be damped for       some period of time by the appreciation of the dollar since mid-1992,       but an anticipated pickup in growth abroad later this year would begin       to counteract the effects of the higher dollar. Against the       background of considerable uncertainties associated with still       unannounced fiscal policy initiatives, the staff retained for this       forecast the assumption contained in several previous forecasts that       fiscal policy would remain mildly restrictive, largely because of       declining defense outlays. The persisting slack in resource       utilization over the forecast horizon was expected to be associated       with some additional progress in reducing inflation.In the Committee's discussion of current and prospective       economic developments, the members were encouraged by the mounting       evidence of appreciable momentum in the economic expansion. On the       whole, recent developments tended to reinforce their forecasts of       continuing growth at a moderate pace over the year ahead, especially       in light of the improvement in business and consumer confidence. The       impact of some retarding influences on the expansion, notably various       balance sheet adjustment activities, appeared to be waning. In       addition, while some major sectors of the economy such as defense       spending and commercial construction remained weak, the economy was       benefitting from considerable growth in consumer spending, from rising       business expenditures for producer equipment, and from increasing       outlays for housing. In one view, the recent behavior of commodity       prices also tended to indicate some strengthening in the economy's       expansion. Despite various indications of a more firmly established       expansion, however, the members felt that the outlook remained subject       to a good deal of uncertainty, and some commented that substantial       deviations--in either direction--from their current forecasts could       not be ruled out. It was noted in this connection that the specifics       of the President's fiscal policy proposals were still unknown, and       their reception by the public and the Congress would have a major       influence on confidence, interest rates, and the performance of the       economy. Other sources of uncertainty related to the outlook for       further restructuring activities that involved cutbacks in operations       and employment by many firms, and the prospective lending policies of       banking institutions. With regard to the outlook for inflation, most       of the members believed that some further progress toward stable       prices was likely over the year ahead, given an economic outcome about       in line with their forecasts of continued, albeit reduced, margins of       unutilized or underutilized productive resources. Some members also       referred to the extended period of relatively sluggish growth in the       broad measures of money as a favorable indicator in the outlook for       inflation.In keeping with the practice at meetings when the Committee       establishes its long-run ranges for growth of the money and debt       aggregates, the Committee members and the Federal Reserve Bank       presidents not currently serving as members had prepared projections       of economic activity, the rate of unemployment, and inflation for       1993. The central tendencies of the forecasts pointed to slightly       faster economic growth this year than currently seemed to have       occurred in 1992. The anticipated rate of economic expansion would be       at a pace that was rapid enough to reduce the rate of unemployment a       little further. Nonetheless, with some slack in productive resources       persisting, price and cost pressures would remain subdued and modest       additional moderation in inflation was expected by most members.       Measured from the fourth quarter of 1992 to the fourth quarter of       1993, the forecasts for growth of real GDP had a central tendency of 3       to 3-1/4 percent within a full range of 2-1/2 to 4 percent. Projections of the civilian rate of unemployment in the fourth quarter of       1993 were concentrated in the upper half of a 6-1/2 to 7 percent       range.  For the  CPI, the central tendency of the forecasts for the        period from the  fourth quarter of 1992 to the fourth quarter of  1993        was  centered on  increases in  a range of 2-1/2 to  2-3/4 percent, and        for nominal GDP the forecasts were clustered in a range of 5-1/2 to 6       percent for the year.In the course of the Committee's discussion of various       factors underlying the outlook for economic activity, the members       observed that on the whole the effects of a number of structural       impediments to the expansion seemed to be diminishing as the financial       condition of households, business firms, and financial institutions       continued to improve. Household and business debt-service burdens had       eased substantially, but it remained difficult to predict to what       extent and for how long the ongoing balance sheet adjustments would       continue to divert an unusual proportion of cash flows from spending       to balance sheet repair. Improved profitability and new capital-market issuance had strengthened the capital positions of banking       institutions, and in general they were now in a much better position       to augment their lending activities. However, there were few       indications thus far of any easing in terms or standards on business       loans, and the depressed and uncertain values of commercial mortgages       and real estate held in bank portfolios might continue to exert an       inhibiting effect on the willingness of banks to lend. Another       negative factor was the persistence of downsizing and other       restructuring activities by numerous firms, notably large businesses.       Such restructuring activities had not fully run their course as many       firms continued to pare excess production capacity and to modernize       production facilities to meet strong competition in domestic and       foreign markets. The resulting layoffs had damped overall job growth.Despite tepid job growth, retail sales had strengthened       markedly during the closing months of 1992, and several members       commented that such sales had continued to display surprising vigor in       some parts of the country during the early weeks of 1993. Apart from       the improvement in consumer sentiment, other favorable factors cited       with regard to the outlook for consumer spending included lower debt-service burdens and the capital gains or enhanced cash flows now being       realized as sales of homes picked up and mortgage refinancings again       strengthened. Some members nonetheless expressed a degree of concern       about the sustainability of the gains in consumer spending unless       there were faster growth in employment and income to support such       spending. Announcements by prominent firms of cutbacks in their       workforces had continued into the new year, and while job gains at       other firms, especially smaller ones, were contributing to modest net       growth in overall employment, the publicity surrounding the persisting       job cutbacks and a tendency for many new jobs to be lower-paying added       an element of caution to the outlook for consumer expenditures. On       balance, with the measured saving rate already at a low level, though       an argument could be made that the actual rate was somewhat higher       than indicated by the currently published data, consumer spending       seemed likely to expand about in line with the growth in consumer       incomes over the coming year.The growth in consumer incomes in turn was likely to depend       importantly on the expansion in business investment spending, and       members cited a number of factors that were expected to provide a       favorable setting for sustained momentum in such spending over the       year ahead. These included the strengthening of final demands, the       recent declines in intermediate -and long-term interest rates, the       greater leeway for financial intermediaries to increase their lending       to businesses, and a continuing desire by business firms to improve       their operating efficiencies. Commercial construction activity,       however, was likely to remain quite sluggish. There were indications       that commercial real estate values had stabilized in a number of       areas, but at low levels, and given the persistence of marked       imbalances in numerous real estate markets that were the result of       several years of overbuilding, a significant rebound in commercial       building activity for the nation as a whole might well be several       years away. The outlook for housing construction was much more       promising. Against the background of a general upswing in consumer       confidence and the improved balance sheets of many households, the       declines that had occurred in mortgage interest rates had fostered a       marked strengthening in the demand for single-family housing as       evidenced by reports from many parts of the country as well as the       overall statistics on housing. On the basis of these developments,       the members anticipated a continuing impetus to the economic expansion       from housing construction and from related industries over the year       ahead. In addition, the current indications of generally lean       business inventories, associated in part with strong final demands       over the past several months, suggested that the prospects for further       gains in overall spending were likely to stimulate efforts by business       firms to build up inventories over the quarters ahead.The increasing signs of slow growth or recession in a number       of foreign nations represented a greater downside risk to the demand       for U.S. exports than had been apparent earlier. It was noted, for       example, that firms engaged in business activities abroad were       reporting substantial deterioration in markets for U.S. goods in many       foreign countries. Growth in U.S. exports might remain positive over       the year ahead, but against the background of a relatively expansive       U.S. economy and the dollar's recent appreciation, the value of       exports might well fall increasingly short of that of imports with       adverse effects on the growth of U.S. economic activity.Turning to the outlook for fiscal policy, members were       encouraged by the prospect that the President would soon propose a       program that would produce substantial reductions in the federal       deficit over the years ahead. Such a deficit-reduction program, if       deemed credible, could result in lower intermediate- and long-term       interest rates than would otherwise prevail--even before the program       was enacted--with very positive implications for interest-sensitive       expenditures. For the nearer term, the President was expected to       announce some modest fiscal stimulus relative to what was currently in       train. However, the specifics of the President's proposals were not       yet known and there was little current basis on which to judge       prospective public and Congressional reactions. Members emphasized       the critical need for long-term deficit reduction, and some expressed       concern about the adverse effects on financial markets if fiscal       stimulus measures were to be enacted for the short run without the       assurance of further legislation to cut federal deficits over time.With regard to the outlook for inflation, most of the members       anticipated that the trend toward lower price and wage inflation would       be sustained over the year ahead, and one member observed that the       disinflationary momentum in the economy might well be underestimated.       Favorable developments relating to the outlook for inflation included       evidence of slowing increases in labor costs and continued aggressive       efforts by many business firms to improve productivity and reduce       costs in the face of intense competition from domestic and foreign       producers. Indeed, anecdotal reports from around the country       continued to suggest little or no upward pressure on prices in many       regions. In addition, the behavior of interest rates in longer-term       debt markets was consistent with spreading expectations of gradually       diminishing inflation. Some members believed, however, that little or       no further progress in reducing inflation was a more likely outcome in       the year ahead, though none anticipated higher inflation. Some       commodity price indexes had edged higher recently, apparently in       response to growing demands related to strengthening activity in       several sectors of the economy. Lumber prices in particular had risen       considerably in conjunction with the uptrend in single-family housing       construction and various constraints on lumber supplies. Some       business contacts reported for the first time in a long while that       they were experiencing or anticipated some upward pressure on their       raw materials prices. Further, while most business contacts saw or       anticipated little or no upward pressure on prices in their own       industries, many continued to expect rising inflation more generally.       The still relatively steep slope of the yield curve and its       implications with regard to expectations of future increases in       interest rates also suggested that investors remained concerned about       the possibility of higher inflation over the longer run, even though       such concerns might have abated somewhat recently and did not appear       to extend to the next year or two. In general, however, the members       viewed the inflation outlook with considerable optimism on the       presumption of favorable fiscal and monetary policy developments.In keeping with the requirements of the Full Employment and       Balanced Growth Act of 1978 (the Humphrey-Hawkins Act), the Committee       at this meeting reviewed the ranges for growth of the monetary and       debt aggregates in 1993 that it had established on a tentative basis       at its meeting on June 30-July 1, 1992. The tentative ranges included       expansion of 2-1/2 to 6-1/2 percent for M2 and 1 to 5 percent for M3,       measured from the fourth quarter of 1992 to the fourth quarter of       1993. The monitoring range for growth of total domestic nonfinancial       debt had been set provisionally at 4-1/2 to 8-1/2 percent for 1993.       All of these ranges were unchanged from those that the Committee had       set for 1992 at its meeting in February of last year and had reaffirmed at mid-year. When the provisional ranges for money growth were       established, the Committee had noted that they were especially       tentative and subject to revision in the latter part of 1992 or early       1993 owing to the considerable uncertainty about the evolving       relationship of money to income.In the event, the velocities of M2 and M3 had increased       appreciably in the second half of 1992 and analysis of the factors       behind this development suggested further increases in the year ahead.       Consequently, in the Committee's discussion, which tended to focus on       M2, all the members indicated that they could support a proposal to       lower the tentative ranges for growth of the broad monetary aggregates       by one-half percentage point for 1993. At the same time, a number of       members indicated that they preferred somewhat different ranges       including the retention of the tentative ranges, lowering the ranges       by more than the proposal, and widening or narrowing them. All the       members were in firm agreement that the purpose of the proposed       reductions was not to signal or implement any change in monetary       policy or to convey any intention to move away from the Committee's       commitment to maximum sustainable economic expansion. Rather, the       reductions were motivated by the persistence of marked shortfalls in       the growth of M2 and M3 from their historical relationships with       various measures of aggregate economic performance; those shortfalls       appeared to be the technical result of forces that are altering the       relationship between money and income. Members of the Committee urged       that the Board's report to Congress and the Chairman's accompanying       testimony make clear the reasons for the unusual behavior of money and       its consequences for the Committee's choice of ranges.The deviations in monetary growth from historical norms       reflected a number of developments whose relative importance and       intensity had shifted to some extent over the course of recent years,       but in general they had served to rechannel funds away from depository       institutions, and the associated weakness in deposit growth had raised       velocity--the ratio of nominal GDP to money. The result was the need       for lower money growth than in the past to support a given rate of       income growth. Among the developments that had tended to retard the       relative growth of M2 and M3 was the unprecedented steepness of the       yield curve that had prompted large shifts of funds by savers from M2       accounts to higher-yielding intermediate- and long-term assets. At       the same time, credit growth at bank and thrift depository       institutions had been weak, partly as a result of efforts by these       institutions to improve capital and liquidity positions, and partly       owing to weak demand. As a consequence, they also had maintained       relatively low offering rates on deposits that had provided consumers       with an incentive to reduce or hold down their deposit holdings in       order to pay down relatively high cost mortgages and other debts. In       1992, sluggish growth of M2 and M3 had been associated with a       considerable acceleration in nominal spending. Indeed, despite growth       of both M2 and M3 at rates below the Committee's ranges, the expansion       of the economy had exceeded most forecasts.The members generally anticipated that the intensity of these       forces might diminish in 1993 as borrowers and lending institutions       achieved more comfortable balance sheet positions. Nonetheless, the       relative weakness in money growth was seen as likely to persist to a       marked extent. The yield curve, while it had flattened a bit       recently, was still expected to provide a considerable incentive for       many savers to shift funds out of M2 assets, especially as relatively       high-yielding time deposits continued to mature. In addition, banks       were likely to remain generally unaggressive in bidding for deposits,       in part because their substantial earlier acquisitions of securities       would permit them to accommodate some of the anticipated growth in       loan demand by selling securities or limiting purchases. In these       circumstances, restrained money growth seemed likely to remain       consistent with relative strength in the economic expansion.The members recognized that the strength of the factors that       were expected to continue to depress broad money growth in relation to       income in 1993 was still subject to considerable uncertainty, and this       implied the need for flexibility in assessing the implications of       money growth relative to the Committee's ranges. Should the factors       influencing the behavior of the broad aggregates persist in holding       down money growth to the extent seen in 1992, expansion of M2 and M3       in the lower portion of their reduced ranges would be consistent with       considerable further growth in nominal spending. Indeed, a shortfall       from the reduced ranges could not be ruled out, and one member felt       that the potential for such a development warranted consideration of a       somewhat larger reduction in the M2 range; such a reduction also would       signal more clearly the Committee's commitment to price stability. On       the other hand, the upper portions of the reduced ranges would still       accommodate an ample provision of liquidity to support further       economic expansion even if the growth of money and of income were to       move toward an historically more normal alignment and velocity were to       slow from its high rate of increase. In one view, widening the       tentative M2 range by reducing its lower limit while retaining its       upper limit would help the Committee to convey its views regarding the       potential for a continuing but acceptable sluggishness in M2 growth       while leaving room for the possibility of faster M2 expansion should       changing circumstances foster diminishing strength in velocity.       Another member expressed a preference for narrowing the tentative       range by lowering only its upper limit as a means of signaling the       Committee's intent to resist both inflationary and recessionary       developments. In light of the uncertainties that were involved, the       informational content of the aggregates probably had diminished and in       any event the Committee would need to continue to evaluate monetary       growth developments in the context of a careful assessment of a wide       variety of other financial, economic, and price developments. In this       connection, one member observed that the uncertainties were of such a       magnitude that, while plausible arguments could be made for a number       of different ranges, retention of the tentative ranges would be       appropriate in light of the Committee's willingness to review the       ranges in the event that unanticipated developments were to unfold.All of the members agreed that it would be desirable to       retain the monitoring range of 4-1/2 to 8-1/2 percent that the       Committee had established on a provisional basis for the growth of       total domestic nonfinancial debt in 1993. The expansion in such debt       had not been damped by special forces to the same extent as the broad       monetary aggregates in 1992. Over the year ahead, growth in the       federal debt was likely to remain substantial, and the expansion of       debt in the nonfederal sectors was projected to accelerate somewhat       given the continued improvement in borrower balance sheets and an       anticipated increase in the willingness of financial institutions to       lend as the economy continued to expand. Nonetheless, in the context       of still cautious attitudes on the part of both borrowers and lenders,       the growth of nonfederal debt probably would remain below that of       nominal GDP in the year ahead.At the conclusion of the Committee's discussion, all of the       members indicated that they favored or could accept a technical       downward adjustment of one-half percentage point in the tentative       ranges for the broader monetary aggregates for 1993 to rates of 2 to 6       percent for M2 and 1/2 to 4-1/2 percent for M3. It was agreed that       there should be no change from the tentative range for total domestic       nonfinancial debt. In keeping with the Committee's usual procedures       under the Humphrey-Hawkins Act, the ranges would be reviewed at       midyear, or sooner if deemed necessary, in light of the growth and       velocity behavior of the aggregates and ongoing economic and financial       developments. Accordingly, by unanimous vote, the following longer-run policy for 1993 was approved by the Committee for inclusion in the       domestic policy directive:The Federal Open Market Committee seeks monetary         and financial conditions that will foster price stability and promote sustainable growth in output. In         furtherance of these objectives, the Committee at this         meeting established ranges for growth of M2 and M3 of         2 to 6 percent and 1/2 to 4-1/2 percent respectively,         measured from the fourth quarter of 1992 to the fourth         quarter of 1993. The Committee expects that developments contributing to unusual velocity increases are         likely to persist during the year. The monitoring         range for growth of total domestic nonfinancial debt         was set at 4-1/2 to 8-1/2 percent for the year. The         behavior of the monetary aggregates will continue to be         evaluated in the light of progress toward price level         stability, movements in their velocities, and         developments in the economy and financial markets.Turning to policy for the intermeeting period ahead, all of the       members endorsed a proposal to maintain unchanged conditions in       reserve markets, and all indicated that they could accept a directive       that did not incorporate any presumption with regard to the likely       direction of possible intermeeting adjustments to policy. While there       was concern about the weakness in the monetary aggregates, the members       generally agreed that recent economic developments tended to reinforce       the view that monetary policy was on an appropriate course. The       economy seemed to be on a stronger growth track than earlier in the       expansion, and inflation remained quite subdued--only a bit above some       estimates of price stability--and likely to moderate further in coming       quarters in the view of most members. Some commented that a further       easing move at this juncture might well have adverse effects on       inflation sentiment and on interest rates in intermediate- and long-term debt markets. A few referred to the recent firming in some       commodity prices and the consensus among private forecasters that       inflation could drift higher over the next few years. In the view of       one member, these developments might argue for a tilt in the directive       toward possible restraint, but they did not call for an immediate       tightening in reserve conditions.A staff analysis prepared for this meeting suggested a resumption       of some growth in the broad measures of money later in the first       quarter but a decline in both M2 and M3 for the quarter as a whole.       While part of the declines appeared to reflect difficulties       with seasonal adjustments and the ebbing of special factors that       previously had boosted growth, the uncertainties surrounding the       behavior of these aggregates tended to reduce their role in current       monetary policy. Nevertheless, there was concern about the       persisting weakness in the broad aggregates, including the likelihood       that they would fall well short of the Committee's new ranges over the       first part of the year. Some members also noted that the growth of       Ml, while still fairly robust in December and January, was markedly       below its pace over most of 1992. On the other hand, bank loans had       increased in recent months, and the weakness in the monetary       aggregates did not appear to reflect underlying softness in the       economy. In these circumstances, a number of members believed that       any effort to stimulate monetary growth under immediately prevailing       economic conditions and market expectations might well prove to be       counterproductive. An easing at this time could accelerate outflows       from interest-sensitive M2 assets if the easing were seen as signaling       a weakening of the System's anti-inflationary resolve and were to       result in higher rates on intermediate- and long-term debt securities.At the conclusion of the Committee's discussion, all of the       members indicated that they favored a directive that called for       maintaining the existing degree of pressure on reserve positions.       They also noted their preference for, or acceptance of, a directive       that did not include a presumption about the likely direction of any       adjustment to policy over the intermeeting period. Accordingly, in       the context of the Committee's long-run objectives for price stability       and sustainable economic growth, and giving careful consideration to       economic, financial, and monetary developments, the Committee decided       that slightly greater or slightly lesser reserve restraint would be       acceptable during the intermeeting period. The reserve conditions       contemplated at this meeting were expected to be consistent with       little change in the levels of M2 and M3 over the two-month period       from January through March.By unanimous vote, the Federal Reserve Bank of New York was       authorized and directed, until otherwise directed by the Committee, to       execute transactions in the System Account in accordance with the       following domestic policy directive:The information reviewed at this meeting indicates         that economic activity rose appreciably further in the         fourth quarter. Total nonfarm payroll employment         registered another small increase in December, and the         civilian unemployment rate remained at 7.3 percent.         Industrial production posted solid gains over the         closing months of the year. Retail sales were up         substantially in the fourth quarter, and residential         construction activity increased sharply. Indicators of         business fixed investment suggest a notable gain in         recent months, particularly for producers' durable         equipment. The nominal U.S. merchandise trade deficit         narrowed slightly in October-November from its average         rate in the third quarter. Recent data on wages and         prices have been mixed but they continue to suggest on         balance a trend toward lower inflation.Interest rates have declined somewhat since the         Committee meeting on December 22. In foreign exchange         markets, the trade-weighted value of the dollar in         terms of the other G-10 currencies rose on balance over         the intermeeting period.M2 appears to have contracted in December and         January, after expanding at a moderate pace over the         course of previous months; M3 is estimated to have         declined appreciably in both months. From the fourth         quarter of 1991 to the fourth quarter of 1992, both M2         and M3 grew at rates somewhat below the lower ends of         the Committee's annual ranges for 1992. Total domestic         nonfinancial debt appears to have expanded at the lower         end of the Committee's monitoring range for the year.The Federal Open Market Committee seeks monetary         and financial conditions that will foster price stability and promote sustainable growth in output. In         furtherance of these objectives, the Committee at this         meeting established ranges for growth of M2 and M3 of         2 to 6 percent and 1/2 to 4-1/2 percent respectively,         measured from the fourth quarter of 1992 to the fourth         quarter of 1993. The Committee expects that developments contributing to unusual velocity increases are         likely to persist during the year. The monitoring         range for growth of total domestic nonfinancial debt         was set at 4-1/2 to 8-1/2 percent for the year. The         behavior of the monetary aggregates will continue to be         evaluated in the light of progress toward price level         stability, movements in their velocities, and         developments in the economy and financial markets.In the implementation of policy for the immediate         future, the Committee seeks to maintain the existing         degree of pressure on reserve positions. In the         context of the Committee's long-run objectives for         price stability and sustainable economic growth, and         giving careful consideration to economic, financial,         and monetary developments, slightly greater reserve         restraint or slightly lesser reserve restraint would be         acceptable in the intermeeting period. The contemplated reserve conditions are expected to be consistent         with little change in M2 and M3 over the period from         January to March.At this meeting the Committee discussed a preliminary report of a       subcommittee that had been established to examine various issues       relating to the release of information about Committee meetings and       decisions. All of the members agreed that the Committee should keep       the public as fully informed as possible about its monetary policy       decisions and their rationale. Such information could reduce       uncertainty about the stance of policy and about the factors the       Committee takes into account in reaching its decisions. However,       release of information should not be allowed to compromise the       overriding objective of making and implementing the best possible       decisions. In that regard, the Committee noted that its deliberative       process requires a free flow of ideas, including the ability to       advance or question hypotheses, to speculate on alternative outcomes,       and to change opinions in response to the views expressed by other       members. The members also needed to feel at liberty during meetings       to use a wide array of information that is obtained on a confidential       basis; at least some of that information would no longer be provided       to the Committee if there were a risk of public disclosure. Moreover,       the Committee wanted to give further consideration to the risk that       the adoption of a different schedule for releasing information about       policy decisions might have the effect, in difficult circumstances, of       reducing its willingness to make needed policy adjustments promptly.       No decisions were made at this meeting concerning various options for       apprising the public more fully or promptly of the Committee's       actions, and it was understood that the subcommittee would continue to       study the matter.It was agreed that the next meeting of the Committee would be       held on Tuesday, March 23, 1993.The meeting adjourned.SecretaryReturn to topFOMC\n"
     ]
    }
   ],
   "source": [
    "print(df.contents.iloc[0])"
   ]
  },
  {
   "cell_type": "code",
   "execution_count": 113,
   "id": "fd0843f7",
   "metadata": {
    "ExecuteTime": {
     "end_time": "2022-03-11T13:01:40.951085Z",
     "start_time": "2022-03-11T13:01:40.928756Z"
    }
   },
   "outputs": [
    {
     "name": "stdout",
     "output_type": "stream",
     "text": [
      "<class 'pandas.core.frame.DataFrame'>\n",
      "RangeIndex: 224 entries, 0 to 223\n",
      "Data columns (total 21 columns):\n",
      " #   Column      Non-Null Count  Dtype         \n",
      "---  ------      --------------  -----         \n",
      " 0   Unnamed: 0  224 non-null    int64         \n",
      " 1   date        224 non-null    datetime64[ns]\n",
      " 2   contents    224 non-null    object        \n",
      " 3   speaker     224 non-null    object        \n",
      " 4   title       224 non-null    object        \n",
      " 5   SPY: d-1    223 non-null    float64       \n",
      " 6   SPY: d+0    223 non-null    float64       \n",
      " 7   SPY: d+1    223 non-null    float64       \n",
      " 8   SPY: d+2    223 non-null    float64       \n",
      " 9   SPY: d+3    223 non-null    float64       \n",
      " 10  SPY: d+4    223 non-null    float64       \n",
      " 11  SPY: d+5    223 non-null    float64       \n",
      " 12  SPY: d+6    223 non-null    float64       \n",
      " 13  SPY: d+7    223 non-null    float64       \n",
      " 14  SPY: d+8    223 non-null    float64       \n",
      " 15  SPY: d+9    223 non-null    float64       \n",
      " 16  SPY: d+10   223 non-null    float64       \n",
      " 17  SPY: d+11   223 non-null    float64       \n",
      " 18  SPY: d+12   223 non-null    float64       \n",
      " 19  SPY: d+13   223 non-null    float64       \n",
      " 20  SPY: d+14   223 non-null    float64       \n",
      "dtypes: datetime64[ns](1), float64(16), int64(1), object(3)\n",
      "memory usage: 36.9+ KB\n"
     ]
    }
   ],
   "source": [
    "df.info()"
   ]
  },
  {
   "cell_type": "markdown",
   "id": "938fae83",
   "metadata": {},
   "source": [
    "# Preprocessing"
   ]
  },
  {
   "cell_type": "code",
   "execution_count": 114,
   "id": "3adf3716",
   "metadata": {
    "ExecuteTime": {
     "end_time": "2022-03-11T13:01:41.230946Z",
     "start_time": "2022-03-11T13:01:41.225942Z"
    }
   },
   "outputs": [
    {
     "name": "stderr",
     "output_type": "stream",
     "text": [
      "[nltk_data] Downloading package wordnet to\n",
      "[nltk_data]     C:\\Users\\chriq\\AppData\\Roaming\\nltk_data...\n",
      "[nltk_data]   Package wordnet is already up-to-date!\n"
     ]
    },
    {
     "data": {
      "text/plain": [
       "True"
      ]
     },
     "execution_count": 114,
     "metadata": {},
     "output_type": "execute_result"
    }
   ],
   "source": [
    "import gensim\n",
    "from gensim.utils import simple_preprocess\n",
    "from gensim.parsing.preprocessing import STOPWORDS\n",
    "from nltk.stem import WordNetLemmatizer, SnowballStemmer\n",
    "from nltk.stem.porter import *\n",
    "import numpy as np\n",
    "np.random.seed(2018)\n",
    "import nltk\n",
    "nltk.download('wordnet')"
   ]
  },
  {
   "cell_type": "code",
   "execution_count": 115,
   "id": "1a336786",
   "metadata": {
    "ExecuteTime": {
     "end_time": "2022-03-11T13:01:41.651641Z",
     "start_time": "2022-03-11T13:01:41.635637Z"
    }
   },
   "outputs": [],
   "source": [
    "stemmer = SnowballStemmer('english')"
   ]
  },
  {
   "cell_type": "code",
   "execution_count": 116,
   "id": "5c1e1d71",
   "metadata": {
    "ExecuteTime": {
     "end_time": "2022-03-11T13:01:41.789459Z",
     "start_time": "2022-03-11T13:01:41.783455Z"
    }
   },
   "outputs": [],
   "source": [
    "def lemmatize_stemming(text):\n",
    "    return stemmer.stem(text)\n",
    "def preprocess(text):\n",
    "    result = []\n",
    "    for token in gensim.utils.simple_preprocess(text):\n",
    "        if token not in gensim.parsing.preprocessing.STOPWORDS and len(token) > 3:\n",
    "            result.append(lemmatize_stemming(token))\n",
    "    return result"
   ]
  },
  {
   "cell_type": "code",
   "execution_count": 117,
   "id": "bdbca1d6",
   "metadata": {
    "ExecuteTime": {
     "end_time": "2022-03-11T13:01:42.084374Z",
     "start_time": "2022-03-11T13:01:42.079383Z"
    }
   },
   "outputs": [],
   "source": [
    "def preprocessing(text):\n",
    "    # 1. Tokenization: text preprocessing step, which assumes splitting text into tokens\n",
    "    ret = nltk.word_tokenize(text)  # TODO: discuss if tokenizing on sentence level also makes sense\n",
    "    # 2. Cleaning: remove punctuation\n",
    "    ret = [t for t in ret if t not in string.punctuation]\n",
    "    # 3. Stop words removal\n",
    "    stop_words = set(nltk.corpus.stopwords.words('english'))\n",
    "    ret = [t for t in ret if t.lower() not in stop_words]\n",
    "    # 4. Lemmatization\n",
    "    lemmatizer = nltk.stem.WordNetLemmatizer()\n",
    "    ret = [lemmatizer.lemmatize(t) for t in ret]\n",
    "    return ret"
   ]
  },
  {
   "cell_type": "code",
   "execution_count": 118,
   "id": "7c3c3930",
   "metadata": {
    "ExecuteTime": {
     "end_time": "2022-03-11T13:01:52.868201Z",
     "start_time": "2022-03-11T13:01:42.527497Z"
    }
   },
   "outputs": [
    {
     "data": {
      "text/plain": [
       "0      [meet, feder, open, market, committe, held, of...\n",
       "1      [meet, feder, open, market, committe, held, of...\n",
       "2      [meet, feder, open, market, committe, held, of...\n",
       "3      [meet, feder, open, market, committe, held, of...\n",
       "4      [meet, feder, open, market, committe, held, of...\n",
       "                             ...                        \n",
       "219    [feder, reserv, central, bank, unit, state, pr...\n",
       "220    [feder, reserv, central, bank, unit, state, pr...\n",
       "221    [feder, reserv, central, bank, unit, state, pr...\n",
       "222    [feder, reserv, central, bank, unit, state, pr...\n",
       "223    [feder, reserv, central, bank, unit, state, pr...\n",
       "Name: contents, Length: 224, dtype: object"
      ]
     },
     "execution_count": 118,
     "metadata": {},
     "output_type": "execute_result"
    }
   ],
   "source": [
    "processed_docs = df['contents'].map(preprocess)\n",
    "processed_docs"
   ]
  },
  {
   "cell_type": "code",
   "execution_count": 119,
   "id": "e124568d",
   "metadata": {
    "ExecuteTime": {
     "end_time": "2022-03-11T13:01:55.241035Z",
     "start_time": "2022-03-11T13:01:54.980055Z"
    }
   },
   "outputs": [
    {
     "name": "stdout",
     "output_type": "stream",
     "text": [
      "0 abat\n",
      "1 abil\n",
      "2 abroad\n",
      "3 abrupt\n",
      "4 absenc\n",
      "5 acceler\n",
      "6 accept\n",
      "7 accommod\n",
      "8 accompani\n",
      "9 accord\n",
      "10 account\n"
     ]
    }
   ],
   "source": [
    "dictionary = gensim.corpora.Dictionary(processed_docs)\n",
    "count = 0\n",
    "for k, v in dictionary.iteritems():\n",
    "    print(k, v)\n",
    "    count += 1\n",
    "    if count > 10:\n",
    "        break"
   ]
  },
  {
   "cell_type": "code",
   "execution_count": 120,
   "id": "100f3fea",
   "metadata": {
    "ExecuteTime": {
     "end_time": "2022-03-11T13:01:56.080338Z",
     "start_time": "2022-03-11T13:01:56.058363Z"
    }
   },
   "outputs": [],
   "source": [
    "dictionary.filter_extremes(no_below=15, no_above=0.5, keep_n=100000)"
   ]
  },
  {
   "cell_type": "code",
   "execution_count": 121,
   "id": "ce7704f8",
   "metadata": {
    "ExecuteTime": {
     "end_time": "2022-03-11T13:01:57.367977Z",
     "start_time": "2022-03-11T13:01:56.838563Z"
    }
   },
   "outputs": [
    {
     "data": {
      "text/plain": [
       "[(0, 1),\n",
       " (17, 1),\n",
       " (18, 3),\n",
       " (19, 1),\n",
       " (25, 1),\n",
       " (27, 1),\n",
       " (31, 1),\n",
       " (35, 1),\n",
       " (39, 2),\n",
       " (41, 2),\n",
       " (43, 1),\n",
       " (45, 1),\n",
       " (46, 1),\n",
       " (47, 1),\n",
       " (49, 1),\n",
       " (53, 1),\n",
       " (64, 1),\n",
       " (65, 2),\n",
       " (71, 1),\n",
       " (74, 1),\n",
       " (77, 1),\n",
       " (81, 2),\n",
       " (97, 2),\n",
       " (102, 2),\n",
       " (104, 1),\n",
       " (106, 1),\n",
       " (107, 1),\n",
       " (108, 1),\n",
       " (111, 1),\n",
       " (123, 1),\n",
       " (134, 1),\n",
       " (139, 1),\n",
       " (142, 1),\n",
       " (143, 1),\n",
       " (145, 2),\n",
       " (146, 1),\n",
       " (149, 2),\n",
       " (152, 1),\n",
       " (155, 3),\n",
       " (156, 1),\n",
       " (164, 1),\n",
       " (166, 1),\n",
       " (168, 3),\n",
       " (170, 1),\n",
       " (171, 2),\n",
       " (173, 1),\n",
       " (174, 1),\n",
       " (175, 1),\n",
       " (182, 3),\n",
       " (186, 3),\n",
       " (198, 1),\n",
       " (199, 1),\n",
       " (200, 1),\n",
       " (204, 2),\n",
       " (205, 1),\n",
       " (206, 2),\n",
       " (210, 1),\n",
       " (211, 1),\n",
       " (221, 1),\n",
       " (224, 1),\n",
       " (227, 1),\n",
       " (232, 1),\n",
       " (234, 1),\n",
       " (235, 1),\n",
       " (245, 1),\n",
       " (249, 2),\n",
       " (255, 1),\n",
       " (259, 1),\n",
       " (267, 2),\n",
       " (269, 1),\n",
       " (271, 1),\n",
       " (278, 1),\n",
       " (281, 1),\n",
       " (290, 1),\n",
       " (294, 1),\n",
       " (299, 3),\n",
       " (305, 2),\n",
       " (308, 1),\n",
       " (312, 1),\n",
       " (314, 1),\n",
       " (317, 1),\n",
       " (318, 2),\n",
       " (328, 1),\n",
       " (332, 1),\n",
       " (333, 1),\n",
       " (334, 1),\n",
       " (343, 1),\n",
       " (346, 2),\n",
       " (347, 1),\n",
       " (356, 1),\n",
       " (357, 1),\n",
       " (360, 1),\n",
       " (365, 1),\n",
       " (373, 4),\n",
       " (375, 3),\n",
       " (377, 1),\n",
       " (380, 1),\n",
       " (381, 1),\n",
       " (390, 3),\n",
       " (393, 1),\n",
       " (394, 1),\n",
       " (397, 1),\n",
       " (398, 1),\n",
       " (408, 3),\n",
       " (410, 1),\n",
       " (411, 1),\n",
       " (412, 1),\n",
       " (418, 1),\n",
       " (421, 1),\n",
       " (424, 2),\n",
       " (425, 1),\n",
       " (426, 1),\n",
       " (433, 2),\n",
       " (435, 1),\n",
       " (437, 1),\n",
       " (442, 1),\n",
       " (446, 2),\n",
       " (448, 1),\n",
       " (451, 2),\n",
       " (459, 2),\n",
       " (460, 1),\n",
       " (462, 1),\n",
       " (464, 1),\n",
       " (466, 1),\n",
       " (467, 2),\n",
       " (470, 1),\n",
       " (471, 1),\n",
       " (474, 1),\n",
       " (479, 1),\n",
       " (482, 1),\n",
       " (497, 1),\n",
       " (505, 1),\n",
       " (510, 1),\n",
       " (513, 1),\n",
       " (518, 2),\n",
       " (523, 1),\n",
       " (531, 2),\n",
       " (536, 2),\n",
       " (539, 1),\n",
       " (540, 23),\n",
       " (541, 1),\n",
       " (543, 3),\n",
       " (549, 2),\n",
       " (555, 1),\n",
       " (557, 2),\n",
       " (558, 1),\n",
       " (563, 1),\n",
       " (564, 1),\n",
       " (568, 1),\n",
       " (572, 1),\n",
       " (574, 1),\n",
       " (577, 2),\n",
       " (589, 1),\n",
       " (590, 1),\n",
       " (591, 2),\n",
       " (592, 2),\n",
       " (594, 1),\n",
       " (596, 2),\n",
       " (601, 2),\n",
       " (603, 2),\n",
       " (610, 1),\n",
       " (611, 2),\n",
       " (613, 1),\n",
       " (623, 1),\n",
       " (624, 2),\n",
       " (631, 1),\n",
       " (632, 2),\n",
       " (634, 1),\n",
       " (654, 1),\n",
       " (655, 2),\n",
       " (657, 2),\n",
       " (658, 1),\n",
       " (660, 1),\n",
       " (667, 3),\n",
       " (673, 1),\n",
       " (676, 1),\n",
       " (680, 1),\n",
       " (690, 1),\n",
       " (696, 1),\n",
       " (703, 1),\n",
       " (720, 1),\n",
       " (726, 9),\n",
       " (731, 2),\n",
       " (732, 1),\n",
       " (740, 1),\n",
       " (746, 1),\n",
       " (751, 1),\n",
       " (758, 1),\n",
       " (759, 1),\n",
       " (760, 1),\n",
       " (764, 1),\n",
       " (769, 1),\n",
       " (772, 1),\n",
       " (778, 1),\n",
       " (795, 1),\n",
       " (798, 1),\n",
       " (801, 1),\n",
       " (810, 1),\n",
       " (811, 1),\n",
       " (813, 1),\n",
       " (815, 1),\n",
       " (822, 1),\n",
       " (828, 1),\n",
       " (831, 1),\n",
       " (840, 1),\n",
       " (847, 1),\n",
       " (852, 1),\n",
       " (859, 1),\n",
       " (860, 1),\n",
       " (866, 7),\n",
       " (867, 1),\n",
       " (870, 1),\n",
       " (871, 1),\n",
       " (876, 1),\n",
       " (881, 1),\n",
       " (895, 1),\n",
       " (901, 1),\n",
       " (904, 1),\n",
       " (907, 1),\n",
       " (909, 1),\n",
       " (917, 1),\n",
       " (918, 2),\n",
       " (922, 1),\n",
       " (929, 1),\n",
       " (942, 1),\n",
       " (947, 1),\n",
       " (950, 1),\n",
       " (951, 1),\n",
       " (970, 1),\n",
       " (998, 1),\n",
       " (1012, 1),\n",
       " (1015, 1),\n",
       " (1019, 1),\n",
       " (1035, 1),\n",
       " (1040, 1),\n",
       " (1045, 1),\n",
       " (1054, 1),\n",
       " (1057, 2),\n",
       " (1058, 1),\n",
       " (1062, 1),\n",
       " (1068, 1),\n",
       " (1069, 1),\n",
       " (1073, 3),\n",
       " (1076, 1),\n",
       " (1080, 1),\n",
       " (1086, 1),\n",
       " (1087, 1),\n",
       " (1088, 1),\n",
       " (1089, 1)]"
      ]
     },
     "execution_count": 121,
     "metadata": {},
     "output_type": "execute_result"
    }
   ],
   "source": [
    "bow_corpus = [dictionary.doc2bow(doc) for doc in processed_docs]\n",
    "bow_corpus[43]"
   ]
  },
  {
   "cell_type": "code",
   "execution_count": 122,
   "id": "288b9eba",
   "metadata": {
    "ExecuteTime": {
     "end_time": "2022-03-11T13:01:58.196892Z",
     "start_time": "2022-03-11T13:01:58.176894Z"
    }
   },
   "outputs": [
    {
     "name": "stdout",
     "output_type": "stream",
     "text": [
      "Word 0 (\"abat\") appears 1 time.\n",
      "Word 17 (\"amend\") appears 1 time.\n",
      "Word 18 (\"ampl\") appears 3 time.\n",
      "Word 19 (\"analysi\") appears 1 time.\n",
      "Word 25 (\"aris\") appears 1 time.\n",
      "Word 27 (\"array\") appears 1 time.\n",
      "Word 31 (\"assumpt\") appears 1 time.\n",
      "Word 35 (\"attract\") appears 1 time.\n",
      "Word 39 (\"banker\") appears 2 time.\n",
      "Word 41 (\"behavior\") appears 2 time.\n",
      "Word 43 (\"best\") appears 1 time.\n",
      "Word 45 (\"boehn\") appears 1 time.\n",
      "Word 46 (\"broaddus\") appears 1 time.\n",
      "Word 47 (\"broader\") appears 1 time.\n",
      "Word 49 (\"buoy\") appears 1 time.\n",
      "Word 53 (\"canadian\") appears 1 time.\n",
      "Word 64 (\"choic\") appears 1 time.\n",
      "Word 65 (\"civilian\") appears 2 time.\n",
      "Word 71 (\"concentr\") appears 1 time.\n",
      "Word 74 (\"congression\") appears 1 time.\n",
      "Word 77 (\"consecut\") appears 1 time.\n",
      "Word 81 (\"contempl\") appears 2 time.\n",
      "Word 97 (\"deal\") appears 2 time.\n",
      "Word 102 (\"delay\") appears 2 time.\n",
      "Word 104 (\"deliveri\") appears 1 time.\n",
      "Word 106 (\"depositori\") appears 1 time.\n",
      "Word 107 (\"design\") appears 1 time.\n",
      "Word 108 (\"deterior\") appears 1 time.\n",
      "Word 111 (\"dewald\") appears 1 time.\n",
      "Word 123 (\"drain\") appears 1 time.\n",
      "Word 134 (\"element\") appears 1 time.\n",
      "Word 139 (\"enhanc\") appears 1 time.\n",
      "Word 142 (\"ettin\") appears 1 time.\n",
      "Word 143 (\"evalu\") appears 1 time.\n",
      "Word 145 (\"evidenc\") appears 2 time.\n",
      "Word 146 (\"evolv\") appears 1 time.\n",
      "Word 149 (\"exert\") appears 2 time.\n",
      "Word 152 (\"face\") appears 1 time.\n",
      "Word 155 (\"felt\") appears 3 time.\n",
      "Word 156 (\"finish\") appears 1 time.\n",
      "Word 164 (\"french\") appears 1 time.\n",
      "Word 166 (\"further\") appears 1 time.\n",
      "Word 168 (\"german\") appears 3 time.\n",
      "Word 170 (\"gillum\") appears 1 time.\n",
      "Word 171 (\"give\") appears 2 time.\n",
      "Word 173 (\"goodfriend\") appears 1 time.\n",
      "Word 174 (\"greenspan\") appears 1 time.\n",
      "Word 175 (\"grew\") appears 1 time.\n",
      "Word 182 (\"heavi\") appears 3 time.\n",
      "Word 186 (\"imbal\") appears 3 time.\n",
      "Word 198 (\"intent\") appears 1 time.\n",
      "Word 199 (\"interv\") appears 1 time.\n",
      "Word 200 (\"involv\") appears 1 time.\n",
      "Word 204 (\"japanes\") appears 2 time.\n",
      "Word 205 (\"job\") appears 1 time.\n",
      "Word 206 (\"jordan\") appears 2 time.\n",
      "Word 210 (\"kelley\") appears 1 time.\n",
      "Word 211 (\"lang\") appears 1 time.\n",
      "Word 221 (\"lesser\") appears 1 time.\n",
      "Word 224 (\"lindsey\") appears 1 time.\n",
      "Word 227 (\"machineri\") appears 1 time.\n",
      "Word 232 (\"mat\") appears 1 time.\n",
      "Word 234 (\"mcdonough\") appears 1 time.\n",
      "Word 235 (\"mcteer\") appears 1 time.\n",
      "Word 245 (\"momentum\") appears 1 time.\n",
      "Word 249 (\"nondur\") appears 2 time.\n",
      "Word 255 (\"offer\") appears 1 time.\n",
      "Word 259 (\"optim\") appears 1 time.\n",
      "Word 267 (\"owe\") appears 2 time.\n",
      "Word 269 (\"paragraph\") appears 1 time.\n",
      "Word 271 (\"parri\") appears 1 time.\n",
      "Word 278 (\"percept\") appears 1 time.\n",
      "Word 281 (\"phillip\") appears 1 time.\n",
      "Word 290 (\"prell\") appears 1 time.\n",
      "Word 294 (\"procedur\") appears 1 time.\n",
      "Word 299 (\"prove\") appears 3 time.\n",
      "Word 305 (\"question\") appears 2 time.\n",
      "Word 308 (\"realiz\") appears 1 time.\n",
      "Word 312 (\"recogn\") appears 1 time.\n",
      "Word 314 (\"refinanc\") appears 1 time.\n",
      "Word 317 (\"relationship\") appears 1 time.\n",
      "Word 318 (\"renew\") appears 2 time.\n",
      "Word 328 (\"resolv\") appears 1 time.\n",
      "Word 332 (\"retard\") appears 1 time.\n",
      "Word 333 (\"retent\") appears 1 time.\n",
      "Word 334 (\"retrac\") appears 1 time.\n",
      "Word 343 (\"secretaryreturn\") appears 1 time.\n",
      "Word 346 (\"sensit\") appears 2 time.\n",
      "Word 347 (\"serv\") appears 1 time.\n",
      "Word 356 (\"simpson\") appears 1 time.\n",
      "Word 357 (\"soft\") appears 1 time.\n",
      "Word 360 (\"sooner\") appears 1 time.\n",
      "Word 365 (\"steep\") appears 1 time.\n",
      "Word 373 (\"suffici\") appears 4 time.\n",
      "Word 375 (\"surround\") appears 3 time.\n",
      "Word 377 (\"swing\") appears 1 time.\n",
      "Word 380 (\"take\") appears 1 time.\n",
      "Word 381 (\"taken\") appears 1 time.\n",
      "Word 390 (\"tilt\") appears 3 time.\n",
      "Word 393 (\"train\") appears 1 time.\n",
      "Word 394 (\"trajectori\") appears 1 time.\n",
      "Word 397 (\"truck\") appears 1 time.\n",
      "Word 398 (\"truman\") appears 1 time.\n",
      "Word 408 (\"uptrend\") appears 3 time.\n",
      "Word 410 (\"varieti\") appears 1 time.\n",
      "Word 411 (\"veloc\") appears 1 time.\n",
      "Word 412 (\"vigor\") appears 1 time.\n",
      "Word 418 (\"wholesal\") appears 1 time.\n",
      "Word 421 (\"winn\") appears 1 time.\n",
      "Word 424 (\"acknowledg\") appears 2 time.\n",
      "Word 425 (\"advantag\") appears 1 time.\n",
      "Word 426 (\"amount\") appears 1 time.\n",
      "Word 433 (\"bolster\") appears 2 time.\n",
      "Word 435 (\"brown\") appears 1 time.\n",
      "Word 437 (\"caus\") appears 1 time.\n",
      "Word 442 (\"confirm\") appears 1 time.\n",
      "Word 446 (\"decad\") appears 2 time.\n",
      "Word 448 (\"depreci\") appears 1 time.\n",
      "Word 451 (\"disrupt\") appears 2 time.\n",
      "Word 459 (\"factori\") appears 2 time.\n",
      "Word 460 (\"fallen\") appears 1 time.\n",
      "Word 462 (\"fluctuat\") appears 1 time.\n",
      "Word 464 (\"fundament\") appears 1 time.\n",
      "Word 466 (\"gave\") appears 1 time.\n",
      "Word 467 (\"great\") appears 2 time.\n",
      "Word 470 (\"homebuild\") appears 1 time.\n",
      "Word 471 (\"hooper\") appears 1 time.\n",
      "Word 474 (\"intensifi\") appears 1 time.\n",
      "Word 479 (\"lag\") appears 1 time.\n",
      "Word 482 (\"lowest\") appears 1 time.\n",
      "Word 497 (\"persuad\") appears 1 time.\n",
      "Word 505 (\"pronounc\") appears 1 time.\n",
      "Word 510 (\"rent\") appears 1 time.\n",
      "Word 513 (\"rolnick\") appears 1 time.\n",
      "Word 518 (\"slip\") appears 2 time.\n",
      "Word 523 (\"took\") appears 1 time.\n",
      "Word 531 (\"unsettl\") appears 2 time.\n",
      "Word 536 (\"worsen\") appears 2 time.\n",
      "Word 539 (\"aim\") appears 1 time.\n",
      "Word 540 (\"april\") appears 23 time.\n",
      "Word 541 (\"asymmetr\") appears 1 time.\n",
      "Word 543 (\"bias\") appears 3 time.\n",
      "Word 549 (\"continent\") appears 2 time.\n",
      "Word 555 (\"downtrend\") appears 1 time.\n",
      "Word 557 (\"europ\") appears 2 time.\n",
      "Word 558 (\"exacerb\") appears 1 time.\n",
      "Word 563 (\"intervent\") appears 1 time.\n",
      "Word 564 (\"judd\") appears 1 time.\n",
      "Word 568 (\"mses\") appears 1 time.\n",
      "Word 572 (\"outsiz\") appears 1 time.\n",
      "Word 574 (\"packag\") appears 1 time.\n",
      "Word 577 (\"problem\") appears 2 time.\n",
      "Word 589 (\"troubl\") appears 1 time.\n",
      "Word 590 (\"underscor\") appears 1 time.\n",
      "Word 591 (\"unlik\") appears 2 time.\n",
      "Word 592 (\"unsustain\") appears 2 time.\n",
      "Word 594 (\"wait\") appears 1 time.\n",
      "Word 596 (\"world\") appears 2 time.\n",
      "Word 601 (\"attribut\") appears 2 time.\n",
      "Word 603 (\"brief\") appears 2 time.\n",
      "Word 610 (\"donald\") appears 1 time.\n",
      "Word 611 (\"ebulli\") appears 2 time.\n",
      "Word 613 (\"employe\") appears 1 time.\n",
      "Word 623 (\"likewis\") appears 1 time.\n",
      "Word 624 (\"low\") appears 2 time.\n",
      "Word 631 (\"pattern\") appears 1 time.\n",
      "Word 632 (\"postpon\") appears 2 time.\n",
      "Word 634 (\"properti\") appears 1 time.\n",
      "Word 654 (\"winter\") appears 1 time.\n",
      "Word 655 (\"afford\") appears 2 time.\n",
      "Word 657 (\"agricultur\") appears 2 time.\n",
      "Word 658 (\"american\") appears 1 time.\n",
      "Word 660 (\"automobil\") appears 1 time.\n",
      "Word 667 (\"drag\") appears 3 time.\n",
      "Word 673 (\"fuel\") appears 1 time.\n",
      "Word 676 (\"johnson\") appears 1 time.\n",
      "Word 680 (\"meyer\") appears 1 time.\n",
      "Word 690 (\"shortag\") appears 1 time.\n",
      "Word 696 (\"accountmr\") appears 1 time.\n",
      "Word 703 (\"curb\") appears 1 time.\n",
      "Word 720 (\"mute\") appears 1 time.\n",
      "Word 726 (\"asian\") appears 9 time.\n",
      "Word 731 (\"detail\") appears 2 time.\n",
      "Word 732 (\"east\") appears 1 time.\n",
      "Word 740 (\"latin\") appears 1 time.\n",
      "Word 746 (\"readi\") appears 1 time.\n",
      "Word 751 (\"vacanc\") appears 1 time.\n",
      "Word 758 (\"forestal\") appears 1 time.\n",
      "Word 759 (\"group\") appears 1 time.\n",
      "Word 760 (\"indirect\") appears 1 time.\n",
      "Word 764 (\"ownership\") appears 1 time.\n",
      "Word 769 (\"repercuss\") appears 1 time.\n",
      "Word 772 (\"stage\") appears 1 time.\n",
      "Word 778 (\"avert\") appears 1 time.\n",
      "Word 795 (\"justifi\") appears 1 time.\n",
      "Word 798 (\"outpac\") appears 1 time.\n",
      "Word 801 (\"reinhart\") appears 1 time.\n",
      "Word 810 (\"worldwid\") appears 1 time.\n",
      "Word 811 (\"abl\") appears 1 time.\n",
      "Word 813 (\"await\") appears 1 time.\n",
      "Word 815 (\"came\") appears 1 time.\n",
      "Word 822 (\"frequent\") appears 1 time.\n",
      "Word 828 (\"minehan\") appears 1 time.\n",
      "Word 831 (\"pool\") appears 1 time.\n",
      "Word 840 (\"sought\") appears 1 time.\n",
      "Word 847 (\"altig\") appears 1 time.\n",
      "Word 852 (\"partner\") appears 1 time.\n",
      "Word 859 (\"respectivelybi\") appears 1 time.\n",
      "Word 860 (\"salari\") appears 1 time.\n",
      "Word 866 (\"asia\") appears 7 time.\n",
      "Word 867 (\"basic\") appears 1 time.\n",
      "Word 870 (\"failur\") appears 1 time.\n",
      "Word 871 (\"furthermor\") appears 1 time.\n",
      "Word 876 (\"repeat\") appears 1 time.\n",
      "Word 881 (\"ultim\") appears 1 time.\n",
      "Word 895 (\"moskow\") appears 1 time.\n",
      "Word 901 (\"inevit\") appears 1 time.\n",
      "Word 904 (\"linger\") appears 1 time.\n",
      "Word 907 (\"amid\") appears 1 time.\n",
      "Word 909 (\"brought\") appears 1 time.\n",
      "Word 917 (\"tighter\") appears 1 time.\n",
      "Word 918 (\"worth\") appears 2 time.\n",
      "Word 922 (\"built\") appears 1 time.\n",
      "Word 929 (\"extraordinari\") appears 1 time.\n",
      "Word 942 (\"tobacco\") appears 1 time.\n",
      "Word 947 (\"warm\") appears 1 time.\n",
      "Word 950 (\"economistm\") appears 1 time.\n",
      "Word 951 (\"hunter\") appears 1 time.\n",
      "Word 970 (\"clearer\") appears 1 time.\n",
      "Word 998 (\"guynn\") appears 1 time.\n",
      "Word 1012 (\"eisenbei\") appears 1 time.\n",
      "Word 1015 (\"adapt\") appears 1 time.\n",
      "Word 1019 (\"rivlin\") appears 1 time.\n",
      "Word 1035 (\"benign\") appears 1 time.\n",
      "Word 1040 (\"spill\") appears 1 time.\n",
      "Word 1045 (\"hakkio\") appears 1 time.\n",
      "Word 1054 (\"precautionari\") appears 1 time.\n",
      "Word 1057 (\"power\") appears 2 time.\n",
      "Word 1058 (\"cecchetti\") appears 1 time.\n",
      "Word 1062 (\"alexand\") appears 1 time.\n",
      "Word 1068 (\"ferguson\") appears 1 time.\n",
      "Word 1069 (\"gramlich\") appears 1 time.\n",
      "Word 1073 (\"turmoil\") appears 3 time.\n",
      "Word 1076 (\"peopl\") appears 1 time.\n",
      "Word 1080 (\"concur\") appears 1 time.\n",
      "Word 1086 (\"district\") appears 1 time.\n",
      "Word 1087 (\"kumasaka\") appears 1 time.\n",
      "Word 1088 (\"land\") appears 1 time.\n",
      "Word 1089 (\"told\") appears 1 time.\n"
     ]
    }
   ],
   "source": [
    "bow_doc_43 = bow_corpus[43]\n",
    "\n",
    "for i in range(len(bow_doc_43)):\n",
    "    print(\"Word {} (\\\"{}\\\") appears {} time.\".format(bow_doc_43[i][0], \n",
    "                                                     dictionary[bow_doc_43[i][0]], \n",
    "                                                     bow_doc_43[i][1]))"
   ]
  },
  {
   "cell_type": "code",
   "execution_count": 123,
   "id": "c0f7af37",
   "metadata": {
    "ExecuteTime": {
     "end_time": "2022-03-11T13:01:58.494431Z",
     "start_time": "2022-03-11T13:01:58.436434Z"
    }
   },
   "outputs": [
    {
     "name": "stdout",
     "output_type": "stream",
     "text": [
      "[(0, 0.01283661233899023),\n",
      " (1, 0.00968934642846307),\n",
      " (2, 0.031054189818036506),\n",
      " (3, 0.009215562521141892),\n",
      " (4, 0.027008050262261152),\n",
      " (5, 0.024762420643077904),\n",
      " (6, 0.025363362406138373),\n",
      " (7, 0.04123627646830114),\n",
      " (8, 0.059305087484408686),\n",
      " (9, 0.025179981407245897),\n",
      " (10, 0.021850852471994947),\n",
      " (11, 0.028035050108144968),\n",
      " (12, 0.01775296131528375),\n",
      " (13, 0.013152446641339015),\n",
      " (14, 0.01283661233899023),\n",
      " (15, 0.054016100524522305),\n",
      " (16, 0.024762420643077904),\n",
      " (17, 0.07693104933098248),\n",
      " (18, 0.013152446641339015),\n",
      " (19, 0.021920505039722496),\n",
      " (20, 0.025612196382425574),\n",
      " (21, 0.037132637037274534),\n",
      " (22, 0.03645349044520986),\n",
      " (23, 0.020045157579358097),\n",
      " (24, 0.020914944473233367),\n",
      " (25, 0.04351077949718431),\n",
      " (26, 0.166976825342175),\n",
      " (27, 0.032504907320444656),\n",
      " (28, 0.05122439276485115),\n",
      " (29, 0.018973450378027796),\n",
      " (30, 0.008759330256124485),\n",
      " (31, 0.02061813823415057),\n",
      " (32, 0.02251679102389465),\n",
      " (33, 0.016225021848936042),\n",
      " (34, 0.041829888946466734),\n",
      " (35, 0.012228248543224057),\n",
      " (36, 0.024762420643077904),\n",
      " (37, 0.06653796484545976),\n",
      " (38, 0.03494557339448709),\n",
      " (39, 0.13030065834880752),\n",
      " (40, 0.01822674522260493),\n",
      " (41, 0.07883397230512036),\n",
      " (42, 0.010695363538603763),\n",
      " (43, 0.01923276233274562),\n",
      " (44, 0.041829888946466734),\n",
      " (45, 0.03286406564204665),\n",
      " (46, 0.021130050297522664),\n",
      " (47, 0.008647864672736386),\n",
      " (48, 0.011230963700661038),\n",
      " (49, 0.01775296131528375),\n",
      " (50, 0.0569203511340834),\n",
      " (51, 0.026524974115417835),\n",
      " (52, 0.045717440376552676),\n",
      " (53, 0.018470651468119294),\n",
      " (54, 0.0355059226305675),\n",
      " (55, 0.012080739440008712),\n",
      " (56, 0.011230963700661038),\n",
      " (57, 0.021530915967142832),\n",
      " (58, 0.01949765131400311),\n",
      " (59, 0.01164852446482903),\n",
      " (60, 0.027510849172169657),\n",
      " (61, 0.028582556373499955),\n",
      " (62, 0.028035050108144968),\n",
      " (63, 0.009933252673977438),\n",
      " (64, 0.03329981943721976),\n",
      " (65, 0.03537275258814623),\n",
      " (66, 0.05716511274699991),\n",
      " (67, 0.023588498225224953),\n",
      " (68, 0.052120263339523014),\n",
      " (69, 0.047250882635670594),\n",
      " (70, 0.03694130293623859),\n",
      " (71, 0.010057041282808087),\n",
      " (72, 0.013809501772080172),\n",
      " (73, 0.032450043697872084),\n",
      " (74, 0.028582556373499955),\n",
      " (75, 0.010565025148761332),\n",
      " (76, 0.07891467984803409),\n",
      " (77, 0.016225021848936042),\n",
      " (78, 0.021850852471994947),\n",
      " (79, 0.014151658854675451),\n",
      " (80, 0.1577045958805768),\n",
      " (81, 0.03494557339448709),\n",
      " (82, 0.015239146792184225),\n",
      " (83, 0.045717440376552676),\n",
      " (84, 0.06365723999163315),\n",
      " (85, 0.023220803370879933),\n",
      " (86, 0.01729672905026634),\n",
      " (87, 0.024358552890773138),\n",
      " (88, 0.01602143270293061),\n",
      " (89, 0.043061831934285665),\n",
      " (90, 0.020328316323523936),\n",
      " (91, 0.021530915967142832),\n",
      " (92, 0.023588498225224953),\n",
      " (93, 0.050570382971159816),\n",
      " (94, 0.05615845633321947),\n",
      " (95, 0.039536724989605795),\n",
      " (96, 0.03804504360920756),\n",
      " (97, 0.018973450378027796),\n",
      " (98, 0.05716511274699991),\n",
      " (99, 0.03537275258814623),\n",
      " (100, 0.035975150642551953),\n",
      " (101, 0.043701704943989894),\n",
      " (102, 0.010695363538603763),\n",
      " (103, 0.021530915967142832),\n",
      " (104, 0.04867506554680813),\n",
      " (105, 0.021219079997211048),\n",
      " (106, 0.044358643230306506),\n",
      " (107, 0.0657281312840933),\n",
      " (108, 0.009099910376563792),\n",
      " (109, 0.018431125042283784),\n",
      " (110, 0.040090315158716194),\n",
      " (111, 0.021219079997211048),\n",
      " (112, 0.008759330256124485),\n",
      " (113, 0.031758202165021794),\n",
      " (114, 0.024358552890773138),\n",
      " (115, 0.01283661233899023),\n",
      " (116, 0.0303882512661368),\n",
      " (117, 0.02251679102389465),\n",
      " (118, 0.013809501772080172),\n",
      " (119, 0.025179981407245897),\n",
      " (120, 0.016642582613104032),\n",
      " (121, 0.02251679102389465),\n",
      " (122, 0.013313453677853086),\n",
      " (123, 0.031758202165021794),\n",
      " (124, 0.11047601417664138),\n",
      " (125, 0.029756478791352903),\n",
      " (126, 0.022179321615153253),\n",
      " (127, 0.020914944473233367),\n",
      " (128, 0.027008050262261152),\n",
      " (129, 0.014683404576738073),\n",
      " (130, 0.02251679102389465),\n",
      " (131, 0.022179321615153253),\n",
      " (132, 0.03503732102449794),\n",
      " (133, 0.06738296659922145),\n",
      " (134, 0.032450043697872084),\n",
      " (135, 0.03371358864743988),\n",
      " (136, 0.02630489328267803),\n",
      " (137, 0.01822674522260493),\n",
      " (138, 0.016432032821023325),\n",
      " (139, 0.010827095948356277),\n",
      " (140, 0.022737167424590896),\n",
      " (141, 0.02061813823415057),\n",
      " (142, 0.010695363538603763),\n",
      " (143, 0.029068039285389216),\n",
      " (144, 0.05459946225938274),\n",
      " (145, 0.02251679102389465),\n",
      " (146, 0.010827095948356277),\n",
      " (147, 0.07957492234625352),\n",
      " (148, 0.013313453677853086),\n",
      " (149, 0.010565025148761332),\n",
      " (150, 0.01822674522260493),\n",
      " (151, 0.08102415078678346),\n",
      " (152, 0.009099910376563792),\n",
      " (153, 0.010182086650264634),\n",
      " (154, 0.06755037307168396),\n",
      " (155, 0.022189728766513792),\n",
      " (156, 0.03328459314977068),\n",
      " (157, 0.017074797588283716),\n",
      " (158, 0.009215562521141892),\n",
      " (159, 0.008537398794141858),\n",
      " (160, 0.03624221832002613),\n",
      " (161, 0.055021698344339315),\n",
      " (162, 0.04952484128615581),\n",
      " (163, 0.046441606741759865),\n",
      " (164, 0.032504907320444656),\n",
      " (165, 0.01252867472734464),\n",
      " (166, 0.032450043697872084),\n",
      " (167, 0.03329981943721976),\n",
      " (168, 0.014326369059191966),\n",
      " (169, 0.059305087484408686),\n",
      " (170, 0.011507758785216239),\n",
      " (171, 0.06657033045241613),\n",
      " (172, 0.021219079997211048),\n",
      " (173, 0.010827095948356277),\n",
      " (174, 0.008871813804131734),\n",
      " (175, 0.02870754287762755),\n",
      " (176, 0.024755091358183025),\n",
      " (177, 0.01949765131400311),\n",
      " (178, 0.02915553702829243),\n",
      " (179, 0.03164230819326257),\n",
      " (180, 0.06500981464088931),\n",
      " (181, 0.012681681203069187),\n",
      " (182, 0.02329704892965806),\n",
      " (183, 0.014326369059191966),\n",
      " (184, 0.020328316323523936),\n",
      " (185, 0.06500981464088931),\n",
      " (186, 0.01164852446482903),\n",
      " (187, 0.01685679432371994),\n",
      " (188, 0.011368583712295448),\n",
      " (189, 0.017987575321275977),\n",
      " (190, 0.030860219464321884),\n",
      " (191, 0.011507758785216239),\n",
      " (192, 0.015051099431083093),\n",
      " (193, 0.03414959517656743),\n",
      " (194, 0.016432032821023325),\n",
      " (195, 0.021850852471994947),\n",
      " (196, 0.042979107177575894),\n",
      " (197, 0.07553994422173768),\n",
      " (198, 0.022189728766513792),\n",
      " (199, 0.020045157579358097),\n",
      " (200, 0.024755091358183025),\n",
      " (201, 0.02915553702829243),\n",
      " (202, 0.020114082565616174),\n",
      " (203, 0.016642582613104032),\n",
      " (204, 0.011507758785216239),\n",
      " (205, 0.01866462182183392),\n",
      " (206, 0.02386995209529264),\n",
      " (207, 0.011790917529382076),\n",
      " (208, 0.024762420643077904),\n",
      " (209, 0.03208609061581129),\n",
      " (210, 0.013152446641339015),\n",
      " (211, 0.016642582613104032),\n",
      " (212, 0.013809501772080172),\n",
      " (213, 0.031054189818036506),\n",
      " (214, 0.048717105781546276),\n",
      " (215, 0.02251679102389465),\n",
      " (216, 0.008759330256124485),\n",
      " (217, 0.013809501772080172),\n",
      " (218, 0.01685679432371994),\n",
      " (219, 0.01949765131400311),\n",
      " (220, 0.01923276233274562),\n",
      " (221, 0.04459763987172284),\n",
      " (222, 0.022179321615153253),\n",
      " (223, 0.012681681203069187),\n",
      " (224, 0.022737167424590896),\n",
      " (225, 0.09435399290089981),\n",
      " (226, 0.06351640433004359),\n",
      " (227, 0.04123627646830114),\n",
      " (228, 0.019768362494802898),\n",
      " (229, 0.031758202165021794),\n",
      " (230, 0.01937869285692614),\n",
      " (231, 0.01602143270293061),\n",
      " (232, 0.010960252519861248),\n",
      " (233, 0.05189018715079903),\n",
      " (234, 0.023015517570432478),\n",
      " (235, 0.020114082565616174),\n",
      " (236, 0.02567322467798046),\n",
      " (237, 0.021219079997211048),\n",
      " (238, 0.04952484128615581),\n",
      " (239, 0.01822674522260493),\n",
      " (240, 0.023220803370879933),\n",
      " (241, 0.019768362494802898),\n",
      " (242, 0.15761753716726254),\n",
      " (243, 0.018470651468119294),\n",
      " (244, 0.02915553702829243),\n",
      " (245, 0.032880757559583744),\n",
      " (246, 0.02915553702829243),\n",
      " (247, 0.02386995209529264),\n",
      " (248, 0.021530915967142832),\n",
      " (249, 0.04065663264704787),\n",
      " (250, 0.032504907320444656),\n",
      " (251, 0.021219079997211048),\n",
      " (252, 0.02865273811838393),\n",
      " (253, 0.021219079997211048),\n",
      " (254, 0.020328316323523936),\n",
      " (255, 0.008871813804131734),\n",
      " (256, 0.03537275258814623),\n",
      " (257, 0.01164852446482903),\n",
      " (258, 0.009810695813025447),\n",
      " (259, 0.01347659331984429),\n",
      " (260, 0.014683404576738073),\n",
      " (261, 0.010182086650264634),\n",
      " (262, 0.022863767853333824),\n",
      " (263, 0.023588498225224953),\n",
      " (264, 0.022179321615153253),\n",
      " (265, 0.020328316323523936),\n",
      " (266, 0.0303882512661368),\n",
      " (267, 0.041938176689258366),\n",
      " (268, 0.03164230819326257),\n",
      " (269, 0.1219131743374738),\n",
      " (270, 0.026060131669761507),\n",
      " (271, 0.020872103167771876),\n",
      " (272, 0.021530915967142832),\n",
      " (273, 0.010827095948356277),\n",
      " (274, 0.010436051583885938),\n",
      " (275, 0.031054189818036506),\n",
      " (276, 0.015624080085875567),\n",
      " (277, 0.02943208743907634),\n",
      " (278, 0.015239146792184225),\n",
      " (279, 0.028582556373499955),\n",
      " (280, 0.020045157579358097),\n",
      " (281, 0.01949765131400311),\n",
      " (282, 0.03329981943721976),\n",
      " (283, 0.024762420643077904),\n",
      " (284, 0.041829888946466734),\n",
      " (285, 0.012080739440008712),\n",
      " (286, 0.022179321615153253),\n",
      " (287, 0.026277990768373453),\n",
      " (288, 0.01775296131528375),\n",
      " (289, 0.021219079997211048),\n",
      " (290, 0.016642582613104032),\n",
      " (291, 0.08871728646061301),\n",
      " (292, 0.033285165226208065),\n",
      " (293, 0.017074797588283716),\n",
      " (294, 0.1577045958805768),\n",
      " (295, 0.032504907320444656),\n",
      " (296, 0.027008050262261152),\n",
      " (297, 0.021219079997211048),\n",
      " (298, 0.0303882512661368),\n",
      " (299, 0.00933231091091696),\n",
      " (300, 0.034105751136886346),\n",
      " (301, 0.0841051503244349),\n",
      " (302, 0.02061813823415057),\n",
      " (303, 0.08387635337851673),\n",
      " (304, 0.11794249112612476),\n",
      " (305, 0.03503732102449794),\n",
      " (306, 0.009933252673977438),\n",
      " (307, 0.029799758021932313),\n",
      " (308, 0.017522732875619645),\n",
      " (309, 0.06365723999163315),\n",
      " (310, 0.013641922821011393),\n",
      " (311, 0.04245497656402635),\n",
      " (312, 0.00933231091091696),\n",
      " (313, 0.027510849172169657),\n",
      " (314, 0.021654191896712555),\n",
      " (315, 0.04226010059504533),\n",
      " (316, 0.02386995209529264),\n",
      " (317, 0.06490008739574417),\n",
      " (318, 0.019621391626050894),\n",
      " (319, 0.032504907320444656),\n",
      " (320, 0.022179321615153253),\n",
      " (321, 0.014503593165728104),\n",
      " (322, 0.009569180959209183),\n",
      " (323, 0.052555981536746905),\n",
      " (324, 0.059463519828963786),\n",
      " (325, 0.022863767853333824),\n",
      " (326, 0.025612196382425574),\n",
      " (327, 0.058492953942009325),\n",
      " (328, 0.020045157579358097),\n",
      " (329, 0.01397939222975279),\n",
      " (330, 0.06859130356000147),\n",
      " (331, 0.025612196382425574),\n",
      " (332, 0.03899530262800622),\n",
      " (333, 0.0450335820477893),\n",
      " (334, 0.01252867472734464),\n",
      " (335, 0.046290329196482835),\n",
      " (336, 0.010960252519861248),\n",
      " (337, 0.03329981943721976),\n",
      " (338, 0.027008050262261152),\n",
      " (339, 0.04226010059504533),\n",
      " (340, 0.022179321615153253),\n",
      " (341, 0.03846552466549124),\n",
      " (342, 0.022189728766513792),\n",
      " (343, 0.008871813804131734),\n",
      " (344, 0.07075829427337726),\n",
      " (345, 0.08010716351465305),\n",
      " (346, 0.027619003544160345),\n",
      " (347, 0.049666263369887186),\n",
      " (348, 0.02567322467798046),\n",
      " (349, 0.015239146792184225),\n",
      " (350, 0.02567322467798046),\n",
      " (351, 0.5516960799274874),\n",
      " (352, 0.05541195440435788),\n",
      " (353, 0.05197406869200389),\n",
      " (354, 0.022179321615153253),\n",
      " (355, 0.03732924364366784),\n",
      " (356, 0.009569180959209183),\n",
      " (357, 0.010308414556682343),\n",
      " (358, 0.047176996450449905),\n",
      " (359, 0.014326369059191966),\n",
      " (360, 0.02061813823415057),\n",
      " (361, 0.024358552890773138),\n",
      " (362, 0.04226010059504533),\n",
      " (363, 0.037438970888812984),\n",
      " (364, 0.03794690075605559),\n",
      " (365, 0.03047829358436845),\n",
      " (366, 0.025612196382425574),\n",
      " (367, 0.02567322467798046),\n",
      " (368, 0.023588498225224953),\n",
      " (369, 0.020914944473233367),\n",
      " (370, 0.025612196382425574),\n",
      " (371, 0.2271503058851046),\n",
      " (372, 0.01923276233274562),\n",
      " (373, 0.008759330256124485),\n",
      " (374, 0.01685679432371994),\n",
      " (375, 0.01797066816295557),\n",
      " (376, 0.03329981943721976),\n",
      " (377, 0.02251679102389465),\n",
      " (378, 0.020328316323523936),\n",
      " (379, 0.014503593165728104),\n",
      " (380, 0.009099910376563792),\n",
      " (381, 0.017074797588283716),\n",
      " (382, 0.022863767853333824),\n",
      " (383, 0.03459345810053268),\n",
      " (384, 0.06918691620106536),\n",
      " (385, 0.11790917529382076),\n",
      " (386, 0.028582556373499955),\n",
      " (387, 0.023967508526302802),\n",
      " (388, 0.024762420643077904),\n",
      " (389, 0.028582556373499955),\n",
      " (390, 0.008871813804131734),\n",
      " (391, 0.016642582613104032),\n",
      " (392, 0.023220803370879933),\n",
      " (393, 0.028035050108144968),\n",
      " (394, 0.02386995209529264),\n",
      " (395, 0.04065663264704787),\n",
      " (396, 0.047935017052605604),\n",
      " (397, 0.014865879957240946),\n",
      " (398, 0.02061813823415057),\n",
      " (399, 0.029756478791352903),\n",
      " (400, 0.03329981943721976),\n",
      " (401, 0.023967508526302802),\n",
      " (402, 0.07163184529595983),\n",
      " (403, 0.024762420643077904),\n",
      " (404, 0.02567322467798046),\n",
      " (405, 0.08387635337851673),\n",
      " (406, 0.07009093150247858),\n",
      " (407, 0.03329981943721976),\n",
      " (408, 0.015624080085875567),\n",
      " (409, 0.01347659331984429),\n",
      " (410, 0.011790917529382076),\n",
      " (411, 0.14239038686968156),\n",
      " (412, 0.015051099431083093),\n",
      " (413, 0.017074797588283716),\n",
      " (414, 0.010960252519861248),\n",
      " (415, 0.023220803370879933),\n",
      " (416, 0.020045157579358097),\n",
      " (417, 0.023588498225224953),\n",
      " (418, 0.01751866051224897),\n",
      " (419, 0.024762420643077904),\n",
      " (420, 0.06172043892864377),\n",
      " (421, 0.021850852471994947),\n",
      " (422, 0.031758202165021794),\n",
      " (423, 0.025179981407245897)]\n"
     ]
    }
   ],
   "source": [
    "from gensim import corpora, models\n",
    "\n",
    "tfidf = models.TfidfModel(bow_corpus)\n",
    "corpus_tfidf = tfidf[bow_corpus]\n",
    "from pprint import pprint\n",
    "\n",
    "for doc in corpus_tfidf:\n",
    "    pprint(doc)\n",
    "    break"
   ]
  },
  {
   "cell_type": "markdown",
   "id": "a2753f52",
   "metadata": {},
   "source": [
    "# LDA using bag of words"
   ]
  },
  {
   "cell_type": "code",
   "execution_count": 124,
   "id": "a713f5e9",
   "metadata": {
    "ExecuteTime": {
     "end_time": "2022-03-11T13:02:01.329113Z",
     "start_time": "2022-03-11T13:01:59.174115Z"
    }
   },
   "outputs": [],
   "source": [
    "lda_model = gensim.models.LdaMulticore(bow_corpus, num_topics=10, id2word=dictionary, passes=2, workers=2)"
   ]
  },
  {
   "cell_type": "code",
   "execution_count": 125,
   "id": "6a1dafc3",
   "metadata": {
    "ExecuteTime": {
     "end_time": "2022-03-11T13:02:01.345113Z",
     "start_time": "2022-03-11T13:02:01.331112Z"
    }
   },
   "outputs": [
    {
     "name": "stdout",
     "output_type": "stream",
     "text": [
      "Topic: 0 \n",
      "Words: 0.013*\"shall\" + 0.012*\"arrang\" + 0.008*\"back\" + 0.008*\"april\" + 0.008*\"strain\" + 0.007*\"subcommitte\" + 0.006*\"deterior\" + 0.006*\"paragraph\" + 0.005*\"select\" + 0.005*\"consult\"\n",
      "Topic: 1 \n",
      "Words: 0.012*\"pandem\" + 0.010*\"desk\" + 0.009*\"guidanc\" + 0.008*\"back\" + 0.007*\"repo\" + 0.007*\"april\" + 0.007*\"tool\" + 0.006*\"princip\" + 0.006*\"overnight\" + 0.006*\"mandat\"\n",
      "Topic: 2 \n",
      "Words: 0.006*\"shall\" + 0.005*\"desk\" + 0.005*\"arrang\" + 0.005*\"back\" + 0.004*\"princip\" + 0.004*\"paragraph\" + 0.004*\"april\" + 0.003*\"select\" + 0.003*\"repurchas\" + 0.003*\"mandat\"\n",
      "Topic: 3 \n",
      "Words: 0.011*\"back\" + 0.009*\"guidanc\" + 0.009*\"april\" + 0.007*\"desk\" + 0.006*\"tool\" + 0.005*\"deterior\" + 0.005*\"mandat\" + 0.005*\"stress\" + 0.005*\"gross\" + 0.004*\"function\"\n",
      "Topic: 4 \n",
      "Words: 0.019*\"april\" + 0.006*\"tech\" + 0.004*\"greenspan\" + 0.004*\"mcdonough\" + 0.004*\"behavior\" + 0.004*\"moskow\" + 0.004*\"minehan\" + 0.004*\"lindsey\" + 0.004*\"partner\" + 0.004*\"soften\"\n",
      "Topic: 5 \n",
      "Words: 0.007*\"april\" + 0.005*\"arrang\" + 0.005*\"lindsey\" + 0.005*\"desk\" + 0.005*\"back\" + 0.004*\"give\" + 0.004*\"phillip\" + 0.004*\"greenspan\" + 0.004*\"lesser\" + 0.004*\"kelley\"\n",
      "Topic: 6 \n",
      "Words: 0.010*\"april\" + 0.010*\"back\" + 0.007*\"mandat\" + 0.006*\"hurrican\" + 0.006*\"reinvest\" + 0.005*\"arrang\" + 0.005*\"strain\" + 0.004*\"dual\" + 0.004*\"david\" + 0.004*\"desk\"\n",
      "Topic: 7 \n",
      "Words: 0.011*\"april\" + 0.010*\"desk\" + 0.008*\"select\" + 0.007*\"back\" + 0.007*\"arrang\" + 0.006*\"pandem\" + 0.006*\"princip\" + 0.006*\"soma\" + 0.006*\"repurchas\" + 0.005*\"tool\"\n",
      "Topic: 8 \n",
      "Words: 0.026*\"shall\" + 0.018*\"arrang\" + 0.013*\"subcommitte\" + 0.011*\"paragraph\" + 0.010*\"consult\" + 0.010*\"select\" + 0.008*\"draw\" + 0.007*\"repurchas\" + 0.006*\"procedur\" + 0.006*\"undertaken\"\n",
      "Topic: 9 \n",
      "Words: 0.007*\"april\" + 0.007*\"arrang\" + 0.006*\"guidanc\" + 0.006*\"select\" + 0.005*\"shall\" + 0.004*\"back\" + 0.004*\"desk\" + 0.004*\"tool\" + 0.004*\"pandem\" + 0.004*\"subcommitte\"\n"
     ]
    }
   ],
   "source": [
    "for idx, topic in lda_model.print_topics(-1):\n",
    "    print('Topic: {} \\nWords: {}'.format(idx, topic))"
   ]
  },
  {
   "cell_type": "markdown",
   "id": "632d8b7e",
   "metadata": {},
   "source": [
    "# LDA using TF-IDF"
   ]
  },
  {
   "cell_type": "code",
   "execution_count": 126,
   "id": "8edd8c49",
   "metadata": {
    "ExecuteTime": {
     "end_time": "2022-03-11T13:02:04.950111Z",
     "start_time": "2022-03-11T13:02:01.347113Z"
    }
   },
   "outputs": [],
   "source": [
    "lda_model_tfidf = gensim.models.LdaMulticore(corpus_tfidf, num_topics=10, id2word=dictionary, passes=2, workers=4)"
   ]
  },
  {
   "cell_type": "code",
   "execution_count": 127,
   "id": "1f8d66ed",
   "metadata": {
    "ExecuteTime": {
     "end_time": "2022-03-11T13:02:04.966111Z",
     "start_time": "2022-03-11T13:02:04.951113Z"
    }
   },
   "outputs": [
    {
     "name": "stdout",
     "output_type": "stream",
     "text": [
      "Topic: 0 Word: 0.004*\"april\" + 0.003*\"disclosur\" + 0.002*\"symmetri\" + 0.002*\"lawar\" + 0.002*\"veloc\" + 0.002*\"reinvest\" + 0.002*\"upper\" + 0.002*\"give\" + 0.002*\"forrest\" + 0.002*\"presumpt\"\n",
      "Topic: 1 Word: 0.004*\"april\" + 0.004*\"turmoil\" + 0.004*\"hurrican\" + 0.004*\"strain\" + 0.003*\"asia\" + 0.003*\"confer\" + 0.003*\"settl\" + 0.003*\"tighter\" + 0.002*\"back\" + 0.002*\"deterior\"\n",
      "Topic: 2 Word: 0.005*\"april\" + 0.002*\"expens\" + 0.002*\"legisl\" + 0.002*\"kelley\" + 0.002*\"tech\" + 0.002*\"absent\" + 0.002*\"slacken\" + 0.002*\"asymmetr\" + 0.002*\"regim\" + 0.002*\"shall\"\n",
      "Topic: 3 Word: 0.003*\"april\" + 0.002*\"mandat\" + 0.002*\"shall\" + 0.002*\"soma\" + 0.002*\"bias\" + 0.002*\"exhibit\" + 0.002*\"forese\" + 0.002*\"upper\" + 0.001*\"backup\" + 0.001*\"arrang\"\n",
      "Topic: 4 Word: 0.004*\"back\" + 0.004*\"reinvest\" + 0.003*\"policymak\" + 0.003*\"ioer\" + 0.003*\"desk\" + 0.002*\"remov\" + 0.002*\"expir\" + 0.002*\"scale\" + 0.002*\"collater\" + 0.002*\"segment\"\n",
      "Topic: 5 Word: 0.007*\"april\" + 0.007*\"shall\" + 0.003*\"arrang\" + 0.003*\"threshold\" + 0.003*\"subcommitte\" + 0.002*\"paragraph\" + 0.002*\"disinfl\" + 0.002*\"guidanc\" + 0.002*\"consult\" + 0.002*\"forese\"\n",
      "Topic: 6 Word: 0.005*\"outbreak\" + 0.002*\"give\" + 0.002*\"melzer\" + 0.002*\"phillip\" + 0.002*\"lawar\" + 0.002*\"correct\" + 0.002*\"bias\" + 0.002*\"lesser\" + 0.002*\"disinfl\" + 0.002*\"hurrican\"\n",
      "Topic: 7 Word: 0.004*\"april\" + 0.003*\"tension\" + 0.002*\"ioer\" + 0.002*\"communiti\" + 0.002*\"function\" + 0.002*\"desk\" + 0.002*\"symmetr\" + 0.002*\"outbreak\" + 0.002*\"repo\" + 0.002*\"text\"\n",
      "Topic: 8 Word: 0.003*\"april\" + 0.003*\"cool\" + 0.003*\"tech\" + 0.002*\"hurrican\" + 0.002*\"confirm\" + 0.002*\"press\" + 0.002*\"forese\" + 0.002*\"sentenc\" + 0.002*\"prior\" + 0.002*\"background\"\n",
      "Topic: 9 Word: 0.010*\"pandem\" + 0.007*\"shall\" + 0.005*\"april\" + 0.005*\"repo\" + 0.004*\"desk\" + 0.004*\"arrang\" + 0.004*\"guidanc\" + 0.004*\"select\" + 0.004*\"chair\" + 0.003*\"virus\"\n"
     ]
    }
   ],
   "source": [
    "for idx, topic in lda_model_tfidf.print_topics(-1):\n",
    "    print('Topic: {} Word: {}'.format(idx, topic))"
   ]
  },
  {
   "cell_type": "markdown",
   "id": "97298f2c",
   "metadata": {},
   "source": [
    "# Doc2vec"
   ]
  },
  {
   "cell_type": "code",
   "execution_count": 128,
   "id": "ca359e4f",
   "metadata": {
    "ExecuteTime": {
     "end_time": "2022-03-11T13:02:06.175220Z",
     "start_time": "2022-03-11T13:02:04.967113Z"
    }
   },
   "outputs": [],
   "source": [
    "def read_corpus(f, tokens_only=False):\n",
    "        for i, line in enumerate(f):\n",
    "            tokens = gensim.utils.simple_preprocess(line)\n",
    "            if tokens_only:\n",
    "                yield tokens\n",
    "            else:\n",
    "                # For training data, add tags\n",
    "                yield gensim.models.doc2vec.TaggedDocument(tokens, [i])\n",
    "\n",
    "train_corpus = list(read_corpus(df.contents))"
   ]
  },
  {
   "cell_type": "code",
   "execution_count": 129,
   "id": "5d64593a",
   "metadata": {
    "ExecuteTime": {
     "end_time": "2022-03-11T13:02:11.858129Z",
     "start_time": "2022-03-11T13:02:06.177115Z"
    },
    "scrolled": true
   },
   "outputs": [],
   "source": [
    "#session crashed when i ran this, even when I had a GPU connected it didnt seem to use the GPU\n",
    "from gensim.models.doc2vec import Doc2Vec\n",
    "model = Doc2Vec(train_corpus, vector_size=200, window=3, min_count=1, workers=4)"
   ]
  },
  {
   "cell_type": "code",
   "execution_count": 130,
   "id": "7ed27065",
   "metadata": {
    "ExecuteTime": {
     "end_time": "2022-03-11T13:02:11.873130Z",
     "start_time": "2022-03-11T13:02:11.859126Z"
    }
   },
   "outputs": [],
   "source": [
    "def getVecs(model_name, corpus, size):\n",
    "    vecs = [np.array(model_name[z.tags[0]]).reshape((1, size)) for z in corpus]\n",
    "    return np.concatenate(vecs)\n",
    "train_vecs_dm = getVecs(model, train_corpus, 200)"
   ]
  },
  {
   "cell_type": "code",
   "execution_count": 131,
   "id": "5f358954",
   "metadata": {
    "ExecuteTime": {
     "end_time": "2022-03-11T13:02:11.889113Z",
     "start_time": "2022-03-11T13:02:11.875114Z"
    }
   },
   "outputs": [
    {
     "data": {
      "text/plain": [
       "array([[-0.63102686, -0.08959519,  0.4383786 , ...,  0.40208003,\n",
       "        -0.32720917, -0.07067727],\n",
       "       [ 0.32243258,  0.00419451, -0.49545544, ...,  0.11083506,\n",
       "        -0.12254688,  0.05146901],\n",
       "       [ 0.23271695,  0.5244787 , -0.88714004, ..., -0.5203095 ,\n",
       "         0.28863046, -0.22706655],\n",
       "       ...,\n",
       "       [ 0.8363956 , -1.1332777 , -0.43302676, ...,  0.4044909 ,\n",
       "         0.3657411 , -0.25719962],\n",
       "       [-1.1015208 , -2.3262458 , -1.633148  , ...,  0.7889346 ,\n",
       "         0.5312472 ,  0.21153152],\n",
       "       [ 0.42866102, -1.8987592 ,  0.9627917 , ..., -0.34651694,\n",
       "        -0.8916696 ,  0.12465101]], dtype=float32)"
      ]
     },
     "execution_count": 131,
     "metadata": {},
     "output_type": "execute_result"
    }
   ],
   "source": [
    "train_vecs_dm"
   ]
  },
  {
   "cell_type": "markdown",
   "id": "08e350fc",
   "metadata": {},
   "source": [
    "# Predictions on SPY changes\n"
   ]
  },
  {
   "cell_type": "code",
   "execution_count": 132,
   "id": "b1e4bb46",
   "metadata": {
    "ExecuteTime": {
     "end_time": "2022-03-11T13:02:11.905145Z",
     "start_time": "2022-03-11T13:02:11.890112Z"
    }
   },
   "outputs": [],
   "source": [
    "def pct_change_from_day_0(announcement):\n",
    "    pct_change= (announcement['SPY: d+7']/announcement['SPY: d-1'])-1\n",
    "    if pct_change>0:\n",
    "        return 'up'\n",
    "    else:\n",
    "        return 'down'"
   ]
  },
  {
   "cell_type": "code",
   "execution_count": 133,
   "id": "22ef2840",
   "metadata": {
    "ExecuteTime": {
     "end_time": "2022-03-11T13:02:11.920964Z",
     "start_time": "2022-03-11T13:02:11.906113Z"
    }
   },
   "outputs": [
    {
     "data": {
      "text/plain": [
       "'up'"
      ]
     },
     "execution_count": 133,
     "metadata": {},
     "output_type": "execute_result"
    }
   ],
   "source": [
    "pct_change_from_day_0(df.iloc[141])"
   ]
  },
  {
   "cell_type": "code",
   "execution_count": 134,
   "id": "648cba43",
   "metadata": {
    "ExecuteTime": {
     "end_time": "2022-03-11T13:02:11.936752Z",
     "start_time": "2022-03-11T13:02:11.921933Z"
    }
   },
   "outputs": [],
   "source": [
    "df['+7change']=df.apply(pct_change_from_day_0,axis=1)"
   ]
  },
  {
   "cell_type": "code",
   "execution_count": 135,
   "id": "17a84b77",
   "metadata": {
    "ExecuteTime": {
     "end_time": "2022-03-11T13:02:11.952754Z",
     "start_time": "2022-03-11T13:02:11.937754Z"
    }
   },
   "outputs": [
    {
     "data": {
      "text/plain": [
       "Unnamed: 0                                                  141\n",
       "date                                        2009-11-04 00:00:00\n",
       "contents      November 3-4, 2009PRESENT:Mr. Bernanke, Chairm...\n",
       "speaker                                            Ben Bernanke\n",
       "title                                      FOMC Meeting Minutes\n",
       "SPY: d-1                                              82.560066\n",
       "SPY: d+0                                              82.773079\n",
       "SPY: d+1                                              84.295692\n",
       "SPY: d+2                                              84.516586\n",
       "SPY: d+3                                              86.441551\n",
       "SPY: d+4                                              86.457344\n",
       "SPY: d+5                                              86.899109\n",
       "SPY: d+6                                              86.015572\n",
       "SPY: d+7                                              86.480988\n",
       "SPY: d+8                                              87.735367\n",
       "SPY: d+9                                              87.837952\n",
       "SPY: d+10                                               87.7827\n",
       "SPY: d+11                                             86.638763\n",
       "SPY: d+12                                               86.3311\n",
       "SPY: d+13                                             87.427689\n",
       "SPY: d+14                                             87.561813\n",
       "+7change                                                     up\n",
       "Name: 141, dtype: object"
      ]
     },
     "execution_count": 135,
     "metadata": {},
     "output_type": "execute_result"
    }
   ],
   "source": [
    "df.iloc[141]"
   ]
  },
  {
   "cell_type": "code",
   "execution_count": 136,
   "id": "bee52246",
   "metadata": {
    "ExecuteTime": {
     "end_time": "2022-03-11T13:02:11.968721Z",
     "start_time": "2022-03-11T13:02:11.954756Z"
    }
   },
   "outputs": [
    {
     "data": {
      "text/plain": [
       "up      137\n",
       "down     87\n",
       "Name: +7change, dtype: int64"
      ]
     },
     "execution_count": 136,
     "metadata": {},
     "output_type": "execute_result"
    }
   ],
   "source": [
    "df['+7change'].value_counts()"
   ]
  },
  {
   "cell_type": "code",
   "execution_count": 137,
   "id": "07afe01a",
   "metadata": {
    "ExecuteTime": {
     "end_time": "2022-03-11T13:02:11.984734Z",
     "start_time": "2022-03-11T13:02:11.969722Z"
    }
   },
   "outputs": [],
   "source": [
    "labels=df['+7change'].to_numpy()\n",
    "labels_onehot=pd.get_dummies(labels).values"
   ]
  },
  {
   "cell_type": "code",
   "execution_count": 138,
   "id": "9f0f273d",
   "metadata": {
    "ExecuteTime": {
     "end_time": "2022-03-11T13:02:12.000871Z",
     "start_time": "2022-03-11T13:02:11.985734Z"
    }
   },
   "outputs": [
    {
     "data": {
      "text/plain": [
       "array([[0, 1],\n",
       "       [0, 1],\n",
       "       [0, 1],\n",
       "       [0, 1],\n",
       "       [0, 1],\n",
       "       [0, 1],\n",
       "       [1, 0],\n",
       "       [1, 0],\n",
       "       [1, 0],\n",
       "       [1, 0]], dtype=uint8)"
      ]
     },
     "execution_count": 138,
     "metadata": {},
     "output_type": "execute_result"
    }
   ],
   "source": [
    "labels_onehot[:10]"
   ]
  },
  {
   "cell_type": "code",
   "execution_count": 139,
   "id": "5df99556",
   "metadata": {
    "ExecuteTime": {
     "end_time": "2022-03-11T13:02:12.016994Z",
     "start_time": "2022-03-11T13:02:12.001869Z"
    }
   },
   "outputs": [
    {
     "name": "stdout",
     "output_type": "stream",
     "text": [
      "201 23 201 23\n"
     ]
    }
   ],
   "source": [
    "X_train, X_test, y_train, y_test = train_test_split(train_vecs_dm,labels_onehot,train_size=0.9)\n",
    "print (len(X_train),len(X_test),len(y_train),len(y_test))"
   ]
  },
  {
   "cell_type": "code",
   "execution_count": 140,
   "id": "bbb57161",
   "metadata": {
    "ExecuteTime": {
     "end_time": "2022-03-11T13:02:12.032373Z",
     "start_time": "2022-03-11T13:02:12.018977Z"
    }
   },
   "outputs": [
    {
     "name": "stdout",
     "output_type": "stream",
     "text": [
      "180 21 180 21\n"
     ]
    }
   ],
   "source": [
    "X_train_m, X_val, y_train_m, y_val = train_test_split(X_train,y_train,train_size=0.9)\n",
    "print (len(X_train_m),len(X_val),len(y_train_m),len(y_val))"
   ]
  },
  {
   "cell_type": "code",
   "execution_count": 141,
   "id": "149bdd4c",
   "metadata": {
    "ExecuteTime": {
     "end_time": "2022-03-11T13:02:29.283137Z",
     "start_time": "2022-03-11T13:02:12.033378Z"
    }
   },
   "outputs": [
    {
     "name": "stdout",
     "output_type": "stream",
     "text": [
      "Epoch 1/30\n",
      "2/2 [==============================] - 3s 654ms/step - loss: 0.3151 - accuracy: 0.4722 - val_loss: 0.2489 - val_accuracy: 0.6190\n",
      "Epoch 2/30\n",
      "2/2 [==============================] - 0s 210ms/step - loss: 0.2866 - accuracy: 0.5389 - val_loss: 0.2480 - val_accuracy: 0.6190\n",
      "Epoch 3/30\n",
      "2/2 [==============================] - 0s 216ms/step - loss: 0.2770 - accuracy: 0.5500 - val_loss: 0.2472 - val_accuracy: 0.6190\n",
      "Epoch 4/30\n",
      "2/2 [==============================] - 0s 216ms/step - loss: 0.2871 - accuracy: 0.5111 - val_loss: 0.2463 - val_accuracy: 0.6190\n",
      "Epoch 5/30\n",
      "2/2 [==============================] - 0s 208ms/step - loss: 0.2923 - accuracy: 0.5500 - val_loss: 0.2454 - val_accuracy: 0.6190\n",
      "Epoch 6/30\n",
      "2/2 [==============================] - 0s 240ms/step - loss: 0.2598 - accuracy: 0.6000 - val_loss: 0.2447 - val_accuracy: 0.6190\n",
      "Epoch 7/30\n",
      "2/2 [==============================] - 0s 245ms/step - loss: 0.2654 - accuracy: 0.5611 - val_loss: 0.2439 - val_accuracy: 0.6190\n",
      "Epoch 8/30\n",
      "2/2 [==============================] - 0s 208ms/step - loss: 0.2503 - accuracy: 0.5500 - val_loss: 0.2433 - val_accuracy: 0.6190\n",
      "Epoch 9/30\n",
      "2/2 [==============================] - 0s 214ms/step - loss: 0.2611 - accuracy: 0.6000 - val_loss: 0.2427 - val_accuracy: 0.6190\n",
      "Epoch 10/30\n",
      "2/2 [==============================] - 0s 209ms/step - loss: 0.2577 - accuracy: 0.5889 - val_loss: 0.2421 - val_accuracy: 0.6190\n",
      "Epoch 11/30\n",
      "2/2 [==============================] - 0s 230ms/step - loss: 0.2415 - accuracy: 0.6444 - val_loss: 0.2416 - val_accuracy: 0.6190\n",
      "Epoch 12/30\n",
      "2/2 [==============================] - 0s 226ms/step - loss: 0.2623 - accuracy: 0.5833 - val_loss: 0.2411 - val_accuracy: 0.6190\n",
      "Epoch 13/30\n",
      "2/2 [==============================] - 0s 224ms/step - loss: 0.2618 - accuracy: 0.5722 - val_loss: 0.2406 - val_accuracy: 0.6190\n",
      "Epoch 14/30\n",
      "2/2 [==============================] - 0s 219ms/step - loss: 0.2478 - accuracy: 0.6056 - val_loss: 0.2402 - val_accuracy: 0.6190\n",
      "Epoch 15/30\n",
      "2/2 [==============================] - 0s 216ms/step - loss: 0.2415 - accuracy: 0.6056 - val_loss: 0.2398 - val_accuracy: 0.6190\n",
      "Epoch 16/30\n",
      "2/2 [==============================] - 0s 225ms/step - loss: 0.2739 - accuracy: 0.5500 - val_loss: 0.2395 - val_accuracy: 0.6190\n",
      "Epoch 17/30\n",
      "2/2 [==============================] - 0s 238ms/step - loss: 0.2525 - accuracy: 0.6278 - val_loss: 0.2392 - val_accuracy: 0.6190\n",
      "Epoch 18/30\n",
      "2/2 [==============================] - 0s 243ms/step - loss: 0.2584 - accuracy: 0.5778 - val_loss: 0.2390 - val_accuracy: 0.6190\n",
      "Epoch 19/30\n",
      "2/2 [==============================] - 0s 222ms/step - loss: 0.2531 - accuracy: 0.6333 - val_loss: 0.2387 - val_accuracy: 0.6190\n",
      "Epoch 20/30\n",
      "2/2 [==============================] - 0s 209ms/step - loss: 0.2375 - accuracy: 0.6444 - val_loss: 0.2386 - val_accuracy: 0.6190\n",
      "Epoch 21/30\n",
      "2/2 [==============================] - 0s 216ms/step - loss: 0.2309 - accuracy: 0.6500 - val_loss: 0.2383 - val_accuracy: 0.6190\n",
      "Epoch 22/30\n",
      "2/2 [==============================] - 0s 247ms/step - loss: 0.2476 - accuracy: 0.5889 - val_loss: 0.2381 - val_accuracy: 0.6190\n",
      "Epoch 23/30\n",
      "2/2 [==============================] - 1s 280ms/step - loss: 0.2425 - accuracy: 0.6389 - val_loss: 0.2379 - val_accuracy: 0.6190\n",
      "Epoch 24/30\n",
      "2/2 [==============================] - 1s 286ms/step - loss: 0.2356 - accuracy: 0.6278 - val_loss: 0.2375 - val_accuracy: 0.6190\n",
      "Epoch 25/30\n",
      "2/2 [==============================] - 1s 282ms/step - loss: 0.2425 - accuracy: 0.6389 - val_loss: 0.2372 - val_accuracy: 0.6190\n",
      "Epoch 26/30\n",
      "2/2 [==============================] - 1s 258ms/step - loss: 0.2386 - accuracy: 0.6111 - val_loss: 0.2367 - val_accuracy: 0.6190\n",
      "Epoch 27/30\n",
      "2/2 [==============================] - 1s 285ms/step - loss: 0.2381 - accuracy: 0.6556 - val_loss: 0.2364 - val_accuracy: 0.6190\n",
      "Epoch 28/30\n",
      "2/2 [==============================] - 1s 255ms/step - loss: 0.2289 - accuracy: 0.6333 - val_loss: 0.2362 - val_accuracy: 0.6190\n",
      "Epoch 29/30\n",
      "2/2 [==============================] - 1s 304ms/step - loss: 0.2315 - accuracy: 0.6611 - val_loss: 0.2360 - val_accuracy: 0.6190\n",
      "Epoch 30/30\n",
      "2/2 [==============================] - 1s 283ms/step - loss: 0.2269 - accuracy: 0.6444 - val_loss: 0.2359 - val_accuracy: 0.6190\n"
     ]
    }
   ],
   "source": [
    "model = Sequential()\n",
    "\n",
    "model.add(LSTM(units = 50, return_sequences = True, input_shape = (X_train.shape[1], 1)))\n",
    "model.add(Dropout(0.2))\n",
    "model.add(BatchNormalization())\n",
    "\n",
    "\n",
    "model.add(LSTM(units = 50))\n",
    "model.add(Dropout(0.25))\n",
    "model.add(BatchNormalization())\n",
    "\n",
    "model.add(Dense(2, activation='sigmoid'))\n",
    "\n",
    "model.compile(optimizer = 'adam', loss = 'mean_squared_error',metrics=['accuracy'])\n",
    "\n",
    "history=model.fit(X_train_m, y_train_m,validation_data=(X_val,y_val), epochs = 30, batch_size = 100)"
   ]
  },
  {
   "cell_type": "code",
   "execution_count": 142,
   "id": "87c5bd95",
   "metadata": {
    "ExecuteTime": {
     "end_time": "2022-03-11T13:02:29.523162Z",
     "start_time": "2022-03-11T13:02:29.285134Z"
    }
   },
   "outputs": [
    {
     "data": {
      "image/png": "[encoded data removed]",
      "text/plain": [
       "<Figure size 432x288 with 1 Axes>"
      ]
     },
     "metadata": {
      "needs_background": "light"
     },
     "output_type": "display_data"
    },
    {
     "data": {
      "text/plain": [
       "<Figure size 432x288 with 0 Axes>"
      ]
     },
     "metadata": {},
     "output_type": "display_data"
    }
   ],
   "source": [
    "plt.plot(history.history['accuracy'], label='acc')\n",
    "plt.plot(history.history['val_accuracy'], label='val_acc')\n",
    "plt.title('Training and validation accuracy evolution through epochs')\n",
    "plt.legend()\n",
    "plt.show()\n",
    "plt.savefig(\"Accuracy plot.jpg\")"
   ]
  },
  {
   "cell_type": "code",
   "execution_count": 143,
   "id": "47397b81",
   "metadata": {
    "ExecuteTime": {
     "end_time": "2022-03-11T13:02:29.854133Z",
     "start_time": "2022-03-11T13:02:29.525134Z"
    }
   },
   "outputs": [
    {
     "name": "stdout",
     "output_type": "stream",
     "text": [
      "7/7 [==============================] - 0s 39ms/step - loss: 0.2371 - accuracy: 0.6119\n"
     ]
    },
    {
     "data": {
      "text/plain": [
       "[0.23708070814609528, 0.611940324306488]"
      ]
     },
     "execution_count": 143,
     "metadata": {},
     "output_type": "execute_result"
    }
   ],
   "source": [
    "model.evaluate(X_train,y_train)"
   ]
  },
  {
   "cell_type": "code",
   "execution_count": 144,
   "id": "d98cc966",
   "metadata": {
    "ExecuteTime": {
     "end_time": "2022-03-11T13:02:29.947134Z",
     "start_time": "2022-03-11T13:02:29.856135Z"
    }
   },
   "outputs": [
    {
     "name": "stdout",
     "output_type": "stream",
     "text": [
      "1/1 [==============================] - 0s 47ms/step - loss: 0.2364 - accuracy: 0.6087\n"
     ]
    },
    {
     "data": {
      "text/plain": [
       "[0.23638349771499634, 0.6086956262588501]"
      ]
     },
     "execution_count": 144,
     "metadata": {},
     "output_type": "execute_result"
    }
   ],
   "source": [
    "model.evaluate(X_test,y_test)"
   ]
  },
  {
   "cell_type": "code",
   "execution_count": null,
   "id": "cf88f5df",
   "metadata": {},
   "outputs": [],
   "source": []
  },
  {
   "cell_type": "code",
   "execution_count": null,
   "id": "074d99db",
   "metadata": {},
   "outputs": [],
   "source": []
  }
 ],
 "metadata": {
  "kernelspec": {
   "display_name": "Python 3",
   "language": "python",
   "name": "python3"
  },
  "language_info": {
   "codemirror_mode": {
    "name": "ipython",
    "version": 3
   },
   "file_extension": ".py",
   "mimetype": "text/x-python",
   "name": "python",
   "nbconvert_exporter": "python",
   "pygments_lexer": "ipython3",
   "version": "3.8.8"
  },
  "toc": {
   "base_numbering": 1,
   "nav_menu": {},
   "number_sections": true,
   "sideBar": true,
   "skip_h1_title": false,
   "title_cell": "Table of Contents",
   "title_sidebar": "Contents",
   "toc_cell": false,
   "toc_position": {
    "height": "calc(100% - 180px)",
    "left": "10px",
    "top": "150px",
    "width": "195.273px"
   },
   "toc_section_display": true,
   "toc_window_display": true
  }
 },
 "nbformat": 4,
 "nbformat_minor": 5
}
