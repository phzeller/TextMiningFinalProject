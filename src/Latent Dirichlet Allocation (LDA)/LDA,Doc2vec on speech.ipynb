{
 "cells": [
  {
   "cell_type": "code",
   "execution_count": 10,
   "id": "516e3838",
   "metadata": {
    "ExecuteTime": {
     "end_time": "2022-03-11T12:58:17.744397Z",
     "start_time": "2022-03-11T12:58:14.619224Z"
    }
   },
   "outputs": [],
   "source": [
    "import os\n",
    "import matplotlib.pyplot as plt\n",
    "\n",
    "import gensim\n",
    "from gensim import models\n",
    "from sklearn.model_selection import train_test_split\n",
    "\n",
    "import warnings\n",
    "warnings.filterwarnings('ignore')\n",
    "\n",
    "import numpy as np\n",
    "import pandas as pd\n",
    "\n",
    "import nltk\n",
    "from keras.models import Sequential\n",
    "from keras.layers import LSTM,Dense, Dropout, BatchNormalization\n",
    "\n",
    "\n",
    "from nltk.stem import WordNetLemmatizer, SnowballStemmer\n",
    "from nltk.stem.porter import *\n",
    "\n",
    "np.random.seed(2018)"
   ]
  },
  {
   "cell_type": "code",
   "execution_count": 11,
   "id": "3f9d4c4b",
   "metadata": {
    "ExecuteTime": {
     "end_time": "2022-03-11T12:58:26.290580Z",
     "start_time": "2022-03-11T12:58:26.086466Z"
    }
   },
   "outputs": [],
   "source": [
    "notebook_dir = os.getcwd()\n",
    "rel_path = '../../data/complete_data/speeches_cleaned_spy_tnx.csv'\n",
    "\n",
    "df=pd.read_csv(os.path.join(notebook_dir, rel_path), parse_dates=['date'])"
   ]
  },
  {
   "cell_type": "code",
   "execution_count": 12,
   "id": "548a64e9",
   "metadata": {
    "ExecuteTime": {
     "end_time": "2022-03-11T12:58:26.679910Z",
     "start_time": "2022-03-11T12:58:26.606908Z"
    }
   },
   "outputs": [],
   "source": [
    "df['contents'] = df['contents'].apply(lambda x: x.replace('\\n\\n[SECTION]\\n\\n', '').replace('\\n', ' ').replace('\\r', ' ').strip())\n",
    "df"
   ]
  },
  {
   "cell_type": "markdown",
   "id": "938fae83",
   "metadata": {},
   "source": [
    "# Preprocessing"
   ]
  },
  {
   "cell_type": "code",
   "execution_count": 13,
   "id": "3adf3716",
   "metadata": {
    "ExecuteTime": {
     "end_time": "2022-03-11T12:58:29.030061Z",
     "start_time": "2022-03-11T12:58:28.612184Z"
    }
   },
   "outputs": [
    {
     "name": "stderr",
     "output_type": "stream",
     "text": [
      "[nltk_data] Downloading package wordnet to\n",
      "[nltk_data]     /Users/phzeller/nltk_data...\n",
      "[nltk_data]   Package wordnet is already up-to-date!\n"
     ]
    },
    {
     "data": {
      "text/plain": [
       "True"
      ]
     },
     "execution_count": 13,
     "metadata": {},
     "output_type": "execute_result"
    }
   ],
   "source": [
    "nltk.download('wordnet')"
   ]
  },
  {
   "cell_type": "code",
   "execution_count": 14,
   "id": "1a336786",
   "metadata": {
    "ExecuteTime": {
     "end_time": "2022-03-11T12:58:29.852253Z",
     "start_time": "2022-03-11T12:58:29.839252Z"
    }
   },
   "outputs": [],
   "source": [
    "stemmer = SnowballStemmer('english')"
   ]
  },
  {
   "cell_type": "code",
   "execution_count": 15,
   "id": "a3783c16",
   "metadata": {
    "ExecuteTime": {
     "end_time": "2022-03-11T13:02:13.680771Z",
     "start_time": "2022-03-11T13:02:13.673771Z"
    }
   },
   "outputs": [],
   "source": [
    "def lemmatize_stemming(text):\n",
    "    return stemmer.stem(WordNetLemmatizer().lemmatize(text, pos='v'))\n",
    "def preprocess(text):\n",
    "    result = []\n",
    "    for token in gensim.utils.simple_preprocess(text):\n",
    "        if token not in gensim.parsing.preprocessing.STOPWORDS and len(token) > 3:\n",
    "            result.append(lemmatize_stemming(token))\n",
    "    return result"
   ]
  },
  {
   "cell_type": "code",
   "execution_count": 16,
   "id": "7c3c3930",
   "metadata": {
    "ExecuteTime": {
     "end_time": "2022-03-11T13:03:09.086487Z",
     "start_time": "2022-03-11T13:02:14.563017Z"
    }
   },
   "outputs": [],
   "source": [
    "processed_docs = df['contents'].map(preprocess)"
   ]
  },
  {
   "cell_type": "code",
   "execution_count": 17,
   "id": "e124568d",
   "metadata": {
    "ExecuteTime": {
     "end_time": "2022-03-11T13:03:10.338584Z",
     "start_time": "2022-03-11T13:03:09.088485Z"
    }
   },
   "outputs": [
    {
     "name": "stdout",
     "output_type": "stream",
     "text": [
      "0 abil\n",
      "1 absenc\n",
      "2 absorb\n",
      "3 abus\n",
      "4 accept\n",
      "5 access\n",
      "6 accomplish\n",
      "7 accord\n",
      "8 accur\n",
      "9 achiev\n",
      "10 act\n"
     ]
    }
   ],
   "source": [
    "dictionary = gensim.corpora.Dictionary(processed_docs)\n",
    "count = 0\n",
    "for k, v in dictionary.iteritems():\n",
    "    print(k, v)\n",
    "    count += 1\n",
    "    if count > 10:\n",
    "        break"
   ]
  },
  {
   "cell_type": "code",
   "execution_count": 18,
   "id": "100f3fea",
   "metadata": {
    "ExecuteTime": {
     "end_time": "2022-03-11T13:03:10.369869Z",
     "start_time": "2022-03-11T13:03:10.339559Z"
    }
   },
   "outputs": [],
   "source": [
    "dictionary.filter_extremes(no_below=15, no_above=0.5, keep_n=100000)"
   ]
  },
  {
   "cell_type": "code",
   "execution_count": 19,
   "id": "ce7704f8",
   "metadata": {
    "ExecuteTime": {
     "end_time": "2022-03-11T13:03:11.016563Z",
     "start_time": "2022-03-11T13:03:10.370908Z"
    }
   },
   "outputs": [],
   "source": [
    "bow_corpus = [dictionary.doc2bow(doc) for doc in processed_docs]"
   ]
  },
  {
   "cell_type": "code",
   "execution_count": 20,
   "id": "288b9eba",
   "metadata": {
    "ExecuteTime": {
     "end_time": "2022-03-11T13:03:11.048582Z",
     "start_time": "2022-03-11T13:03:11.017607Z"
    }
   },
   "outputs": [],
   "source": [
    "# bow_doc_43 = bow_corpus[43]\n",
    "\n",
    "# for i in range(len(bow_doc_43)):\n",
    "#     print(\"Word {} (\\\"{}\\\") appears {} time.\".format(bow_doc_43[i][0], \n",
    "#                                                      dictionary[bow_doc_43[i][0]], \n",
    "#                                                      bow_doc_43[i][1]))"
   ]
  },
  {
   "cell_type": "code",
   "execution_count": 21,
   "id": "c0f7af37",
   "metadata": {
    "ExecuteTime": {
     "end_time": "2022-03-11T13:03:11.161565Z",
     "start_time": "2022-03-11T13:03:11.049564Z"
    }
   },
   "outputs": [],
   "source": [
    "tfidf = models.TfidfModel(bow_corpus)\n",
    "corpus_tfidf = tfidf[bow_corpus]"
   ]
  },
  {
   "cell_type": "markdown",
   "id": "a2753f52",
   "metadata": {},
   "source": [
    "# LDA using bag of words"
   ]
  },
  {
   "cell_type": "code",
   "execution_count": 22,
   "id": "a713f5e9",
   "metadata": {
    "ExecuteTime": {
     "end_time": "2022-03-11T13:03:20.978185Z",
     "start_time": "2022-03-11T13:03:11.164574Z"
    }
   },
   "outputs": [
    {
     "name": "stderr",
     "output_type": "stream",
     "text": [
      "WARNING:gensim.models.ldamulticore:too few updates, training might not converge; consider increasing the number of passes or iterations to improve accuracy\n"
     ]
    }
   ],
   "source": [
    "lda_model = gensim.models.LdaMulticore(bow_corpus, num_topics=10, id2word=dictionary, passes=2, workers=2)"
   ]
  },
  {
   "cell_type": "code",
   "execution_count": 23,
   "id": "6a1dafc3",
   "metadata": {
    "ExecuteTime": {
     "end_time": "2022-03-11T13:03:20.994191Z",
     "start_time": "2022-03-11T13:03:20.980185Z"
    }
   },
   "outputs": [
    {
     "name": "stdout",
     "output_type": "stream",
     "text": [
      "Topic: 0 \n",
      "Words: 0.009*\"crisi\" + 0.007*\"regulatori\" + 0.005*\"liquid\" + 0.005*\"save\" + 0.005*\"mortgag\" + 0.004*\"rule\" + 0.004*\"communiti\" + 0.004*\"compani\" + 0.004*\"insur\" + 0.004*\"lend\"\n",
      "Topic: 1 \n",
      "Words: 0.009*\"liquid\" + 0.007*\"loan\" + 0.007*\"system\" + 0.005*\"crisi\" + 0.005*\"trade\" + 0.005*\"communiti\" + 0.005*\"household\" + 0.005*\"loss\" + 0.004*\"deriv\" + 0.004*\"model\"\n",
      "Topic: 2 \n",
      "Words: 0.008*\"liquid\" + 0.008*\"inflat\" + 0.005*\"crisi\" + 0.005*\"trade\" + 0.004*\"investor\" + 0.004*\"loan\" + 0.004*\"labor\" + 0.004*\"system\" + 0.004*\"lend\" + 0.004*\"recoveri\"\n",
      "Topic: 3 \n",
      "Words: 0.010*\"system\" + 0.008*\"technolog\" + 0.008*\"insur\" + 0.006*\"mortgag\" + 0.006*\"regulatori\" + 0.006*\"compani\" + 0.005*\"innov\" + 0.005*\"supervis\" + 0.004*\"loan\" + 0.004*\"inflat\"\n",
      "Topic: 4 \n",
      "Words: 0.008*\"technolog\" + 0.007*\"stress\" + 0.007*\"test\" + 0.006*\"communiti\" + 0.006*\"model\" + 0.006*\"inflat\" + 0.006*\"innov\" + 0.006*\"worker\" + 0.005*\"labor\" + 0.004*\"educ\"\n",
      "Topic: 5 \n",
      "Words: 0.016*\"inflat\" + 0.013*\"basel\" + 0.008*\"labor\" + 0.007*\"rule\" + 0.006*\"regulatori\" + 0.005*\"fomc\" + 0.005*\"model\" + 0.005*\"unemploy\" + 0.004*\"framework\" + 0.004*\"target\"\n",
      "Topic: 6 \n",
      "Words: 0.036*\"inflat\" + 0.006*\"labor\" + 0.006*\"fomc\" + 0.006*\"unemploy\" + 0.006*\"target\" + 0.006*\"output\" + 0.006*\"forecast\" + 0.005*\"object\" + 0.004*\"trade\" + 0.004*\"spend\"\n",
      "Topic: 7 \n",
      "Words: 0.016*\"inflat\" + 0.008*\"organ\" + 0.007*\"control\" + 0.005*\"supervis\" + 0.005*\"foreign\" + 0.005*\"supervisor\" + 0.005*\"trade\" + 0.005*\"regulatori\" + 0.004*\"supervisori\" + 0.004*\"crisi\"\n",
      "Topic: 8 \n",
      "Words: 0.011*\"communiti\" + 0.009*\"inflat\" + 0.007*\"organ\" + 0.006*\"loan\" + 0.005*\"household\" + 0.005*\"technolog\" + 0.005*\"complianc\" + 0.004*\"spend\" + 0.004*\"system\" + 0.004*\"recoveri\"\n",
      "Topic: 9 \n",
      "Words: 0.028*\"communiti\" + 0.018*\"loan\" + 0.014*\"mortgag\" + 0.011*\"lend\" + 0.010*\"borrow\" + 0.009*\"hous\" + 0.006*\"liquid\" + 0.006*\"lender\" + 0.005*\"crisi\" + 0.005*\"local\"\n"
     ]
    }
   ],
   "source": [
    "for idx, topic in lda_model.print_topics(-1):\n",
    "    print('Topic: {} \\nWords: {}'.format(idx, topic))"
   ]
  },
  {
   "cell_type": "markdown",
   "id": "632d8b7e",
   "metadata": {},
   "source": [
    "# LDA using TF-IDF"
   ]
  },
  {
   "cell_type": "code",
   "execution_count": 24,
   "id": "8edd8c49",
   "metadata": {
    "ExecuteTime": {
     "end_time": "2022-03-11T13:03:36.357853Z",
     "start_time": "2022-03-11T13:03:20.996188Z"
    }
   },
   "outputs": [
    {
     "name": "stderr",
     "output_type": "stream",
     "text": [
      "WARNING:gensim.models.ldamulticore:too few updates, training might not converge; consider increasing the number of passes or iterations to improve accuracy\n"
     ]
    }
   ],
   "source": [
    "lda_model_tfidf = gensim.models.LdaMulticore(corpus_tfidf, num_topics=10, id2word=dictionary, passes=2, workers=4)"
   ]
  },
  {
   "cell_type": "code",
   "execution_count": 25,
   "id": "1f8d66ed",
   "metadata": {
    "ExecuteTime": {
     "end_time": "2022-03-11T13:03:36.373850Z",
     "start_time": "2022-03-11T13:03:36.358855Z"
    }
   },
   "outputs": [
    {
     "name": "stdout",
     "output_type": "stream",
     "text": [
      "Topic: 0 Word: 0.005*\"communiti\" + 0.003*\"anpr\" + 0.003*\"inflat\" + 0.002*\"contact\" + 0.002*\"updat\" + 0.002*\"news\" + 0.002*\"novemb\" + 0.002*\"euro\" + 0.002*\"loan\" + 0.002*\"famili\"\n",
      "Topic: 1 Word: 0.004*\"inflat\" + 0.004*\"basel\" + 0.002*\"communiti\" + 0.002*\"crisi\" + 0.002*\"test\" + 0.002*\"stress\" + 0.002*\"trade\" + 0.002*\"fomc\" + 0.002*\"labor\" + 0.002*\"fiscal\"\n",
      "Topic: 2 Word: 0.003*\"communiti\" + 0.003*\"mortgag\" + 0.003*\"inflat\" + 0.003*\"liquid\" + 0.003*\"technolog\" + 0.003*\"educ\" + 0.002*\"worker\" + 0.002*\"loan\" + 0.002*\"hous\" + 0.002*\"crisi\"\n",
      "Topic: 3 Word: 0.005*\"communiti\" + 0.003*\"neighborhood\" + 0.003*\"organ\" + 0.003*\"consolid\" + 0.003*\"regulatori\" + 0.002*\"affili\" + 0.002*\"loan\" + 0.002*\"insur\" + 0.002*\"supervisor\" + 0.002*\"system\"\n",
      "Topic: 4 Word: 0.006*\"inflat\" + 0.006*\"basel\" + 0.004*\"communiti\" + 0.003*\"libor\" + 0.002*\"fomc\" + 0.002*\"loan\" + 0.002*\"currenc\" + 0.002*\"fiscal\" + 0.002*\"neutral\" + 0.002*\"labor\"\n",
      "Topic: 5 Word: 0.005*\"inflat\" + 0.003*\"digit\" + 0.003*\"stablecoin\" + 0.002*\"labor\" + 0.002*\"currenc\" + 0.002*\"technolog\" + 0.002*\"japan\" + 0.002*\"fomc\" + 0.002*\"export\" + 0.002*\"dollar\"\n",
      "Topic: 6 Word: 0.004*\"communiti\" + 0.004*\"inflat\" + 0.003*\"loan\" + 0.002*\"mortgag\" + 0.002*\"fomc\" + 0.002*\"regulatori\" + 0.002*\"propos\" + 0.002*\"lend\" + 0.002*\"labor\" + 0.002*\"supervisori\"\n",
      "Topic: 7 Word: 0.005*\"communiti\" + 0.004*\"mortgag\" + 0.003*\"subprim\" + 0.002*\"loan\" + 0.002*\"hous\" + 0.002*\"electron\" + 0.002*\"hoepa\" + 0.002*\"educ\" + 0.002*\"neighborhood\" + 0.002*\"lend\"\n",
      "Topic: 8 Word: 0.006*\"basel\" + 0.005*\"communiti\" + 0.003*\"inflat\" + 0.003*\"audit\" + 0.002*\"supervisor\" + 0.002*\"women\" + 0.002*\"control\" + 0.002*\"rule\" + 0.002*\"auditor\" + 0.002*\"organ\"\n",
      "Topic: 9 Word: 0.009*\"inflat\" + 0.004*\"fomc\" + 0.002*\"labor\" + 0.002*\"unemploy\" + 0.002*\"target\" + 0.002*\"mortgag\" + 0.002*\"outlook\" + 0.002*\"crisi\" + 0.002*\"forecast\" + 0.002*\"loan\"\n"
     ]
    }
   ],
   "source": [
    "for idx, topic in lda_model_tfidf.print_topics(-1):\n",
    "    print('Topic: {} Word: {}'.format(idx, topic))"
   ]
  },
  {
   "cell_type": "markdown",
   "id": "97298f2c",
   "metadata": {},
   "source": [
    "# Doc2vec"
   ]
  },
  {
   "cell_type": "code",
   "execution_count": 26,
   "id": "ca359e4f",
   "metadata": {
    "ExecuteTime": {
     "end_time": "2022-03-11T13:03:41.184940Z",
     "start_time": "2022-03-11T13:03:36.374851Z"
    }
   },
   "outputs": [],
   "source": [
    "def read_corpus(f, tokens_only=False):\n",
    "        for i, line in enumerate(f):\n",
    "            tokens = gensim.utils.simple_preprocess(line)\n",
    "            if tokens_only:\n",
    "                yield tokens\n",
    "            else:\n",
    "                # For training data, add tags\n",
    "                yield gensim.models.doc2vec.TaggedDocument(tokens, [i])\n",
    "\n",
    "train_corpus = list(read_corpus(df.contents))"
   ]
  },
  {
   "cell_type": "code",
   "execution_count": 27,
   "id": "5d64593a",
   "metadata": {
    "ExecuteTime": {
     "end_time": "2022-03-11T13:04:04.189331Z",
     "start_time": "2022-03-11T13:03:41.185947Z"
    },
    "scrolled": true
   },
   "outputs": [],
   "source": [
    "#session crashed when i ran this, even when I had a GPU connected it didnt seem to use the GPU\n",
    "from gensim.models.doc2vec import Doc2Vec\n",
    "model = Doc2Vec(train_corpus, vector_size=200, window=3, min_count=1, workers=4)"
   ]
  },
  {
   "cell_type": "code",
   "execution_count": 28,
   "id": "7ed27065",
   "metadata": {
    "ExecuteTime": {
     "end_time": "2022-03-11T13:04:04.220633Z",
     "start_time": "2022-03-11T13:04:04.190307Z"
    }
   },
   "outputs": [],
   "source": [
    "def getVecs(model_name, corpus, size):\n",
    "    vecs = [np.array(model_name[z.tags[0]]).reshape((1, size)) for z in corpus]\n",
    "    return np.concatenate(vecs)\n",
    "train_vecs_dm = getVecs(model, train_corpus, 200)"
   ]
  },
  {
   "cell_type": "markdown",
   "id": "08e350fc",
   "metadata": {},
   "source": [
    "# Predictions on SPY changes\n"
   ]
  },
  {
   "cell_type": "code",
   "execution_count": 29,
   "id": "b1e4bb46",
   "metadata": {
    "ExecuteTime": {
     "end_time": "2022-03-11T13:04:04.252248Z",
     "start_time": "2022-03-11T13:04:04.237639Z"
    }
   },
   "outputs": [],
   "source": [
    "def pct_change_from_day_0(announcement):\n",
    "    pct_change= (announcement['SPY: d+7']/announcement['SPY: d-1'])-1\n",
    "    if pct_change>0:\n",
    "        return 'up'\n",
    "    else:\n",
    "        return 'down'"
   ]
  },
  {
   "cell_type": "code",
   "execution_count": 30,
   "id": "22ef2840",
   "metadata": {
    "ExecuteTime": {
     "end_time": "2022-03-11T13:04:04.268250Z",
     "start_time": "2022-03-11T13:04:04.253293Z"
    }
   },
   "outputs": [
    {
     "data": {
      "text/plain": [
       "'up'"
      ]
     },
     "execution_count": 30,
     "metadata": {},
     "output_type": "execute_result"
    }
   ],
   "source": [
    "pct_change_from_day_0(df.iloc[141])"
   ]
  },
  {
   "cell_type": "code",
   "execution_count": 31,
   "id": "648cba43",
   "metadata": {
    "ExecuteTime": {
     "end_time": "2022-03-11T13:04:04.300250Z",
     "start_time": "2022-03-11T13:04:04.270252Z"
    }
   },
   "outputs": [],
   "source": [
    "df['+7change']=df.apply(pct_change_from_day_0,axis=1)"
   ]
  },
  {
   "cell_type": "code",
   "execution_count": 32,
   "id": "bee52246",
   "metadata": {
    "ExecuteTime": {
     "end_time": "2022-03-11T13:04:04.332256Z",
     "start_time": "2022-03-11T13:04:04.317251Z"
    }
   },
   "outputs": [
    {
     "data": {
      "text/plain": [
       "up      905\n",
       "down    664\n",
       "Name: +7change, dtype: int64"
      ]
     },
     "execution_count": 32,
     "metadata": {},
     "output_type": "execute_result"
    }
   ],
   "source": [
    "df['+7change'].value_counts()"
   ]
  },
  {
   "cell_type": "code",
   "execution_count": 33,
   "id": "07afe01a",
   "metadata": {
    "ExecuteTime": {
     "end_time": "2022-03-11T13:04:04.348251Z",
     "start_time": "2022-03-11T13:04:04.333255Z"
    }
   },
   "outputs": [],
   "source": [
    "labels=df['+7change'].to_numpy()\n",
    "labels_onehot=pd.get_dummies(labels).values"
   ]
  },
  {
   "cell_type": "code",
   "execution_count": 34,
   "id": "5df99556",
   "metadata": {
    "ExecuteTime": {
     "end_time": "2022-03-11T13:04:04.380250Z",
     "start_time": "2022-03-11T13:04:04.366250Z"
    }
   },
   "outputs": [
    {
     "name": "stdout",
     "output_type": "stream",
     "text": [
      "1412 157 1412 157\n"
     ]
    }
   ],
   "source": [
    "X_train, X_test, y_train, y_test = train_test_split(train_vecs_dm,labels_onehot,train_size=0.9)\n",
    "print (len(X_train),len(X_test),len(y_train),len(y_test))"
   ]
  },
  {
   "cell_type": "code",
   "execution_count": 35,
   "id": "bbb57161",
   "metadata": {
    "ExecuteTime": {
     "end_time": "2022-03-11T13:04:04.396249Z",
     "start_time": "2022-03-11T13:04:04.383253Z"
    }
   },
   "outputs": [
    {
     "name": "stdout",
     "output_type": "stream",
     "text": [
      "1270 142 1270 142\n"
     ]
    }
   ],
   "source": [
    "X_train_m, X_val, y_train_m, y_val = train_test_split(X_train,y_train,train_size=0.9)\n",
    "print (len(X_train_m),len(X_val),len(y_train_m),len(y_val))"
   ]
  },
  {
   "cell_type": "code",
   "execution_count": 36,
   "id": "149bdd4c",
   "metadata": {
    "ExecuteTime": {
     "end_time": "2022-03-11T13:05:45.749687Z",
     "start_time": "2022-03-11T13:04:04.397250Z"
    }
   },
   "outputs": [
    {
     "name": "stdout",
     "output_type": "stream",
     "text": [
      "Metal device set to: "
     ]
    },
    {
     "name": "stderr",
     "output_type": "stream",
     "text": [
      "2022-03-14 18:55:04.638948: I tensorflow/core/common_runtime/pluggable_device/pluggable_device_factory.cc:305] Could not identify NUMA node of platform GPU ID 0, defaulting to 0. Your kernel may not have been built with NUMA support.\n",
      "2022-03-14 18:55:04.639071: I tensorflow/core/common_runtime/pluggable_device/pluggable_device_factory.cc:271] Created TensorFlow device (/job:localhost/replica:0/task:0/device:GPU:0 with 0 MB memory) -> physical PluggableDevice (device: 0, name: METAL, pci bus id: <undefined>)\n"
     ]
    },
    {
     "name": "stdout",
     "output_type": "stream",
     "text": [
      "Apple M1 Pro\n",
      "\n",
      "systemMemory: 16.00 GB\n",
      "maxCacheSize: 5.33 GB\n",
      "\n",
      "Epoch 1/30\n"
     ]
    },
    {
     "name": "stderr",
     "output_type": "stream",
     "text": [
      "2022-03-14 18:55:05.911878: W tensorflow/core/platform/profile_utils/cpu_utils.cc:128] Failed to get CPU frequency: 0 Hz\n",
      "2022-03-14 18:55:07.587567: I tensorflow/core/grappler/optimizers/custom_graph_optimizer_registry.cc:113] Plugin optimizer for device_type GPU is enabled.\n",
      "2022-03-14 18:55:07.920828: I tensorflow/core/grappler/optimizers/custom_graph_optimizer_registry.cc:113] Plugin optimizer for device_type GPU is enabled.\n",
      "2022-03-14 18:55:09.912033: I tensorflow/core/grappler/optimizers/custom_graph_optimizer_registry.cc:113] Plugin optimizer for device_type GPU is enabled.\n",
      "2022-03-14 18:55:11.803229: I tensorflow/core/grappler/optimizers/custom_graph_optimizer_registry.cc:113] Plugin optimizer for device_type GPU is enabled.\n",
      "2022-03-14 18:55:13.334613: I tensorflow/core/grappler/optimizers/custom_graph_optimizer_registry.cc:113] Plugin optimizer for device_type GPU is enabled.\n"
     ]
    },
    {
     "name": "stdout",
     "output_type": "stream",
     "text": [
      "13/13 [==============================] - ETA: 0s - loss: 0.2888 - accuracy: 0.5150"
     ]
    },
    {
     "name": "stderr",
     "output_type": "stream",
     "text": [
      "2022-03-14 18:55:17.364473: I tensorflow/core/grappler/optimizers/custom_graph_optimizer_registry.cc:113] Plugin optimizer for device_type GPU is enabled.\n",
      "2022-03-14 18:55:17.463255: I tensorflow/core/grappler/optimizers/custom_graph_optimizer_registry.cc:113] Plugin optimizer for device_type GPU is enabled.\n",
      "2022-03-14 18:55:17.717164: I tensorflow/core/grappler/optimizers/custom_graph_optimizer_registry.cc:113] Plugin optimizer for device_type GPU is enabled.\n"
     ]
    },
    {
     "name": "stdout",
     "output_type": "stream",
     "text": [
      "13/13 [==============================] - 13s 359ms/step - loss: 0.2888 - accuracy: 0.5150 - val_loss: 0.2479 - val_accuracy: 0.5775\n",
      "Epoch 2/30\n",
      "13/13 [==============================] - 1s 104ms/step - loss: 0.2739 - accuracy: 0.5315 - val_loss: 0.2463 - val_accuracy: 0.5775\n",
      "Epoch 3/30\n",
      "13/13 [==============================] - 1s 103ms/step - loss: 0.2668 - accuracy: 0.5480 - val_loss: 0.2452 - val_accuracy: 0.5775\n",
      "Epoch 4/30\n",
      "13/13 [==============================] - 1s 103ms/step - loss: 0.2628 - accuracy: 0.5512 - val_loss: 0.2446 - val_accuracy: 0.5775\n",
      "Epoch 5/30\n",
      "13/13 [==============================] - 1s 101ms/step - loss: 0.2590 - accuracy: 0.5646 - val_loss: 0.2441 - val_accuracy: 0.5775\n",
      "Epoch 6/30\n",
      "13/13 [==============================] - 1s 100ms/step - loss: 0.2656 - accuracy: 0.5394 - val_loss: 0.2440 - val_accuracy: 0.5775\n",
      "Epoch 7/30\n",
      "13/13 [==============================] - 1s 100ms/step - loss: 0.2550 - accuracy: 0.5535 - val_loss: 0.2440 - val_accuracy: 0.5775\n",
      "Epoch 8/30\n",
      "13/13 [==============================] - 2s 124ms/step - loss: 0.2630 - accuracy: 0.5512 - val_loss: 0.2441 - val_accuracy: 0.5775\n",
      "Epoch 9/30\n",
      "13/13 [==============================] - 1s 104ms/step - loss: 0.2572 - accuracy: 0.5567 - val_loss: 0.2439 - val_accuracy: 0.5775\n",
      "Epoch 10/30\n",
      "13/13 [==============================] - 2s 121ms/step - loss: 0.2603 - accuracy: 0.5575 - val_loss: 0.2439 - val_accuracy: 0.5775\n",
      "Epoch 11/30\n",
      "13/13 [==============================] - 1s 108ms/step - loss: 0.2530 - accuracy: 0.5512 - val_loss: 0.2439 - val_accuracy: 0.5775\n",
      "Epoch 12/30\n",
      "13/13 [==============================] - 1s 104ms/step - loss: 0.2540 - accuracy: 0.5591 - val_loss: 0.2438 - val_accuracy: 0.5775\n",
      "Epoch 13/30\n",
      "13/13 [==============================] - 1s 104ms/step - loss: 0.2552 - accuracy: 0.5606 - val_loss: 0.2439 - val_accuracy: 0.5775\n",
      "Epoch 14/30\n",
      "13/13 [==============================] - 1s 104ms/step - loss: 0.2483 - accuracy: 0.5827 - val_loss: 0.2440 - val_accuracy: 0.5775\n",
      "Epoch 15/30\n",
      "13/13 [==============================] - 1s 106ms/step - loss: 0.2511 - accuracy: 0.5787 - val_loss: 0.2439 - val_accuracy: 0.5775\n",
      "Epoch 16/30\n",
      "13/13 [==============================] - 1s 108ms/step - loss: 0.2493 - accuracy: 0.5614 - val_loss: 0.2438 - val_accuracy: 0.5775\n",
      "Epoch 17/30\n",
      "13/13 [==============================] - 1s 108ms/step - loss: 0.2492 - accuracy: 0.5795 - val_loss: 0.2439 - val_accuracy: 0.5775\n",
      "Epoch 18/30\n",
      "13/13 [==============================] - 1s 117ms/step - loss: 0.2483 - accuracy: 0.5906 - val_loss: 0.2440 - val_accuracy: 0.5775\n",
      "Epoch 19/30\n",
      "13/13 [==============================] - 1s 106ms/step - loss: 0.2516 - accuracy: 0.5748 - val_loss: 0.2434 - val_accuracy: 0.5775\n",
      "Epoch 20/30\n",
      "13/13 [==============================] - 2s 115ms/step - loss: 0.2494 - accuracy: 0.5819 - val_loss: 0.2438 - val_accuracy: 0.5775\n",
      "Epoch 21/30\n",
      "13/13 [==============================] - 1s 106ms/step - loss: 0.2468 - accuracy: 0.5803 - val_loss: 0.2431 - val_accuracy: 0.5775\n",
      "Epoch 22/30\n",
      "13/13 [==============================] - 1s 105ms/step - loss: 0.2435 - accuracy: 0.5913 - val_loss: 0.2429 - val_accuracy: 0.5775\n",
      "Epoch 23/30\n",
      "13/13 [==============================] - 1s 107ms/step - loss: 0.2451 - accuracy: 0.5953 - val_loss: 0.2430 - val_accuracy: 0.5775\n",
      "Epoch 24/30\n",
      "13/13 [==============================] - 1s 107ms/step - loss: 0.2477 - accuracy: 0.5858 - val_loss: 0.2429 - val_accuracy: 0.5775\n",
      "Epoch 25/30\n",
      "13/13 [==============================] - 1s 103ms/step - loss: 0.2469 - accuracy: 0.5890 - val_loss: 0.2445 - val_accuracy: 0.5775\n",
      "Epoch 26/30\n",
      "13/13 [==============================] - 1s 108ms/step - loss: 0.2446 - accuracy: 0.5795 - val_loss: 0.2459 - val_accuracy: 0.5775\n",
      "Epoch 27/30\n",
      "13/13 [==============================] - 1s 102ms/step - loss: 0.2429 - accuracy: 0.5969 - val_loss: 0.2459 - val_accuracy: 0.5775\n",
      "Epoch 28/30\n",
      "13/13 [==============================] - 1s 106ms/step - loss: 0.2413 - accuracy: 0.5976 - val_loss: 0.2442 - val_accuracy: 0.5775\n",
      "Epoch 29/30\n",
      "13/13 [==============================] - 1s 103ms/step - loss: 0.2429 - accuracy: 0.5969 - val_loss: 0.2430 - val_accuracy: 0.5775\n",
      "Epoch 30/30\n",
      "13/13 [==============================] - 1s 102ms/step - loss: 0.2445 - accuracy: 0.5827 - val_loss: 0.2430 - val_accuracy: 0.5775\n"
     ]
    }
   ],
   "source": [
    "model = Sequential()\n",
    "\n",
    "model.add(LSTM(units = 50, return_sequences = True, input_shape = (X_train.shape[1], 1)))\n",
    "model.add(Dropout(0.2))\n",
    "model.add(BatchNormalization())\n",
    "\n",
    "\n",
    "model.add(LSTM(units = 50))\n",
    "model.add(Dropout(0.25))\n",
    "model.add(BatchNormalization())\n",
    "\n",
    "model.add(Dense(2, activation='sigmoid'))\n",
    "\n",
    "model.compile(optimizer = 'adam', loss = 'mean_squared_error',metrics=['accuracy'])\n",
    "\n",
    "history=model.fit(X_train_m, y_train_m,validation_data=(X_val,y_val), epochs = 30, batch_size = 100)"
   ]
  },
  {
   "cell_type": "code",
   "execution_count": 37,
   "id": "87c5bd95",
   "metadata": {
    "ExecuteTime": {
     "end_time": "2022-03-11T13:05:47.954688Z",
     "start_time": "2022-03-11T13:05:47.766671Z"
    }
   },
   "outputs": [
    {
     "data": {
      "image/png": "[encoded data removed]",
      "text/plain": [
       "<Figure size 432x288 with 1 Axes>"
      ]
     },
     "metadata": {
      "needs_background": "light"
     },
     "output_type": "display_data"
    }
   ],
   "source": [
    "plt.plot(history.history['accuracy'], label='acc')\n",
    "plt.plot(history.history['val_accuracy'], label='val_acc')\n",
    "plt.title('Training and validation accuracy evolution through epochs')\n",
    "plt.legend()\n",
    "plt.show()"
   ]
  },
  {
   "cell_type": "code",
   "execution_count": 38,
   "id": "47397b81",
   "metadata": {
    "ExecuteTime": {
     "end_time": "2022-03-11T13:05:47.524669Z",
     "start_time": "2022-03-11T13:05:45.957770Z"
    }
   },
   "outputs": [
    {
     "name": "stdout",
     "output_type": "stream",
     "text": [
      "45/45 [==============================] - 4s 68ms/step - loss: 0.2427 - accuracy: 0.5800\n"
     ]
    },
    {
     "data": {
      "text/plain": [
       "[0.24272184073925018, 0.5800282955169678]"
      ]
     },
     "execution_count": 38,
     "metadata": {},
     "output_type": "execute_result"
    }
   ],
   "source": [
    "model.evaluate(X_train,y_train)"
   ]
  },
  {
   "cell_type": "code",
   "execution_count": 39,
   "id": "d98cc966",
   "metadata": {
    "ExecuteTime": {
     "end_time": "2022-03-11T13:05:47.763671Z",
     "start_time": "2022-03-11T13:05:47.526672Z"
    }
   },
   "outputs": [
    {
     "name": "stdout",
     "output_type": "stream",
     "text": [
      "5/5 [==============================] - 1s 161ms/step - loss: 0.2413 - accuracy: 0.5669\n"
     ]
    },
    {
     "data": {
      "text/plain": [
       "[0.24133917689323425, 0.5668789744377136]"
      ]
     },
     "execution_count": 39,
     "metadata": {},
     "output_type": "execute_result"
    }
   ],
   "source": [
    "model.evaluate(X_test,y_test)"
   ]
  }
 ],
 "metadata": {
  "kernelspec": {
   "display_name": "Python 3",
   "language": "python",
   "name": "python3"
  },
  "language_info": {
   "codemirror_mode": {
    "name": "ipython",
    "version": 3
   },
   "file_extension": ".py",
   "mimetype": "text/x-python",
   "name": "python",
   "nbconvert_exporter": "python",
   "pygments_lexer": "ipython3",
   "version": "3.8.12"
  },
  "toc": {
   "base_numbering": 1,
   "nav_menu": {},
   "number_sections": true,
   "sideBar": true,
   "skip_h1_title": false,
   "title_cell": "Table of Contents",
   "title_sidebar": "Contents",
   "toc_cell": false,
   "toc_position": {
    "height": "calc(100% - 180px)",
    "left": "10px",
    "top": "150px",
    "width": "195.273px"
   },
   "toc_section_display": true,
   "toc_window_display": true
  }
 },
 "nbformat": 4,
 "nbformat_minor": 5
}
