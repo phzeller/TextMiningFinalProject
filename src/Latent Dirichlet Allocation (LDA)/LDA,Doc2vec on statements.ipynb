{
 "cells": [
  {
   "cell_type": "code",
   "execution_count": 30,
   "id": "516e3838",
   "metadata": {
    "ExecuteTime": {
     "end_time": "2022-03-11T13:01:39.675028Z",
     "start_time": "2022-03-11T13:01:39.667025Z"
    }
   },
   "outputs": [],
   "source": [
    "import os\n",
    "import matplotlib.pyplot as plt\n",
    "import string\n",
    "\n",
    "\n",
    "import gensim\n",
    "from gensim import models\n",
    "from sklearn.model_selection import train_test_split\n",
    "\n",
    "import warnings\n",
    "warnings.filterwarnings('ignore')\n",
    "\n",
    "import numpy as np\n",
    "import pandas as pd\n",
    "\n",
    "import nltk\n",
    "\n",
    "from keras.models import Sequential\n",
    "from keras.layers import Dense, Dropout, BatchNormalization, LSTM\n",
    "\n",
    "from nltk.stem import SnowballStemmer\n",
    "from nltk.stem.porter import *\n",
    "\n",
    "np.random.seed(2018)"
   ]
  },
  {
   "cell_type": "code",
   "execution_count": 2,
   "id": "3f9d4c4b",
   "metadata": {
    "ExecuteTime": {
     "end_time": "2022-03-11T13:01:40.094637Z",
     "start_time": "2022-03-11T13:01:39.999545Z"
    }
   },
   "outputs": [],
   "source": [
    "notebook_dir = os.getcwd()\n",
    "rel_path = '../../data/complete_data/statements_cleaned_spy_tnx.csv'\n",
    "\n",
    "df=pd.read_csv(os.path.join(notebook_dir, rel_path), parse_dates=['date'])"
   ]
  },
  {
   "cell_type": "code",
   "execution_count": 3,
   "id": "548a64e9",
   "metadata": {
    "ExecuteTime": {
     "end_time": "2022-03-11T13:01:40.638894Z",
     "start_time": "2022-03-11T13:01:40.596735Z"
    }
   },
   "outputs": [
    {
     "data": {
      "text/html": [
       "<div>\n",
       "<style scoped>\n",
       "    .dataframe tbody tr th:only-of-type {\n",
       "        vertical-align: middle;\n",
       "    }\n",
       "\n",
       "    .dataframe tbody tr th {\n",
       "        vertical-align: top;\n",
       "    }\n",
       "\n",
       "    .dataframe thead th {\n",
       "        text-align: right;\n",
       "    }\n",
       "</style>\n",
       "<table border=\"1\" class=\"dataframe\">\n",
       "  <thead>\n",
       "    <tr style=\"text-align: right;\">\n",
       "      <th></th>\n",
       "      <th>date</th>\n",
       "      <th>contents</th>\n",
       "      <th>speaker</th>\n",
       "      <th>title</th>\n",
       "      <th>cleaned content</th>\n",
       "      <th>SPY: d-1</th>\n",
       "      <th>SPY: d+0</th>\n",
       "      <th>SPY: d+1</th>\n",
       "      <th>SPY: d+2</th>\n",
       "      <th>SPY: d+3</th>\n",
       "      <th>SPY: d+4</th>\n",
       "      <th>SPY: d+5</th>\n",
       "      <th>SPY: d+6</th>\n",
       "      <th>SPY: d+7</th>\n",
       "      <th>SPY: d+8</th>\n",
       "      <th>SPY: d+9</th>\n",
       "      <th>SPY: d+10</th>\n",
       "      <th>SPY: d+11</th>\n",
       "      <th>SPY: d+12</th>\n",
       "      <th>SPY: d+13</th>\n",
       "      <th>SPY: d+14</th>\n",
       "      <th>^TNX: d-1</th>\n",
       "      <th>^TNX: d+0</th>\n",
       "    </tr>\n",
       "  </thead>\n",
       "  <tbody>\n",
       "    <tr>\n",
       "      <th>0</th>\n",
       "      <td>1994-02-04</td>\n",
       "      <td>Chairman Alan Greenspan announced today that t...</td>\n",
       "      <td>Alan Greenspan</td>\n",
       "      <td>FOMC Statement</td>\n",
       "      <td>['SECTION', 'Chairman', 'Alan', 'Greenspan', '...</td>\n",
       "      <td>28.737467</td>\n",
       "      <td>28.083496</td>\n",
       "      <td>28.214291</td>\n",
       "      <td>28.232964</td>\n",
       "      <td>28.345083</td>\n",
       "      <td>28.102180</td>\n",
       "      <td>28.195601</td>\n",
       "      <td>28.232964</td>\n",
       "      <td>28.382442</td>\n",
       "      <td>28.363773</td>\n",
       "      <td>28.195601</td>\n",
       "      <td>28.027443</td>\n",
       "      <td>28.307709</td>\n",
       "      <td>28.232964</td>\n",
       "      <td>27.859268</td>\n",
       "      <td>27.990063</td>\n",
       "      <td>5.758</td>\n",
       "      <td>5.888</td>\n",
       "    </tr>\n",
       "    <tr>\n",
       "      <th>1</th>\n",
       "      <td>1994-03-22</td>\n",
       "      <td>Chairman Alan Greenspan announced today that t...</td>\n",
       "      <td>Alan Greenspan</td>\n",
       "      <td>FOMC Statement</td>\n",
       "      <td>['SECTION', 'Chairman', 'Alan', 'Greenspan', '...</td>\n",
       "      <td>28.170324</td>\n",
       "      <td>28.245501</td>\n",
       "      <td>28.226707</td>\n",
       "      <td>27.888437</td>\n",
       "      <td>27.625326</td>\n",
       "      <td>27.662933</td>\n",
       "      <td>27.117922</td>\n",
       "      <td>26.742073</td>\n",
       "      <td>26.817245</td>\n",
       "      <td>26.403801</td>\n",
       "      <td>26.948797</td>\n",
       "      <td>26.948797</td>\n",
       "      <td>27.080345</td>\n",
       "      <td>26.873617</td>\n",
       "      <td>26.986378</td>\n",
       "      <td>26.948797</td>\n",
       "      <td>6.537</td>\n",
       "      <td>6.435</td>\n",
       "    </tr>\n",
       "    <tr>\n",
       "      <th>2</th>\n",
       "      <td>1994-04-18</td>\n",
       "      <td>Chairman Alan Greenspan announced today that t...</td>\n",
       "      <td>Alan Greenspan</td>\n",
       "      <td>FOMC Statement</td>\n",
       "      <td>['SECTION', 'Chairman', 'Alan', 'Greenspan', '...</td>\n",
       "      <td>26.817245</td>\n",
       "      <td>26.638710</td>\n",
       "      <td>26.676292</td>\n",
       "      <td>26.648111</td>\n",
       "      <td>27.005156</td>\n",
       "      <td>26.976992</td>\n",
       "      <td>27.258863</td>\n",
       "      <td>27.230688</td>\n",
       "      <td>27.033371</td>\n",
       "      <td>27.117922</td>\n",
       "      <td>27.287062</td>\n",
       "      <td>27.258863</td>\n",
       "      <td>27.211891</td>\n",
       "      <td>27.174311</td>\n",
       "      <td>26.911221</td>\n",
       "      <td>26.676292</td>\n",
       "      <td>6.948</td>\n",
       "      <td>7.117</td>\n",
       "    </tr>\n",
       "    <tr>\n",
       "      <th>3</th>\n",
       "      <td>1994-05-17</td>\n",
       "      <td>The Federal Reserve today announced two action...</td>\n",
       "      <td>Alan Greenspan</td>\n",
       "      <td>FOMC Statement</td>\n",
       "      <td>['SECTION', 'Federal', 'Reserve', 'today', 'an...</td>\n",
       "      <td>26.779652</td>\n",
       "      <td>27.174311</td>\n",
       "      <td>27.371637</td>\n",
       "      <td>27.503181</td>\n",
       "      <td>27.399815</td>\n",
       "      <td>27.352842</td>\n",
       "      <td>27.465605</td>\n",
       "      <td>27.540762</td>\n",
       "      <td>27.559557</td>\n",
       "      <td>27.587755</td>\n",
       "      <td>27.550159</td>\n",
       "      <td>27.672316</td>\n",
       "      <td>27.644127</td>\n",
       "      <td>27.803860</td>\n",
       "      <td>27.794476</td>\n",
       "      <td>27.756870</td>\n",
       "      <td>7.232</td>\n",
       "      <td>7.086</td>\n",
       "    </tr>\n",
       "    <tr>\n",
       "      <th>4</th>\n",
       "      <td>1994-08-16</td>\n",
       "      <td>The Federal Reserve announced today the follow...</td>\n",
       "      <td>Alan Greenspan</td>\n",
       "      <td>FOMC Statement</td>\n",
       "      <td>['SECTION', 'Federal', 'Reserve', 'announced',...</td>\n",
       "      <td>28.034971</td>\n",
       "      <td>28.233603</td>\n",
       "      <td>28.214682</td>\n",
       "      <td>28.120092</td>\n",
       "      <td>28.101198</td>\n",
       "      <td>28.072817</td>\n",
       "      <td>28.233603</td>\n",
       "      <td>28.536278</td>\n",
       "      <td>28.460606</td>\n",
       "      <td>28.867315</td>\n",
       "      <td>28.848402</td>\n",
       "      <td>28.924082</td>\n",
       "      <td>28.848402</td>\n",
       "      <td>28.753832</td>\n",
       "      <td>28.630871</td>\n",
       "      <td>28.640335</td>\n",
       "      <td>7.286</td>\n",
       "      <td>7.170</td>\n",
       "    </tr>\n",
       "    <tr>\n",
       "      <th>...</th>\n",
       "      <td>...</td>\n",
       "      <td>...</td>\n",
       "      <td>...</td>\n",
       "      <td>...</td>\n",
       "      <td>...</td>\n",
       "      <td>...</td>\n",
       "      <td>...</td>\n",
       "      <td>...</td>\n",
       "      <td>...</td>\n",
       "      <td>...</td>\n",
       "      <td>...</td>\n",
       "      <td>...</td>\n",
       "      <td>...</td>\n",
       "      <td>...</td>\n",
       "      <td>...</td>\n",
       "      <td>...</td>\n",
       "      <td>...</td>\n",
       "      <td>...</td>\n",
       "      <td>...</td>\n",
       "      <td>...</td>\n",
       "      <td>...</td>\n",
       "      <td>...</td>\n",
       "      <td>...</td>\n",
       "    </tr>\n",
       "    <tr>\n",
       "      <th>206</th>\n",
       "      <td>2021-07-28</td>\n",
       "      <td>The Federal Reserve, the central bank of the U...</td>\n",
       "      <td>Jerome Powell</td>\n",
       "      <td>FOMC Statement</td>\n",
       "      <td>['Federal', 'Reserve', 'central', 'bank', 'Uni...</td>\n",
       "      <td>436.076019</td>\n",
       "      <td>435.897186</td>\n",
       "      <td>437.705048</td>\n",
       "      <td>435.579376</td>\n",
       "      <td>434.665497</td>\n",
       "      <td>438.201721</td>\n",
       "      <td>436.046234</td>\n",
       "      <td>438.807648</td>\n",
       "      <td>439.532745</td>\n",
       "      <td>439.175140</td>\n",
       "      <td>439.721466</td>\n",
       "      <td>440.814117</td>\n",
       "      <td>442.135254</td>\n",
       "      <td>442.939850</td>\n",
       "      <td>443.982819</td>\n",
       "      <td>441.072388</td>\n",
       "      <td>1.234</td>\n",
       "      <td>1.261</td>\n",
       "    </tr>\n",
       "    <tr>\n",
       "      <th>207</th>\n",
       "      <td>2021-09-22</td>\n",
       "      <td>The Federal Reserve, the central bank of the U...</td>\n",
       "      <td>Jerome Powell</td>\n",
       "      <td>FOMC Statement</td>\n",
       "      <td>['Federal', 'Reserve', 'central', 'bank', 'Uni...</td>\n",
       "      <td>432.111908</td>\n",
       "      <td>436.327057</td>\n",
       "      <td>441.628448</td>\n",
       "      <td>442.355896</td>\n",
       "      <td>441.090363</td>\n",
       "      <td>432.201569</td>\n",
       "      <td>432.929016</td>\n",
       "      <td>427.637634</td>\n",
       "      <td>432.719757</td>\n",
       "      <td>427.139374</td>\n",
       "      <td>431.583740</td>\n",
       "      <td>433.377441</td>\n",
       "      <td>437.124268</td>\n",
       "      <td>436.327057</td>\n",
       "      <td>433.168182</td>\n",
       "      <td>432.101929</td>\n",
       "      <td>1.324</td>\n",
       "      <td>1.336</td>\n",
       "    </tr>\n",
       "    <tr>\n",
       "      <th>208</th>\n",
       "      <td>2021-11-03</td>\n",
       "      <td>The Federal Reserve, the central bank of the U...</td>\n",
       "      <td>Jerome Powell</td>\n",
       "      <td>FOMC Statement</td>\n",
       "      <td>['Federal', 'Reserve', 'central', 'bank', 'Uni...</td>\n",
       "      <td>460.282898</td>\n",
       "      <td>463.093048</td>\n",
       "      <td>465.275391</td>\n",
       "      <td>466.889709</td>\n",
       "      <td>467.288300</td>\n",
       "      <td>465.743744</td>\n",
       "      <td>461.996887</td>\n",
       "      <td>462.146362</td>\n",
       "      <td>465.634094</td>\n",
       "      <td>465.793549</td>\n",
       "      <td>467.637085</td>\n",
       "      <td>466.501099</td>\n",
       "      <td>468.085510</td>\n",
       "      <td>467.248474</td>\n",
       "      <td>465.933075</td>\n",
       "      <td>466.550903</td>\n",
       "      <td>1.549</td>\n",
       "      <td>1.579</td>\n",
       "    </tr>\n",
       "    <tr>\n",
       "      <th>209</th>\n",
       "      <td>2021-12-15</td>\n",
       "      <td>The Federal Reserve, the central bank of the U...</td>\n",
       "      <td>Jerome Powell</td>\n",
       "      <td>FOMC Statement</td>\n",
       "      <td>['Federal', 'Reserve', 'central', 'bank', 'Uni...</td>\n",
       "      <td>461.737793</td>\n",
       "      <td>468.952454</td>\n",
       "      <td>464.816986</td>\n",
       "      <td>459.869995</td>\n",
       "      <td>454.980011</td>\n",
       "      <td>463.059998</td>\n",
       "      <td>467.690002</td>\n",
       "      <td>470.600006</td>\n",
       "      <td>477.260010</td>\n",
       "      <td>476.869995</td>\n",
       "      <td>477.480011</td>\n",
       "      <td>476.160004</td>\n",
       "      <td>474.959991</td>\n",
       "      <td>477.709991</td>\n",
       "      <td>477.549988</td>\n",
       "      <td>468.380005</td>\n",
       "      <td>1.438</td>\n",
       "      <td>1.463</td>\n",
       "    </tr>\n",
       "    <tr>\n",
       "      <th>210</th>\n",
       "      <td>2022-01-26</td>\n",
       "      <td>The Federal Reserve, the central bank of the U...</td>\n",
       "      <td>Jerome Powell</td>\n",
       "      <td>FOMC Statement</td>\n",
       "      <td>['Federal', 'Reserve', 'central', 'bank', 'Uni...</td>\n",
       "      <td>434.470001</td>\n",
       "      <td>433.380005</td>\n",
       "      <td>431.239990</td>\n",
       "      <td>441.950012</td>\n",
       "      <td>449.910004</td>\n",
       "      <td>452.950012</td>\n",
       "      <td>457.350006</td>\n",
       "      <td>446.600006</td>\n",
       "      <td>448.700012</td>\n",
       "      <td>447.260010</td>\n",
       "      <td>450.940002</td>\n",
       "      <td>457.540009</td>\n",
       "      <td>449.320007</td>\n",
       "      <td>440.459991</td>\n",
       "      <td>439.019989</td>\n",
       "      <td>446.100006</td>\n",
       "      <td>1.783</td>\n",
       "      <td>1.848</td>\n",
       "    </tr>\n",
       "  </tbody>\n",
       "</table>\n",
       "<p>211 rows × 23 columns</p>\n",
       "</div>"
      ],
      "text/plain": [
       "          date  ... ^TNX: d+0\n",
       "0   1994-02-04  ...     5.888\n",
       "1   1994-03-22  ...     6.435\n",
       "2   1994-04-18  ...     7.117\n",
       "3   1994-05-17  ...     7.086\n",
       "4   1994-08-16  ...     7.170\n",
       "..         ...  ...       ...\n",
       "206 2021-07-28  ...     1.261\n",
       "207 2021-09-22  ...     1.336\n",
       "208 2021-11-03  ...     1.579\n",
       "209 2021-12-15  ...     1.463\n",
       "210 2022-01-26  ...     1.848\n",
       "\n",
       "[211 rows x 23 columns]"
      ]
     },
     "execution_count": 3,
     "metadata": {},
     "output_type": "execute_result"
    }
   ],
   "source": [
    "df['contents'] = df['contents'].apply(lambda x: x.replace('\\n\\n[SECTION]\\n\\n', '').replace('\\n', ' ').replace('\\r', ' ').strip())\n",
    "df"
   ]
  },
  {
   "cell_type": "markdown",
   "id": "938fae83",
   "metadata": {},
   "source": [
    "# Preprocessing"
   ]
  },
  {
   "cell_type": "code",
   "execution_count": 4,
   "id": "3adf3716",
   "metadata": {
    "ExecuteTime": {
     "end_time": "2022-03-11T13:01:41.230946Z",
     "start_time": "2022-03-11T13:01:41.225942Z"
    }
   },
   "outputs": [
    {
     "name": "stderr",
     "output_type": "stream",
     "text": [
      "[nltk_data] Downloading package wordnet to\n",
      "[nltk_data]     /Users/phzeller/nltk_data...\n",
      "[nltk_data]   Package wordnet is already up-to-date!\n"
     ]
    },
    {
     "data": {
      "text/plain": [
       "True"
      ]
     },
     "execution_count": 4,
     "metadata": {},
     "output_type": "execute_result"
    }
   ],
   "source": [
    "nltk.download('wordnet')"
   ]
  },
  {
   "cell_type": "code",
   "execution_count": 5,
   "id": "1a336786",
   "metadata": {
    "ExecuteTime": {
     "end_time": "2022-03-11T13:01:41.651641Z",
     "start_time": "2022-03-11T13:01:41.635637Z"
    }
   },
   "outputs": [],
   "source": [
    "stemmer = SnowballStemmer('english')"
   ]
  },
  {
   "cell_type": "code",
   "execution_count": 6,
   "id": "5c1e1d71",
   "metadata": {
    "ExecuteTime": {
     "end_time": "2022-03-11T13:01:41.789459Z",
     "start_time": "2022-03-11T13:01:41.783455Z"
    }
   },
   "outputs": [],
   "source": [
    "def lemmatize_stemming(text):\n",
    "    return stemmer.stem(text)\n",
    "def preprocess(text):\n",
    "    result = []\n",
    "    for token in gensim.utils.simple_preprocess(text):\n",
    "        if token not in gensim.parsing.preprocessing.STOPWORDS and len(token) > 3:\n",
    "            result.append(lemmatize_stemming(token))\n",
    "    return result"
   ]
  },
  {
   "cell_type": "code",
   "execution_count": 7,
   "id": "bdbca1d6",
   "metadata": {
    "ExecuteTime": {
     "end_time": "2022-03-11T13:01:42.084374Z",
     "start_time": "2022-03-11T13:01:42.079383Z"
    }
   },
   "outputs": [],
   "source": [
    "def preprocessing(text):\n",
    "    # 1. Tokenization: text preprocessing step, which assumes splitting text into tokens\n",
    "    ret = nltk.word_tokenize(text)  # TODO: discuss if tokenizing on sentence level also makes sense\n",
    "    # 2. Cleaning: remove punctuation\n",
    "    ret = [t for t in ret if t not in string.punctuation]\n",
    "    # 3. Stop words removal\n",
    "    stop_words = set(nltk.corpus.stopwords.words('english'))\n",
    "    ret = [t for t in ret if t.lower() not in stop_words]\n",
    "    # 4. Lemmatization\n",
    "    lemmatizer = nltk.stem.WordNetLemmatizer()\n",
    "    ret = [lemmatizer.lemmatize(t) for t in ret]\n",
    "    return ret"
   ]
  },
  {
   "cell_type": "code",
   "execution_count": 8,
   "id": "7c3c3930",
   "metadata": {
    "ExecuteTime": {
     "end_time": "2022-03-11T13:01:52.868201Z",
     "start_time": "2022-03-11T13:01:42.527497Z"
    }
   },
   "outputs": [],
   "source": [
    "processed_docs = df['contents'].map(preprocess)"
   ]
  },
  {
   "cell_type": "code",
   "execution_count": 9,
   "id": "e124568d",
   "metadata": {
    "ExecuteTime": {
     "end_time": "2022-03-11T13:01:55.241035Z",
     "start_time": "2022-03-11T13:01:54.980055Z"
    }
   },
   "outputs": [
    {
     "name": "stdout",
     "output_type": "stream",
     "text": [
      "0 accommod\n",
      "1 action\n",
      "2 alan\n",
      "3 announc\n",
      "4 associ\n",
      "5 avoid\n",
      "6 chairman\n",
      "7 committe\n",
      "8 condit\n",
      "9 decid\n",
      "10 decis\n"
     ]
    }
   ],
   "source": [
    "dictionary = gensim.corpora.Dictionary(processed_docs)\n",
    "count = 0\n",
    "for k, v in dictionary.iteritems():\n",
    "    print(k, v)\n",
    "    count += 1\n",
    "    if count > 10:\n",
    "        break"
   ]
  },
  {
   "cell_type": "code",
   "execution_count": 10,
   "id": "100f3fea",
   "metadata": {
    "ExecuteTime": {
     "end_time": "2022-03-11T13:01:56.080338Z",
     "start_time": "2022-03-11T13:01:56.058363Z"
    }
   },
   "outputs": [],
   "source": [
    "dictionary.filter_extremes(no_below=15, no_above=0.5, keep_n=100000)"
   ]
  },
  {
   "cell_type": "code",
   "execution_count": 11,
   "id": "ce7704f8",
   "metadata": {
    "ExecuteTime": {
     "end_time": "2022-03-11T13:01:57.367977Z",
     "start_time": "2022-03-11T13:01:56.838563Z"
    }
   },
   "outputs": [],
   "source": [
    "bow_corpus = [dictionary.doc2bow(doc) for doc in processed_docs]"
   ]
  },
  {
   "cell_type": "code",
   "execution_count": 12,
   "id": "288b9eba",
   "metadata": {
    "ExecuteTime": {
     "end_time": "2022-03-11T13:01:58.196892Z",
     "start_time": "2022-03-11T13:01:58.176894Z"
    }
   },
   "outputs": [],
   "source": [
    "# bow_doc_43 = bow_corpus[43]\n",
    "\n",
    "# for i in range(len(bow_doc_43)):\n",
    "#     print(\"Word {} (\\\"{}\\\") appears {} time.\".format(bow_doc_43[i][0], \n",
    "#                                                      dictionary[bow_doc_43[i][0]], \n",
    "#                                                      bow_doc_43[i][1]))"
   ]
  },
  {
   "cell_type": "code",
   "execution_count": 13,
   "id": "c0f7af37",
   "metadata": {
    "ExecuteTime": {
     "end_time": "2022-03-11T13:01:58.494431Z",
     "start_time": "2022-03-11T13:01:58.436434Z"
    }
   },
   "outputs": [],
   "source": [
    "tfidf = models.TfidfModel(bow_corpus)\n",
    "corpus_tfidf = tfidf[bow_corpus]"
   ]
  },
  {
   "cell_type": "markdown",
   "id": "a2753f52",
   "metadata": {},
   "source": [
    "# LDA using bag of words"
   ]
  },
  {
   "cell_type": "code",
   "execution_count": 14,
   "id": "a713f5e9",
   "metadata": {
    "ExecuteTime": {
     "end_time": "2022-03-11T13:02:01.329113Z",
     "start_time": "2022-03-11T13:01:59.174115Z"
    }
   },
   "outputs": [
    {
     "name": "stderr",
     "output_type": "stream",
     "text": [
      "WARNING:gensim.models.ldamulticore:too few updates, training might not converge; consider increasing the number of passes or iterations to improve accuracy\n"
     ]
    }
   ],
   "source": [
    "lda_model = gensim.models.LdaMulticore(bow_corpus, num_topics=10, id2word=dictionary, passes=2, workers=2)"
   ]
  },
  {
   "cell_type": "code",
   "execution_count": 15,
   "id": "6a1dafc3",
   "metadata": {
    "ExecuteTime": {
     "end_time": "2022-03-11T13:02:01.345113Z",
     "start_time": "2022-03-11T13:02:01.331112Z"
    }
   },
   "outputs": [
    {
     "name": "stdout",
     "output_type": "stream",
     "text": [
      "Topic: 0 \n",
      "Words: 0.035*\"secur\" + 0.024*\"agenc\" + 0.020*\"mortgag\" + 0.018*\"back\" + 0.016*\"consist\" + 0.016*\"maximum\" + 0.014*\"object\" + 0.014*\"appropri\" + 0.013*\"treasuri\" + 0.013*\"purchas\"\n",
      "Topic: 1 \n",
      "Words: 0.021*\"believ\" + 0.020*\"home\" + 0.020*\"mark\" + 0.019*\"event\" + 0.019*\"gramlich\" + 0.019*\"news\" + 0.019*\"greenspan\" + 0.019*\"access\" + 0.018*\"alan\" + 0.018*\"updat\"\n",
      "Topic: 2 \n",
      "Words: 0.027*\"discount\" + 0.025*\"product\" + 0.024*\"avail\" + 0.023*\"long\" + 0.022*\"approv\" + 0.020*\"demand\" + 0.020*\"current\" + 0.018*\"event\" + 0.018*\"futur\" + 0.018*\"background\"\n",
      "Topic: 3 \n",
      "Words: 0.016*\"event\" + 0.014*\"updat\" + 0.014*\"goal\" + 0.013*\"approv\" + 0.013*\"believ\" + 0.013*\"access\" + 0.011*\"economi\" + 0.011*\"relat\" + 0.010*\"basi\" + 0.010*\"discount\"\n",
      "Topic: 4 \n",
      "Words: 0.016*\"object\" + 0.014*\"strong\" + 0.013*\"basi\" + 0.012*\"assess\" + 0.012*\"discount\" + 0.012*\"maximum\" + 0.011*\"relat\" + 0.011*\"consist\" + 0.010*\"approv\" + 0.010*\"futur\"\n",
      "Topic: 5 \n",
      "Words: 0.033*\"approv\" + 0.027*\"basi\" + 0.024*\"discount\" + 0.024*\"point\" + 0.020*\"relat\" + 0.018*\"request\" + 0.017*\"submit\" + 0.017*\"take\" + 0.017*\"francisco\" + 0.016*\"director\"\n",
      "Topic: 6 \n",
      "Words: 0.018*\"secur\" + 0.015*\"believ\" + 0.012*\"news\" + 0.011*\"event\" + 0.011*\"discount\" + 0.011*\"long\" + 0.011*\"basi\" + 0.011*\"approv\" + 0.011*\"current\" + 0.010*\"avail\"\n",
      "Topic: 7 \n",
      "Words: 0.016*\"current\" + 0.015*\"updat\" + 0.014*\"news\" + 0.014*\"event\" + 0.013*\"goal\" + 0.013*\"home\" + 0.012*\"access\" + 0.011*\"avail\" + 0.011*\"demand\" + 0.011*\"economi\"\n",
      "Topic: 8 \n",
      "Words: 0.029*\"economi\" + 0.026*\"goal\" + 0.022*\"maximum\" + 0.018*\"assess\" + 0.017*\"appropri\" + 0.016*\"secur\" + 0.015*\"achiev\" + 0.015*\"credit\" + 0.013*\"chair\" + 0.013*\"flow\"\n",
      "Topic: 9 \n",
      "Words: 0.029*\"secur\" + 0.021*\"purchas\" + 0.019*\"anticip\" + 0.017*\"consist\" + 0.016*\"recoveri\" + 0.016*\"mandat\" + 0.015*\"improv\" + 0.013*\"agenc\" + 0.013*\"hous\" + 0.013*\"back\"\n"
     ]
    }
   ],
   "source": [
    "for idx, topic in lda_model.print_topics(-1):\n",
    "    print('Topic: {} \\nWords: {}'.format(idx, topic))"
   ]
  },
  {
   "cell_type": "markdown",
   "id": "632d8b7e",
   "metadata": {},
   "source": [
    "# LDA using TF-IDF"
   ]
  },
  {
   "cell_type": "code",
   "execution_count": 16,
   "id": "8edd8c49",
   "metadata": {
    "ExecuteTime": {
     "end_time": "2022-03-11T13:02:04.950111Z",
     "start_time": "2022-03-11T13:02:01.347113Z"
    }
   },
   "outputs": [
    {
     "name": "stderr",
     "output_type": "stream",
     "text": [
      "WARNING:gensim.models.ldamulticore:too few updates, training might not converge; consider increasing the number of passes or iterations to improve accuracy\n"
     ]
    }
   ],
   "source": [
    "lda_model_tfidf = gensim.models.LdaMulticore(corpus_tfidf, num_topics=10, id2word=dictionary, passes=2, workers=4)"
   ]
  },
  {
   "cell_type": "code",
   "execution_count": 17,
   "id": "1f8d66ed",
   "metadata": {
    "ExecuteTime": {
     "end_time": "2022-03-11T13:02:04.966111Z",
     "start_time": "2022-03-11T13:02:04.951113Z"
    }
   },
   "outputs": [
    {
     "name": "stdout",
     "output_type": "stream",
     "text": [
      "Topic: 0 Word: 0.010*\"greenspan\" + 0.009*\"avail\" + 0.009*\"background\" + 0.008*\"mark\" + 0.007*\"forese\" + 0.007*\"announc\" + 0.007*\"alan\" + 0.007*\"product\" + 0.007*\"demand\" + 0.007*\"approv\"\n",
      "Topic: 1 Word: 0.010*\"uncertainti\" + 0.006*\"gramlich\" + 0.005*\"current\" + 0.005*\"main\" + 0.005*\"approv\" + 0.005*\"avail\" + 0.005*\"long\" + 0.005*\"weight\" + 0.005*\"robert\" + 0.005*\"generat\"\n",
      "Topic: 2 Word: 0.019*\"liquid\" + 0.018*\"credit\" + 0.012*\"lend\" + 0.012*\"billion\" + 0.011*\"purchas\" + 0.011*\"contract\" + 0.011*\"secur\" + 0.010*\"kevin\" + 0.010*\"warsh\" + 0.010*\"promot\"\n",
      "Topic: 3 Word: 0.008*\"secur\" + 0.008*\"hoenig\" + 0.006*\"purchas\" + 0.006*\"object\" + 0.006*\"mandat\" + 0.006*\"sandra\" + 0.006*\"pianalto\" + 0.006*\"recoveri\" + 0.005*\"jack\" + 0.005*\"guynn\"\n",
      "Topic: 4 Word: 0.013*\"secur\" + 0.013*\"purchas\" + 0.010*\"agenc\" + 0.010*\"mortgag\" + 0.008*\"appropri\" + 0.008*\"back\" + 0.008*\"long\" + 0.008*\"mandat\" + 0.007*\"hold\" + 0.007*\"dual\"\n",
      "Topic: 5 Word: 0.010*\"alan\" + 0.010*\"greenspan\" + 0.010*\"jack\" + 0.010*\"guynn\" + 0.009*\"achiev\" + 0.008*\"roger\" + 0.008*\"ferguson\" + 0.008*\"moskow\" + 0.008*\"michael\" + 0.008*\"olson\"\n",
      "Topic: 6 Word: 0.013*\"strong\" + 0.013*\"secur\" + 0.012*\"actual\" + 0.012*\"object\" + 0.011*\"agenc\" + 0.011*\"near\" + 0.011*\"base\" + 0.010*\"declin\" + 0.010*\"realiz\" + 0.010*\"strengthen\"\n",
      "Topic: 7 Word: 0.011*\"symmetr\" + 0.010*\"object\" + 0.009*\"strong\" + 0.009*\"base\" + 0.007*\"assess\" + 0.007*\"food\" + 0.007*\"solid\" + 0.006*\"recoveri\" + 0.006*\"maximum\" + 0.006*\"near\"\n",
      "Topic: 8 Word: 0.016*\"discount\" + 0.015*\"approv\" + 0.013*\"alan\" + 0.013*\"greenspan\" + 0.011*\"citi\" + 0.011*\"kansa\" + 0.010*\"updat\" + 0.010*\"home\" + 0.010*\"news\" + 0.010*\"access\"\n",
      "Topic: 9 Word: 0.009*\"approv\" + 0.009*\"flow\" + 0.008*\"achiev\" + 0.008*\"credit\" + 0.008*\"billion\" + 0.008*\"basi\" + 0.008*\"point\" + 0.008*\"shareth\" + 0.007*\"advers\" + 0.007*\"economi\"\n"
     ]
    }
   ],
   "source": [
    "for idx, topic in lda_model_tfidf.print_topics(-1):\n",
    "    print('Topic: {} Word: {}'.format(idx, topic))"
   ]
  },
  {
   "cell_type": "markdown",
   "id": "97298f2c",
   "metadata": {},
   "source": [
    "# Doc2vec"
   ]
  },
  {
   "cell_type": "code",
   "execution_count": 18,
   "id": "ca359e4f",
   "metadata": {
    "ExecuteTime": {
     "end_time": "2022-03-11T13:02:06.175220Z",
     "start_time": "2022-03-11T13:02:04.967113Z"
    }
   },
   "outputs": [],
   "source": [
    "def read_corpus(f, tokens_only=False):\n",
    "        for i, line in enumerate(f):\n",
    "            tokens = gensim.utils.simple_preprocess(line)\n",
    "            if tokens_only:\n",
    "                yield tokens\n",
    "            else:\n",
    "                # For training data, add tags\n",
    "                yield gensim.models.doc2vec.TaggedDocument(tokens, [i])\n",
    "\n",
    "train_corpus = list(read_corpus(df.contents))"
   ]
  },
  {
   "cell_type": "code",
   "execution_count": 19,
   "id": "5d64593a",
   "metadata": {
    "ExecuteTime": {
     "end_time": "2022-03-11T13:02:11.858129Z",
     "start_time": "2022-03-11T13:02:06.177115Z"
    },
    "scrolled": true
   },
   "outputs": [],
   "source": [
    "#session crashed when i ran this, even when I had a GPU connected it didnt seem to use the GPU\n",
    "from gensim.models.doc2vec import Doc2Vec\n",
    "model = Doc2Vec(train_corpus, vector_size=200, window=3, min_count=1, workers=4)"
   ]
  },
  {
   "cell_type": "code",
   "execution_count": 20,
   "id": "7ed27065",
   "metadata": {
    "ExecuteTime": {
     "end_time": "2022-03-11T13:02:11.873130Z",
     "start_time": "2022-03-11T13:02:11.859126Z"
    }
   },
   "outputs": [],
   "source": [
    "def getVecs(model_name, corpus, size):\n",
    "    vecs = [np.array(model_name[z.tags[0]]).reshape((1, size)) for z in corpus]\n",
    "    return np.concatenate(vecs)\n",
    "train_vecs_dm = getVecs(model, train_corpus, 200)"
   ]
  },
  {
   "cell_type": "markdown",
   "id": "08e350fc",
   "metadata": {},
   "source": [
    "# Predictions on SPY changes\n"
   ]
  },
  {
   "cell_type": "code",
   "execution_count": 21,
   "id": "b1e4bb46",
   "metadata": {
    "ExecuteTime": {
     "end_time": "2022-03-11T13:02:11.905145Z",
     "start_time": "2022-03-11T13:02:11.890112Z"
    }
   },
   "outputs": [],
   "source": [
    "def pct_change_from_day_0(announcement):\n",
    "    pct_change= (announcement['SPY: d+7']/announcement['SPY: d-1'])-1\n",
    "    if pct_change>0:\n",
    "        return 'up'\n",
    "    else:\n",
    "        return 'down'"
   ]
  },
  {
   "cell_type": "code",
   "execution_count": 22,
   "id": "22ef2840",
   "metadata": {
    "ExecuteTime": {
     "end_time": "2022-03-11T13:02:11.920964Z",
     "start_time": "2022-03-11T13:02:11.906113Z"
    }
   },
   "outputs": [
    {
     "data": {
      "text/plain": [
       "'up'"
      ]
     },
     "execution_count": 22,
     "metadata": {},
     "output_type": "execute_result"
    }
   ],
   "source": [
    "pct_change_from_day_0(df.iloc[141])"
   ]
  },
  {
   "cell_type": "code",
   "execution_count": 23,
   "id": "648cba43",
   "metadata": {
    "ExecuteTime": {
     "end_time": "2022-03-11T13:02:11.936752Z",
     "start_time": "2022-03-11T13:02:11.921933Z"
    }
   },
   "outputs": [],
   "source": [
    "df['+7change']=df.apply(pct_change_from_day_0,axis=1)"
   ]
  },
  {
   "cell_type": "code",
   "execution_count": 24,
   "id": "bee52246",
   "metadata": {
    "ExecuteTime": {
     "end_time": "2022-03-11T13:02:11.968721Z",
     "start_time": "2022-03-11T13:02:11.954756Z"
    }
   },
   "outputs": [
    {
     "data": {
      "text/plain": [
       "up      127\n",
       "down     84\n",
       "Name: +7change, dtype: int64"
      ]
     },
     "execution_count": 24,
     "metadata": {},
     "output_type": "execute_result"
    }
   ],
   "source": [
    "df['+7change'].value_counts()"
   ]
  },
  {
   "cell_type": "code",
   "execution_count": 25,
   "id": "07afe01a",
   "metadata": {
    "ExecuteTime": {
     "end_time": "2022-03-11T13:02:11.984734Z",
     "start_time": "2022-03-11T13:02:11.969722Z"
    }
   },
   "outputs": [],
   "source": [
    "labels=df['+7change'].to_numpy()\n",
    "labels_onehot=pd.get_dummies(labels).values"
   ]
  },
  {
   "cell_type": "code",
   "execution_count": 26,
   "id": "5df99556",
   "metadata": {
    "ExecuteTime": {
     "end_time": "2022-03-11T13:02:12.016994Z",
     "start_time": "2022-03-11T13:02:12.001869Z"
    }
   },
   "outputs": [
    {
     "name": "stdout",
     "output_type": "stream",
     "text": [
      "189 22 189 22\n"
     ]
    }
   ],
   "source": [
    "X_train, X_test, y_train, y_test = train_test_split(train_vecs_dm,labels_onehot,train_size=0.9)\n",
    "print (len(X_train),len(X_test),len(y_train),len(y_test))"
   ]
  },
  {
   "cell_type": "code",
   "execution_count": 27,
   "id": "bbb57161",
   "metadata": {
    "ExecuteTime": {
     "end_time": "2022-03-11T13:02:12.032373Z",
     "start_time": "2022-03-11T13:02:12.018977Z"
    }
   },
   "outputs": [
    {
     "name": "stdout",
     "output_type": "stream",
     "text": [
      "170 19 170 19\n"
     ]
    }
   ],
   "source": [
    "X_train_m, X_val, y_train_m, y_val = train_test_split(X_train,y_train,train_size=0.9)\n",
    "print (len(X_train_m),len(X_val),len(y_train_m),len(y_val))"
   ]
  },
  {
   "cell_type": "code",
   "execution_count": 31,
   "id": "149bdd4c",
   "metadata": {
    "ExecuteTime": {
     "end_time": "2022-03-11T13:02:29.283137Z",
     "start_time": "2022-03-11T13:02:12.033378Z"
    }
   },
   "outputs": [
    {
     "name": "stdout",
     "output_type": "stream",
     "text": [
      "Epoch 1/30\n"
     ]
    },
    {
     "name": "stderr",
     "output_type": "stream",
     "text": [
      "2022-03-14 19:41:24.587919: W tensorflow/core/platform/profile_utils/cpu_utils.cc:128] Failed to get CPU frequency: 0 Hz\n",
      "2022-03-14 19:41:26.182851: I tensorflow/core/grappler/optimizers/custom_graph_optimizer_registry.cc:113] Plugin optimizer for device_type GPU is enabled.\n",
      "2022-03-14 19:41:26.496134: I tensorflow/core/grappler/optimizers/custom_graph_optimizer_registry.cc:113] Plugin optimizer for device_type GPU is enabled.\n",
      "2022-03-14 19:41:28.211868: I tensorflow/core/grappler/optimizers/custom_graph_optimizer_registry.cc:113] Plugin optimizer for device_type GPU is enabled.\n",
      "2022-03-14 19:41:29.891246: I tensorflow/core/grappler/optimizers/custom_graph_optimizer_registry.cc:113] Plugin optimizer for device_type GPU is enabled.\n",
      "2022-03-14 19:41:31.232430: I tensorflow/core/grappler/optimizers/custom_graph_optimizer_registry.cc:113] Plugin optimizer for device_type GPU is enabled.\n"
     ]
    },
    {
     "name": "stdout",
     "output_type": "stream",
     "text": [
      "2/2 [==============================] - ETA: 0s - loss: 0.3117 - accuracy: 0.4706"
     ]
    },
    {
     "name": "stderr",
     "output_type": "stream",
     "text": [
      "2022-03-14 19:41:33.927337: I tensorflow/core/grappler/optimizers/custom_graph_optimizer_registry.cc:113] Plugin optimizer for device_type GPU is enabled.\n",
      "2022-03-14 19:41:34.013815: I tensorflow/core/grappler/optimizers/custom_graph_optimizer_registry.cc:113] Plugin optimizer for device_type GPU is enabled.\n",
      "2022-03-14 19:41:34.243758: I tensorflow/core/grappler/optimizers/custom_graph_optimizer_registry.cc:113] Plugin optimizer for device_type GPU is enabled.\n"
     ]
    },
    {
     "name": "stdout",
     "output_type": "stream",
     "text": [
      "2/2 [==============================] - 10s 3s/step - loss: 0.3117 - accuracy: 0.4706 - val_loss: 0.2500 - val_accuracy: 0.4211\n",
      "Epoch 2/30\n",
      "2/2 [==============================] - 0s 144ms/step - loss: 0.2877 - accuracy: 0.5647 - val_loss: 0.2491 - val_accuracy: 0.5789\n",
      "Epoch 3/30\n",
      "2/2 [==============================] - 0s 136ms/step - loss: 0.2785 - accuracy: 0.5588 - val_loss: 0.2480 - val_accuracy: 0.7368\n",
      "Epoch 4/30\n",
      "2/2 [==============================] - 0s 143ms/step - loss: 0.2933 - accuracy: 0.5118 - val_loss: 0.2471 - val_accuracy: 0.7368\n",
      "Epoch 5/30\n",
      "2/2 [==============================] - 0s 146ms/step - loss: 0.2817 - accuracy: 0.5118 - val_loss: 0.2461 - val_accuracy: 0.7368\n",
      "Epoch 6/30\n",
      "2/2 [==============================] - 0s 137ms/step - loss: 0.2707 - accuracy: 0.5706 - val_loss: 0.2451 - val_accuracy: 0.7368\n",
      "Epoch 7/30\n",
      "2/2 [==============================] - 0s 136ms/step - loss: 0.2628 - accuracy: 0.5765 - val_loss: 0.2441 - val_accuracy: 0.7368\n",
      "Epoch 8/30\n",
      "2/2 [==============================] - 0s 137ms/step - loss: 0.2538 - accuracy: 0.6176 - val_loss: 0.2430 - val_accuracy: 0.7368\n",
      "Epoch 9/30\n",
      "2/2 [==============================] - 0s 136ms/step - loss: 0.2532 - accuracy: 0.5765 - val_loss: 0.2421 - val_accuracy: 0.7368\n",
      "Epoch 10/30\n",
      "2/2 [==============================] - 0s 137ms/step - loss: 0.2707 - accuracy: 0.5412 - val_loss: 0.2412 - val_accuracy: 0.7368\n",
      "Epoch 11/30\n",
      "2/2 [==============================] - 0s 132ms/step - loss: 0.2652 - accuracy: 0.5647 - val_loss: 0.2401 - val_accuracy: 0.7368\n",
      "Epoch 12/30\n",
      "2/2 [==============================] - 0s 143ms/step - loss: 0.2492 - accuracy: 0.6706 - val_loss: 0.2390 - val_accuracy: 0.7368\n",
      "Epoch 13/30\n",
      "2/2 [==============================] - 0s 177ms/step - loss: 0.2459 - accuracy: 0.5882 - val_loss: 0.2380 - val_accuracy: 0.7368\n",
      "Epoch 14/30\n",
      "2/2 [==============================] - 0s 146ms/step - loss: 0.2471 - accuracy: 0.6294 - val_loss: 0.2370 - val_accuracy: 0.7368\n",
      "Epoch 15/30\n",
      "2/2 [==============================] - 0s 136ms/step - loss: 0.2460 - accuracy: 0.6235 - val_loss: 0.2362 - val_accuracy: 0.7368\n",
      "Epoch 16/30\n",
      "2/2 [==============================] - 0s 130ms/step - loss: 0.2500 - accuracy: 0.5882 - val_loss: 0.2352 - val_accuracy: 0.7368\n",
      "Epoch 17/30\n",
      "2/2 [==============================] - 0s 139ms/step - loss: 0.2390 - accuracy: 0.6118 - val_loss: 0.2343 - val_accuracy: 0.7368\n",
      "Epoch 18/30\n",
      "2/2 [==============================] - 0s 131ms/step - loss: 0.2365 - accuracy: 0.6059 - val_loss: 0.2334 - val_accuracy: 0.7368\n",
      "Epoch 19/30\n",
      "2/2 [==============================] - 0s 136ms/step - loss: 0.2594 - accuracy: 0.5471 - val_loss: 0.2325 - val_accuracy: 0.7368\n",
      "Epoch 20/30\n",
      "2/2 [==============================] - 0s 131ms/step - loss: 0.2549 - accuracy: 0.6059 - val_loss: 0.2317 - val_accuracy: 0.7368\n",
      "Epoch 21/30\n",
      "2/2 [==============================] - 0s 135ms/step - loss: 0.2410 - accuracy: 0.6529 - val_loss: 0.2311 - val_accuracy: 0.7368\n",
      "Epoch 22/30\n",
      "2/2 [==============================] - 0s 136ms/step - loss: 0.2353 - accuracy: 0.6824 - val_loss: 0.2304 - val_accuracy: 0.7368\n",
      "Epoch 23/30\n",
      "2/2 [==============================] - 0s 141ms/step - loss: 0.2371 - accuracy: 0.5941 - val_loss: 0.2297 - val_accuracy: 0.7368\n",
      "Epoch 24/30\n",
      "2/2 [==============================] - 0s 137ms/step - loss: 0.2289 - accuracy: 0.6765 - val_loss: 0.2289 - val_accuracy: 0.7368\n",
      "Epoch 25/30\n",
      "2/2 [==============================] - 0s 141ms/step - loss: 0.2317 - accuracy: 0.6471 - val_loss: 0.2281 - val_accuracy: 0.7368\n",
      "Epoch 26/30\n",
      "2/2 [==============================] - 0s 153ms/step - loss: 0.2297 - accuracy: 0.6471 - val_loss: 0.2275 - val_accuracy: 0.7368\n",
      "Epoch 27/30\n",
      "2/2 [==============================] - 0s 177ms/step - loss: 0.2455 - accuracy: 0.6000 - val_loss: 0.2272 - val_accuracy: 0.7368\n",
      "Epoch 28/30\n",
      "2/2 [==============================] - 0s 140ms/step - loss: 0.2407 - accuracy: 0.6235 - val_loss: 0.2268 - val_accuracy: 0.7368\n",
      "Epoch 29/30\n",
      "2/2 [==============================] - 0s 131ms/step - loss: 0.2409 - accuracy: 0.6059 - val_loss: 0.2264 - val_accuracy: 0.7368\n",
      "Epoch 30/30\n",
      "2/2 [==============================] - 0s 135ms/step - loss: 0.2316 - accuracy: 0.6294 - val_loss: 0.2262 - val_accuracy: 0.7368\n"
     ]
    }
   ],
   "source": [
    "model = Sequential()\n",
    "\n",
    "model.add(LSTM(units = 50, return_sequences = True, input_shape = (X_train.shape[1], 1)))\n",
    "model.add(Dropout(0.2))\n",
    "model.add(BatchNormalization())\n",
    "\n",
    "\n",
    "model.add(LSTM(units = 50))\n",
    "model.add(Dropout(0.25))\n",
    "model.add(BatchNormalization())\n",
    "\n",
    "model.add(Dense(2, activation='sigmoid'))\n",
    "\n",
    "model.compile(optimizer = 'adam', loss = 'mean_squared_error',metrics=['accuracy'])\n",
    "\n",
    "history=model.fit(X_train_m, y_train_m,validation_data=(X_val,y_val), epochs = 30, batch_size = 100)"
   ]
  },
  {
   "cell_type": "code",
   "execution_count": null,
   "id": "87c5bd95",
   "metadata": {
    "ExecuteTime": {
     "end_time": "2022-03-11T13:02:29.523162Z",
     "start_time": "2022-03-11T13:02:29.285134Z"
    }
   },
   "outputs": [
    {
     "data": {
      "image/png": "[encoded data removed]",
      "text/plain": [
       "<Figure size 432x288 with 1 Axes>"
      ]
     },
     "metadata": {
      "needs_background": "light"
     },
     "output_type": "display_data"
    },
    {
     "data": {
      "text/plain": [
       "<Figure size 432x288 with 0 Axes>"
      ]
     },
     "metadata": {},
     "output_type": "display_data"
    }
   ],
   "source": [
    "plt.plot(history.history['accuracy'], label='acc')\n",
    "plt.plot(history.history['val_accuracy'], label='val_acc')\n",
    "plt.title('Training and validation accuracy evolution through epochs')\n",
    "plt.legend()\n",
    "plt.show()\n",
    "plt.savefig(\"Accuracy plot.jpg\")"
   ]
  },
  {
   "cell_type": "code",
   "execution_count": null,
   "id": "47397b81",
   "metadata": {
    "ExecuteTime": {
     "end_time": "2022-03-11T13:02:29.854133Z",
     "start_time": "2022-03-11T13:02:29.525134Z"
    }
   },
   "outputs": [
    {
     "name": "stdout",
     "output_type": "stream",
     "text": [
      "6/6 [==============================] - 1s 121ms/step - loss: 0.2435 - accuracy: 0.6085\n"
     ]
    },
    {
     "data": {
      "text/plain": [
       "[0.24346180260181427, 0.6084656715393066]"
      ]
     },
     "execution_count": 35,
     "metadata": {},
     "output_type": "execute_result"
    }
   ],
   "source": [
    "model.evaluate(X_train,y_train)"
   ]
  },
  {
   "cell_type": "code",
   "execution_count": null,
   "id": "d98cc966",
   "metadata": {
    "ExecuteTime": {
     "end_time": "2022-03-11T13:02:29.947134Z",
     "start_time": "2022-03-11T13:02:29.856135Z"
    }
   },
   "outputs": [
    {
     "name": "stdout",
     "output_type": "stream",
     "text": [
      "1/1 [==============================] - 0s 427ms/step - loss: 0.2463 - accuracy: 0.5455\n"
     ]
    },
    {
     "data": {
      "text/plain": [
       "[0.2463086098432541, 0.5454545617103577]"
      ]
     },
     "execution_count": 36,
     "metadata": {},
     "output_type": "execute_result"
    }
   ],
   "source": [
    "model.evaluate(X_test,y_test)"
   ]
  }
 ],
 "metadata": {
  "kernelspec": {
   "display_name": "Python 3",
   "language": "python",
   "name": "python3"
  },
  "language_info": {
   "codemirror_mode": {
    "name": "ipython",
    "version": 3
   },
   "file_extension": ".py",
   "mimetype": "text/x-python",
   "name": "python",
   "nbconvert_exporter": "python",
   "pygments_lexer": "ipython3",
   "version": "3.8.12"
  },
  "toc": {
   "base_numbering": 1,
   "nav_menu": {},
   "number_sections": true,
   "sideBar": true,
   "skip_h1_title": false,
   "title_cell": "Table of Contents",
   "title_sidebar": "Contents",
   "toc_cell": false,
   "toc_position": {
    "height": "calc(100% - 180px)",
    "left": "10px",
    "top": "150px",
    "width": "195.273px"
   },
   "toc_section_display": true,
   "toc_window_display": true
  }
 },
 "nbformat": 4,
 "nbformat_minor": 5
}
