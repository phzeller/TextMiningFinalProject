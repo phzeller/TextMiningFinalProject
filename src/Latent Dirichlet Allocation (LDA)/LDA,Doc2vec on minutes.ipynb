{
 "cells": [
  {
   "cell_type": "code",
   "execution_count": 49,
   "id": "516e3838",
   "metadata": {
    "ExecuteTime": {
     "end_time": "2022-03-11T13:06:53.862236Z",
     "start_time": "2022-03-11T13:06:50.887471Z"
    }
   },
   "outputs": [],
   "source": [
    "import os\n",
    "import matplotlib.pyplot as plt\n",
    "import gensim\n",
    "from gensim import models\n",
    "from gensim.models.doc2vec import Doc2Vec\n",
    "\n",
    "from sklearn.model_selection import train_test_split\n",
    "import warnings\n",
    "warnings.filterwarnings('ignore')\n",
    "import matplotlib.pyplot as plt \n",
    "# import tensorflow as tf\n",
    "\n",
    "import numpy as np\n",
    "import pandas as pd\n",
    "import nltk\n",
    "\n",
    "from keras.models import Sequential\n",
    "from keras.layers import LSTM,Dense, Dropout, BatchNormalization\n",
    "\n",
    "from nltk.stem import WordNetLemmatizer, SnowballStemmer\n",
    "from nltk.stem.porter import *\n",
    "\n",
    "np.random.seed(2018)"
   ]
  },
  {
   "cell_type": "code",
   "execution_count": 50,
   "id": "3f9d4c4b",
   "metadata": {
    "ExecuteTime": {
     "end_time": "2022-03-11T13:06:59.619380Z",
     "start_time": "2022-03-11T13:06:59.525258Z"
    }
   },
   "outputs": [],
   "source": [
    "notebook_dir = os.getcwd()\n",
    "rel_path = '../../data/complete_data/minutes_cleaned_spy_tnx.csv'\n",
    "\n",
    "df=pd.read_csv(os.path.join(notebook_dir, rel_path), parse_dates=['date'])"
   ]
  },
  {
   "cell_type": "code",
   "execution_count": 51,
   "id": "548a64e9",
   "metadata": {
    "ExecuteTime": {
     "end_time": "2022-03-11T13:07:00.696369Z",
     "start_time": "2022-03-11T13:07:00.641254Z"
    }
   },
   "outputs": [],
   "source": [
    "df['contents'] = df['contents'].apply(lambda x: x.replace('\\n\\n[SECTION]\\n\\n', '').replace('\\n', ' ').replace('\\r', ' ').strip())\n",
    "df"
   ]
  },
  {
   "cell_type": "markdown",
   "id": "938fae83",
   "metadata": {},
   "source": [
    "# Preprocessing"
   ]
  },
  {
   "cell_type": "code",
   "execution_count": 52,
   "id": "3adf3716",
   "metadata": {
    "ExecuteTime": {
     "end_time": "2022-03-11T13:07:02.740788Z",
     "start_time": "2022-03-11T13:07:02.305867Z"
    }
   },
   "outputs": [
    {
     "name": "stderr",
     "output_type": "stream",
     "text": [
      "[nltk_data] Downloading package wordnet to\n",
      "[nltk_data]     /Users/phzeller/nltk_data...\n",
      "[nltk_data]   Package wordnet is already up-to-date!\n"
     ]
    },
    {
     "data": {
      "text/plain": [
       "True"
      ]
     },
     "execution_count": 52,
     "metadata": {},
     "output_type": "execute_result"
    }
   ],
   "source": [
    "nltk.download('wordnet')"
   ]
  },
  {
   "cell_type": "code",
   "execution_count": 53,
   "id": "1a336786",
   "metadata": {
    "ExecuteTime": {
     "end_time": "2022-03-11T13:07:02.756797Z",
     "start_time": "2022-03-11T13:07:02.741741Z"
    }
   },
   "outputs": [],
   "source": [
    "stemmer = SnowballStemmer('english')"
   ]
  },
  {
   "cell_type": "code",
   "execution_count": 54,
   "id": "a3783c16",
   "metadata": {
    "ExecuteTime": {
     "end_time": "2022-03-11T13:07:02.850981Z",
     "start_time": "2022-03-11T13:07:02.835983Z"
    }
   },
   "outputs": [],
   "source": [
    "def lemmatize_stemming(text):\n",
    "    return stemmer.stem(WordNetLemmatizer().lemmatize(text, pos='v'))\n",
    "def preprocess(text):\n",
    "    result = []\n",
    "    for token in gensim.utils.simple_preprocess(text):\n",
    "        if token not in gensim.parsing.preprocessing.STOPWORDS and len(token) > 3:\n",
    "            result.append(lemmatize_stemming(token))\n",
    "    return result"
   ]
  },
  {
   "cell_type": "code",
   "execution_count": 55,
   "id": "7c3c3930",
   "metadata": {
    "ExecuteTime": {
     "end_time": "2022-03-11T13:07:20.743818Z",
     "start_time": "2022-03-11T13:07:05.217217Z"
    }
   },
   "outputs": [],
   "source": [
    "processed_docs = df['contents'].map(preprocess)"
   ]
  },
  {
   "cell_type": "code",
   "execution_count": 56,
   "id": "e124568d",
   "metadata": {
    "ExecuteTime": {
     "end_time": "2022-03-11T13:07:21.076881Z",
     "start_time": "2022-03-11T13:07:20.745813Z"
    }
   },
   "outputs": [
    {
     "name": "stdout",
     "output_type": "stream",
     "text": [
      "0 abat\n",
      "1 abil\n",
      "2 abroad\n",
      "3 abrupt\n",
      "4 absenc\n",
      "5 acceler\n",
      "6 accept\n",
      "7 accommod\n",
      "8 accompani\n",
      "9 accord\n",
      "10 account\n"
     ]
    }
   ],
   "source": [
    "dictionary = gensim.corpora.Dictionary(processed_docs)\n",
    "count = 0\n",
    "for k, v in dictionary.iteritems():\n",
    "    print(k, v)\n",
    "    count += 1\n",
    "    if count > 10:\n",
    "        break"
   ]
  },
  {
   "cell_type": "code",
   "execution_count": 57,
   "id": "100f3fea",
   "metadata": {
    "ExecuteTime": {
     "end_time": "2022-03-11T13:07:21.092795Z",
     "start_time": "2022-03-11T13:07:21.078776Z"
    }
   },
   "outputs": [],
   "source": [
    "dictionary.filter_extremes(no_below=15, no_above=0.5, keep_n=100000)"
   ]
  },
  {
   "cell_type": "code",
   "execution_count": 58,
   "id": "ce7704f8",
   "metadata": {
    "ExecuteTime": {
     "end_time": "2022-03-11T13:07:21.266868Z",
     "start_time": "2022-03-11T13:07:21.093775Z"
    }
   },
   "outputs": [],
   "source": [
    "bow_corpus = [dictionary.doc2bow(doc) for doc in processed_docs]"
   ]
  },
  {
   "cell_type": "code",
   "execution_count": 59,
   "id": "288b9eba",
   "metadata": {
    "ExecuteTime": {
     "end_time": "2022-03-11T13:07:21.298860Z",
     "start_time": "2022-03-11T13:07:21.267857Z"
    }
   },
   "outputs": [],
   "source": [
    "# bow_doc_43 = bow_corpus[43]\n",
    "\n",
    "# for i in range(len(bow_doc_43)):\n",
    "#     print(\"Word {} (\\\"{}\\\") appears {} time.\".format(bow_doc_43[i][0], \n",
    "#                                                      dictionary[bow_doc_43[i][0]], \n",
    "#                                                      bow_doc_43[i][1]))"
   ]
  },
  {
   "cell_type": "code",
   "execution_count": 60,
   "id": "c0f7af37",
   "metadata": {
    "ExecuteTime": {
     "end_time": "2022-03-11T13:07:21.330779Z",
     "start_time": "2022-03-11T13:07:21.299786Z"
    }
   },
   "outputs": [],
   "source": [
    "tfidf = models.TfidfModel(bow_corpus)\n",
    "corpus_tfidf = tfidf[bow_corpus]"
   ]
  },
  {
   "cell_type": "markdown",
   "id": "a2753f52",
   "metadata": {},
   "source": [
    "# LDA using bag of words"
   ]
  },
  {
   "cell_type": "code",
   "execution_count": 61,
   "id": "a713f5e9",
   "metadata": {
    "ExecuteTime": {
     "end_time": "2022-03-11T13:07:23.597773Z",
     "start_time": "2022-03-11T13:07:21.332776Z"
    }
   },
   "outputs": [
    {
     "name": "stderr",
     "output_type": "stream",
     "text": [
      "WARNING:gensim.models.ldamulticore:too few updates, training might not converge; consider increasing the number of passes or iterations to improve accuracy\n"
     ]
    }
   ],
   "source": [
    "lda_model = gensim.models.LdaMulticore(bow_corpus, num_topics=10, id2word=dictionary, passes=2, workers=2)"
   ]
  },
  {
   "cell_type": "code",
   "execution_count": 62,
   "id": "6a1dafc3",
   "metadata": {
    "ExecuteTime": {
     "end_time": "2022-03-11T13:07:23.613777Z",
     "start_time": "2022-03-11T13:07:23.599778Z"
    }
   },
   "outputs": [
    {
     "name": "stdout",
     "output_type": "stream",
     "text": [
      "Topic: 0 \n",
      "Words: 0.028*\"shall\" + 0.017*\"arrang\" + 0.013*\"subcommitte\" + 0.010*\"consult\" + 0.010*\"paragraph\" + 0.009*\"draw\" + 0.007*\"procedur\" + 0.006*\"select\" + 0.006*\"sell\" + 0.006*\"million\"\n",
      "Topic: 1 \n",
      "Words: 0.010*\"hurrican\" + 0.009*\"desk\" + 0.008*\"reinvest\" + 0.007*\"mandat\" + 0.006*\"disrupt\" + 0.005*\"soma\" + 0.005*\"tool\" + 0.005*\"arrang\" + 0.004*\"district\" + 0.004*\"outbreak\"\n",
      "Topic: 2 \n",
      "Words: 0.012*\"april\" + 0.008*\"arrang\" + 0.006*\"greenspan\" + 0.006*\"lindsey\" + 0.005*\"lesser\" + 0.005*\"broaddus\" + 0.005*\"mexico\" + 0.005*\"mcdonough\" + 0.005*\"kelley\" + 0.005*\"discount\"\n",
      "Topic: 3 \n",
      "Words: 0.011*\"desk\" + 0.010*\"april\" + 0.009*\"reinvest\" + 0.007*\"district\" + 0.006*\"primari\" + 0.006*\"overnight\" + 0.005*\"michael\" + 0.005*\"david\" + 0.005*\"transitori\" + 0.005*\"strategi\"\n",
      "Topic: 4 \n",
      "Words: 0.007*\"april\" + 0.007*\"softwar\" + 0.006*\"tech\" + 0.005*\"deterior\" + 0.004*\"guidanc\" + 0.004*\"loss\" + 0.004*\"governorsmessr\" + 0.004*\"soften\" + 0.004*\"strain\" + 0.003*\"bernank\"\n",
      "Topic: 5 \n",
      "Words: 0.010*\"arrang\" + 0.009*\"shall\" + 0.008*\"select\" + 0.007*\"subcommitte\" + 0.007*\"desk\" + 0.007*\"paragraph\" + 0.006*\"mandat\" + 0.005*\"soma\" + 0.005*\"draw\" + 0.005*\"consult\"\n",
      "Topic: 6 \n",
      "Words: 0.018*\"april\" + 0.005*\"behavior\" + 0.004*\"softwar\" + 0.004*\"arrang\" + 0.004*\"greenspan\" + 0.004*\"mcdonough\" + 0.004*\"exert\" + 0.003*\"asia\" + 0.003*\"middl\" + 0.003*\"upper\"\n",
      "Topic: 7 \n",
      "Words: 0.012*\"select\" + 0.011*\"desk\" + 0.009*\"pandem\" + 0.008*\"arrang\" + 0.008*\"tool\" + 0.007*\"shall\" + 0.007*\"repo\" + 0.007*\"guidanc\" + 0.007*\"overnight\" + 0.006*\"paragraph\"\n",
      "Topic: 8 \n",
      "Words: 0.037*\"april\" + 0.008*\"pandem\" + 0.007*\"desk\" + 0.006*\"strain\" + 0.006*\"mandat\" + 0.005*\"arrang\" + 0.005*\"function\" + 0.005*\"guidanc\" + 0.004*\"tool\" + 0.004*\"disrupt\"\n",
      "Topic: 9 \n",
      "Words: 0.011*\"arrang\" + 0.007*\"shall\" + 0.006*\"desk\" + 0.006*\"tool\" + 0.006*\"deterior\" + 0.006*\"repo\" + 0.005*\"april\" + 0.005*\"subcommitte\" + 0.005*\"strain\" + 0.004*\"overnight\"\n"
     ]
    }
   ],
   "source": [
    "for idx, topic in lda_model.print_topics(-1):\n",
    "    print('Topic: {} \\nWords: {}'.format(idx, topic))"
   ]
  },
  {
   "cell_type": "markdown",
   "id": "632d8b7e",
   "metadata": {},
   "source": [
    "# LDA using TF-IDF"
   ]
  },
  {
   "cell_type": "code",
   "execution_count": 63,
   "id": "8edd8c49",
   "metadata": {
    "ExecuteTime": {
     "end_time": "2022-03-11T13:07:27.190945Z",
     "start_time": "2022-03-11T13:07:23.615775Z"
    }
   },
   "outputs": [
    {
     "name": "stderr",
     "output_type": "stream",
     "text": [
      "WARNING:gensim.models.ldamulticore:too few updates, training might not converge; consider increasing the number of passes or iterations to improve accuracy\n"
     ]
    }
   ],
   "source": [
    "lda_model_tfidf = gensim.models.LdaMulticore(corpus_tfidf, num_topics=10, id2word=dictionary, passes=2, workers=4)"
   ]
  },
  {
   "cell_type": "code",
   "execution_count": 64,
   "id": "1f8d66ed",
   "metadata": {
    "ExecuteTime": {
     "end_time": "2022-03-11T13:07:27.207036Z",
     "start_time": "2022-03-11T13:07:27.191944Z"
    }
   },
   "outputs": [
    {
     "name": "stdout",
     "output_type": "stream",
     "text": [
      "Topic: 0 Word: 0.015*\"pandem\" + 0.005*\"virus\" + 0.004*\"repo\" + 0.004*\"april\" + 0.004*\"covid\" + 0.004*\"desk\" + 0.004*\"chair\" + 0.004*\"guidanc\" + 0.003*\"shall\" + 0.003*\"select\"\n",
      "Topic: 1 Word: 0.003*\"bias\" + 0.003*\"hurrican\" + 0.002*\"strike\" + 0.002*\"scatter\" + 0.002*\"press\" + 0.002*\"tech\" + 0.002*\"summer\" + 0.002*\"confer\" + 0.002*\"softwar\" + 0.002*\"background\"\n",
      "Topic: 2 Word: 0.004*\"april\" + 0.003*\"forese\" + 0.003*\"press\" + 0.002*\"ferguson\" + 0.002*\"kelley\" + 0.002*\"absent\" + 0.002*\"shall\" + 0.002*\"sentenc\" + 0.002*\"mcdonough\" + 0.002*\"gramlich\"\n",
      "Topic: 3 Word: 0.004*\"disinfl\" + 0.003*\"stewart\" + 0.003*\"shall\" + 0.002*\"predomin\" + 0.002*\"studi\" + 0.002*\"minor\" + 0.002*\"forese\" + 0.002*\"perman\" + 0.002*\"arrang\" + 0.002*\"regim\"\n",
      "Topic: 4 Word: 0.009*\"hurrican\" + 0.004*\"forese\" + 0.003*\"tech\" + 0.003*\"santomero\" + 0.003*\"olson\" + 0.003*\"stringent\" + 0.002*\"gramlich\" + 0.002*\"bie\" + 0.002*\"threshold\" + 0.002*\"ferguson\"\n",
      "Topic: 5 Word: 0.004*\"april\" + 0.003*\"lawar\" + 0.003*\"legisl\" + 0.003*\"strain\" + 0.002*\"lesser\" + 0.002*\"deterior\" + 0.002*\"subprim\" + 0.002*\"geithner\" + 0.002*\"outbreak\" + 0.002*\"gasolin\"\n",
      "Topic: 6 Word: 0.003*\"april\" + 0.002*\"turmoil\" + 0.002*\"arrang\" + 0.002*\"bias\" + 0.002*\"upper\" + 0.002*\"slacken\" + 0.002*\"summer\" + 0.001*\"strain\" + 0.001*\"asian\" + 0.001*\"repo\"\n",
      "Topic: 7 Word: 0.010*\"shall\" + 0.006*\"april\" + 0.005*\"arrang\" + 0.004*\"subcommitte\" + 0.004*\"paragraph\" + 0.004*\"consult\" + 0.003*\"softwar\" + 0.003*\"select\" + 0.003*\"mandat\" + 0.002*\"draw\"\n",
      "Topic: 8 Word: 0.005*\"ioer\" + 0.004*\"april\" + 0.004*\"test\" + 0.004*\"reinvest\" + 0.003*\"desk\" + 0.003*\"guidanc\" + 0.003*\"sloo\" + 0.003*\"tension\" + 0.003*\"mandat\" + 0.003*\"symmetr\"\n",
      "Topic: 9 Word: 0.008*\"april\" + 0.003*\"reinvest\" + 0.003*\"strike\" + 0.003*\"lesser\" + 0.003*\"symmetr\" + 0.003*\"district\" + 0.002*\"presumpt\" + 0.002*\"shall\" + 0.002*\"desk\" + 0.002*\"soma\"\n"
     ]
    }
   ],
   "source": [
    "for idx, topic in lda_model_tfidf.print_topics(-1):\n",
    "    print('Topic: {} Word: {}'.format(idx, topic))"
   ]
  },
  {
   "cell_type": "markdown",
   "id": "97298f2c",
   "metadata": {},
   "source": [
    "# Doc2vec"
   ]
  },
  {
   "cell_type": "code",
   "execution_count": 65,
   "id": "ca359e4f",
   "metadata": {
    "ExecuteTime": {
     "end_time": "2022-03-11T13:07:28.590042Z",
     "start_time": "2022-03-11T13:07:27.208945Z"
    }
   },
   "outputs": [],
   "source": [
    "def read_corpus(f, tokens_only=False):\n",
    "        for i, line in enumerate(f):\n",
    "            tokens = gensim.utils.simple_preprocess(line)\n",
    "            if tokens_only:\n",
    "                yield tokens\n",
    "            else:\n",
    "                # For training data, add tags\n",
    "                yield gensim.models.doc2vec.TaggedDocument(tokens, [i])\n",
    "\n",
    "train_corpus = list(read_corpus(df.contents))"
   ]
  },
  {
   "cell_type": "code",
   "execution_count": 66,
   "id": "5d64593a",
   "metadata": {
    "ExecuteTime": {
     "end_time": "2022-03-11T13:07:35.300962Z",
     "start_time": "2022-03-11T13:07:28.590946Z"
    },
    "scrolled": true
   },
   "outputs": [],
   "source": [
    "\n",
    "model = Doc2Vec(train_corpus, vector_size=200, window=3, min_count=1, workers=4)"
   ]
  },
  {
   "cell_type": "code",
   "execution_count": 67,
   "id": "7ed27065",
   "metadata": {
    "ExecuteTime": {
     "end_time": "2022-03-11T13:07:35.316946Z",
     "start_time": "2022-03-11T13:07:35.301964Z"
    }
   },
   "outputs": [],
   "source": [
    "def getVecs(model_name, corpus, size):\n",
    "    vecs = [np.array(model_name[z.tags[0]]).reshape((1, size)) for z in corpus]\n",
    "    return np.concatenate(vecs)\n",
    "train_vecs_dm = getVecs(model, train_corpus, 200)"
   ]
  },
  {
   "cell_type": "markdown",
   "id": "08e350fc",
   "metadata": {},
   "source": [
    "# Predictions on SPY changes\n"
   ]
  },
  {
   "cell_type": "code",
   "execution_count": 68,
   "id": "b1e4bb46",
   "metadata": {
    "ExecuteTime": {
     "end_time": "2022-03-11T13:07:35.348946Z",
     "start_time": "2022-03-11T13:07:35.333964Z"
    }
   },
   "outputs": [],
   "source": [
    "def pct_change_from_day_0(announcement):\n",
    "    pct_change= (announcement['SPY: d+7']/announcement['SPY: d-1'])-1\n",
    "    if pct_change>0:\n",
    "        return 'up'\n",
    "    else:\n",
    "        return 'down'"
   ]
  },
  {
   "cell_type": "code",
   "execution_count": 69,
   "id": "22ef2840",
   "metadata": {
    "ExecuteTime": {
     "end_time": "2022-03-11T13:07:35.364960Z",
     "start_time": "2022-03-11T13:07:35.350947Z"
    }
   },
   "outputs": [
    {
     "data": {
      "text/plain": [
       "'up'"
      ]
     },
     "execution_count": 69,
     "metadata": {},
     "output_type": "execute_result"
    }
   ],
   "source": [
    "pct_change_from_day_0(df.iloc[141])"
   ]
  },
  {
   "cell_type": "code",
   "execution_count": 70,
   "id": "648cba43",
   "metadata": {
    "ExecuteTime": {
     "end_time": "2022-03-11T13:07:35.379969Z",
     "start_time": "2022-03-11T13:07:35.365946Z"
    }
   },
   "outputs": [],
   "source": [
    "df['+7change']=df.apply(pct_change_from_day_0,axis=1)"
   ]
  },
  {
   "cell_type": "code",
   "execution_count": 71,
   "id": "07afe01a",
   "metadata": {
    "ExecuteTime": {
     "end_time": "2022-03-11T13:07:35.427960Z",
     "start_time": "2022-03-11T13:07:35.413969Z"
    }
   },
   "outputs": [],
   "source": [
    "labels=df['+7change'].to_numpy()\n",
    "labels_onehot=pd.get_dummies(labels).values"
   ]
  },
  {
   "cell_type": "code",
   "execution_count": 72,
   "id": "5df99556",
   "metadata": {
    "ExecuteTime": {
     "end_time": "2022-03-11T13:07:35.459979Z",
     "start_time": "2022-03-11T13:07:35.445945Z"
    }
   },
   "outputs": [
    {
     "name": "stdout",
     "output_type": "stream",
     "text": [
      "216 24 216 24\n"
     ]
    }
   ],
   "source": [
    "X_train, X_test, y_train, y_test = train_test_split(train_vecs_dm,labels_onehot,train_size=0.9)\n",
    "print (len(X_train),len(X_test),len(y_train),len(y_test))"
   ]
  },
  {
   "cell_type": "code",
   "execution_count": 73,
   "id": "bbb57161",
   "metadata": {
    "ExecuteTime": {
     "end_time": "2022-03-11T13:07:35.475945Z",
     "start_time": "2022-03-11T13:07:35.462966Z"
    }
   },
   "outputs": [
    {
     "name": "stdout",
     "output_type": "stream",
     "text": [
      "194 22 194 22\n"
     ]
    }
   ],
   "source": [
    "X_train_m, X_val, y_train_m, y_val = train_test_split(X_train,y_train,train_size=0.9)\n",
    "print (len(X_train_m),len(X_val),len(y_train_m),len(y_val))"
   ]
  },
  {
   "cell_type": "code",
   "execution_count": 74,
   "id": "149bdd4c",
   "metadata": {
    "ExecuteTime": {
     "end_time": "2022-03-11T13:07:53.675050Z",
     "start_time": "2022-03-11T13:07:35.477965Z"
    }
   },
   "outputs": [
    {
     "name": "stdout",
     "output_type": "stream",
     "text": [
      "Epoch 1/30\n"
     ]
    },
    {
     "name": "stderr",
     "output_type": "stream",
     "text": [
      "2022-03-14 18:50:14.907040: I tensorflow/core/grappler/optimizers/custom_graph_optimizer_registry.cc:113] Plugin optimizer for device_type GPU is enabled.\n",
      "2022-03-14 18:50:15.214970: I tensorflow/core/grappler/optimizers/custom_graph_optimizer_registry.cc:113] Plugin optimizer for device_type GPU is enabled.\n",
      "2022-03-14 18:50:15.485117: I tensorflow/core/grappler/optimizers/custom_graph_optimizer_registry.cc:113] Plugin optimizer for device_type GPU is enabled.\n",
      "2022-03-14 18:50:15.810941: I tensorflow/core/grappler/optimizers/custom_graph_optimizer_registry.cc:113] Plugin optimizer for device_type GPU is enabled.\n",
      "2022-03-14 18:50:16.377743: I tensorflow/core/grappler/optimizers/custom_graph_optimizer_registry.cc:113] Plugin optimizer for device_type GPU is enabled.\n"
     ]
    },
    {
     "name": "stdout",
     "output_type": "stream",
     "text": [
      "2/2 [==============================] - ETA: 0s - loss: 0.3107 - accuracy: 0.4536"
     ]
    },
    {
     "name": "stderr",
     "output_type": "stream",
     "text": [
      "2022-03-14 18:50:19.177770: I tensorflow/core/grappler/optimizers/custom_graph_optimizer_registry.cc:113] Plugin optimizer for device_type GPU is enabled.\n",
      "2022-03-14 18:50:19.277257: I tensorflow/core/grappler/optimizers/custom_graph_optimizer_registry.cc:113] Plugin optimizer for device_type GPU is enabled.\n",
      "2022-03-14 18:50:19.534446: I tensorflow/core/grappler/optimizers/custom_graph_optimizer_registry.cc:113] Plugin optimizer for device_type GPU is enabled.\n"
     ]
    },
    {
     "name": "stdout",
     "output_type": "stream",
     "text": [
      "2/2 [==============================] - 6s 3s/step - loss: 0.3107 - accuracy: 0.4536 - val_loss: 0.2488 - val_accuracy: 0.6364\n",
      "Epoch 2/30\n",
      "2/2 [==============================] - 0s 165ms/step - loss: 0.2947 - accuracy: 0.5000 - val_loss: 0.2488 - val_accuracy: 0.5455\n",
      "Epoch 3/30\n",
      "2/2 [==============================] - 0s 155ms/step - loss: 0.2689 - accuracy: 0.5515 - val_loss: 0.2487 - val_accuracy: 0.4545\n",
      "Epoch 4/30\n",
      "2/2 [==============================] - 0s 157ms/step - loss: 0.2637 - accuracy: 0.6134 - val_loss: 0.2485 - val_accuracy: 0.4545\n",
      "Epoch 5/30\n",
      "2/2 [==============================] - 0s 157ms/step - loss: 0.2555 - accuracy: 0.5928 - val_loss: 0.2480 - val_accuracy: 0.5000\n",
      "Epoch 6/30\n",
      "2/2 [==============================] - 0s 156ms/step - loss: 0.2636 - accuracy: 0.5876 - val_loss: 0.2475 - val_accuracy: 0.5909\n",
      "Epoch 7/30\n",
      "2/2 [==============================] - 0s 157ms/step - loss: 0.2568 - accuracy: 0.5876 - val_loss: 0.2470 - val_accuracy: 0.6364\n",
      "Epoch 8/30\n",
      "2/2 [==============================] - 0s 155ms/step - loss: 0.2506 - accuracy: 0.5876 - val_loss: 0.2464 - val_accuracy: 0.6364\n",
      "Epoch 9/30\n",
      "2/2 [==============================] - 0s 156ms/step - loss: 0.2511 - accuracy: 0.6082 - val_loss: 0.2458 - val_accuracy: 0.6364\n",
      "Epoch 10/30\n",
      "2/2 [==============================] - 0s 161ms/step - loss: 0.2443 - accuracy: 0.6443 - val_loss: 0.2452 - val_accuracy: 0.6364\n",
      "Epoch 11/30\n",
      "2/2 [==============================] - 0s 155ms/step - loss: 0.2523 - accuracy: 0.6237 - val_loss: 0.2446 - val_accuracy: 0.6364\n",
      "Epoch 12/30\n",
      "2/2 [==============================] - 0s 156ms/step - loss: 0.2403 - accuracy: 0.6495 - val_loss: 0.2440 - val_accuracy: 0.6364\n",
      "Epoch 13/30\n",
      "2/2 [==============================] - 0s 162ms/step - loss: 0.2634 - accuracy: 0.5052 - val_loss: 0.2434 - val_accuracy: 0.6364\n",
      "Epoch 14/30\n",
      "2/2 [==============================] - 0s 161ms/step - loss: 0.2365 - accuracy: 0.6186 - val_loss: 0.2429 - val_accuracy: 0.6364\n",
      "Epoch 15/30\n",
      "2/2 [==============================] - 0s 157ms/step - loss: 0.2473 - accuracy: 0.6186 - val_loss: 0.2424 - val_accuracy: 0.6364\n",
      "Epoch 16/30\n",
      "2/2 [==============================] - 0s 158ms/step - loss: 0.2360 - accuracy: 0.6443 - val_loss: 0.2418 - val_accuracy: 0.6364\n",
      "Epoch 17/30\n",
      "2/2 [==============================] - 0s 160ms/step - loss: 0.2349 - accuracy: 0.6340 - val_loss: 0.2413 - val_accuracy: 0.6364\n",
      "Epoch 18/30\n",
      "2/2 [==============================] - 0s 154ms/step - loss: 0.2319 - accuracy: 0.6031 - val_loss: 0.2408 - val_accuracy: 0.6364\n",
      "Epoch 19/30\n",
      "2/2 [==============================] - 0s 156ms/step - loss: 0.2382 - accuracy: 0.6289 - val_loss: 0.2402 - val_accuracy: 0.6364\n",
      "Epoch 20/30\n",
      "2/2 [==============================] - 0s 157ms/step - loss: 0.2324 - accuracy: 0.6443 - val_loss: 0.2398 - val_accuracy: 0.6364\n",
      "Epoch 21/30\n",
      "2/2 [==============================] - 0s 155ms/step - loss: 0.2382 - accuracy: 0.6392 - val_loss: 0.2394 - val_accuracy: 0.6364\n",
      "Epoch 22/30\n",
      "2/2 [==============================] - 0s 156ms/step - loss: 0.2335 - accuracy: 0.6392 - val_loss: 0.2390 - val_accuracy: 0.6364\n",
      "Epoch 23/30\n",
      "2/2 [==============================] - 0s 155ms/step - loss: 0.2227 - accuracy: 0.6701 - val_loss: 0.2386 - val_accuracy: 0.6364\n",
      "Epoch 24/30\n",
      "2/2 [==============================] - 0s 156ms/step - loss: 0.2297 - accuracy: 0.6443 - val_loss: 0.2382 - val_accuracy: 0.6364\n",
      "Epoch 25/30\n",
      "2/2 [==============================] - 0s 156ms/step - loss: 0.2376 - accuracy: 0.6186 - val_loss: 0.2379 - val_accuracy: 0.6364\n",
      "Epoch 26/30\n",
      "2/2 [==============================] - 0s 155ms/step - loss: 0.2386 - accuracy: 0.6186 - val_loss: 0.2377 - val_accuracy: 0.6364\n",
      "Epoch 27/30\n",
      "2/2 [==============================] - 0s 155ms/step - loss: 0.2250 - accuracy: 0.6546 - val_loss: 0.2374 - val_accuracy: 0.6364\n",
      "Epoch 28/30\n",
      "2/2 [==============================] - 0s 155ms/step - loss: 0.2154 - accuracy: 0.7113 - val_loss: 0.2372 - val_accuracy: 0.6364\n",
      "Epoch 29/30\n",
      "2/2 [==============================] - 0s 155ms/step - loss: 0.2064 - accuracy: 0.7062 - val_loss: 0.2369 - val_accuracy: 0.6364\n",
      "Epoch 30/30\n",
      "2/2 [==============================] - 0s 155ms/step - loss: 0.2240 - accuracy: 0.6701 - val_loss: 0.2366 - val_accuracy: 0.6364\n"
     ]
    }
   ],
   "source": [
    "model = Sequential()\n",
    "\n",
    "model.add(LSTM(units = 50, return_sequences = True, input_shape = (X_train.shape[1], 1)))\n",
    "model.add(Dropout(0.2))\n",
    "model.add(BatchNormalization())\n",
    "\n",
    "\n",
    "model.add(LSTM(units = 50))\n",
    "model.add(Dropout(0.25))\n",
    "model.add(BatchNormalization())\n",
    "\n",
    "model.add(Dense(2, activation='sigmoid'))\n",
    "\n",
    "model.compile(optimizer = 'adam', loss = 'mean_squared_error',metrics=['accuracy'])\n",
    "\n",
    "history=model.fit(X_train_m, y_train_m,validation_data=(X_val,y_val), epochs = 30, batch_size = 100)"
   ]
  },
  {
   "cell_type": "code",
   "execution_count": 75,
   "id": "87c5bd95",
   "metadata": {
    "ExecuteTime": {
     "end_time": "2022-03-11T13:07:53.881265Z",
     "start_time": "2022-03-11T13:07:53.676051Z"
    }
   },
   "outputs": [
    {
     "data": {
      "image/png": "[encoded data removed]",
      "text/plain": [
       "<Figure size 432x288 with 1 Axes>"
      ]
     },
     "metadata": {
      "needs_background": "light"
     },
     "output_type": "display_data"
    },
    {
     "data": {
      "text/plain": [
       "<Figure size 432x288 with 0 Axes>"
      ]
     },
     "metadata": {},
     "output_type": "display_data"
    }
   ],
   "source": [
    "plt.plot(history.history['accuracy'], label='acc')\n",
    "plt.plot(history.history['val_accuracy'], label='val_acc')\n",
    "plt.title('Training and validation accuracy evolution through epochs')\n",
    "plt.legend()\n",
    "plt.show()\n",
    "plt.savefig(\"Accuracy plot.jpg\")"
   ]
  },
  {
   "cell_type": "code",
   "execution_count": 76,
   "id": "47397b81",
   "metadata": {
    "ExecuteTime": {
     "end_time": "2022-03-11T13:07:54.101342Z",
     "start_time": "2022-03-11T13:07:53.882137Z"
    }
   },
   "outputs": [
    {
     "name": "stdout",
     "output_type": "stream",
     "text": [
      "7/7 [==============================] - 1s 124ms/step - loss: 0.2399 - accuracy: 0.6111\n"
     ]
    },
    {
     "data": {
      "text/plain": [
       "[0.23992414772510529, 0.6111111044883728]"
      ]
     },
     "execution_count": 76,
     "metadata": {},
     "output_type": "execute_result"
    }
   ],
   "source": [
    "model.evaluate(X_train,y_train)"
   ]
  },
  {
   "cell_type": "code",
   "execution_count": 77,
   "id": "d98cc966",
   "metadata": {
    "ExecuteTime": {
     "end_time": "2022-03-11T13:07:54.178306Z",
     "start_time": "2022-03-11T13:07:54.102287Z"
    }
   },
   "outputs": [
    {
     "name": "stdout",
     "output_type": "stream",
     "text": [
      "1/1 [==============================] - 0s 62ms/step - loss: 0.2437 - accuracy: 0.5833\n"
     ]
    },
    {
     "data": {
      "text/plain": [
       "[0.24366728961467743, 0.5833333730697632]"
      ]
     },
     "execution_count": 77,
     "metadata": {},
     "output_type": "execute_result"
    }
   ],
   "source": [
    "model.evaluate(X_test,y_test)"
   ]
  }
 ],
 "metadata": {
  "kernelspec": {
   "display_name": "Python 3",
   "language": "python",
   "name": "python3"
  },
  "language_info": {
   "codemirror_mode": {
    "name": "ipython",
    "version": 3
   },
   "file_extension": ".py",
   "mimetype": "text/x-python",
   "name": "python",
   "nbconvert_exporter": "python",
   "pygments_lexer": "ipython3",
   "version": "3.8.12"
  },
  "toc": {
   "base_numbering": 1,
   "nav_menu": {},
   "number_sections": true,
   "sideBar": true,
   "skip_h1_title": false,
   "title_cell": "Table of Contents",
   "title_sidebar": "Contents",
   "toc_cell": false,
   "toc_position": {
    "height": "calc(100% - 180px)",
    "left": "10px",
    "top": "150px",
    "width": "195.273px"
   },
   "toc_section_display": true,
   "toc_window_display": true
  }
 },
 "nbformat": 4,
 "nbformat_minor": 5
}
