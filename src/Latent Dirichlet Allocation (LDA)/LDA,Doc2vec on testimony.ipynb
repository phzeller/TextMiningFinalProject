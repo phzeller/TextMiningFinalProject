{
 "cells": [
  {
   "cell_type": "code",
   "execution_count": 1,
   "id": "516e3838",
   "metadata": {
    "ExecuteTime": {
     "end_time": "2022-03-11T13:03:41.390015Z",
     "start_time": "2022-03-11T13:03:37.267851Z"
    }
   },
   "outputs": [
    {
     "name": "stderr",
     "output_type": "stream",
     "text": [
      "WARNING:root:Limited tf.compat.v2.summary API due to missing TensorBoard installation.\n",
      "WARNING:root:Limited tf.compat.v2.summary API due to missing TensorBoard installation.\n",
      "WARNING:root:Limited tf.compat.v2.summary API due to missing TensorBoard installation.\n",
      "WARNING:root:Limited tf.summary API due to missing TensorBoard installation.\n",
      "WARNING:root:Limited tf.compat.v2.summary API due to missing TensorBoard installation.\n",
      "WARNING:root:Limited tf.compat.v2.summary API due to missing TensorBoard installation.\n",
      "WARNING:root:Limited tf.compat.v2.summary API due to missing TensorBoard installation.\n"
     ]
    }
   ],
   "source": [
    "import os\n",
    "\n",
    "import matplotlib.pyplot as plt\n",
    "import gensim\n",
    "from gensim import models\n",
    "from sklearn.model_selection import train_test_split\n",
    "\n",
    "import warnings\n",
    "warnings.filterwarnings('ignore')\n",
    "\n",
    "import numpy as np\n",
    "import pandas as pd\n",
    "\n",
    "import nltk\n",
    "\n",
    "from keras.models import Sequential\n",
    "from keras.layers import LSTM,Dense, Dropout, BatchNormalization\n",
    "\n",
    "from nltk.stem import WordNetLemmatizer, SnowballStemmer\n",
    "from nltk.stem.porter import *\n",
    "\n",
    "np.random.seed(2018)"
   ]
  },
  {
   "cell_type": "code",
   "execution_count": 2,
   "id": "3f9d4c4b",
   "metadata": {
    "ExecuteTime": {
     "end_time": "2022-03-11T13:05:11.089197Z",
     "start_time": "2022-03-11T13:05:10.944195Z"
    }
   },
   "outputs": [],
   "source": [
    "notebook_dir = os.getcwd()\n",
    "rel_path = '../../data/complete_data/testimonies_cleaned_spy_tnx.csv'\n",
    "\n",
    "df=pd.read_csv(os.path.join(notebook_dir, rel_path), parse_dates=['date'])"
   ]
  },
  {
   "cell_type": "code",
   "execution_count": 3,
   "id": "548a64e9",
   "metadata": {
    "ExecuteTime": {
     "end_time": "2022-03-11T13:05:14.172865Z",
     "start_time": "2022-03-11T13:05:14.099349Z"
    }
   },
   "outputs": [
    {
     "data": {
      "text/html": [
       "<div>\n",
       "<style scoped>\n",
       "    .dataframe tbody tr th:only-of-type {\n",
       "        vertical-align: middle;\n",
       "    }\n",
       "\n",
       "    .dataframe tbody tr th {\n",
       "        vertical-align: top;\n",
       "    }\n",
       "\n",
       "    .dataframe thead th {\n",
       "        text-align: right;\n",
       "    }\n",
       "</style>\n",
       "<table border=\"1\" class=\"dataframe\">\n",
       "  <thead>\n",
       "    <tr style=\"text-align: right;\">\n",
       "      <th></th>\n",
       "      <th>date</th>\n",
       "      <th>contents</th>\n",
       "      <th>speaker</th>\n",
       "      <th>title</th>\n",
       "      <th>cleaned content</th>\n",
       "      <th>SPY: d-1</th>\n",
       "      <th>SPY: d+0</th>\n",
       "      <th>SPY: d+1</th>\n",
       "      <th>SPY: d+2</th>\n",
       "      <th>SPY: d+3</th>\n",
       "      <th>...</th>\n",
       "      <th>SPY: d+7</th>\n",
       "      <th>SPY: d+8</th>\n",
       "      <th>SPY: d+9</th>\n",
       "      <th>SPY: d+10</th>\n",
       "      <th>SPY: d+11</th>\n",
       "      <th>SPY: d+12</th>\n",
       "      <th>SPY: d+13</th>\n",
       "      <th>SPY: d+14</th>\n",
       "      <th>^TNX: d-1</th>\n",
       "      <th>^TNX: d+0</th>\n",
       "    </tr>\n",
       "  </thead>\n",
       "  <tbody>\n",
       "    <tr>\n",
       "      <th>0</th>\n",
       "      <td>1996-06-26</td>\n",
       "      <td>It is a pleasure to appear before this Subcomm...</td>\n",
       "      <td>Governor Edward W. Kelley, Jr.</td>\n",
       "      <td>Supervision of bank sales practices</td>\n",
       "      <td>['SECTION', 'SECTION', 'SECTION', 'SECTION', '...</td>\n",
       "      <td>42.397709</td>\n",
       "      <td>42.110374</td>\n",
       "      <td>42.407631</td>\n",
       "      <td>42.556236</td>\n",
       "      <td>42.922832</td>\n",
       "      <td>...</td>\n",
       "      <td>41.416790</td>\n",
       "      <td>41.585213</td>\n",
       "      <td>41.753658</td>\n",
       "      <td>40.911457</td>\n",
       "      <td>40.941177</td>\n",
       "      <td>39.732361</td>\n",
       "      <td>39.831451</td>\n",
       "      <td>40.307041</td>\n",
       "      <td>6.896</td>\n",
       "      <td>6.896</td>\n",
       "    </tr>\n",
       "    <tr>\n",
       "      <th>1</th>\n",
       "      <td>1996-07-17</td>\n",
       "      <td>I am pleased to appear before the Committee on...</td>\n",
       "      <td>Herbert A. Biern, Deputy Associate Director, D...</td>\n",
       "      <td>\"Prime bank\" schemes</td>\n",
       "      <td>['SECTION', 'SECTION', 'SECTION', 'SECTION', '...</td>\n",
       "      <td>39.831451</td>\n",
       "      <td>40.307041</td>\n",
       "      <td>40.861912</td>\n",
       "      <td>40.564682</td>\n",
       "      <td>40.267422</td>\n",
       "      <td>...</td>\n",
       "      <td>40.406143</td>\n",
       "      <td>39.960251</td>\n",
       "      <td>40.346680</td>\n",
       "      <td>40.643932</td>\n",
       "      <td>41.317699</td>\n",
       "      <td>42.209446</td>\n",
       "      <td>41.961739</td>\n",
       "      <td>42.090553</td>\n",
       "      <td>6.808</td>\n",
       "      <td>6.821</td>\n",
       "    </tr>\n",
       "    <tr>\n",
       "      <th>2</th>\n",
       "      <td>1996-07-18</td>\n",
       "      <td>Testimony of Chairman Alan Greenspan The Feder...</td>\n",
       "      <td>Chairman Alan Greenspan</td>\n",
       "      <td>The Federal Reserve's semiannual monetary report</td>\n",
       "      <td>['Testimony', 'Chairman', 'Alan', 'Greenspan',...</td>\n",
       "      <td>40.307041</td>\n",
       "      <td>40.861912</td>\n",
       "      <td>40.564682</td>\n",
       "      <td>40.267422</td>\n",
       "      <td>39.752174</td>\n",
       "      <td>...</td>\n",
       "      <td>39.960251</td>\n",
       "      <td>40.346680</td>\n",
       "      <td>40.643932</td>\n",
       "      <td>41.317699</td>\n",
       "      <td>42.209446</td>\n",
       "      <td>41.961739</td>\n",
       "      <td>42.090553</td>\n",
       "      <td>42.199535</td>\n",
       "      <td>6.821</td>\n",
       "      <td>6.709</td>\n",
       "    </tr>\n",
       "    <tr>\n",
       "      <th>3</th>\n",
       "      <td>1996-07-24</td>\n",
       "      <td>I am pleased to appear before this Subcommitte...</td>\n",
       "      <td>Governor Janet L. Yellen</td>\n",
       "      <td>Trends in consumer lending</td>\n",
       "      <td>['SECTION', 'SECTION', 'SECTION', 'SECTION', '...</td>\n",
       "      <td>39.752174</td>\n",
       "      <td>39.831451</td>\n",
       "      <td>40.188141</td>\n",
       "      <td>40.406143</td>\n",
       "      <td>39.960251</td>\n",
       "      <td>...</td>\n",
       "      <td>42.209446</td>\n",
       "      <td>41.961739</td>\n",
       "      <td>42.090553</td>\n",
       "      <td>42.199535</td>\n",
       "      <td>42.130188</td>\n",
       "      <td>41.991463</td>\n",
       "      <td>42.298615</td>\n",
       "      <td>41.961739</td>\n",
       "      <td>6.795</td>\n",
       "      <td>6.864</td>\n",
       "    </tr>\n",
       "    <tr>\n",
       "      <th>4</th>\n",
       "      <td>1996-07-26</td>\n",
       "      <td>I appreciate this opportunity to appear before...</td>\n",
       "      <td>Chairman Alan Greenspan</td>\n",
       "      <td>Recent reports on Federal Reserve operations</td>\n",
       "      <td>['SECTION', 'SECTION', 'SECTION', 'SECTION', '...</td>\n",
       "      <td>40.188141</td>\n",
       "      <td>40.406143</td>\n",
       "      <td>39.960251</td>\n",
       "      <td>40.346680</td>\n",
       "      <td>40.643932</td>\n",
       "      <td>...</td>\n",
       "      <td>42.090553</td>\n",
       "      <td>42.199535</td>\n",
       "      <td>42.130188</td>\n",
       "      <td>41.991463</td>\n",
       "      <td>42.298615</td>\n",
       "      <td>41.961739</td>\n",
       "      <td>42.110374</td>\n",
       "      <td>42.031086</td>\n",
       "      <td>6.851</td>\n",
       "      <td>6.837</td>\n",
       "    </tr>\n",
       "    <tr>\n",
       "      <th>...</th>\n",
       "      <td>...</td>\n",
       "      <td>...</td>\n",
       "      <td>...</td>\n",
       "      <td>...</td>\n",
       "      <td>...</td>\n",
       "      <td>...</td>\n",
       "      <td>...</td>\n",
       "      <td>...</td>\n",
       "      <td>...</td>\n",
       "      <td>...</td>\n",
       "      <td>...</td>\n",
       "      <td>...</td>\n",
       "      <td>...</td>\n",
       "      <td>...</td>\n",
       "      <td>...</td>\n",
       "      <td>...</td>\n",
       "      <td>...</td>\n",
       "      <td>...</td>\n",
       "      <td>...</td>\n",
       "      <td>...</td>\n",
       "      <td>...</td>\n",
       "    </tr>\n",
       "    <tr>\n",
       "      <th>449</th>\n",
       "      <td>2021-09-28</td>\n",
       "      <td>The Federal Reserve, the central bank of the U...</td>\n",
       "      <td>Chair Jerome H. Powell</td>\n",
       "      <td>Coronavirus and CARES Act</td>\n",
       "      <td>['Federal', 'Reserve', 'central', 'bank', 'Uni...</td>\n",
       "      <td>441.090363</td>\n",
       "      <td>432.201569</td>\n",
       "      <td>432.929016</td>\n",
       "      <td>427.637634</td>\n",
       "      <td>432.719757</td>\n",
       "      <td>...</td>\n",
       "      <td>437.124268</td>\n",
       "      <td>436.327057</td>\n",
       "      <td>433.168182</td>\n",
       "      <td>432.101929</td>\n",
       "      <td>433.656464</td>\n",
       "      <td>440.950836</td>\n",
       "      <td>444.309021</td>\n",
       "      <td>445.624420</td>\n",
       "      <td>1.484</td>\n",
       "      <td>1.534</td>\n",
       "    </tr>\n",
       "    <tr>\n",
       "      <th>450</th>\n",
       "      <td>2021-11-30</td>\n",
       "      <td>The Federal Reserve, the central bank of the U...</td>\n",
       "      <td>Chair Jerome H. Powell</td>\n",
       "      <td>Coronavirus and CARES Act</td>\n",
       "      <td>['Federal', 'Reserve', 'central', 'bank', 'Uni...</td>\n",
       "      <td>462.973480</td>\n",
       "      <td>453.965118</td>\n",
       "      <td>448.922821</td>\n",
       "      <td>455.798676</td>\n",
       "      <td>451.832611</td>\n",
       "      <td>...</td>\n",
       "      <td>464.717346</td>\n",
       "      <td>469.091949</td>\n",
       "      <td>464.936584</td>\n",
       "      <td>461.737793</td>\n",
       "      <td>468.952454</td>\n",
       "      <td>464.816986</td>\n",
       "      <td>459.869995</td>\n",
       "      <td>454.980011</td>\n",
       "      <td>1.530</td>\n",
       "      <td>1.443</td>\n",
       "    </tr>\n",
       "    <tr>\n",
       "      <th>451</th>\n",
       "      <td>2022-01-11</td>\n",
       "      <td>The Federal Reserve, the central bank of the U...</td>\n",
       "      <td>Chair Jerome H. Powell</td>\n",
       "      <td>Nomination hearing</td>\n",
       "      <td>['Federal', 'Reserve', 'central', 'bank', 'Uni...</td>\n",
       "      <td>465.510010</td>\n",
       "      <td>469.750000</td>\n",
       "      <td>471.019989</td>\n",
       "      <td>464.529999</td>\n",
       "      <td>464.720001</td>\n",
       "      <td>...</td>\n",
       "      <td>437.980011</td>\n",
       "      <td>439.839996</td>\n",
       "      <td>434.470001</td>\n",
       "      <td>433.380005</td>\n",
       "      <td>431.239990</td>\n",
       "      <td>441.950012</td>\n",
       "      <td>449.910004</td>\n",
       "      <td>452.950012</td>\n",
       "      <td>1.780</td>\n",
       "      <td>1.746</td>\n",
       "    </tr>\n",
       "    <tr>\n",
       "      <th>452</th>\n",
       "      <td>2022-01-13</td>\n",
       "      <td>The Federal Reserve, the central bank of the U...</td>\n",
       "      <td>Governor Lael Brainard</td>\n",
       "      <td>Nomination hearing</td>\n",
       "      <td>['Federal', 'Reserve', 'central', 'bank', 'Uni...</td>\n",
       "      <td>471.019989</td>\n",
       "      <td>464.529999</td>\n",
       "      <td>464.720001</td>\n",
       "      <td>456.489990</td>\n",
       "      <td>451.750000</td>\n",
       "      <td>...</td>\n",
       "      <td>434.470001</td>\n",
       "      <td>433.380005</td>\n",
       "      <td>431.239990</td>\n",
       "      <td>441.950012</td>\n",
       "      <td>449.910004</td>\n",
       "      <td>452.950012</td>\n",
       "      <td>457.350006</td>\n",
       "      <td>446.600006</td>\n",
       "      <td>1.725</td>\n",
       "      <td>1.711</td>\n",
       "    </tr>\n",
       "    <tr>\n",
       "      <th>453</th>\n",
       "      <td>2022-03-02</td>\n",
       "      <td>The Federal Reserve, the central bank of the U...</td>\n",
       "      <td>Chair Pro Tempore Jerome H. Powell</td>\n",
       "      <td>Semiannual Monetary Policy Report to the Congress</td>\n",
       "      <td>['Federal', 'Reserve', 'central', 'bank', 'Uni...</td>\n",
       "      <td>429.980011</td>\n",
       "      <td>437.890015</td>\n",
       "      <td>435.709991</td>\n",
       "      <td>432.170013</td>\n",
       "      <td>419.429993</td>\n",
       "      <td>...</td>\n",
       "      <td>420.070007</td>\n",
       "      <td>417.920013</td>\n",
       "      <td>NaN</td>\n",
       "      <td>NaN</td>\n",
       "      <td>NaN</td>\n",
       "      <td>NaN</td>\n",
       "      <td>NaN</td>\n",
       "      <td>NaN</td>\n",
       "      <td>1.707</td>\n",
       "      <td>1.865</td>\n",
       "    </tr>\n",
       "  </tbody>\n",
       "</table>\n",
       "<p>454 rows × 23 columns</p>\n",
       "</div>"
      ],
      "text/plain": [
       "          date                                           contents  \\\n",
       "0   1996-06-26  It is a pleasure to appear before this Subcomm...   \n",
       "1   1996-07-17  I am pleased to appear before the Committee on...   \n",
       "2   1996-07-18  Testimony of Chairman Alan Greenspan The Feder...   \n",
       "3   1996-07-24  I am pleased to appear before this Subcommitte...   \n",
       "4   1996-07-26  I appreciate this opportunity to appear before...   \n",
       "..         ...                                                ...   \n",
       "449 2021-09-28  The Federal Reserve, the central bank of the U...   \n",
       "450 2021-11-30  The Federal Reserve, the central bank of the U...   \n",
       "451 2022-01-11  The Federal Reserve, the central bank of the U...   \n",
       "452 2022-01-13  The Federal Reserve, the central bank of the U...   \n",
       "453 2022-03-02  The Federal Reserve, the central bank of the U...   \n",
       "\n",
       "                                               speaker  \\\n",
       "0                       Governor Edward W. Kelley, Jr.   \n",
       "1    Herbert A. Biern, Deputy Associate Director, D...   \n",
       "2                              Chairman Alan Greenspan   \n",
       "3                             Governor Janet L. Yellen   \n",
       "4                              Chairman Alan Greenspan   \n",
       "..                                                 ...   \n",
       "449                             Chair Jerome H. Powell   \n",
       "450                             Chair Jerome H. Powell   \n",
       "451                             Chair Jerome H. Powell   \n",
       "452                             Governor Lael Brainard   \n",
       "453                Chair Pro Tempore Jerome H. Powell    \n",
       "\n",
       "                                                 title  \\\n",
       "0                  Supervision of bank sales practices   \n",
       "1                                 \"Prime bank\" schemes   \n",
       "2     The Federal Reserve's semiannual monetary report   \n",
       "3                           Trends in consumer lending   \n",
       "4         Recent reports on Federal Reserve operations   \n",
       "..                                                 ...   \n",
       "449                          Coronavirus and CARES Act   \n",
       "450                          Coronavirus and CARES Act   \n",
       "451                                 Nomination hearing   \n",
       "452                                 Nomination hearing   \n",
       "453  Semiannual Monetary Policy Report to the Congress   \n",
       "\n",
       "                                       cleaned content    SPY: d-1  \\\n",
       "0    ['SECTION', 'SECTION', 'SECTION', 'SECTION', '...   42.397709   \n",
       "1    ['SECTION', 'SECTION', 'SECTION', 'SECTION', '...   39.831451   \n",
       "2    ['Testimony', 'Chairman', 'Alan', 'Greenspan',...   40.307041   \n",
       "3    ['SECTION', 'SECTION', 'SECTION', 'SECTION', '...   39.752174   \n",
       "4    ['SECTION', 'SECTION', 'SECTION', 'SECTION', '...   40.188141   \n",
       "..                                                 ...         ...   \n",
       "449  ['Federal', 'Reserve', 'central', 'bank', 'Uni...  441.090363   \n",
       "450  ['Federal', 'Reserve', 'central', 'bank', 'Uni...  462.973480   \n",
       "451  ['Federal', 'Reserve', 'central', 'bank', 'Uni...  465.510010   \n",
       "452  ['Federal', 'Reserve', 'central', 'bank', 'Uni...  471.019989   \n",
       "453  ['Federal', 'Reserve', 'central', 'bank', 'Uni...  429.980011   \n",
       "\n",
       "       SPY: d+0    SPY: d+1    SPY: d+2    SPY: d+3  ...    SPY: d+7  \\\n",
       "0     42.110374   42.407631   42.556236   42.922832  ...   41.416790   \n",
       "1     40.307041   40.861912   40.564682   40.267422  ...   40.406143   \n",
       "2     40.861912   40.564682   40.267422   39.752174  ...   39.960251   \n",
       "3     39.831451   40.188141   40.406143   39.960251  ...   42.209446   \n",
       "4     40.406143   39.960251   40.346680   40.643932  ...   42.090553   \n",
       "..          ...         ...         ...         ...  ...         ...   \n",
       "449  432.201569  432.929016  427.637634  432.719757  ...  437.124268   \n",
       "450  453.965118  448.922821  455.798676  451.832611  ...  464.717346   \n",
       "451  469.750000  471.019989  464.529999  464.720001  ...  437.980011   \n",
       "452  464.529999  464.720001  456.489990  451.750000  ...  434.470001   \n",
       "453  437.890015  435.709991  432.170013  419.429993  ...  420.070007   \n",
       "\n",
       "       SPY: d+8    SPY: d+9   SPY: d+10   SPY: d+11   SPY: d+12   SPY: d+13  \\\n",
       "0     41.585213   41.753658   40.911457   40.941177   39.732361   39.831451   \n",
       "1     39.960251   40.346680   40.643932   41.317699   42.209446   41.961739   \n",
       "2     40.346680   40.643932   41.317699   42.209446   41.961739   42.090553   \n",
       "3     41.961739   42.090553   42.199535   42.130188   41.991463   42.298615   \n",
       "4     42.199535   42.130188   41.991463   42.298615   41.961739   42.110374   \n",
       "..          ...         ...         ...         ...         ...         ...   \n",
       "449  436.327057  433.168182  432.101929  433.656464  440.950836  444.309021   \n",
       "450  469.091949  464.936584  461.737793  468.952454  464.816986  459.869995   \n",
       "451  439.839996  434.470001  433.380005  431.239990  441.950012  449.910004   \n",
       "452  433.380005  431.239990  441.950012  449.910004  452.950012  457.350006   \n",
       "453  417.920013         NaN         NaN         NaN         NaN         NaN   \n",
       "\n",
       "      SPY: d+14  ^TNX: d-1  ^TNX: d+0  \n",
       "0     40.307041      6.896      6.896  \n",
       "1     42.090553      6.808      6.821  \n",
       "2     42.199535      6.821      6.709  \n",
       "3     41.961739      6.795      6.864  \n",
       "4     42.031086      6.851      6.837  \n",
       "..          ...        ...        ...  \n",
       "449  445.624420      1.484      1.534  \n",
       "450  454.980011      1.530      1.443  \n",
       "451  452.950012      1.780      1.746  \n",
       "452  446.600006      1.725      1.711  \n",
       "453         NaN      1.707      1.865  \n",
       "\n",
       "[454 rows x 23 columns]"
      ]
     },
     "execution_count": 3,
     "metadata": {},
     "output_type": "execute_result"
    }
   ],
   "source": [
    "df['contents'] = df['contents'].apply(lambda x: x.replace('\\n\\n[SECTION]\\n\\n', '').replace('\\n', ' ').replace('\\r', ' ').strip())\n",
    "df"
   ]
  },
  {
   "cell_type": "markdown",
   "id": "938fae83",
   "metadata": {},
   "source": [
    "# Preprocessing"
   ]
  },
  {
   "cell_type": "code",
   "execution_count": 4,
   "id": "3adf3716",
   "metadata": {
    "ExecuteTime": {
     "end_time": "2022-03-11T13:05:17.411866Z",
     "start_time": "2022-03-11T13:05:16.926868Z"
    }
   },
   "outputs": [
    {
     "name": "stderr",
     "output_type": "stream",
     "text": [
      "[nltk_data] Downloading package wordnet to\n",
      "[nltk_data]     /Users/phzeller/nltk_data...\n",
      "[nltk_data]   Package wordnet is already up-to-date!\n"
     ]
    },
    {
     "data": {
      "text/plain": [
       "True"
      ]
     },
     "execution_count": 4,
     "metadata": {},
     "output_type": "execute_result"
    }
   ],
   "source": [
    "nltk.download('wordnet')"
   ]
  },
  {
   "cell_type": "code",
   "execution_count": 5,
   "id": "1a336786",
   "metadata": {
    "ExecuteTime": {
     "end_time": "2022-03-11T13:05:17.521867Z",
     "start_time": "2022-03-11T13:05:17.518865Z"
    }
   },
   "outputs": [],
   "source": [
    "stemmer = SnowballStemmer('english')"
   ]
  },
  {
   "cell_type": "code",
   "execution_count": 6,
   "id": "a3783c16",
   "metadata": {
    "ExecuteTime": {
     "end_time": "2022-03-11T13:05:18.092865Z",
     "start_time": "2022-03-11T13:05:18.076865Z"
    }
   },
   "outputs": [],
   "source": [
    "def lemmatize_stemming(text):\n",
    "    return stemmer.stem(WordNetLemmatizer().lemmatize(text, pos='v'))\n",
    "def preprocess(text):\n",
    "    result = []\n",
    "    for token in gensim.utils.simple_preprocess(text):\n",
    "        if token not in gensim.parsing.preprocessing.STOPWORDS and len(token) > 3:\n",
    "            result.append(lemmatize_stemming(token))\n",
    "    return result"
   ]
  },
  {
   "cell_type": "code",
   "execution_count": 7,
   "id": "7c3c3930",
   "metadata": {
    "ExecuteTime": {
     "end_time": "2022-03-11T13:05:49.622761Z",
     "start_time": "2022-03-11T13:05:19.933865Z"
    }
   },
   "outputs": [],
   "source": [
    "processed_docs = df['contents'].map(preprocess)"
   ]
  },
  {
   "cell_type": "code",
   "execution_count": 8,
   "id": "e124568d",
   "metadata": {
    "ExecuteTime": {
     "end_time": "2022-03-11T13:05:52.812526Z",
     "start_time": "2022-03-11T13:05:52.500181Z"
    }
   },
   "outputs": [
    {
     "name": "stdout",
     "output_type": "stream",
     "text": [
      "0 abil\n",
      "1 abl\n",
      "2 access\n",
      "3 account\n",
      "4 achiev\n",
      "5 action\n",
      "6 activ\n",
      "7 addit\n",
      "8 address\n",
      "9 adequaci\n",
      "10 advertis\n"
     ]
    }
   ],
   "source": [
    "dictionary = gensim.corpora.Dictionary(processed_docs)\n",
    "count = 0\n",
    "for k, v in dictionary.iteritems():\n",
    "    print(k, v)\n",
    "    count += 1\n",
    "    if count > 10:\n",
    "        break"
   ]
  },
  {
   "cell_type": "code",
   "execution_count": 9,
   "id": "100f3fea",
   "metadata": {
    "ExecuteTime": {
     "end_time": "2022-03-11T13:05:53.532938Z",
     "start_time": "2022-03-11T13:05:53.513937Z"
    }
   },
   "outputs": [],
   "source": [
    "dictionary.filter_extremes(no_below=15, no_above=0.5, keep_n=100000)"
   ]
  },
  {
   "cell_type": "code",
   "execution_count": 10,
   "id": "ce7704f8",
   "metadata": {
    "ExecuteTime": {
     "end_time": "2022-03-11T13:05:57.370799Z",
     "start_time": "2022-03-11T13:05:57.193800Z"
    }
   },
   "outputs": [],
   "source": [
    "bow_corpus = [dictionary.doc2bow(doc) for doc in processed_docs]"
   ]
  },
  {
   "cell_type": "code",
   "execution_count": 11,
   "id": "288b9eba",
   "metadata": {
    "ExecuteTime": {
     "end_time": "2022-03-11T13:05:58.010336Z",
     "start_time": "2022-03-11T13:05:57.975322Z"
    }
   },
   "outputs": [],
   "source": [
    "# bow_doc_43 = bow_corpus[43]\n",
    "\n",
    "# for i in range(len(bow_doc_43)):\n",
    "#     print(\"Word {} (\\\"{}\\\") appears {} time.\".format(bow_doc_43[i][0], \n",
    "#                                                      dictionary[bow_doc_43[i][0]], \n",
    "#                                                      bow_doc_43[i][1]))"
   ]
  },
  {
   "cell_type": "code",
   "execution_count": 12,
   "id": "c0f7af37",
   "metadata": {
    "ExecuteTime": {
     "end_time": "2022-03-11T13:05:58.480038Z",
     "start_time": "2022-03-11T13:05:58.422039Z"
    }
   },
   "outputs": [],
   "source": [
    "\n",
    "tfidf = models.TfidfModel(bow_corpus)\n",
    "corpus_tfidf = tfidf[bow_corpus]"
   ]
  },
  {
   "cell_type": "markdown",
   "id": "a2753f52",
   "metadata": {},
   "source": [
    "# LDA using bag of words"
   ]
  },
  {
   "cell_type": "code",
   "execution_count": 13,
   "id": "a713f5e9",
   "metadata": {
    "ExecuteTime": {
     "end_time": "2022-03-11T13:06:02.221747Z",
     "start_time": "2022-03-11T13:05:59.313594Z"
    }
   },
   "outputs": [
    {
     "name": "stderr",
     "output_type": "stream",
     "text": [
      "WARNING:gensim.models.ldamulticore:too few updates, training might not converge; consider increasing the number of passes or iterations to improve accuracy\n"
     ]
    }
   ],
   "source": [
    "lda_model = gensim.models.LdaMulticore(bow_corpus, num_topics=10, id2word=dictionary, passes=2, workers=2)"
   ]
  },
  {
   "cell_type": "code",
   "execution_count": 14,
   "id": "6a1dafc3",
   "metadata": {
    "ExecuteTime": {
     "end_time": "2022-03-11T13:06:02.237769Z",
     "start_time": "2022-03-11T13:06:02.222745Z"
    }
   },
   "outputs": [
    {
     "name": "stdout",
     "output_type": "stream",
     "text": [
      "Topic: 0 \n",
      "Words: 0.013*\"mortgag\" + 0.009*\"budget\" + 0.008*\"spend\" + 0.006*\"propos\" + 0.006*\"equiti\" + 0.006*\"debt\" + 0.005*\"fiscal\" + 0.005*\"deriv\" + 0.004*\"project\" + 0.004*\"incom\"\n",
      "Topic: 1 \n",
      "Words: 0.021*\"inflat\" + 0.011*\"labor\" + 0.008*\"employ\" + 0.007*\"longer\" + 0.007*\"pace\" + 0.007*\"spend\" + 0.006*\"fomc\" + 0.006*\"outlook\" + 0.006*\"household\" + 0.006*\"unemploy\"\n",
      "Topic: 2 \n",
      "Words: 0.020*\"small\" + 0.017*\"educ\" + 0.008*\"survey\" + 0.008*\"disclosur\" + 0.007*\"deposit\" + 0.006*\"lend\" + 0.006*\"depositori\" + 0.004*\"offer\" + 0.004*\"propos\" + 0.004*\"student\"\n",
      "Topic: 3 \n",
      "Words: 0.022*\"mortgag\" + 0.012*\"disclosur\" + 0.012*\"card\" + 0.010*\"lend\" + 0.008*\"borrow\" + 0.008*\"foreclosur\" + 0.008*\"creditor\" + 0.007*\"propos\" + 0.007*\"score\" + 0.007*\"examin\"\n",
      "Topic: 4 \n",
      "Words: 0.014*\"deposit\" + 0.013*\"currenc\" + 0.007*\"premium\" + 0.007*\"depositori\" + 0.006*\"fdic\" + 0.006*\"dollar\" + 0.005*\"propos\" + 0.005*\"treasuri\" + 0.005*\"lend\" + 0.005*\"small\"\n",
      "Topic: 5 \n",
      "Words: 0.011*\"deposit\" + 0.010*\"depositori\" + 0.010*\"propos\" + 0.008*\"competit\" + 0.007*\"subsidiari\" + 0.007*\"affili\" + 0.006*\"small\" + 0.006*\"supervisori\" + 0.006*\"basel\" + 0.006*\"merger\"\n",
      "Topic: 6 \n",
      "Words: 0.033*\"check\" + 0.013*\"custom\" + 0.007*\"communiti\" + 0.007*\"examin\" + 0.007*\"social\" + 0.007*\"electron\" + 0.006*\"test\" + 0.005*\"save\" + 0.005*\"propos\" + 0.005*\"collect\"\n",
      "Topic: 7 \n",
      "Words: 0.015*\"compens\" + 0.011*\"incent\" + 0.009*\"supervisori\" + 0.008*\"guidanc\" + 0.008*\"hedg\" + 0.007*\"counterparti\" + 0.007*\"supervisor\" + 0.006*\"examin\" + 0.006*\"arrang\" + 0.006*\"crisi\"\n",
      "Topic: 8 \n",
      "Words: 0.013*\"basel\" + 0.011*\"deriv\" + 0.008*\"exchang\" + 0.007*\"counterparti\" + 0.006*\"supervisori\" + 0.005*\"propos\" + 0.005*\"contract\" + 0.004*\"cftc\" + 0.004*\"supervisor\" + 0.004*\"prudenti\"\n",
      "Topic: 9 \n",
      "Words: 0.013*\"supervisori\" + 0.013*\"examin\" + 0.011*\"lend\" + 0.011*\"mortgag\" + 0.010*\"propos\" + 0.009*\"communiti\" + 0.008*\"borrow\" + 0.006*\"foreign\" + 0.006*\"crisi\" + 0.006*\"enforc\"\n"
     ]
    }
   ],
   "source": [
    "for idx, topic in lda_model.print_topics(-1):\n",
    "    print('Topic: {} \\nWords: {}'.format(idx, topic))"
   ]
  },
  {
   "cell_type": "markdown",
   "id": "632d8b7e",
   "metadata": {},
   "source": [
    "# LDA using TF-IDF"
   ]
  },
  {
   "cell_type": "code",
   "execution_count": 15,
   "id": "8edd8c49",
   "metadata": {
    "ExecuteTime": {
     "end_time": "2022-03-11T13:06:07.068832Z",
     "start_time": "2022-03-11T13:06:02.239768Z"
    }
   },
   "outputs": [
    {
     "name": "stderr",
     "output_type": "stream",
     "text": [
      "WARNING:gensim.models.ldamulticore:too few updates, training might not converge; consider increasing the number of passes or iterations to improve accuracy\n"
     ]
    }
   ],
   "source": [
    "lda_model_tfidf = gensim.models.LdaMulticore(corpus_tfidf, num_topics=10, id2word=dictionary, passes=2, workers=4)"
   ]
  },
  {
   "cell_type": "code",
   "execution_count": 16,
   "id": "1f8d66ed",
   "metadata": {
    "ExecuteTime": {
     "end_time": "2022-03-11T13:06:07.084834Z",
     "start_time": "2022-03-11T13:06:07.069833Z"
    }
   },
   "outputs": [
    {
     "name": "stdout",
     "output_type": "stream",
     "text": [
      "Topic: 0 Word: 0.010*\"budget\" + 0.008*\"social\" + 0.007*\"retir\" + 0.006*\"fiscal\" + 0.005*\"surplus\" + 0.004*\"deficit\" + 0.004*\"medicar\" + 0.004*\"launder\" + 0.004*\"inflat\" + 0.004*\"spend\"\n",
      "Topic: 1 Word: 0.006*\"basel\" + 0.005*\"dodd\" + 0.005*\"supervisori\" + 0.005*\"frank\" + 0.005*\"examin\" + 0.004*\"mortgag\" + 0.004*\"lend\" + 0.004*\"crisi\" + 0.004*\"communiti\" + 0.004*\"guidanc\"\n",
      "Topic: 2 Word: 0.006*\"inflat\" + 0.004*\"fomc\" + 0.003*\"energi\" + 0.003*\"municip\" + 0.003*\"mortgag\" + 0.003*\"outlook\" + 0.002*\"labor\" + 0.002*\"nomin\" + 0.002*\"fiscal\" + 0.002*\"investor\"\n",
      "Topic: 3 Word: 0.005*\"foreclosur\" + 0.004*\"mortgag\" + 0.004*\"text\" + 0.003*\"currenc\" + 0.003*\"lehman\" + 0.003*\"card\" + 0.003*\"releas\" + 0.002*\"examin\" + 0.002*\"fraud\" + 0.002*\"inflat\"\n",
      "Topic: 4 Word: 0.009*\"facil\" + 0.006*\"pandem\" + 0.004*\"deriv\" + 0.004*\"municip\" + 0.004*\"bond\" + 0.003*\"treasuri\" + 0.003*\"launder\" + 0.003*\"section\" + 0.003*\"inflat\" + 0.003*\"dealer\"\n",
      "Topic: 5 Word: 0.004*\"mortgag\" + 0.004*\"card\" + 0.003*\"deposit\" + 0.003*\"check\" + 0.003*\"disclosur\" + 0.003*\"depositori\" + 0.003*\"merger\" + 0.003*\"subprim\" + 0.003*\"educ\" + 0.003*\"fdic\"\n",
      "Topic: 6 Word: 0.005*\"dollar\" + 0.005*\"european\" + 0.004*\"sovereign\" + 0.004*\"swap\" + 0.004*\"europ\" + 0.003*\"euro\" + 0.003*\"currenc\" + 0.003*\"inflat\" + 0.003*\"inventori\" + 0.003*\"propos\"\n",
      "Topic: 7 Word: 0.014*\"inflat\" + 0.007*\"labor\" + 0.006*\"fomc\" + 0.005*\"outlook\" + 0.005*\"spend\" + 0.004*\"energi\" + 0.004*\"unemploy\" + 0.004*\"pace\" + 0.004*\"fiscal\" + 0.003*\"employ\"\n",
      "Topic: 8 Word: 0.008*\"deriv\" + 0.006*\"cftc\" + 0.005*\"counterparti\" + 0.004*\"subsidi\" + 0.004*\"contract\" + 0.004*\"subsidiari\" + 0.004*\"affili\" + 0.004*\"exchang\" + 0.003*\"modern\" + 0.003*\"manipul\"\n",
      "Topic: 9 Word: 0.007*\"inflat\" + 0.004*\"labor\" + 0.003*\"budget\" + 0.003*\"asian\" + 0.003*\"unemploy\" + 0.003*\"fomc\" + 0.003*\"dodd\" + 0.003*\"frank\" + 0.003*\"prudenti\" + 0.003*\"foreclosur\"\n"
     ]
    }
   ],
   "source": [
    "for idx, topic in lda_model_tfidf.print_topics(-1):\n",
    "    print('Topic: {} Word: {}'.format(idx, topic))"
   ]
  },
  {
   "cell_type": "markdown",
   "id": "97298f2c",
   "metadata": {},
   "source": [
    "# Doc2vec"
   ]
  },
  {
   "cell_type": "code",
   "execution_count": 17,
   "id": "ca359e4f",
   "metadata": {
    "ExecuteTime": {
     "end_time": "2022-03-11T13:06:08.297936Z",
     "start_time": "2022-03-11T13:06:07.086833Z"
    }
   },
   "outputs": [],
   "source": [
    "def read_corpus(f, tokens_only=False):\n",
    "        for i, line in enumerate(f):\n",
    "            tokens = gensim.utils.simple_preprocess(line)\n",
    "            if tokens_only:\n",
    "                yield tokens\n",
    "            else:\n",
    "                # For training data, add tags\n",
    "                yield gensim.models.doc2vec.TaggedDocument(tokens, [i])\n",
    "\n",
    "train_corpus = list(read_corpus(df.contents))"
   ]
  },
  {
   "cell_type": "code",
   "execution_count": 18,
   "id": "5d64593a",
   "metadata": {
    "ExecuteTime": {
     "end_time": "2022-03-11T13:06:14.008831Z",
     "start_time": "2022-03-11T13:06:08.298921Z"
    },
    "scrolled": true
   },
   "outputs": [],
   "source": [
    "#session crashed when i ran this, even when I had a GPU connected it didnt seem to use the GPU\n",
    "from gensim.models.doc2vec import Doc2Vec\n",
    "model = Doc2Vec(train_corpus, vector_size=200, window=3, min_count=1, workers=4)"
   ]
  },
  {
   "cell_type": "code",
   "execution_count": 19,
   "id": "7ed27065",
   "metadata": {
    "ExecuteTime": {
     "end_time": "2022-03-11T13:06:14.024831Z",
     "start_time": "2022-03-11T13:06:14.009856Z"
    }
   },
   "outputs": [],
   "source": [
    "def getVecs(model_name, corpus, size):\n",
    "    vecs = [np.array(model_name[z.tags[0]]).reshape((1, size)) for z in corpus]\n",
    "    return np.concatenate(vecs)\n",
    "train_vecs_dm = getVecs(model, train_corpus, 200)"
   ]
  },
  {
   "cell_type": "markdown",
   "id": "08e350fc",
   "metadata": {},
   "source": [
    "# Predictions on SPY changes\n"
   ]
  },
  {
   "cell_type": "code",
   "execution_count": 20,
   "id": "b1e4bb46",
   "metadata": {
    "ExecuteTime": {
     "end_time": "2022-03-11T13:06:14.056850Z",
     "start_time": "2022-03-11T13:06:14.041831Z"
    }
   },
   "outputs": [],
   "source": [
    "def pct_change_from_day_0(announcement):\n",
    "    pct_change= (announcement['SPY: d+7']/announcement['SPY: d-1'])-1\n",
    "    if pct_change>0:\n",
    "        return 'up'\n",
    "    else:\n",
    "        return 'down'"
   ]
  },
  {
   "cell_type": "code",
   "execution_count": 21,
   "id": "22ef2840",
   "metadata": {
    "ExecuteTime": {
     "end_time": "2022-03-11T13:06:14.072851Z",
     "start_time": "2022-03-11T13:06:14.058831Z"
    }
   },
   "outputs": [
    {
     "data": {
      "text/plain": [
       "'down'"
      ]
     },
     "execution_count": 21,
     "metadata": {},
     "output_type": "execute_result"
    }
   ],
   "source": [
    "pct_change_from_day_0(df.iloc[141])"
   ]
  },
  {
   "cell_type": "code",
   "execution_count": 22,
   "id": "648cba43",
   "metadata": {
    "ExecuteTime": {
     "end_time": "2022-03-11T13:06:14.088852Z",
     "start_time": "2022-03-11T13:06:14.074832Z"
    }
   },
   "outputs": [],
   "source": [
    "df['+7change']=df.apply(pct_change_from_day_0,axis=1)"
   ]
  },
  {
   "cell_type": "code",
   "execution_count": 23,
   "id": "bee52246",
   "metadata": {
    "ExecuteTime": {
     "end_time": "2022-03-11T13:06:14.120849Z",
     "start_time": "2022-03-11T13:06:14.105852Z"
    }
   },
   "outputs": [
    {
     "data": {
      "text/plain": [
       "up      260\n",
       "down    194\n",
       "Name: +7change, dtype: int64"
      ]
     },
     "execution_count": 23,
     "metadata": {},
     "output_type": "execute_result"
    }
   ],
   "source": [
    "df['+7change'].value_counts()"
   ]
  },
  {
   "cell_type": "code",
   "execution_count": 24,
   "id": "07afe01a",
   "metadata": {
    "ExecuteTime": {
     "end_time": "2022-03-11T13:06:14.136852Z",
     "start_time": "2022-03-11T13:06:14.121832Z"
    }
   },
   "outputs": [],
   "source": [
    "labels=df['+7change'].to_numpy()\n",
    "labels_onehot=pd.get_dummies(labels).values"
   ]
  },
  {
   "cell_type": "code",
   "execution_count": 25,
   "id": "5df99556",
   "metadata": {
    "ExecuteTime": {
     "end_time": "2022-03-11T13:06:14.168853Z",
     "start_time": "2022-03-11T13:06:14.153835Z"
    }
   },
   "outputs": [
    {
     "name": "stdout",
     "output_type": "stream",
     "text": [
      "408 46 408 46\n"
     ]
    }
   ],
   "source": [
    "X_train, X_test, y_train, y_test = train_test_split(train_vecs_dm,labels_onehot,train_size=0.9)\n",
    "print (len(X_train),len(X_test),len(y_train),len(y_test))"
   ]
  },
  {
   "cell_type": "code",
   "execution_count": 26,
   "id": "bbb57161",
   "metadata": {
    "ExecuteTime": {
     "end_time": "2022-03-11T13:06:14.184852Z",
     "start_time": "2022-03-11T13:06:14.169854Z"
    }
   },
   "outputs": [
    {
     "name": "stdout",
     "output_type": "stream",
     "text": [
      "367 41 367 41\n"
     ]
    }
   ],
   "source": [
    "X_train_m, X_val, y_train_m, y_val = train_test_split(X_train,y_train,train_size=0.9)\n",
    "print (len(X_train_m),len(X_val),len(y_train_m),len(y_val))"
   ]
  },
  {
   "cell_type": "code",
   "execution_count": 27,
   "id": "149bdd4c",
   "metadata": {
    "ExecuteTime": {
     "end_time": "2022-03-11T13:06:48.309405Z",
     "start_time": "2022-03-11T13:06:14.185833Z"
    }
   },
   "outputs": [
    {
     "name": "stdout",
     "output_type": "stream",
     "text": [
      "Metal device set to: Apple M1 Pro\n",
      "\n",
      "systemMemory: 16.00 GB\n",
      "maxCacheSize: 5.33 GB\n",
      "\n"
     ]
    },
    {
     "name": "stderr",
     "output_type": "stream",
     "text": [
      "2022-03-14 19:06:20.565258: I tensorflow/core/common_runtime/pluggable_device/pluggable_device_factory.cc:305] Could not identify NUMA node of platform GPU ID 0, defaulting to 0. Your kernel may not have been built with NUMA support.\n",
      "2022-03-14 19:06:20.565406: I tensorflow/core/common_runtime/pluggable_device/pluggable_device_factory.cc:271] Created TensorFlow device (/job:localhost/replica:0/task:0/device:GPU:0 with 0 MB memory) -> physical PluggableDevice (device: 0, name: METAL, pci bus id: <undefined>)\n"
     ]
    },
    {
     "name": "stdout",
     "output_type": "stream",
     "text": [
      "Epoch 1/30\n"
     ]
    },
    {
     "name": "stderr",
     "output_type": "stream",
     "text": [
      "2022-03-14 19:06:21.475830: W tensorflow/core/platform/profile_utils/cpu_utils.cc:128] Failed to get CPU frequency: 0 Hz\n",
      "2022-03-14 19:06:22.873765: I tensorflow/core/grappler/optimizers/custom_graph_optimizer_registry.cc:113] Plugin optimizer for device_type GPU is enabled.\n",
      "2022-03-14 19:06:23.174021: I tensorflow/core/grappler/optimizers/custom_graph_optimizer_registry.cc:113] Plugin optimizer for device_type GPU is enabled.\n",
      "2022-03-14 19:06:24.882363: I tensorflow/core/grappler/optimizers/custom_graph_optimizer_registry.cc:113] Plugin optimizer for device_type GPU is enabled.\n",
      "2022-03-14 19:06:26.517591: I tensorflow/core/grappler/optimizers/custom_graph_optimizer_registry.cc:113] Plugin optimizer for device_type GPU is enabled.\n",
      "2022-03-14 19:06:27.875397: I tensorflow/core/grappler/optimizers/custom_graph_optimizer_registry.cc:113] Plugin optimizer for device_type GPU is enabled.\n"
     ]
    },
    {
     "name": "stdout",
     "output_type": "stream",
     "text": [
      "4/4 [==============================] - ETA: 0s - loss: 0.2855 - accuracy: 0.5095"
     ]
    },
    {
     "name": "stderr",
     "output_type": "stream",
     "text": [
      "2022-03-14 19:06:30.917278: I tensorflow/core/grappler/optimizers/custom_graph_optimizer_registry.cc:113] Plugin optimizer for device_type GPU is enabled.\n",
      "2022-03-14 19:06:31.004262: I tensorflow/core/grappler/optimizers/custom_graph_optimizer_registry.cc:113] Plugin optimizer for device_type GPU is enabled.\n",
      "2022-03-14 19:06:31.235975: I tensorflow/core/grappler/optimizers/custom_graph_optimizer_registry.cc:113] Plugin optimizer for device_type GPU is enabled.\n"
     ]
    },
    {
     "name": "stdout",
     "output_type": "stream",
     "text": [
      "4/4 [==============================] - 10s 957ms/step - loss: 0.2855 - accuracy: 0.5095 - val_loss: 0.2491 - val_accuracy: 0.6341\n",
      "Epoch 2/30\n",
      "4/4 [==============================] - 0s 106ms/step - loss: 0.2748 - accuracy: 0.5695 - val_loss: 0.2480 - val_accuracy: 0.6341\n",
      "Epoch 3/30\n",
      "4/4 [==============================] - 0s 101ms/step - loss: 0.2634 - accuracy: 0.5777 - val_loss: 0.2469 - val_accuracy: 0.6341\n",
      "Epoch 4/30\n",
      "4/4 [==============================] - 0s 99ms/step - loss: 0.2703 - accuracy: 0.5586 - val_loss: 0.2462 - val_accuracy: 0.6341\n",
      "Epoch 5/30\n",
      "4/4 [==============================] - 0s 96ms/step - loss: 0.2608 - accuracy: 0.5640 - val_loss: 0.2455 - val_accuracy: 0.6341\n",
      "Epoch 6/30\n",
      "4/4 [==============================] - 0s 97ms/step - loss: 0.2551 - accuracy: 0.5613 - val_loss: 0.2450 - val_accuracy: 0.6341\n",
      "Epoch 7/30\n",
      "4/4 [==============================] - 0s 100ms/step - loss: 0.2676 - accuracy: 0.5695 - val_loss: 0.2444 - val_accuracy: 0.6341\n",
      "Epoch 8/30\n",
      "4/4 [==============================] - 0s 95ms/step - loss: 0.2563 - accuracy: 0.5722 - val_loss: 0.2439 - val_accuracy: 0.6341\n",
      "Epoch 9/30\n",
      "4/4 [==============================] - 0s 94ms/step - loss: 0.2613 - accuracy: 0.6049 - val_loss: 0.2434 - val_accuracy: 0.6341\n",
      "Epoch 10/30\n",
      "4/4 [==============================] - 0s 95ms/step - loss: 0.2641 - accuracy: 0.5477 - val_loss: 0.2425 - val_accuracy: 0.6341\n",
      "Epoch 11/30\n",
      "4/4 [==============================] - 0s 96ms/step - loss: 0.2540 - accuracy: 0.5777 - val_loss: 0.2418 - val_accuracy: 0.6341\n",
      "Epoch 12/30\n",
      "4/4 [==============================] - 0s 94ms/step - loss: 0.2549 - accuracy: 0.5886 - val_loss: 0.2410 - val_accuracy: 0.6341\n",
      "Epoch 13/30\n",
      "4/4 [==============================] - 0s 96ms/step - loss: 0.2524 - accuracy: 0.5967 - val_loss: 0.2405 - val_accuracy: 0.6341\n",
      "Epoch 14/30\n",
      "4/4 [==============================] - 0s 95ms/step - loss: 0.2556 - accuracy: 0.5777 - val_loss: 0.2401 - val_accuracy: 0.6341\n",
      "Epoch 15/30\n",
      "4/4 [==============================] - 0s 96ms/step - loss: 0.2430 - accuracy: 0.6213 - val_loss: 0.2398 - val_accuracy: 0.6341\n",
      "Epoch 16/30\n",
      "4/4 [==============================] - 0s 96ms/step - loss: 0.2499 - accuracy: 0.5422 - val_loss: 0.2394 - val_accuracy: 0.6341\n",
      "Epoch 17/30\n",
      "4/4 [==============================] - 0s 97ms/step - loss: 0.2571 - accuracy: 0.5313 - val_loss: 0.2390 - val_accuracy: 0.6341\n",
      "Epoch 18/30\n",
      "4/4 [==============================] - 0s 96ms/step - loss: 0.2491 - accuracy: 0.5886 - val_loss: 0.2387 - val_accuracy: 0.6341\n",
      "Epoch 19/30\n",
      "4/4 [==============================] - 0s 94ms/step - loss: 0.2471 - accuracy: 0.5886 - val_loss: 0.2384 - val_accuracy: 0.6341\n",
      "Epoch 20/30\n",
      "4/4 [==============================] - 0s 95ms/step - loss: 0.2440 - accuracy: 0.6022 - val_loss: 0.2384 - val_accuracy: 0.6341\n",
      "Epoch 21/30\n",
      "4/4 [==============================] - 0s 99ms/step - loss: 0.2422 - accuracy: 0.6131 - val_loss: 0.2383 - val_accuracy: 0.6341\n",
      "Epoch 22/30\n",
      "4/4 [==============================] - 0s 98ms/step - loss: 0.2396 - accuracy: 0.6104 - val_loss: 0.2380 - val_accuracy: 0.6341\n",
      "Epoch 23/30\n",
      "4/4 [==============================] - 0s 96ms/step - loss: 0.2425 - accuracy: 0.5940 - val_loss: 0.2377 - val_accuracy: 0.6341\n",
      "Epoch 24/30\n",
      "4/4 [==============================] - 0s 99ms/step - loss: 0.2429 - accuracy: 0.6131 - val_loss: 0.2374 - val_accuracy: 0.6341\n",
      "Epoch 25/30\n",
      "4/4 [==============================] - 0s 99ms/step - loss: 0.2357 - accuracy: 0.6022 - val_loss: 0.2371 - val_accuracy: 0.6341\n",
      "Epoch 26/30\n",
      "4/4 [==============================] - 0s 98ms/step - loss: 0.2415 - accuracy: 0.6104 - val_loss: 0.2370 - val_accuracy: 0.6341\n",
      "Epoch 27/30\n",
      "4/4 [==============================] - 0s 98ms/step - loss: 0.2431 - accuracy: 0.5967 - val_loss: 0.2371 - val_accuracy: 0.6341\n",
      "Epoch 28/30\n",
      "4/4 [==============================] - 0s 100ms/step - loss: 0.2416 - accuracy: 0.6349 - val_loss: 0.2370 - val_accuracy: 0.6341\n",
      "Epoch 29/30\n",
      "4/4 [==============================] - 0s 102ms/step - loss: 0.2405 - accuracy: 0.6076 - val_loss: 0.2369 - val_accuracy: 0.6341\n",
      "Epoch 30/30\n",
      "4/4 [==============================] - 0s 101ms/step - loss: 0.2398 - accuracy: 0.6076 - val_loss: 0.2371 - val_accuracy: 0.6341\n"
     ]
    }
   ],
   "source": [
    "model = Sequential()\n",
    "\n",
    "model.add(LSTM(units = 50, return_sequences = True, input_shape = (X_train.shape[1], 1)))\n",
    "model.add(Dropout(0.2))\n",
    "model.add(BatchNormalization())\n",
    "\n",
    "\n",
    "model.add(LSTM(units = 50))\n",
    "model.add(Dropout(0.25))\n",
    "model.add(BatchNormalization())\n",
    "\n",
    "model.add(Dense(2, activation='sigmoid'))\n",
    "\n",
    "model.compile(optimizer = 'adam', loss = 'mean_squared_error',metrics=['accuracy'])\n",
    "\n",
    "history=model.fit(X_train_m, y_train_m,validation_data=(X_val,y_val), epochs = 30, batch_size = 100)"
   ]
  },
  {
   "cell_type": "code",
   "execution_count": 28,
   "id": "87c5bd95",
   "metadata": {
    "ExecuteTime": {
     "end_time": "2022-03-11T13:06:48.468760Z",
     "start_time": "2022-03-11T13:06:48.310423Z"
    }
   },
   "outputs": [
    {
     "data": {
      "image/png": "[encoded data removed]",
      "text/plain": [
       "<Figure size 432x288 with 1 Axes>"
      ]
     },
     "metadata": {
      "needs_background": "light"
     },
     "output_type": "display_data"
    },
    {
     "data": {
      "text/plain": [
       "<Figure size 432x288 with 0 Axes>"
      ]
     },
     "metadata": {},
     "output_type": "display_data"
    }
   ],
   "source": [
    "plt.plot(history.history['accuracy'], label='acc')\n",
    "plt.plot(history.history['val_accuracy'], label='val_acc')\n",
    "plt.title('Training and validation accuracy evolution through epochs')\n",
    "plt.legend()\n",
    "plt.show()\n",
    "plt.savefig(\"Accuracy plot.jpg\")"
   ]
  },
  {
   "cell_type": "code",
   "execution_count": 29,
   "id": "47397b81",
   "metadata": {
    "ExecuteTime": {
     "end_time": "2022-03-11T13:06:48.817137Z",
     "start_time": "2022-03-11T13:06:48.469671Z"
    }
   },
   "outputs": [
    {
     "name": "stdout",
     "output_type": "stream",
     "text": [
      "13/13 [==============================] - 1s 76ms/step - loss: 0.2479 - accuracy: 0.5613\n"
     ]
    },
    {
     "data": {
      "text/plain": [
       "[0.24786287546157837, 0.561274528503418]"
      ]
     },
     "execution_count": 29,
     "metadata": {},
     "output_type": "execute_result"
    }
   ],
   "source": [
    "model.evaluate(X_train,y_train)"
   ]
  },
  {
   "cell_type": "code",
   "execution_count": 30,
   "id": "d98cc966",
   "metadata": {
    "ExecuteTime": {
     "end_time": "2022-03-11T13:06:48.896197Z",
     "start_time": "2022-03-11T13:06:48.818118Z"
    }
   },
   "outputs": [
    {
     "name": "stdout",
     "output_type": "stream",
     "text": [
      "2/2 [==============================] - 1s 521ms/step - loss: 0.2332 - accuracy: 0.6739\n"
     ]
    },
    {
     "data": {
      "text/plain": [
       "[0.23323358595371246, 0.6739130616188049]"
      ]
     },
     "execution_count": 30,
     "metadata": {},
     "output_type": "execute_result"
    }
   ],
   "source": [
    "model.evaluate(X_test,y_test)"
   ]
  }
 ],
 "metadata": {
  "kernelspec": {
   "display_name": "Python 3",
   "language": "python",
   "name": "python3"
  },
  "language_info": {
   "codemirror_mode": {
    "name": "ipython",
    "version": 3
   },
   "file_extension": ".py",
   "mimetype": "text/x-python",
   "name": "python",
   "nbconvert_exporter": "python",
   "pygments_lexer": "ipython3",
   "version": "3.8.12"
  },
  "toc": {
   "base_numbering": 1,
   "nav_menu": {},
   "number_sections": true,
   "sideBar": true,
   "skip_h1_title": false,
   "title_cell": "Table of Contents",
   "title_sidebar": "Contents",
   "toc_cell": false,
   "toc_position": {
    "height": "calc(100% - 180px)",
    "left": "10px",
    "top": "150px",
    "width": "195.273px"
   },
   "toc_section_display": true,
   "toc_window_display": true
  }
 },
 "nbformat": 4,
 "nbformat_minor": 5
}
