{
 "cells": [
  {
   "cell_type": "code",
   "execution_count": 1,
   "id": "516e3838",
   "metadata": {
    "ExecuteTime": {
     "end_time": "2022-03-11T13:03:41.390015Z",
     "start_time": "2022-03-11T13:03:37.267851Z"
    }
   },
   "outputs": [],
   "source": [
    "import re\n",
    "import matplotlib.pyplot as plt\n",
    "import string\n",
    "from nltk.tokenize.treebank import TreebankWordDetokenizer\n",
    "from gensim.utils import simple_preprocess\n",
    "import gensim\n",
    "from sklearn.model_selection import train_test_split\n",
    "import pickle\n",
    "import warnings\n",
    "warnings.filterwarnings('ignore')\n",
    "import seaborn as sns\n",
    "from sklearn.metrics import confusion_matrix\n",
    "import matplotlib.pyplot as plt \n",
    "import tensorflow as tf\n",
    "import keras\n",
    "import numpy as np\n",
    "import pandas as pd\n",
    "from nltk.corpus import stopwords\n",
    "import nltk\n",
    "\n",
    "import pandas as pd\n",
    "import matplotlib.pyplot as plt\n",
    "import numpy as np\n",
    "import re\n",
    "from tqdm import tqdm\n",
    "from tensorflow.keras.preprocessing.text import Tokenizer\n",
    "from tensorflow.keras.preprocessing.sequence import pad_sequences\n",
    "from tensorflow.keras.models import Sequential\n",
    "from tensorflow.keras.layers import LSTM,Dense, Dropout, SpatialDropout1D\n",
    "from tensorflow.keras.layers import Embedding\n",
    "from keras.layers import Dense, Dropout, BatchNormalization\n",
    "from keras.layers.wrappers import Bidirectional\n",
    "\n",
    "import pandas\n",
    "import pickle\n",
    "import bz2\n",
    "import _pickle as cPickle\n",
    "import zipfile\n",
    "from tqdm import tqdm\n",
    "\n",
    "import gensim\n",
    "from gensim.utils import simple_preprocess\n",
    "from gensim.parsing.preprocessing import STOPWORDS\n",
    "from nltk.stem import WordNetLemmatizer, SnowballStemmer\n",
    "from nltk.stem.porter import *\n",
    "import numpy as np\n",
    "np.random.seed(2018)\n",
    "import nltk"
   ]
  },
  {
   "cell_type": "code",
   "execution_count": 2,
   "id": "3f9d4c4b",
   "metadata": {
    "ExecuteTime": {
     "end_time": "2022-03-11T13:05:11.089197Z",
     "start_time": "2022-03-11T13:05:10.944195Z"
    }
   },
   "outputs": [],
   "source": [
    "df=pd.read_csv(r\"C:/Users/chriq/OneDrive/Documents/my_data/Textminingdata/text_financial/testimony_spy.csv\", parse_dates=['date'])"
   ]
  },
  {
   "cell_type": "code",
   "execution_count": 3,
   "id": "548a64e9",
   "metadata": {
    "ExecuteTime": {
     "end_time": "2022-03-11T13:05:14.172865Z",
     "start_time": "2022-03-11T13:05:14.099349Z"
    }
   },
   "outputs": [
    {
     "data": {
      "text/html": [
       "<div>\n",
       "<style scoped>\n",
       "    .dataframe tbody tr th:only-of-type {\n",
       "        vertical-align: middle;\n",
       "    }\n",
       "\n",
       "    .dataframe tbody tr th {\n",
       "        vertical-align: top;\n",
       "    }\n",
       "\n",
       "    .dataframe thead th {\n",
       "        text-align: right;\n",
       "    }\n",
       "</style>\n",
       "<table border=\"1\" class=\"dataframe\">\n",
       "  <thead>\n",
       "    <tr style=\"text-align: right;\">\n",
       "      <th></th>\n",
       "      <th>Unnamed: 0</th>\n",
       "      <th>date</th>\n",
       "      <th>contents</th>\n",
       "      <th>speaker</th>\n",
       "      <th>title</th>\n",
       "      <th>SPY: d-1</th>\n",
       "      <th>SPY: d+0</th>\n",
       "      <th>SPY: d+1</th>\n",
       "      <th>SPY: d+2</th>\n",
       "      <th>SPY: d+3</th>\n",
       "      <th>...</th>\n",
       "      <th>SPY: d+5</th>\n",
       "      <th>SPY: d+6</th>\n",
       "      <th>SPY: d+7</th>\n",
       "      <th>SPY: d+8</th>\n",
       "      <th>SPY: d+9</th>\n",
       "      <th>SPY: d+10</th>\n",
       "      <th>SPY: d+11</th>\n",
       "      <th>SPY: d+12</th>\n",
       "      <th>SPY: d+13</th>\n",
       "      <th>SPY: d+14</th>\n",
       "    </tr>\n",
       "  </thead>\n",
       "  <tbody>\n",
       "    <tr>\n",
       "      <th>0</th>\n",
       "      <td>0</td>\n",
       "      <td>1996-06-26</td>\n",
       "      <td>It is a pleasure to appear before this Subcomm...</td>\n",
       "      <td>Governor Edward W. Kelley, Jr.</td>\n",
       "      <td>Supervision of bank sales practices</td>\n",
       "      <td>25.864319</td>\n",
       "      <td>26.137705</td>\n",
       "      <td>26.247076</td>\n",
       "      <td>26.228842</td>\n",
       "      <td>26.228842</td>\n",
       "      <td>...</td>\n",
       "      <td>26.083029</td>\n",
       "      <td>26.210615</td>\n",
       "      <td>26.010128</td>\n",
       "      <td>25.353931</td>\n",
       "      <td>25.335707</td>\n",
       "      <td>25.317488</td>\n",
       "      <td>25.408623</td>\n",
       "      <td>25.499762</td>\n",
       "      <td>25.481527</td>\n",
       "      <td>25.809631</td>\n",
       "    </tr>\n",
       "    <tr>\n",
       "      <th>1</th>\n",
       "      <td>1</td>\n",
       "      <td>1996-07-17</td>\n",
       "      <td>I am pleased to appear before the Committee on...</td>\n",
       "      <td>Herbert A. Biern, Deputy Associate Director, D...</td>\n",
       "      <td>\"Prime bank\" schemes</td>\n",
       "      <td>26.242840</td>\n",
       "      <td>26.297781</td>\n",
       "      <td>26.297781</td>\n",
       "      <td>26.462601</td>\n",
       "      <td>26.316103</td>\n",
       "      <td>...</td>\n",
       "      <td>26.499220</td>\n",
       "      <td>26.480902</td>\n",
       "      <td>26.389343</td>\n",
       "      <td>25.839956</td>\n",
       "      <td>25.968130</td>\n",
       "      <td>25.894896</td>\n",
       "      <td>25.986469</td>\n",
       "      <td>25.949833</td>\n",
       "      <td>26.316103</td>\n",
       "      <td>26.371027</td>\n",
       "    </tr>\n",
       "    <tr>\n",
       "      <th>2</th>\n",
       "      <td>2</td>\n",
       "      <td>1996-07-18</td>\n",
       "      <td>Testimony of Chairman Alan Greenspan The Feder...</td>\n",
       "      <td>Chairman Alan Greenspan</td>\n",
       "      <td>The Federal Reserve's semiannual monetary report</td>\n",
       "      <td>25.876574</td>\n",
       "      <td>25.858263</td>\n",
       "      <td>26.389343</td>\n",
       "      <td>26.462601</td>\n",
       "      <td>26.224524</td>\n",
       "      <td>...</td>\n",
       "      <td>26.389343</td>\n",
       "      <td>26.718983</td>\n",
       "      <td>26.627411</td>\n",
       "      <td>26.499220</td>\n",
       "      <td>26.755627</td>\n",
       "      <td>26.718983</td>\n",
       "      <td>26.627411</td>\n",
       "      <td>26.535849</td>\n",
       "      <td>26.444286</td>\n",
       "      <td>26.206215</td>\n",
       "    </tr>\n",
       "    <tr>\n",
       "      <th>3</th>\n",
       "      <td>3</td>\n",
       "      <td>1996-07-24</td>\n",
       "      <td>I am pleased to appear before this Subcommitte...</td>\n",
       "      <td>Governor Janet L. Yellen</td>\n",
       "      <td>Trends in consumer lending</td>\n",
       "      <td>26.096848</td>\n",
       "      <td>26.170630</td>\n",
       "      <td>26.465719</td>\n",
       "      <td>26.539494</td>\n",
       "      <td>26.521049</td>\n",
       "      <td>...</td>\n",
       "      <td>26.594809</td>\n",
       "      <td>26.484146</td>\n",
       "      <td>26.410383</td>\n",
       "      <td>26.391937</td>\n",
       "      <td>26.465719</td>\n",
       "      <td>26.447269</td>\n",
       "      <td>26.262844</td>\n",
       "      <td>26.391937</td>\n",
       "      <td>26.539494</td>\n",
       "      <td>26.521049</td>\n",
       "    </tr>\n",
       "    <tr>\n",
       "      <th>4</th>\n",
       "      <td>4</td>\n",
       "      <td>1996-07-26</td>\n",
       "      <td>I appreciate this opportunity to appear before...</td>\n",
       "      <td>Chairman Alan Greenspan</td>\n",
       "      <td>Recent reports on Federal Reserve operations</td>\n",
       "      <td>26.779249</td>\n",
       "      <td>26.871473</td>\n",
       "      <td>27.019001</td>\n",
       "      <td>27.019001</td>\n",
       "      <td>27.037451</td>\n",
       "      <td>...</td>\n",
       "      <td>27.277197</td>\n",
       "      <td>27.295652</td>\n",
       "      <td>27.314091</td>\n",
       "      <td>27.295652</td>\n",
       "      <td>27.406319</td>\n",
       "      <td>27.480087</td>\n",
       "      <td>27.443205</td>\n",
       "      <td>27.350975</td>\n",
       "      <td>27.369415</td>\n",
       "      <td>27.184986</td>\n",
       "    </tr>\n",
       "    <tr>\n",
       "      <th>...</th>\n",
       "      <td>...</td>\n",
       "      <td>...</td>\n",
       "      <td>...</td>\n",
       "      <td>...</td>\n",
       "      <td>...</td>\n",
       "      <td>...</td>\n",
       "      <td>...</td>\n",
       "      <td>...</td>\n",
       "      <td>...</td>\n",
       "      <td>...</td>\n",
       "      <td>...</td>\n",
       "      <td>...</td>\n",
       "      <td>...</td>\n",
       "      <td>...</td>\n",
       "      <td>...</td>\n",
       "      <td>...</td>\n",
       "      <td>...</td>\n",
       "      <td>...</td>\n",
       "      <td>...</td>\n",
       "      <td>...</td>\n",
       "      <td>...</td>\n",
       "    </tr>\n",
       "    <tr>\n",
       "      <th>449</th>\n",
       "      <td>449</td>\n",
       "      <td>2021-09-28</td>\n",
       "      <td>The Federal Reserve, the central bank of the U...</td>\n",
       "      <td>Chair Jerome H. Powell</td>\n",
       "      <td>Coronavirus and CARES Act</td>\n",
       "      <td>NaN</td>\n",
       "      <td>NaN</td>\n",
       "      <td>NaN</td>\n",
       "      <td>NaN</td>\n",
       "      <td>NaN</td>\n",
       "      <td>...</td>\n",
       "      <td>NaN</td>\n",
       "      <td>NaN</td>\n",
       "      <td>NaN</td>\n",
       "      <td>NaN</td>\n",
       "      <td>NaN</td>\n",
       "      <td>NaN</td>\n",
       "      <td>NaN</td>\n",
       "      <td>NaN</td>\n",
       "      <td>NaN</td>\n",
       "      <td>NaN</td>\n",
       "    </tr>\n",
       "    <tr>\n",
       "      <th>450</th>\n",
       "      <td>450</td>\n",
       "      <td>2021-11-30</td>\n",
       "      <td>The Federal Reserve, the central bank of the U...</td>\n",
       "      <td>Chair Jerome H. Powell</td>\n",
       "      <td>Coronavirus and CARES Act</td>\n",
       "      <td>NaN</td>\n",
       "      <td>NaN</td>\n",
       "      <td>NaN</td>\n",
       "      <td>NaN</td>\n",
       "      <td>NaN</td>\n",
       "      <td>...</td>\n",
       "      <td>NaN</td>\n",
       "      <td>NaN</td>\n",
       "      <td>NaN</td>\n",
       "      <td>NaN</td>\n",
       "      <td>NaN</td>\n",
       "      <td>NaN</td>\n",
       "      <td>NaN</td>\n",
       "      <td>NaN</td>\n",
       "      <td>NaN</td>\n",
       "      <td>NaN</td>\n",
       "    </tr>\n",
       "    <tr>\n",
       "      <th>451</th>\n",
       "      <td>451</td>\n",
       "      <td>2022-01-11</td>\n",
       "      <td>The Federal Reserve, the central bank of the U...</td>\n",
       "      <td>Chair Jerome H. Powell</td>\n",
       "      <td>Nomination hearing</td>\n",
       "      <td>NaN</td>\n",
       "      <td>NaN</td>\n",
       "      <td>NaN</td>\n",
       "      <td>NaN</td>\n",
       "      <td>NaN</td>\n",
       "      <td>...</td>\n",
       "      <td>NaN</td>\n",
       "      <td>NaN</td>\n",
       "      <td>NaN</td>\n",
       "      <td>NaN</td>\n",
       "      <td>NaN</td>\n",
       "      <td>NaN</td>\n",
       "      <td>NaN</td>\n",
       "      <td>NaN</td>\n",
       "      <td>NaN</td>\n",
       "      <td>NaN</td>\n",
       "    </tr>\n",
       "    <tr>\n",
       "      <th>452</th>\n",
       "      <td>452</td>\n",
       "      <td>2022-01-13</td>\n",
       "      <td>The Federal Reserve, the central bank of the U...</td>\n",
       "      <td>Governor Lael Brainard</td>\n",
       "      <td>Nomination hearing</td>\n",
       "      <td>NaN</td>\n",
       "      <td>NaN</td>\n",
       "      <td>NaN</td>\n",
       "      <td>NaN</td>\n",
       "      <td>NaN</td>\n",
       "      <td>...</td>\n",
       "      <td>NaN</td>\n",
       "      <td>NaN</td>\n",
       "      <td>NaN</td>\n",
       "      <td>NaN</td>\n",
       "      <td>NaN</td>\n",
       "      <td>NaN</td>\n",
       "      <td>NaN</td>\n",
       "      <td>NaN</td>\n",
       "      <td>NaN</td>\n",
       "      <td>NaN</td>\n",
       "    </tr>\n",
       "    <tr>\n",
       "      <th>453</th>\n",
       "      <td>453</td>\n",
       "      <td>2022-03-02</td>\n",
       "      <td>The Federal Reserve, the central bank of the U...</td>\n",
       "      <td>Chair Pro Tempore Jerome H. Powell</td>\n",
       "      <td>Semiannual Monetary Policy Report to the Congress</td>\n",
       "      <td>NaN</td>\n",
       "      <td>NaN</td>\n",
       "      <td>NaN</td>\n",
       "      <td>NaN</td>\n",
       "      <td>NaN</td>\n",
       "      <td>...</td>\n",
       "      <td>NaN</td>\n",
       "      <td>NaN</td>\n",
       "      <td>NaN</td>\n",
       "      <td>NaN</td>\n",
       "      <td>NaN</td>\n",
       "      <td>NaN</td>\n",
       "      <td>NaN</td>\n",
       "      <td>NaN</td>\n",
       "      <td>NaN</td>\n",
       "      <td>NaN</td>\n",
       "    </tr>\n",
       "  </tbody>\n",
       "</table>\n",
       "<p>454 rows × 21 columns</p>\n",
       "</div>"
      ],
      "text/plain": [
       "     Unnamed: 0       date                                           contents  \\\n",
       "0             0 1996-06-26  It is a pleasure to appear before this Subcomm...   \n",
       "1             1 1996-07-17  I am pleased to appear before the Committee on...   \n",
       "2             2 1996-07-18  Testimony of Chairman Alan Greenspan The Feder...   \n",
       "3             3 1996-07-24  I am pleased to appear before this Subcommitte...   \n",
       "4             4 1996-07-26  I appreciate this opportunity to appear before...   \n",
       "..          ...        ...                                                ...   \n",
       "449         449 2021-09-28  The Federal Reserve, the central bank of the U...   \n",
       "450         450 2021-11-30  The Federal Reserve, the central bank of the U...   \n",
       "451         451 2022-01-11  The Federal Reserve, the central bank of the U...   \n",
       "452         452 2022-01-13  The Federal Reserve, the central bank of the U...   \n",
       "453         453 2022-03-02  The Federal Reserve, the central bank of the U...   \n",
       "\n",
       "                                               speaker  \\\n",
       "0                       Governor Edward W. Kelley, Jr.   \n",
       "1    Herbert A. Biern, Deputy Associate Director, D...   \n",
       "2                              Chairman Alan Greenspan   \n",
       "3                             Governor Janet L. Yellen   \n",
       "4                              Chairman Alan Greenspan   \n",
       "..                                                 ...   \n",
       "449                             Chair Jerome H. Powell   \n",
       "450                             Chair Jerome H. Powell   \n",
       "451                             Chair Jerome H. Powell   \n",
       "452                             Governor Lael Brainard   \n",
       "453                Chair Pro Tempore Jerome H. Powell    \n",
       "\n",
       "                                                 title   SPY: d-1   SPY: d+0  \\\n",
       "0                  Supervision of bank sales practices  25.864319  26.137705   \n",
       "1                                 \"Prime bank\" schemes  26.242840  26.297781   \n",
       "2     The Federal Reserve's semiannual monetary report  25.876574  25.858263   \n",
       "3                           Trends in consumer lending  26.096848  26.170630   \n",
       "4         Recent reports on Federal Reserve operations  26.779249  26.871473   \n",
       "..                                                 ...        ...        ...   \n",
       "449                          Coronavirus and CARES Act        NaN        NaN   \n",
       "450                          Coronavirus and CARES Act        NaN        NaN   \n",
       "451                                 Nomination hearing        NaN        NaN   \n",
       "452                                 Nomination hearing        NaN        NaN   \n",
       "453  Semiannual Monetary Policy Report to the Congress        NaN        NaN   \n",
       "\n",
       "      SPY: d+1   SPY: d+2   SPY: d+3  ...   SPY: d+5   SPY: d+6   SPY: d+7  \\\n",
       "0    26.247076  26.228842  26.228842  ...  26.083029  26.210615  26.010128   \n",
       "1    26.297781  26.462601  26.316103  ...  26.499220  26.480902  26.389343   \n",
       "2    26.389343  26.462601  26.224524  ...  26.389343  26.718983  26.627411   \n",
       "3    26.465719  26.539494  26.521049  ...  26.594809  26.484146  26.410383   \n",
       "4    27.019001  27.019001  27.037451  ...  27.277197  27.295652  27.314091   \n",
       "..         ...        ...        ...  ...        ...        ...        ...   \n",
       "449        NaN        NaN        NaN  ...        NaN        NaN        NaN   \n",
       "450        NaN        NaN        NaN  ...        NaN        NaN        NaN   \n",
       "451        NaN        NaN        NaN  ...        NaN        NaN        NaN   \n",
       "452        NaN        NaN        NaN  ...        NaN        NaN        NaN   \n",
       "453        NaN        NaN        NaN  ...        NaN        NaN        NaN   \n",
       "\n",
       "      SPY: d+8   SPY: d+9  SPY: d+10  SPY: d+11  SPY: d+12  SPY: d+13  \\\n",
       "0    25.353931  25.335707  25.317488  25.408623  25.499762  25.481527   \n",
       "1    25.839956  25.968130  25.894896  25.986469  25.949833  26.316103   \n",
       "2    26.499220  26.755627  26.718983  26.627411  26.535849  26.444286   \n",
       "3    26.391937  26.465719  26.447269  26.262844  26.391937  26.539494   \n",
       "4    27.295652  27.406319  27.480087  27.443205  27.350975  27.369415   \n",
       "..         ...        ...        ...        ...        ...        ...   \n",
       "449        NaN        NaN        NaN        NaN        NaN        NaN   \n",
       "450        NaN        NaN        NaN        NaN        NaN        NaN   \n",
       "451        NaN        NaN        NaN        NaN        NaN        NaN   \n",
       "452        NaN        NaN        NaN        NaN        NaN        NaN   \n",
       "453        NaN        NaN        NaN        NaN        NaN        NaN   \n",
       "\n",
       "     SPY: d+14  \n",
       "0    25.809631  \n",
       "1    26.371027  \n",
       "2    26.206215  \n",
       "3    26.521049  \n",
       "4    27.184986  \n",
       "..         ...  \n",
       "449        NaN  \n",
       "450        NaN  \n",
       "451        NaN  \n",
       "452        NaN  \n",
       "453        NaN  \n",
       "\n",
       "[454 rows x 21 columns]"
      ]
     },
     "execution_count": 3,
     "metadata": {},
     "output_type": "execute_result"
    }
   ],
   "source": [
    "df['contents'] = df['contents'].apply(lambda x: x.replace('\\n\\n[SECTION]\\n\\n', '').replace('\\n', ' ').replace('\\r', ' ').strip())\n",
    "df"
   ]
  },
  {
   "cell_type": "code",
   "execution_count": 4,
   "id": "6a1c8c8d",
   "metadata": {
    "ExecuteTime": {
     "end_time": "2022-03-11T13:05:14.851865Z",
     "start_time": "2022-03-11T13:05:14.842865Z"
    }
   },
   "outputs": [
    {
     "name": "stdout",
     "output_type": "stream",
     "text": [
      "It is a pleasure to appear before this Subcommittee to discuss         the supervision of bank sales practices on behalf of the Federal         Reserve.  The recent publication of various survey results has         focused attention on the performance of the banking and         securities industries in educating customers about the critical         differences between FDIC-insured deposits and uninsured         investment products sold on bank premises.The Board has a long history of concerns about possible         customer confusion between insured deposit instruments and         uninsured investment products sold on bank premises.  We have         worked and continue to work diligently to minimize customer         confusion through a number of supervisory and educational         initiatives.  These initiatives include coordination among the         banking agencies to formulate clear and comprehensive guidelines         governing the conduct of sales programs for nondeposit investment         products offered on bank premises; the development of detailed         examination procedures covering all aspects of sales of         nondeposit products; and the development and implementation of an         ambitious, multi-faceted education program for consumers and for         banks.  We also have developed a productive relationship with the         NASD that includes the coordination of examinations of bank         affiliated broker dealers and the sharing of examination         information in appropriate circumstances.  Finally, the banking         agencies and the securities self-regulatory organizations have         been working together to extend the same professional         qualification standards found in the securities industry to bank         sales personnel.Before discussing these matters in more detail, I believe it         would be helpful to discuss briefly the continuing growth of the         banking industry's sale of mutual funds and other nondeposit         investment products that has occurred since early 1994 when the         Board last testified on this subject.Mutual Fund Sales          It is estimated that there were $3.1 trillion of mutual funds         outstanding as of April 1996, up by about 50 percent from year-         end 1994.  Of this amount, bank proprietary funds accounted for         about $420 billion, about 60 percent of which were money market         funds.  As you can see, the banking industry's share of total         mutual funds outstanding is relatively small, particularly when         money market funds are excluded.With respect to sales volume, excluding money market funds,         banks sold about $32 billion of equity and debt funds in 1995, up         from $29 billion in 1994.  These uninsured investment products --         whose prices are most susceptible to changes in interest rates         and other market factors -- generate the most concern that         customers understand they could lose the principal that they         invested.  Over the years, the banking agencies have consistently         sought to protect and educate customers who might incorrectly         believe that such investments are insured deposit instruments.Interagency Statement          In February 1994, the banking agencies jointly issued an         Interagency Statement on the Retail Sales of Nondeposit         Investment Products.  The Interagency  Statement calls for banks         selling such products on their premises to intensify their         disclosure efforts to advise retail customers that the         investments (i) are not deposits insured by the FDIC, (ii) are         not guaranteed by the bank and (iii) are subject to the risk of         loss of principal.  These three disclosures are quite similar to         those that have been required by the Federal Reserve since 1972         when it issued interpretations of Regulation Y pertaining to bank         holding company sales of uninsured investment instruments, such         as commercial paper.  Banks were required to provide disclosures         that were intended to enhance customer awareness and minimize the         mistaken notion that an investment product purchased on bank         premises was the same as an insured deposit.The Interagency Statement also formalized the agencies'         expectation that sales of investment products would take place in         an area of the lobby distinctly separate from teller windows and         other locations where deposits could be made.   Moreover,         advertisements and account statements that contain information         about both insured deposits and uninsured investment products         must separate the information and provide the three disclosures I         mentioned earlier.  Appropriate standards for training,         compensation, suitability and supervision also were discussed.Finally, the Interagency Statement addressed the         relationship between banks and third parties that sell investment         products on bank premises -- by far the most typical scenario,         since approximately 87 percent of all sales on bank premises         occur through broker dealers.Examination Procedures          Shortly after issuing the Interagency Statement, the Federal         Reserve developed detailed examination procedures for use in         state member banks that sell mutual funds to retail customers.         The procedures are intended to enhance the supervision of these         activities and to assure bank compliance with the guidelines         contained in the Interagency Statement.  The procedures focus on         the adequacy of disclosure, the physical separation of securities         sales from deposit-taking activities, and other procedures         intended to avoid customer confusion and ensure customer         protection.In the two years since their implementation, our examiners         have found that banks generally have procedures in place that         comply with the guidelines in the Interagency Statement.  In some         cases, examiners have identified material deficiencies in sales         programs and instructed that they be corrected.  Although the         Federal Reserve is prepared to initiate an enforcement action         against any bank found to operate a sales program in a manner not         consistent with principles of safety and soundness, in each case         in which problems were discovered, the bank responded promptly.         In some cases this included a temporary suspension of sale         activities until deficiencies were corrected.  We have also found         many banks to be pro-active in their efforts to operate         investment sales programs in a safe and sound manner, and our         staff answers frequent inquiries concerning compliance with the         requirements of the Interagency Statement.NASD Coordination          In January 1995, the banking agencies entered into an Agreement         in Principle with the NASD to coordinate the supervision and         examination of bank affiliated broker-dealers between the NASD         and the banking agencies.  In the interest of functional         supervision and to avoid duplicative efforts to supervise and         examine entities subject to the legal jurisdiction of both the         NASD and the banking agencies, arrangements were made to share         examination schedules, coordinate examinations and share         pertinent findings relevant to the retail securities sales         activities of such firms.Pursuant to the Agreement, the Federal Reserve has worked         closely with the NASD on several occasions to address supervisory         issues arising from the examination of a state member bank and an         affiliated broker-dealer that conducts retail sales activities on         the bank's premises.  While the Federal Reserve has addressed the         issues with the bank to seek corrective action in response to the         problems, the NASD has addressed the matter with the affiliated         broker-dealer thereby assuring that all parties to the business         activity are responding to the supervisors' collective concerns.Most important, we have established effective lines of         communication and a cooperative working relationship with the         NASD.  We think that this relationship has made our supervisory         programs more effective.NASD Proposed Rulemaking          In late 1994, the NASD proposed new rules governing sales of         securities on bank premises by member firms.  The Federal Reserve         worked with NASD staff and provided extensive comments on the         proposal, many of which were incorporated into its revised rule.         The NASD also relied on the expertise of the many commenters as         well as on the advice of a newly created committee of bank         affiliated broker-dealers and third party providers that sell         through banks.  The result is that the NASD's proposed rule now         is generally consistent with the Interagency Statement with         respect to the important issues of separation and disclosure.  We         informally have communicated with NASD representatives on issues,         such as use of confidential information, that need additional         clarification.  The extensive communication in connection with         this rulemaking demonstrates the commitment of both the industry         and the regulators to achieve consistency in rules and guidelines         governing this area.  Our goal is to maximize the benefits and         minimize the burdens resulting from our joint jurisdiction in         this area.Banking Agencies' Proposed Rulemaking on Professional         Qualifications          The staff of the banking agencies is nearing completion of a         proposed rule to establish a professional qualifications program         for banks selling securities to retail customers that closely         follows securities industry requirements.  We believe the         establishment of professional qualification requirements is in         the best interests of the banking industry and of consumers.Briefly, the proposed rule would require bank employees to         take and pass a securities industry professional qualification         examination before beginning to sell securities to retail         customers.  This will ensure that bank securities representatives         are appropriately trained and educated as required by the         Interagency Statement, and will enhance the ability of banks to         serve their retail securities customers.  Continuing education         requirements, such as those required of broker dealers and their         employees, also would be imposed to assure continued familiarity         with industry practices, securities issues and regulatory         requirements.  Finally, bank sales personnel would be subject to         a registration process under which employment and certain         disciplinary and customer complaint information could be accessed         by members of the public.  The banking agencies are working with         the NASD to arrange for the NASD's new Central Registration         Depository to maintain registration information filed with the         banking agencies.In our discussions with the trade organizations and industry         participants, we have encountered strong support for the proposed         rule.  We will encourage the banking industry to participate by         commenting on the proposal as the banking agencies work closely         with the securities self regulatory organizations to bring this         proposal to fruition.Market Trends Survey          The FDIC recently released the results of its market trends         survey which show that some banks and securities firms selling on         bank premises need to improve their efforts to advise customers         of the risks associated with nondeposit investment products.  We         agree.  While there have been various consumer surveys that have         shown an increasing awareness among the investing public that         mutual funds and other investment products purchased at banks are         not FDIC insured, more can be done.  For those investors who do         not understand the risks associated with the lack of FDIC         insurance, point-of-sale disclosures remain important.  In this         regard, the Federal Reserve is working closely with the other         federal banking agencies to promote disclosure by banks through         the examination process, promote greater consumer understanding         through education, and promote professional qualification         standards for bank sales personnel.  We also will continue to         work with the NASD to obtain further improvements in disclosure         by broker dealers selling securities on banks premises.  As I         noted earlier, approximately 87 percent of all securities sold on         bank premises are through sales representatives of NASD         registered broker dealers.Education Initiatives          In an effort to help bank customers understand that not all         products sold at banks are insured by the federal government, the         Federal Reserve launched a multi-dimensional, national education         program designed to deliver this message to consumers.  In         addition to the Interagency Statement, for the past 18 months,         the Federal Reserve has been engaged in an intensive education         program aimed at both retail customers and bankers.  Mutual         Funds:  Understand the Risks, as the program is known, is quite         comprehensive.  It includes material for both a consumer seminar         presentation and a banker compliance program; a video that can be         used by bankers and other professionals in their dealings with         retail customers; and compliance checklists to help bankers         operate in a manner that complies with the Interagency Statement.The goal of the consumer seminar program is to help retail         customers understand the differences between insured deposits and         uninsured investments; the goal of the banker education program         is to increase compliance with the Interagency Statement, which         in turn will help inform and protect customers.  The program has         been well received and has been discussed in numerous         publications.  The American Bankers Association has featured the         program in its newsletter and has broadcast the video on its         Skylink System.To date, 70 consumer seminars and 47 banker training         programs have been held around the country, reaching over 7,500         consumers -- including a seminar in Spanish to an audience in         Puerto Rico -- and nearly 1400 bankers.  Materials have been         distributed to another 3,150 consumers via exhibits and town         meetings sponsored by the Securities and Exchange Commission.         Nearly 10,000 copies of the video, over 7,000 copies of the         compliance checklists, and approximately 1,500 copies of the         consumer outreach package have been distributed.  The materials         have been shared with federal and state regulators and are         available from the Board.  Selected materials have been         translated into Spanish.These seminars and educational initiatives appear to work.         A comparison of knowledge levels before and after a consumer         seminar indicates that individuals seem to have a better         understanding of the risks associated with nondeposit investment         products: 91 percent know these products are not FDIC insured,         compared to 65 percent prior to the seminar; 87 percent know         these products carry the risk of loss of principal, compared to         72 percent prior to the seminar.  Bankers who attended our         training sessions report that they feel better able to comply         with the Interagency Statement, especially with respect to         disclosure and the physical separation of the investment sales         area from deposit taking activities.We intend to do more.  We have completed a video public         service announcement that will be distributed this summer to 145         stations in the top forty national television markets.  Materials         for the bankers training program are currently being updated and         we hope to soon initiate another round of banker education         programs.Conclusion          The continuing growth in bank sales of mutual funds and other         uninsured investments necessitates a commitment on the part of         the banking industry and bank supervisors to the principle that         effective disclosure of risks is in the best interest of the         customer and the banking organization.  Banks can best assure         that their sales staffs are operating in a manner consistent with         this objective if they develop comprehensive training programs         and effectively monitor compliance with policies and procedures         governing sales of nondeposit products.  The Federal Reserve will         continue to seek ways to strengthen its educational and         supervisory programs to promote compliance with the guidelines in         the Interagency Statement, so that bank customers are served in a         safe and sound manner consistent with principles of customer         protection.Return to top1996 Testimony    Home | News and events  Accessibility | Contact Us   Last update: June 26, 1996, 12:00 PM\n"
     ]
    }
   ],
   "source": [
    "print(df.contents.iloc[0])"
   ]
  },
  {
   "cell_type": "code",
   "execution_count": 5,
   "id": "fd0843f7",
   "metadata": {
    "ExecuteTime": {
     "end_time": "2022-03-11T13:05:15.750866Z",
     "start_time": "2022-03-11T13:05:15.734866Z"
    }
   },
   "outputs": [
    {
     "name": "stdout",
     "output_type": "stream",
     "text": [
      "<class 'pandas.core.frame.DataFrame'>\n",
      "RangeIndex: 454 entries, 0 to 453\n",
      "Data columns (total 21 columns):\n",
      " #   Column      Non-Null Count  Dtype         \n",
      "---  ------      --------------  -----         \n",
      " 0   Unnamed: 0  454 non-null    int64         \n",
      " 1   date        454 non-null    datetime64[ns]\n",
      " 2   contents    454 non-null    object        \n",
      " 3   speaker     454 non-null    object        \n",
      " 4   title       454 non-null    object        \n",
      " 5   SPY: d-1    223 non-null    float64       \n",
      " 6   SPY: d+0    223 non-null    float64       \n",
      " 7   SPY: d+1    223 non-null    float64       \n",
      " 8   SPY: d+2    223 non-null    float64       \n",
      " 9   SPY: d+3    223 non-null    float64       \n",
      " 10  SPY: d+4    223 non-null    float64       \n",
      " 11  SPY: d+5    223 non-null    float64       \n",
      " 12  SPY: d+6    223 non-null    float64       \n",
      " 13  SPY: d+7    223 non-null    float64       \n",
      " 14  SPY: d+8    223 non-null    float64       \n",
      " 15  SPY: d+9    223 non-null    float64       \n",
      " 16  SPY: d+10   223 non-null    float64       \n",
      " 17  SPY: d+11   223 non-null    float64       \n",
      " 18  SPY: d+12   223 non-null    float64       \n",
      " 19  SPY: d+13   223 non-null    float64       \n",
      " 20  SPY: d+14   223 non-null    float64       \n",
      "dtypes: datetime64[ns](1), float64(16), int64(1), object(3)\n",
      "memory usage: 74.6+ KB\n"
     ]
    }
   ],
   "source": [
    "df.info()"
   ]
  },
  {
   "cell_type": "markdown",
   "id": "938fae83",
   "metadata": {},
   "source": [
    "# Preprocessing"
   ]
  },
  {
   "cell_type": "code",
   "execution_count": 6,
   "id": "3adf3716",
   "metadata": {
    "ExecuteTime": {
     "end_time": "2022-03-11T13:05:17.411866Z",
     "start_time": "2022-03-11T13:05:16.926868Z"
    }
   },
   "outputs": [
    {
     "name": "stderr",
     "output_type": "stream",
     "text": [
      "[nltk_data] Downloading package wordnet to\n",
      "[nltk_data]     C:\\Users\\chriq\\AppData\\Roaming\\nltk_data...\n",
      "[nltk_data]   Package wordnet is already up-to-date!\n"
     ]
    },
    {
     "data": {
      "text/plain": [
       "True"
      ]
     },
     "execution_count": 6,
     "metadata": {},
     "output_type": "execute_result"
    }
   ],
   "source": [
    "import gensim\n",
    "from gensim.utils import simple_preprocess\n",
    "from gensim.parsing.preprocessing import STOPWORDS\n",
    "from nltk.stem import WordNetLemmatizer, SnowballStemmer\n",
    "from nltk.stem.porter import *\n",
    "import numpy as np\n",
    "np.random.seed(2018)\n",
    "import nltk\n",
    "nltk.download('wordnet')"
   ]
  },
  {
   "cell_type": "code",
   "execution_count": 7,
   "id": "1a336786",
   "metadata": {
    "ExecuteTime": {
     "end_time": "2022-03-11T13:05:17.521867Z",
     "start_time": "2022-03-11T13:05:17.518865Z"
    }
   },
   "outputs": [],
   "source": [
    "stemmer = SnowballStemmer('english')"
   ]
  },
  {
   "cell_type": "code",
   "execution_count": 8,
   "id": "a3783c16",
   "metadata": {
    "ExecuteTime": {
     "end_time": "2022-03-11T13:05:18.092865Z",
     "start_time": "2022-03-11T13:05:18.076865Z"
    }
   },
   "outputs": [],
   "source": [
    "def lemmatize_stemming(text):\n",
    "    return stemmer.stem(WordNetLemmatizer().lemmatize(text, pos='v'))\n",
    "def preprocess(text):\n",
    "    result = []\n",
    "    for token in gensim.utils.simple_preprocess(text):\n",
    "        if token not in gensim.parsing.preprocessing.STOPWORDS and len(token) > 3:\n",
    "            result.append(lemmatize_stemming(token))\n",
    "    return result"
   ]
  },
  {
   "cell_type": "code",
   "execution_count": 9,
   "id": "7c3c3930",
   "metadata": {
    "ExecuteTime": {
     "end_time": "2022-03-11T13:05:49.622761Z",
     "start_time": "2022-03-11T13:05:19.933865Z"
    }
   },
   "outputs": [
    {
     "data": {
      "text/plain": [
       "0      [pleasur, appear, subcommitte, discuss, superv...\n",
       "1      [pleas, appear, committe, bank, hous, urban, a...\n",
       "2      [testimoni, chairman, alan, greenspan, feder, ...\n",
       "3      [pleas, appear, subcommitte, today, discuss, t...\n",
       "4      [appreci, opportun, appear, bank, committe, to...\n",
       "                             ...                        \n",
       "449    [feder, reserv, central, bank, unit, state, pr...\n",
       "450    [feder, reserv, central, bank, unit, state, pr...\n",
       "451    [feder, reserv, central, bank, unit, state, pr...\n",
       "452    [feder, reserv, central, bank, unit, state, pr...\n",
       "453    [feder, reserv, central, bank, unit, state, pr...\n",
       "Name: contents, Length: 454, dtype: object"
      ]
     },
     "execution_count": 9,
     "metadata": {},
     "output_type": "execute_result"
    }
   ],
   "source": [
    "processed_docs = df['contents'].map(preprocess)\n",
    "processed_docs"
   ]
  },
  {
   "cell_type": "code",
   "execution_count": 10,
   "id": "e124568d",
   "metadata": {
    "ExecuteTime": {
     "end_time": "2022-03-11T13:05:52.812526Z",
     "start_time": "2022-03-11T13:05:52.500181Z"
    }
   },
   "outputs": [
    {
     "name": "stdout",
     "output_type": "stream",
     "text": [
      "0 abil\n",
      "1 abl\n",
      "2 access\n",
      "3 account\n",
      "4 achiev\n",
      "5 action\n",
      "6 activ\n",
      "7 addit\n",
      "8 address\n",
      "9 adequaci\n",
      "10 advertis\n"
     ]
    }
   ],
   "source": [
    "dictionary = gensim.corpora.Dictionary(processed_docs)\n",
    "count = 0\n",
    "for k, v in dictionary.iteritems():\n",
    "    print(k, v)\n",
    "    count += 1\n",
    "    if count > 10:\n",
    "        break"
   ]
  },
  {
   "cell_type": "code",
   "execution_count": 11,
   "id": "100f3fea",
   "metadata": {
    "ExecuteTime": {
     "end_time": "2022-03-11T13:05:53.532938Z",
     "start_time": "2022-03-11T13:05:53.513937Z"
    }
   },
   "outputs": [],
   "source": [
    "dictionary.filter_extremes(no_below=15, no_above=0.5, keep_n=100000)"
   ]
  },
  {
   "cell_type": "code",
   "execution_count": 12,
   "id": "ce7704f8",
   "metadata": {
    "ExecuteTime": {
     "end_time": "2022-03-11T13:05:57.370799Z",
     "start_time": "2022-03-11T13:05:57.193800Z"
    }
   },
   "outputs": [
    {
     "data": {
      "text/plain": [
       "[(0, 2),\n",
       " (2, 1),\n",
       " (5, 7),\n",
       " (20, 2),\n",
       " (21, 1),\n",
       " (23, 1),\n",
       " (29, 18),\n",
       " (30, 1),\n",
       " (35, 2),\n",
       " (36, 5),\n",
       " (45, 1),\n",
       " (46, 1),\n",
       " (47, 5),\n",
       " (50, 1),\n",
       " (53, 2),\n",
       " (59, 4),\n",
       " (67, 6),\n",
       " (68, 7),\n",
       " (71, 3),\n",
       " (75, 1),\n",
       " (80, 1),\n",
       " (82, 1),\n",
       " (83, 1),\n",
       " (84, 1),\n",
       " (86, 2),\n",
       " (91, 3),\n",
       " (95, 1),\n",
       " (99, 3),\n",
       " (103, 1),\n",
       " (104, 1),\n",
       " (106, 4),\n",
       " (107, 1),\n",
       " (112, 5),\n",
       " (117, 6),\n",
       " (121, 1),\n",
       " (133, 1),\n",
       " (136, 2),\n",
       " (140, 1),\n",
       " (142, 1),\n",
       " (156, 6),\n",
       " (161, 2),\n",
       " (169, 2),\n",
       " (170, 2),\n",
       " (173, 2),\n",
       " (175, 3),\n",
       " (177, 1),\n",
       " (178, 1),\n",
       " (179, 1),\n",
       " (182, 1),\n",
       " (185, 1),\n",
       " (186, 1),\n",
       " (189, 3),\n",
       " (192, 3),\n",
       " (196, 2),\n",
       " (197, 1),\n",
       " (200, 4),\n",
       " (201, 4),\n",
       " (204, 1),\n",
       " (206, 2),\n",
       " (207, 1),\n",
       " (208, 1),\n",
       " (213, 2),\n",
       " (233, 1),\n",
       " (238, 4),\n",
       " (241, 1),\n",
       " (242, 1),\n",
       " (249, 7),\n",
       " (250, 2),\n",
       " (262, 3),\n",
       " (264, 1),\n",
       " (274, 1),\n",
       " (284, 2),\n",
       " (285, 6),\n",
       " (295, 2),\n",
       " (300, 1),\n",
       " (304, 3),\n",
       " (306, 6),\n",
       " (310, 1),\n",
       " (311, 2),\n",
       " (317, 2),\n",
       " (318, 5),\n",
       " (319, 2),\n",
       " (330, 1),\n",
       " (331, 1),\n",
       " (332, 1),\n",
       " (339, 1),\n",
       " (343, 1),\n",
       " (352, 1),\n",
       " (363, 3),\n",
       " (368, 1),\n",
       " (371, 2),\n",
       " (374, 1),\n",
       " (377, 2),\n",
       " (378, 9),\n",
       " (382, 1),\n",
       " (385, 4),\n",
       " (387, 5),\n",
       " (398, 4),\n",
       " (399, 1),\n",
       " (401, 1),\n",
       " (408, 1),\n",
       " (409, 1),\n",
       " (411, 3),\n",
       " (412, 10),\n",
       " (413, 2),\n",
       " (418, 2),\n",
       " (421, 1),\n",
       " (427, 1),\n",
       " (432, 1),\n",
       " (449, 2),\n",
       " (450, 2),\n",
       " (452, 1),\n",
       " (453, 1),\n",
       " (460, 2),\n",
       " (462, 1),\n",
       " (463, 1),\n",
       " (472, 1),\n",
       " (482, 2),\n",
       " (493, 1),\n",
       " (495, 1),\n",
       " (502, 2),\n",
       " (507, 1),\n",
       " (509, 1),\n",
       " (515, 5),\n",
       " (536, 1),\n",
       " (544, 3),\n",
       " (546, 1),\n",
       " (549, 1),\n",
       " (550, 2),\n",
       " (553, 1),\n",
       " (556, 1),\n",
       " (568, 2),\n",
       " (570, 1),\n",
       " (573, 2),\n",
       " (576, 1),\n",
       " (582, 6),\n",
       " (583, 1),\n",
       " (607, 1),\n",
       " (609, 1),\n",
       " (610, 2),\n",
       " (627, 1),\n",
       " (634, 1),\n",
       " (643, 1),\n",
       " (676, 1),\n",
       " (677, 3),\n",
       " (681, 1),\n",
       " (688, 1),\n",
       " (689, 1),\n",
       " (694, 2),\n",
       " (716, 1),\n",
       " (727, 1),\n",
       " (737, 1),\n",
       " (740, 2),\n",
       " (747, 3),\n",
       " (750, 1),\n",
       " (758, 20),\n",
       " (759, 2),\n",
       " (767, 1),\n",
       " (773, 1),\n",
       " (784, 1),\n",
       " (807, 1),\n",
       " (811, 1),\n",
       " (818, 2),\n",
       " (824, 2),\n",
       " (828, 10),\n",
       " (830, 1),\n",
       " (831, 1),\n",
       " (832, 3),\n",
       " (835, 3),\n",
       " (840, 1),\n",
       " (845, 1),\n",
       " (862, 2),\n",
       " (867, 1),\n",
       " (880, 1),\n",
       " (887, 3),\n",
       " (892, 1),\n",
       " (900, 1),\n",
       " (902, 1),\n",
       " (907, 3),\n",
       " (909, 1),\n",
       " (916, 2),\n",
       " (917, 1),\n",
       " (926, 1),\n",
       " (927, 19),\n",
       " (931, 1),\n",
       " (935, 1),\n",
       " (936, 1),\n",
       " (937, 2),\n",
       " (953, 1),\n",
       " (956, 1),\n",
       " (957, 1),\n",
       " (964, 2),\n",
       " (966, 1),\n",
       " (967, 1),\n",
       " (975, 1),\n",
       " (985, 1),\n",
       " (987, 2),\n",
       " (1001, 1),\n",
       " (1002, 1),\n",
       " (1003, 1),\n",
       " (1004, 1),\n",
       " (1011, 1),\n",
       " (1023, 1),\n",
       " (1025, 1),\n",
       " (1026, 1),\n",
       " (1036, 2),\n",
       " (1047, 6),\n",
       " (1057, 1),\n",
       " (1067, 4),\n",
       " (1068, 3),\n",
       " (1069, 1),\n",
       " (1074, 1),\n",
       " (1087, 1),\n",
       " (1088, 1),\n",
       " (1092, 1),\n",
       " (1095, 1),\n",
       " (1124, 1),\n",
       " (1149, 5),\n",
       " (1154, 2),\n",
       " (1168, 3),\n",
       " (1174, 2),\n",
       " (1179, 1),\n",
       " (1182, 1),\n",
       " (1211, 1),\n",
       " (1218, 1),\n",
       " (1219, 1),\n",
       " (1221, 2),\n",
       " (1225, 1),\n",
       " (1238, 1),\n",
       " (1242, 3),\n",
       " (1243, 1),\n",
       " (1246, 2),\n",
       " (1247, 10),\n",
       " (1261, 1),\n",
       " (1266, 1),\n",
       " (1280, 1),\n",
       " (1281, 1),\n",
       " (1282, 1),\n",
       " (1285, 11),\n",
       " (1290, 5),\n",
       " (1293, 7),\n",
       " (1294, 6),\n",
       " (1297, 1),\n",
       " (1299, 27),\n",
       " (1306, 2),\n",
       " (1311, 3),\n",
       " (1316, 1),\n",
       " (1336, 1),\n",
       " (1346, 2),\n",
       " (1355, 1),\n",
       " (1366, 2),\n",
       " (1367, 1),\n",
       " (1372, 1),\n",
       " (1376, 1),\n",
       " (1406, 1),\n",
       " (1410, 1),\n",
       " (1416, 1),\n",
       " (1420, 1),\n",
       " (1432, 1),\n",
       " (1434, 2),\n",
       " (1455, 1),\n",
       " (1461, 1),\n",
       " (1464, 1),\n",
       " (1471, 5),\n",
       " (1492, 1),\n",
       " (1498, 1),\n",
       " (1502, 1),\n",
       " (1516, 1),\n",
       " (1523, 1),\n",
       " (1524, 2),\n",
       " (1528, 3),\n",
       " (1592, 1),\n",
       " (1600, 1),\n",
       " (1610, 1),\n",
       " (1618, 1),\n",
       " (1629, 2),\n",
       " (1640, 1),\n",
       " (1642, 2),\n",
       " (1679, 1),\n",
       " (1696, 1),\n",
       " (1721, 1),\n",
       " (1749, 2),\n",
       " (1753, 1),\n",
       " (1754, 5),\n",
       " (1763, 1),\n",
       " (1764, 3),\n",
       " (1765, 1),\n",
       " (1766, 1),\n",
       " (1767, 2),\n",
       " (1768, 3),\n",
       " (1769, 1),\n",
       " (1770, 1)]"
      ]
     },
     "execution_count": 12,
     "metadata": {},
     "output_type": "execute_result"
    }
   ],
   "source": [
    "bow_corpus = [dictionary.doc2bow(doc) for doc in processed_docs]\n",
    "bow_corpus[43]"
   ]
  },
  {
   "cell_type": "code",
   "execution_count": 13,
   "id": "288b9eba",
   "metadata": {
    "ExecuteTime": {
     "end_time": "2022-03-11T13:05:58.010336Z",
     "start_time": "2022-03-11T13:05:57.975322Z"
    }
   },
   "outputs": [
    {
     "name": "stdout",
     "output_type": "stream",
     "text": [
      "Word 0 (\"abl\") appears 2 time.\n",
      "Word 2 (\"advertis\") appears 1 time.\n",
      "Word 5 (\"affili\") appears 7 time.\n",
      "Word 20 (\"avoid\") appears 2 time.\n",
      "Word 21 (\"awar\") appears 1 time.\n",
      "Word 23 (\"behalf\") appears 1 time.\n",
      "Word 29 (\"burden\") appears 18 time.\n",
      "Word 30 (\"call\") appears 1 time.\n",
      "Word 35 (\"comment\") appears 2 time.\n",
      "Word 36 (\"commerci\") appears 5 time.\n",
      "Word 45 (\"compli\") appears 1 time.\n",
      "Word 46 (\"complianc\") appears 1 time.\n",
      "Word 47 (\"comprehens\") appears 5 time.\n",
      "Word 50 (\"confus\") appears 1 time.\n",
      "Word 53 (\"contain\") appears 2 time.\n",
      "Word 59 (\"custom\") appears 4 time.\n",
      "Word 67 (\"deposit\") appears 6 time.\n",
      "Word 68 (\"depositori\") appears 7 time.\n",
      "Word 71 (\"disclosur\") appears 3 time.\n",
      "Word 75 (\"employ\") appears 1 time.\n",
      "Word 80 (\"engag\") appears 1 time.\n",
      "Word 82 (\"entiti\") appears 1 time.\n",
      "Word 83 (\"equiti\") appears 1 time.\n",
      "Word 84 (\"especi\") appears 1 time.\n",
      "Word 86 (\"examin\") appears 2 time.\n",
      "Word 91 (\"extend\") appears 3 time.\n",
      "Word 95 (\"fdic\") appears 1 time.\n",
      "Word 99 (\"file\") appears 3 time.\n",
      "Word 103 (\"frequent\") appears 1 time.\n",
      "Word 104 (\"function\") appears 1 time.\n",
      "Word 106 (\"goal\") appears 4 time.\n",
      "Word 107 (\"guarante\") appears 1 time.\n",
      "Word 112 (\"impos\") appears 5 time.\n",
      "Word 117 (\"intend\") appears 6 time.\n",
      "Word 121 (\"interest\") appears 1 time.\n",
      "Word 133 (\"line\") appears 1 time.\n",
      "Word 136 (\"manner\") appears 2 time.\n",
      "Word 140 (\"mention\") appears 1 time.\n",
      "Word 142 (\"minim\") appears 1 time.\n",
      "Word 156 (\"offer\") appears 6 time.\n",
      "Word 161 (\"pass\") appears 2 time.\n",
      "Word 169 (\"prior\") appears 2 time.\n",
      "Word 170 (\"procedur\") appears 2 time.\n",
      "Word 173 (\"propos\") appears 2 time.\n",
      "Word 175 (\"purchas\") appears 3 time.\n",
      "Word 177 (\"reach\") appears 1 time.\n",
      "Word 178 (\"receiv\") appears 1 time.\n",
      "Word 179 (\"regard\") appears 1 time.\n",
      "Word 182 (\"relationship\") appears 1 time.\n",
      "Word 185 (\"reli\") appears 1 time.\n",
      "Word 186 (\"respect\") appears 1 time.\n",
      "Word 189 (\"revis\") appears 3 time.\n",
      "Word 192 (\"safeti\") appears 3 time.\n",
      "Word 196 (\"seek\") appears 2 time.\n",
      "Word 197 (\"select\") appears 1 time.\n",
      "Word 200 (\"separ\") appears 4 time.\n",
      "Word 201 (\"serv\") appears 4 time.\n",
      "Word 204 (\"small\") appears 1 time.\n",
      "Word 206 (\"sponsor\") appears 2 time.\n",
      "Word 207 (\"staff\") appears 1 time.\n",
      "Word 208 (\"statement\") appears 1 time.\n",
      "Word 213 (\"supervisori\") appears 2 time.\n",
      "Word 233 (\"affair\") appears 1 time.\n",
      "Word 238 (\"approv\") appears 4 time.\n",
      "Word 241 (\"attach\") appears 1 time.\n",
      "Word 242 (\"attempt\") appears 1 time.\n",
      "Word 249 (\"commerc\") appears 7 time.\n",
      "Word 250 (\"communiti\") appears 2 time.\n",
      "Word 262 (\"draft\") appears 3 time.\n",
      "Word 264 (\"enterpris\") appears 1 time.\n",
      "Word 274 (\"fulli\") appears 1 time.\n",
      "Word 284 (\"law\") appears 2 time.\n",
      "Word 285 (\"legisl\") appears 6 time.\n",
      "Word 295 (\"oppos\") appears 2 time.\n",
      "Word 300 (\"pleas\") appears 1 time.\n",
      "Word 304 (\"purpos\") appears 3 time.\n",
      "Word 306 (\"relief\") appears 6 time.\n",
      "Word 310 (\"scheme\") appears 1 time.\n",
      "Word 311 (\"senat\") appears 2 time.\n",
      "Word 317 (\"statut\") appears 2 time.\n",
      "Word 318 (\"statutori\") appears 5 time.\n",
      "Word 319 (\"success\") appears 2 time.\n",
      "Word 330 (\"urban\") appears 1 time.\n",
      "Word 331 (\"use\") appears 1 time.\n",
      "Word 332 (\"violat\") appears 1 time.\n",
      "Word 339 (\"accord\") appears 1 time.\n",
      "Word 343 (\"aggreg\") appears 1 time.\n",
      "Word 352 (\"appreci\") appears 1 time.\n",
      "Word 363 (\"broader\") appears 3 time.\n",
      "Word 368 (\"care\") appears 1 time.\n",
      "Word 371 (\"choos\") appears 2 time.\n",
      "Word 374 (\"common\") appears 1 time.\n",
      "Word 377 (\"compet\") appears 2 time.\n",
      "Word 378 (\"competit\") appears 9 time.\n",
      "Word 382 (\"conflict\") appears 1 time.\n",
      "Word 385 (\"context\") appears 4 time.\n",
      "Word 387 (\"control\") appears 5 time.\n",
      "Word 398 (\"desir\") appears 4 time.\n",
      "Word 399 (\"despit\") appears 1 time.\n",
      "Word 401 (\"diminish\") appears 1 time.\n",
      "Word 408 (\"earn\") appears 1 time.\n",
      "Word 409 (\"eas\") appears 1 time.\n",
      "Word 411 (\"effici\") appears 3 time.\n",
      "Word 412 (\"elimin\") appears 10 time.\n",
      "Word 413 (\"embodi\") appears 2 time.\n",
      "Word 418 (\"endors\") appears 2 time.\n",
      "Word 421 (\"entir\") appears 1 time.\n",
      "Word 427 (\"except\") appears 1 time.\n",
      "Word 432 (\"express\") appears 1 time.\n",
      "Word 449 (\"fundament\") appears 2 time.\n",
      "Word 450 (\"gain\") appears 2 time.\n",
      "Word 452 (\"global\") appears 1 time.\n",
      "Word 453 (\"go\") appears 1 time.\n",
      "Word 460 (\"hand\") appears 2 time.\n",
      "Word 462 (\"health\") appears 1 time.\n",
      "Word 463 (\"histor\") appears 1 time.\n",
      "Word 472 (\"incent\") appears 1 time.\n",
      "Word 482 (\"instead\") appears 2 time.\n",
      "Word 493 (\"later\") appears 1 time.\n",
      "Word 495 (\"leav\") appears 1 time.\n",
      "Word 502 (\"longer\") appears 2 time.\n",
      "Word 507 (\"march\") appears 1 time.\n",
      "Word 509 (\"marketplac\") appears 1 time.\n",
      "Word 515 (\"modern\") appears 5 time.\n",
      "Word 536 (\"percentag\") appears 1 time.\n",
      "Word 544 (\"power\") appears 3 time.\n",
      "Word 546 (\"preserv\") appears 1 time.\n",
      "Word 549 (\"prevent\") appears 1 time.\n",
      "Word 550 (\"previous\") appears 2 time.\n",
      "Word 553 (\"progress\") appears 1 time.\n",
      "Word 556 (\"prudent\") appears 1 time.\n",
      "Word 568 (\"recogn\") appears 2 time.\n",
      "Word 570 (\"reduct\") appears 1 time.\n",
      "Word 573 (\"resourc\") appears 2 time.\n",
      "Word 576 (\"retir\") appears 1 time.\n",
      "Word 582 (\"save\") appears 6 time.\n",
      "Word 583 (\"scope\") appears 1 time.\n",
      "Word 607 (\"solid\") appears 1 time.\n",
      "Word 609 (\"sophist\") appears 1 time.\n",
      "Word 610 (\"special\") appears 2 time.\n",
      "Word 627 (\"techniqu\") appears 1 time.\n",
      "Word 634 (\"thought\") appears 1 time.\n",
      "Word 643 (\"ultim\") appears 1 time.\n",
      "Word 676 (\"adequ\") appears 1 time.\n",
      "Word 677 (\"advers\") appears 3 time.\n",
      "Word 681 (\"attract\") appears 1 time.\n",
      "Word 688 (\"card\") appears 1 time.\n",
      "Word 689 (\"cash\") appears 1 time.\n",
      "Word 694 (\"combin\") appears 2 time.\n",
      "Word 716 (\"equal\") appears 1 time.\n",
      "Word 727 (\"form\") appears 1 time.\n",
      "Word 737 (\"highlight\") appears 1 time.\n",
      "Word 740 (\"incur\") appears 2 time.\n",
      "Word 747 (\"lend\") appears 3 time.\n",
      "Word 750 (\"mean\") appears 1 time.\n",
      "Word 758 (\"nonbank\") appears 20 time.\n",
      "Word 759 (\"oblig\") appears 2 time.\n",
      "Word 767 (\"popular\") appears 1 time.\n",
      "Word 773 (\"primarili\") appears 1 time.\n",
      "Word 784 (\"regular\") appears 1 time.\n",
      "Word 807 (\"task\") appears 1 time.\n",
      "Word 811 (\"twice\") appears 1 time.\n",
      "Word 818 (\"warrant\") appears 2 time.\n",
      "Word 824 (\"accomplish\") appears 2 time.\n",
      "Word 828 (\"acquir\") appears 10 time.\n",
      "Word 830 (\"administr\") appears 1 time.\n",
      "Word 831 (\"adopt\") appears 1 time.\n",
      "Word 832 (\"advantag\") appears 3 time.\n",
      "Word 835 (\"appli\") appears 3 time.\n",
      "Word 840 (\"audit\") appears 1 time.\n",
      "Word 845 (\"broaden\") appears 1 time.\n",
      "Word 862 (\"debat\") appears 2 time.\n",
      "Word 867 (\"degre\") appears 1 time.\n",
      "Word 880 (\"exercis\") appears 1 time.\n",
      "Word 887 (\"fewer\") appears 3 time.\n",
      "Word 892 (\"government\") appears 1 time.\n",
      "Word 900 (\"independ\") appears 1 time.\n",
      "Word 902 (\"ineffici\") appears 1 time.\n",
      "Word 907 (\"mandat\") appears 3 time.\n",
      "Word 909 (\"minimum\") appears 1 time.\n",
      "Word 916 (\"oversight\") appears 2 time.\n",
      "Word 917 (\"passag\") appears 1 time.\n",
      "Word 926 (\"proceed\") appears 1 time.\n",
      "Word 927 (\"provis\") appears 19 time.\n",
      "Word 931 (\"recommend\") appears 1 time.\n",
      "Word 935 (\"resolut\") appears 1 time.\n",
      "Word 936 (\"resolv\") appears 1 time.\n",
      "Word 937 (\"retain\") appears 2 time.\n",
      "Word 953 (\"surplus\") appears 1 time.\n",
      "Word 956 (\"taxpay\") appears 1 time.\n",
      "Word 957 (\"technic\") appears 1 time.\n",
      "Word 964 (\"unfair\") appears 2 time.\n",
      "Word 966 (\"uniform\") appears 1 time.\n",
      "Word 967 (\"uniqu\") appears 1 time.\n",
      "Word 975 (\"act\") appears 1 time.\n",
      "Word 985 (\"concentr\") appears 1 time.\n",
      "Word 987 (\"coupl\") appears 2 time.\n",
      "Word 1001 (\"excess\") appears 1 time.\n",
      "Word 1002 (\"explain\") appears 1 time.\n",
      "Word 1003 (\"explan\") appears 1 time.\n",
      "Word 1004 (\"exploit\") appears 1 time.\n",
      "Word 1011 (\"great\") appears 1 time.\n",
      "Word 1023 (\"necessarili\") appears 1 time.\n",
      "Word 1025 (\"option\") appears 1 time.\n",
      "Word 1026 (\"outsid\") appears 1 time.\n",
      "Word 1036 (\"situat\") appears 2 time.\n",
      "Word 1047 (\"unnecessari\") appears 6 time.\n",
      "Word 1057 (\"complic\") appears 1 time.\n",
      "Word 1067 (\"owner\") appears 4 time.\n",
      "Word 1068 (\"ownership\") appears 3 time.\n",
      "Word 1069 (\"primari\") appears 1 time.\n",
      "Word 1074 (\"unlik\") appears 1 time.\n",
      "Word 1087 (\"collater\") appears 1 time.\n",
      "Word 1088 (\"commensur\") appears 1 time.\n",
      "Word 1092 (\"constrain\") appears 1 time.\n",
      "Word 1095 (\"convers\") appears 1 time.\n",
      "Word 1124 (\"light\") appears 1 time.\n",
      "Word 1149 (\"restrict\") appears 5 time.\n",
      "Word 1154 (\"singl\") appears 2 time.\n",
      "Word 1168 (\"week\") appears 3 time.\n",
      "Word 1174 (\"altern\") appears 2 time.\n",
      "Word 1179 (\"chanc\") appears 1 time.\n",
      "Word 1182 (\"commend\") appears 1 time.\n",
      "Word 1211 (\"right\") appears 1 time.\n",
      "Word 1218 (\"treatment\") appears 1 time.\n",
      "Word 1219 (\"truth\") appears 1 time.\n",
      "Word 1221 (\"variabl\") appears 2 time.\n",
      "Word 1225 (\"word\") appears 1 time.\n",
      "Word 1238 (\"charter\") appears 1 time.\n",
      "Word 1242 (\"creditor\") appears 3 time.\n",
      "Word 1243 (\"cross\") appears 1 time.\n",
      "Word 1246 (\"depositor\") appears 2 time.\n",
      "Word 1247 (\"discount\") appears 10 time.\n",
      "Word 1261 (\"inadvert\") appears 1 time.\n",
      "Word 1266 (\"languag\") appears 1 time.\n",
      "Word 1280 (\"own\") appears 1 time.\n",
      "Word 1281 (\"parent\") appears 1 time.\n",
      "Word 1282 (\"part\") appears 1 time.\n",
      "Word 1285 (\"permit\") appears 11 time.\n",
      "Word 1290 (\"prohibit\") appears 5 time.\n",
      "Word 1293 (\"reform\") appears 7 time.\n",
      "Word 1294 (\"remov\") appears 6 time.\n",
      "Word 1297 (\"routin\") appears 1 time.\n",
      "Word 1299 (\"section\") appears 27 time.\n",
      "Word 1306 (\"subsidi\") appears 2 time.\n",
      "Word 1311 (\"thrift\") appears 3 time.\n",
      "Word 1316 (\"unlimit\") appears 1 time.\n",
      "Word 1336 (\"claim\") appears 1 time.\n",
      "Word 1346 (\"framework\") appears 2 time.\n",
      "Word 1355 (\"narrow\") appears 1 time.\n",
      "Word 1366 (\"reliev\") appears 2 time.\n",
      "Word 1367 (\"repeal\") appears 1 time.\n",
      "Word 1372 (\"set\") appears 1 time.\n",
      "Word 1376 (\"tabl\") appears 1 time.\n",
      "Word 1406 (\"mechan\") appears 1 time.\n",
      "Word 1410 (\"prudenti\") appears 1 time.\n",
      "Word 1416 (\"secondari\") appears 1 time.\n",
      "Word 1420 (\"status\") appears 1 time.\n",
      "Word 1432 (\"administ\") appears 1 time.\n",
      "Word 1434 (\"burdensom\") appears 2 time.\n",
      "Word 1455 (\"clarifi\") appears 1 time.\n",
      "Word 1461 (\"disadvantag\") appears 1 time.\n",
      "Word 1464 (\"execut\") appears 1 time.\n",
      "Word 1471 (\"multipl\") appears 5 time.\n",
      "Word 1492 (\"outdat\") appears 1 time.\n",
      "Word 1498 (\"streamlin\") appears 1 time.\n",
      "Word 1502 (\"disclos\") appears 1 time.\n",
      "Word 1516 (\"sweep\") appears 1 time.\n",
      "Word 1523 (\"grandfath\") appears 1 time.\n",
      "Word 1524 (\"grant\") appears 2 time.\n",
      "Word 1528 (\"mix\") appears 3 time.\n",
      "Word 1592 (\"trust\") appears 1 time.\n",
      "Word 1600 (\"leadership\") appears 1 time.\n",
      "Word 1610 (\"commenc\") appears 1 time.\n",
      "Word 1618 (\"fashion\") appears 1 time.\n",
      "Word 1629 (\"termin\") appears 2 time.\n",
      "Word 1640 (\"voic\") appears 1 time.\n",
      "Word 1642 (\"appendix\") appears 2 time.\n",
      "Word 1679 (\"transpar\") appears 1 time.\n",
      "Word 1696 (\"hinder\") appears 1 time.\n",
      "Word 1721 (\"contempl\") appears 1 time.\n",
      "Word 1749 (\"preced\") appears 2 time.\n",
      "Word 1753 (\"ceil\") appears 1 time.\n",
      "Word 1754 (\"overdraft\") appears 5 time.\n",
      "Word 1763 (\"advoc\") appears 1 time.\n",
      "Word 1764 (\"allevi\") appears 3 time.\n",
      "Word 1765 (\"ceas\") appears 1 time.\n",
      "Word 1766 (\"conform\") appears 1 time.\n",
      "Word 1767 (\"craft\") appears 2 time.\n",
      "Word 1768 (\"loophol\") appears 3 time.\n",
      "Word 1769 (\"possess\") appears 1 time.\n",
      "Word 1770 (\"shelbi\") appears 1 time.\n"
     ]
    }
   ],
   "source": [
    "bow_doc_43 = bow_corpus[43]\n",
    "\n",
    "for i in range(len(bow_doc_43)):\n",
    "    print(\"Word {} (\\\"{}\\\") appears {} time.\".format(bow_doc_43[i][0], \n",
    "                                                     dictionary[bow_doc_43[i][0]], \n",
    "                                                     bow_doc_43[i][1]))"
   ]
  },
  {
   "cell_type": "code",
   "execution_count": 14,
   "id": "c0f7af37",
   "metadata": {
    "ExecuteTime": {
     "end_time": "2022-03-11T13:05:58.480038Z",
     "start_time": "2022-03-11T13:05:58.422039Z"
    }
   },
   "outputs": [
    {
     "name": "stdout",
     "output_type": "stream",
     "text": [
      "[(0, 0.007451716464313942),\n",
      " (1, 0.0185206217120598),\n",
      " (2, 0.027608094534232925),\n",
      " (3, 0.03264346704732357),\n",
      " (4, 0.04579787211419987),\n",
      " (5, 0.08801406120145007),\n",
      " (6, 0.0156649700256126),\n",
      " (7, 0.024797765660561487),\n",
      " (8, 0.018117207113166556),\n",
      " (9, 0.009688639711241344),\n",
      " (10, 0.014034983115640881),\n",
      " (11, 0.013103125756070304),\n",
      " (12, 0.03955330945839657),\n",
      " (13, 0.013859153982957903),\n",
      " (14, 0.01326639511728643),\n",
      " (15, 0.027372560204132076),\n",
      " (16, 0.012248723173831084),\n",
      " (17, 0.0639259189212565),\n",
      " (18, 0.024005998569045714),\n",
      " (19, 0.012027515642009217),\n",
      " (20, 0.018467893455601216),\n",
      " (21, 0.024797765660561487),\n",
      " (22, 0.21153291941448948),\n",
      " (23, 0.020645805010146505),\n",
      " (24, 0.02529616052187801),\n",
      " (25, 0.029065919133724034),\n",
      " (26, 0.03967096859465831),\n",
      " (27, 0.009983380616731184),\n",
      " (28, 0.1813679460182761),\n",
      " (29, 0.012323528985651016),\n",
      " (30, 0.010536181007262406),\n",
      " (31, 0.01394669284145),\n",
      " (32, 0.010791740831346045),\n",
      " (33, 0.03507490381679157),\n",
      " (34, 0.012551267155018128),\n",
      " (35, 0.03031104960609797),\n",
      " (36, 0.009458780899063548),\n",
      " (37, 0.011810965458597566),\n",
      " (38, 0.016557825809867328),\n",
      " (39, 0.0445970236370664),\n",
      " (40, 0.02636887297226438),\n",
      " (41, 0.024242463093214872),\n",
      " (42, 0.014395923791323461),\n",
      " (43, 0.03067831992203133),\n",
      " (44, 0.019611049069654593),\n",
      " (45, 0.055561865136179396),\n",
      " (46, 0.1016475444726985),\n",
      " (47, 0.03067622855882072),\n",
      " (48, 0.010103683202032658),\n",
      " (49, 0.025513925809081725),\n",
      " (50, 0.08946203166605461),\n",
      " (51, 0.01772901939164814),\n",
      " (52, 0.009746916092562025),\n",
      " (53, 0.019847505783097692),\n",
      " (54, 0.016308039024274527),\n",
      " (55, 0.06237396398437386),\n",
      " (56, 0.08708722470481962),\n",
      " (57, 0.04080276197873118),\n",
      " (58, 0.01210072416307538),\n",
      " (59, 0.25423768587852663),\n",
      " (60, 0.009068488675483932),\n",
      " (61, 0.011669090743222688),\n",
      " (62, 0.1529460907394955),\n",
      " (63, 0.00793020989135882),\n",
      " (64, 0.04163164268061577),\n",
      " (65, 0.017602812240290013),\n",
      " (66, 0.011954824499972276),\n",
      " (67, 0.08535428787370755),\n",
      " (68, 0.009013922214415635),\n",
      " (69, 0.02319776109428306),\n",
      " (70, 0.024242463093214872),\n",
      " (71, 0.15341362125594998),\n",
      " (72, 0.01999252175663503),\n",
      " (73, 0.05206485227354626),\n",
      " (74, 0.2988077615231123),\n",
      " (75, 0.007736133307446957),\n",
      " (76, 0.037317375188581074),\n",
      " (77, 0.029417262623124954),\n",
      " (78, 0.0076404511868810076),\n",
      " (79, 0.012862980518393187),\n",
      " (80, 0.00957306822807129),\n",
      " (81, 0.01515818014664127),\n",
      " (82, 0.011459881759029402),\n",
      " (83, 0.007784310228255721),\n",
      " (84, 0.007174953028511348),\n",
      " (85, 0.01016436629125186),\n",
      " (86, 0.1180487491020974),\n",
      " (87, 0.010663167234840424),\n",
      " (88, 0.0309184961845349),\n",
      " (89, 0.02377484830683317),\n",
      " (90, 0.019230265401317222),\n",
      " (91, 0.008178071373800088),\n",
      " (92, 0.01914613645614258),\n",
      " (93, 0.007688180988483102),\n",
      " (94, 0.02578822883253238),\n",
      " (95, 0.10056139732527279),\n",
      " (96, 0.016876457330803868),\n",
      " (97, 0.01360092065957706),\n",
      " (98, 0.026657965306764432),\n",
      " (99, 0.018658687594290537),\n",
      " (100, 0.014395923791323461),\n",
      " (101, 0.016308039024274527),\n",
      " (102, 0.02635980663955907),\n",
      " (103, 0.015357909796806029),\n",
      " (104, 0.007736133307446957),\n",
      " (105, 0.013432297968573455),\n",
      " (106, 0.022778825541126067),\n",
      " (107, 0.016760232887545468),\n",
      " (108, 0.11243725517523935),\n",
      " (109, 0.014675192179962621),\n",
      " (110, 0.017986176630518068),\n",
      " (111, 0.008078208902114529),\n",
      " (112, 0.010473271002048172),\n",
      " (113, 0.014581257702555788),\n",
      " (114, 0.03067831992203133),\n",
      " (115, 0.02578822883253238),\n",
      " (116, 0.03858894155517956),\n",
      " (117, 0.039222098139309186),\n",
      " (118, 0.01772901939164814),\n",
      " (119, 0.01937826441207293),\n",
      " (120, 0.24572655674889646),\n",
      " (121, 0.01360092065957706),\n",
      " (122, 0.020815821340307884),\n",
      " (123, 0.008692466246676632),\n",
      " (124, 0.012174457480885869),\n",
      " (125, 0.02420144832615076),\n",
      " (126, 0.012323528985651016),\n",
      " (127, 0.03759726396292906),\n",
      " (128, 0.023064542965449308),\n",
      " (129, 0.017986176630518068),\n",
      " (130, 0.016645307068591325),\n",
      " (131, 0.009864468843924322),\n",
      " (132, 0.024484491996090596),\n",
      " (133, 0.008692466246676632),\n",
      " (134, 0.01772901939164814),\n",
      " (135, 0.01525756018340316),\n",
      " (136, 0.05331583617420212),\n",
      " (137, 0.06632287457700695),\n",
      " (138, 0.022107624859002313),\n",
      " (139, 0.027281535240272523),\n",
      " (140, 0.01747813491027601),\n",
      " (141, 0.027608094534232925),\n",
      " (142, 0.0509820302464985),\n",
      " (143, 0.024484491996090596),\n",
      " (144, 0.0073124038996032585),\n",
      " (145, 0.05521618906846585),\n",
      " (146, 0.1492695007543243),\n",
      " (147, 0.03264346704732357),\n",
      " (148, 0.01968080839325997),\n",
      " (149, 0.009515765830349483),\n",
      " (150, 0.02902907490160654),\n",
      " (151, 0.01747813491027601),\n",
      " (152, 0.0071295412382418434),\n",
      " (153, 0.009688639711241344),\n",
      " (154, 0.023548778683789486),\n",
      " (155, 0.01802784442883127),\n",
      " (156, 0.008329706854025608),\n",
      " (157, 0.02015199400203068),\n",
      " (158, 0.029162515405111576),\n",
      " (159, 0.024005998569045714),\n",
      " (160, 0.03765380146505439),\n",
      " (161, 0.015561594745534514),\n",
      " (162, 0.0799738959202933),\n",
      " (163, 0.02829406559212457),\n",
      " (164, 0.04754969661366634),\n",
      " (165, 0.034411076478514366),\n",
      " (166, 0.37362647768745066),\n",
      " (167, 0.011391080473817958),\n",
      " (168, 0.03858894155517956),\n",
      " (169, 0.030715819593612057),\n",
      " (170, 0.08896309696077322),\n",
      " (171, 0.14692086654839823),\n",
      " (172, 0.014488173322573978),\n",
      " (173, 0.07592941847042022),\n",
      " (174, 0.027945362578549727),\n",
      " (175, 0.015185883694084043),\n",
      " (176, 0.02332757115196762),\n",
      " (177, 0.010286817187304672),\n",
      " (178, 0.0073124038996032585),\n",
      " (179, 0.010473271002048172),\n",
      " (180, 0.024005998569045714),\n",
      " (181, 0.09959876751996931),\n",
      " (182, 0.05543661593183161),\n",
      " (183, 0.011669090743222688),\n",
      " (184, 0.010536181007262406),\n",
      " (185, 0.013022452763788836),\n",
      " (186, 0.028376342697190644),\n",
      " (187, 0.016967222556685653),\n",
      " (188, 0.1689370077648663),\n",
      " (189, 0.012705943059087312),\n",
      " (190, 0.027945362578549727),\n",
      " (191, 0.056821520090518225),\n",
      " (192, 0.009630691649303623),\n",
      " (193, 0.29137700244634324),\n",
      " (194, 0.01879863198146453),\n",
      " (195, 0.01747813491027601),\n",
      " (196, 0.022778825541126067),\n",
      " (197, 0.01879863198146453),\n",
      " (198, 0.03967096859465831),\n",
      " (199, 0.20230073169194868),\n",
      " (200, 0.08044592471295897),\n",
      " (201, 0.016156417804229058),\n",
      " (202, 0.03378750654500628),\n",
      " (203, 0.012474792796874771),\n",
      " (204, 0.008329706854025608),\n",
      " (205, 0.017986176630518068),\n",
      " (206, 0.01772901939164814),\n",
      " (207, 0.03498139766425936),\n",
      " (208, 0.1579248355241986),\n",
      " (209, 0.008639853580616245),\n",
      " (210, 0.01159888054714153),\n",
      " (211, 0.01772901939164814),\n",
      " (212, 0.01937727942248269),\n",
      " (213, 0.029806865857255768),\n",
      " (214, 0.0557867713658),\n",
      " (215, 0.029417262623124954),\n",
      " (216, 0.015874890654306684),\n",
      " (217, 0.012174457480885869),\n",
      " (218, 0.016994010082166167),\n",
      " (219, 0.008329706854025608),\n",
      " (220, 0.10714076624269557),\n",
      " (221, 0.02902907490160654),\n",
      " (222, 0.023058292712097386),\n",
      " (223, 0.01711292185497303),\n",
      " (224, 0.007358632084332135),\n",
      " (225, 0.011739783487392798),\n",
      " (226, 0.22129823264032703),\n",
      " (227, 0.014769992425122851),\n",
      " (228, 0.010348593672034164),\n",
      " (229, 0.01968080839325997)]\n"
     ]
    }
   ],
   "source": [
    "from gensim import corpora, models\n",
    "\n",
    "tfidf = models.TfidfModel(bow_corpus)\n",
    "corpus_tfidf = tfidf[bow_corpus]\n",
    "from pprint import pprint\n",
    "\n",
    "for doc in corpus_tfidf:\n",
    "    pprint(doc)\n",
    "    break"
   ]
  },
  {
   "cell_type": "markdown",
   "id": "a2753f52",
   "metadata": {},
   "source": [
    "# LDA using bag of words"
   ]
  },
  {
   "cell_type": "code",
   "execution_count": 15,
   "id": "a713f5e9",
   "metadata": {
    "ExecuteTime": {
     "end_time": "2022-03-11T13:06:02.221747Z",
     "start_time": "2022-03-11T13:05:59.313594Z"
    }
   },
   "outputs": [],
   "source": [
    "lda_model = gensim.models.LdaMulticore(bow_corpus, num_topics=10, id2word=dictionary, passes=2, workers=2)"
   ]
  },
  {
   "cell_type": "code",
   "execution_count": 16,
   "id": "6a1dafc3",
   "metadata": {
    "ExecuteTime": {
     "end_time": "2022-03-11T13:06:02.237769Z",
     "start_time": "2022-03-11T13:06:02.222745Z"
    }
   },
   "outputs": [
    {
     "name": "stdout",
     "output_type": "stream",
     "text": [
      "Topic: 0 \n",
      "Words: 0.013*\"mortgag\" + 0.009*\"budget\" + 0.008*\"spend\" + 0.006*\"propos\" + 0.006*\"equiti\" + 0.006*\"debt\" + 0.005*\"fiscal\" + 0.005*\"deriv\" + 0.004*\"project\" + 0.004*\"incom\"\n",
      "Topic: 1 \n",
      "Words: 0.021*\"inflat\" + 0.011*\"labor\" + 0.008*\"employ\" + 0.007*\"longer\" + 0.007*\"pace\" + 0.007*\"spend\" + 0.006*\"fomc\" + 0.006*\"outlook\" + 0.006*\"household\" + 0.006*\"unemploy\"\n",
      "Topic: 2 \n",
      "Words: 0.020*\"small\" + 0.017*\"educ\" + 0.008*\"survey\" + 0.008*\"disclosur\" + 0.007*\"deposit\" + 0.006*\"lend\" + 0.006*\"depositori\" + 0.004*\"offer\" + 0.004*\"propos\" + 0.004*\"student\"\n",
      "Topic: 3 \n",
      "Words: 0.022*\"mortgag\" + 0.012*\"disclosur\" + 0.012*\"card\" + 0.010*\"lend\" + 0.008*\"borrow\" + 0.008*\"foreclosur\" + 0.008*\"creditor\" + 0.007*\"propos\" + 0.007*\"score\" + 0.007*\"examin\"\n",
      "Topic: 4 \n",
      "Words: 0.014*\"deposit\" + 0.013*\"currenc\" + 0.007*\"premium\" + 0.007*\"depositori\" + 0.006*\"fdic\" + 0.006*\"dollar\" + 0.005*\"propos\" + 0.005*\"treasuri\" + 0.005*\"lend\" + 0.005*\"small\"\n",
      "Topic: 5 \n",
      "Words: 0.011*\"deposit\" + 0.010*\"depositori\" + 0.010*\"propos\" + 0.008*\"competit\" + 0.007*\"subsidiari\" + 0.007*\"affili\" + 0.006*\"small\" + 0.006*\"supervisori\" + 0.006*\"basel\" + 0.006*\"merger\"\n",
      "Topic: 6 \n",
      "Words: 0.033*\"check\" + 0.013*\"custom\" + 0.007*\"communiti\" + 0.007*\"examin\" + 0.007*\"social\" + 0.007*\"electron\" + 0.006*\"test\" + 0.005*\"save\" + 0.005*\"propos\" + 0.005*\"collect\"\n",
      "Topic: 7 \n",
      "Words: 0.015*\"compens\" + 0.011*\"incent\" + 0.009*\"supervisori\" + 0.008*\"guidanc\" + 0.008*\"hedg\" + 0.007*\"counterparti\" + 0.007*\"supervisor\" + 0.006*\"examin\" + 0.006*\"arrang\" + 0.006*\"crisi\"\n",
      "Topic: 8 \n",
      "Words: 0.013*\"basel\" + 0.011*\"deriv\" + 0.008*\"exchang\" + 0.007*\"counterparti\" + 0.006*\"supervisori\" + 0.005*\"propos\" + 0.005*\"contract\" + 0.004*\"cftc\" + 0.004*\"supervisor\" + 0.004*\"prudenti\"\n",
      "Topic: 9 \n",
      "Words: 0.013*\"supervisori\" + 0.013*\"examin\" + 0.011*\"lend\" + 0.011*\"mortgag\" + 0.010*\"propos\" + 0.009*\"communiti\" + 0.008*\"borrow\" + 0.006*\"foreign\" + 0.006*\"crisi\" + 0.006*\"enforc\"\n"
     ]
    }
   ],
   "source": [
    "for idx, topic in lda_model.print_topics(-1):\n",
    "    print('Topic: {} \\nWords: {}'.format(idx, topic))"
   ]
  },
  {
   "cell_type": "markdown",
   "id": "632d8b7e",
   "metadata": {},
   "source": [
    "# LDA using TF-IDF"
   ]
  },
  {
   "cell_type": "code",
   "execution_count": 17,
   "id": "8edd8c49",
   "metadata": {
    "ExecuteTime": {
     "end_time": "2022-03-11T13:06:07.068832Z",
     "start_time": "2022-03-11T13:06:02.239768Z"
    }
   },
   "outputs": [],
   "source": [
    "lda_model_tfidf = gensim.models.LdaMulticore(corpus_tfidf, num_topics=10, id2word=dictionary, passes=2, workers=4)"
   ]
  },
  {
   "cell_type": "code",
   "execution_count": 18,
   "id": "1f8d66ed",
   "metadata": {
    "ExecuteTime": {
     "end_time": "2022-03-11T13:06:07.084834Z",
     "start_time": "2022-03-11T13:06:07.069833Z"
    }
   },
   "outputs": [
    {
     "name": "stdout",
     "output_type": "stream",
     "text": [
      "Topic: 0 Word: 0.010*\"budget\" + 0.008*\"social\" + 0.007*\"retir\" + 0.006*\"fiscal\" + 0.005*\"surplus\" + 0.004*\"deficit\" + 0.004*\"medicar\" + 0.004*\"launder\" + 0.004*\"inflat\" + 0.004*\"spend\"\n",
      "Topic: 1 Word: 0.006*\"basel\" + 0.005*\"dodd\" + 0.005*\"supervisori\" + 0.005*\"frank\" + 0.005*\"examin\" + 0.004*\"mortgag\" + 0.004*\"lend\" + 0.004*\"crisi\" + 0.004*\"communiti\" + 0.004*\"guidanc\"\n",
      "Topic: 2 Word: 0.006*\"inflat\" + 0.004*\"fomc\" + 0.003*\"energi\" + 0.003*\"municip\" + 0.003*\"mortgag\" + 0.003*\"outlook\" + 0.002*\"labor\" + 0.002*\"nomin\" + 0.002*\"fiscal\" + 0.002*\"investor\"\n",
      "Topic: 3 Word: 0.005*\"foreclosur\" + 0.004*\"mortgag\" + 0.004*\"text\" + 0.003*\"currenc\" + 0.003*\"lehman\" + 0.003*\"card\" + 0.003*\"releas\" + 0.002*\"examin\" + 0.002*\"fraud\" + 0.002*\"inflat\"\n",
      "Topic: 4 Word: 0.009*\"facil\" + 0.006*\"pandem\" + 0.004*\"deriv\" + 0.004*\"municip\" + 0.004*\"bond\" + 0.003*\"treasuri\" + 0.003*\"launder\" + 0.003*\"section\" + 0.003*\"inflat\" + 0.003*\"dealer\"\n",
      "Topic: 5 Word: 0.004*\"mortgag\" + 0.004*\"card\" + 0.003*\"deposit\" + 0.003*\"check\" + 0.003*\"disclosur\" + 0.003*\"depositori\" + 0.003*\"merger\" + 0.003*\"subprim\" + 0.003*\"educ\" + 0.003*\"fdic\"\n",
      "Topic: 6 Word: 0.005*\"dollar\" + 0.005*\"european\" + 0.004*\"sovereign\" + 0.004*\"swap\" + 0.004*\"europ\" + 0.003*\"euro\" + 0.003*\"currenc\" + 0.003*\"inflat\" + 0.003*\"inventori\" + 0.003*\"propos\"\n",
      "Topic: 7 Word: 0.014*\"inflat\" + 0.007*\"labor\" + 0.006*\"fomc\" + 0.005*\"outlook\" + 0.005*\"spend\" + 0.004*\"energi\" + 0.004*\"unemploy\" + 0.004*\"pace\" + 0.004*\"fiscal\" + 0.003*\"employ\"\n",
      "Topic: 8 Word: 0.008*\"deriv\" + 0.006*\"cftc\" + 0.005*\"counterparti\" + 0.004*\"subsidi\" + 0.004*\"contract\" + 0.004*\"subsidiari\" + 0.004*\"affili\" + 0.004*\"exchang\" + 0.003*\"modern\" + 0.003*\"manipul\"\n",
      "Topic: 9 Word: 0.007*\"inflat\" + 0.004*\"labor\" + 0.003*\"budget\" + 0.003*\"asian\" + 0.003*\"unemploy\" + 0.003*\"fomc\" + 0.003*\"dodd\" + 0.003*\"frank\" + 0.003*\"prudenti\" + 0.003*\"foreclosur\"\n"
     ]
    }
   ],
   "source": [
    "for idx, topic in lda_model_tfidf.print_topics(-1):\n",
    "    print('Topic: {} Word: {}'.format(idx, topic))"
   ]
  },
  {
   "cell_type": "markdown",
   "id": "97298f2c",
   "metadata": {},
   "source": [
    "# Doc2vec"
   ]
  },
  {
   "cell_type": "code",
   "execution_count": 19,
   "id": "ca359e4f",
   "metadata": {
    "ExecuteTime": {
     "end_time": "2022-03-11T13:06:08.297936Z",
     "start_time": "2022-03-11T13:06:07.086833Z"
    }
   },
   "outputs": [],
   "source": [
    "def read_corpus(f, tokens_only=False):\n",
    "        for i, line in enumerate(f):\n",
    "            tokens = gensim.utils.simple_preprocess(line)\n",
    "            if tokens_only:\n",
    "                yield tokens\n",
    "            else:\n",
    "                # For training data, add tags\n",
    "                yield gensim.models.doc2vec.TaggedDocument(tokens, [i])\n",
    "\n",
    "train_corpus = list(read_corpus(df.contents))"
   ]
  },
  {
   "cell_type": "code",
   "execution_count": 20,
   "id": "5d64593a",
   "metadata": {
    "ExecuteTime": {
     "end_time": "2022-03-11T13:06:14.008831Z",
     "start_time": "2022-03-11T13:06:08.298921Z"
    },
    "scrolled": true
   },
   "outputs": [],
   "source": [
    "#session crashed when i ran this, even when I had a GPU connected it didnt seem to use the GPU\n",
    "from gensim.models.doc2vec import Doc2Vec\n",
    "model = Doc2Vec(train_corpus, vector_size=200, window=3, min_count=1, workers=4)"
   ]
  },
  {
   "cell_type": "code",
   "execution_count": 21,
   "id": "7ed27065",
   "metadata": {
    "ExecuteTime": {
     "end_time": "2022-03-11T13:06:14.024831Z",
     "start_time": "2022-03-11T13:06:14.009856Z"
    }
   },
   "outputs": [],
   "source": [
    "def getVecs(model_name, corpus, size):\n",
    "    vecs = [np.array(model_name[z.tags[0]]).reshape((1, size)) for z in corpus]\n",
    "    return np.concatenate(vecs)\n",
    "train_vecs_dm = getVecs(model, train_corpus, 200)"
   ]
  },
  {
   "cell_type": "code",
   "execution_count": 22,
   "id": "5f358954",
   "metadata": {
    "ExecuteTime": {
     "end_time": "2022-03-11T13:06:14.040832Z",
     "start_time": "2022-03-11T13:06:14.025832Z"
    }
   },
   "outputs": [
    {
     "data": {
      "text/plain": [
       "array([[ 0.01633773,  0.00626559,  0.00413341, ..., -0.7398412 ,\n",
       "        -0.45698535,  0.4397793 ],\n",
       "       [-0.22304021,  0.33170024, -1.1658928 , ..., -1.3651189 ,\n",
       "         1.2025217 ,  0.30122232],\n",
       "       [-0.93276244, -0.21622342,  0.5874405 , ..., -0.1787774 ,\n",
       "        -0.3316883 , -1.0099819 ],\n",
       "       ...,\n",
       "       [ 0.23698802, -0.4411223 , -0.09060824, ...,  0.10620764,\n",
       "         0.8015562 ,  0.23009028],\n",
       "       [-0.46020544, -0.99598724,  0.2212178 , ..., -0.65798295,\n",
       "         0.5833799 ,  0.6135566 ],\n",
       "       [-0.07919624, -0.01757155,  0.72310483, ...,  0.00984415,\n",
       "         0.35641003,  0.6754618 ]], dtype=float32)"
      ]
     },
     "execution_count": 22,
     "metadata": {},
     "output_type": "execute_result"
    }
   ],
   "source": [
    "train_vecs_dm"
   ]
  },
  {
   "cell_type": "markdown",
   "id": "08e350fc",
   "metadata": {},
   "source": [
    "# Predictions on SPY changes\n"
   ]
  },
  {
   "cell_type": "code",
   "execution_count": 23,
   "id": "b1e4bb46",
   "metadata": {
    "ExecuteTime": {
     "end_time": "2022-03-11T13:06:14.056850Z",
     "start_time": "2022-03-11T13:06:14.041831Z"
    }
   },
   "outputs": [],
   "source": [
    "def pct_change_from_day_0(announcement):\n",
    "    pct_change= (announcement['SPY: d+7']/announcement['SPY: d-1'])-1\n",
    "    if pct_change>0:\n",
    "        return 'up'\n",
    "    else:\n",
    "        return 'down'"
   ]
  },
  {
   "cell_type": "code",
   "execution_count": 24,
   "id": "22ef2840",
   "metadata": {
    "ExecuteTime": {
     "end_time": "2022-03-11T13:06:14.072851Z",
     "start_time": "2022-03-11T13:06:14.058831Z"
    }
   },
   "outputs": [
    {
     "data": {
      "text/plain": [
       "'up'"
      ]
     },
     "execution_count": 24,
     "metadata": {},
     "output_type": "execute_result"
    }
   ],
   "source": [
    "pct_change_from_day_0(df.iloc[141])"
   ]
  },
  {
   "cell_type": "code",
   "execution_count": 25,
   "id": "648cba43",
   "metadata": {
    "ExecuteTime": {
     "end_time": "2022-03-11T13:06:14.088852Z",
     "start_time": "2022-03-11T13:06:14.074832Z"
    }
   },
   "outputs": [],
   "source": [
    "df['+7change']=df.apply(pct_change_from_day_0,axis=1)"
   ]
  },
  {
   "cell_type": "code",
   "execution_count": 26,
   "id": "17a84b77",
   "metadata": {
    "ExecuteTime": {
     "end_time": "2022-03-11T13:06:14.104851Z",
     "start_time": "2022-03-11T13:06:14.089832Z"
    }
   },
   "outputs": [
    {
     "data": {
      "text/plain": [
       "Unnamed: 0                                                  141\n",
       "date                                        2002-05-22 00:00:00\n",
       "contents      Thank you, Mr. Chairman, for the opportunity t...\n",
       "speaker                                  Governor Mark W. Olson\n",
       "title         The European Union's Financial Services Action...\n",
       "SPY: d-1                                              82.560066\n",
       "SPY: d+0                                              82.773079\n",
       "SPY: d+1                                              84.295692\n",
       "SPY: d+2                                              84.516586\n",
       "SPY: d+3                                              86.441551\n",
       "SPY: d+4                                              86.457344\n",
       "SPY: d+5                                              86.899109\n",
       "SPY: d+6                                              86.015572\n",
       "SPY: d+7                                              86.480988\n",
       "SPY: d+8                                              87.735367\n",
       "SPY: d+9                                              87.837952\n",
       "SPY: d+10                                               87.7827\n",
       "SPY: d+11                                             86.638763\n",
       "SPY: d+12                                               86.3311\n",
       "SPY: d+13                                             87.427689\n",
       "SPY: d+14                                             87.561813\n",
       "+7change                                                     up\n",
       "Name: 141, dtype: object"
      ]
     },
     "execution_count": 26,
     "metadata": {},
     "output_type": "execute_result"
    }
   ],
   "source": [
    "df.iloc[141]"
   ]
  },
  {
   "cell_type": "code",
   "execution_count": 27,
   "id": "bee52246",
   "metadata": {
    "ExecuteTime": {
     "end_time": "2022-03-11T13:06:14.120849Z",
     "start_time": "2022-03-11T13:06:14.105852Z"
    }
   },
   "outputs": [
    {
     "data": {
      "text/plain": [
       "down    317\n",
       "up      137\n",
       "Name: +7change, dtype: int64"
      ]
     },
     "execution_count": 27,
     "metadata": {},
     "output_type": "execute_result"
    }
   ],
   "source": [
    "df['+7change'].value_counts()"
   ]
  },
  {
   "cell_type": "code",
   "execution_count": 28,
   "id": "07afe01a",
   "metadata": {
    "ExecuteTime": {
     "end_time": "2022-03-11T13:06:14.136852Z",
     "start_time": "2022-03-11T13:06:14.121832Z"
    }
   },
   "outputs": [],
   "source": [
    "labels=df['+7change'].to_numpy()\n",
    "labels_onehot=pd.get_dummies(labels).values"
   ]
  },
  {
   "cell_type": "code",
   "execution_count": 29,
   "id": "9f0f273d",
   "metadata": {
    "ExecuteTime": {
     "end_time": "2022-03-11T13:06:14.152921Z",
     "start_time": "2022-03-11T13:06:14.137932Z"
    }
   },
   "outputs": [
    {
     "data": {
      "text/plain": [
       "array([[0, 1],\n",
       "       [0, 1],\n",
       "       [0, 1],\n",
       "       [0, 1],\n",
       "       [0, 1],\n",
       "       [0, 1],\n",
       "       [1, 0],\n",
       "       [1, 0],\n",
       "       [1, 0],\n",
       "       [1, 0]], dtype=uint8)"
      ]
     },
     "execution_count": 29,
     "metadata": {},
     "output_type": "execute_result"
    }
   ],
   "source": [
    "labels_onehot[:10]"
   ]
  },
  {
   "cell_type": "code",
   "execution_count": 30,
   "id": "5df99556",
   "metadata": {
    "ExecuteTime": {
     "end_time": "2022-03-11T13:06:14.168853Z",
     "start_time": "2022-03-11T13:06:14.153835Z"
    }
   },
   "outputs": [
    {
     "name": "stdout",
     "output_type": "stream",
     "text": [
      "408 46 408 46\n"
     ]
    }
   ],
   "source": [
    "X_train, X_test, y_train, y_test = train_test_split(train_vecs_dm,labels_onehot,train_size=0.9)\n",
    "print (len(X_train),len(X_test),len(y_train),len(y_test))"
   ]
  },
  {
   "cell_type": "code",
   "execution_count": 31,
   "id": "bbb57161",
   "metadata": {
    "ExecuteTime": {
     "end_time": "2022-03-11T13:06:14.184852Z",
     "start_time": "2022-03-11T13:06:14.169854Z"
    }
   },
   "outputs": [
    {
     "name": "stdout",
     "output_type": "stream",
     "text": [
      "367 41 367 41\n"
     ]
    }
   ],
   "source": [
    "X_train_m, X_val, y_train_m, y_val = train_test_split(X_train,y_train,train_size=0.9)\n",
    "print (len(X_train_m),len(X_val),len(y_train_m),len(y_val))"
   ]
  },
  {
   "cell_type": "code",
   "execution_count": 32,
   "id": "149bdd4c",
   "metadata": {
    "ExecuteTime": {
     "end_time": "2022-03-11T13:06:48.309405Z",
     "start_time": "2022-03-11T13:06:14.185833Z"
    }
   },
   "outputs": [
    {
     "name": "stdout",
     "output_type": "stream",
     "text": [
      "Epoch 1/30\n",
      "4/4 [==============================] - 3s 399ms/step - loss: 0.2807 - accuracy: 0.5204 - val_loss: 0.2451 - val_accuracy: 0.7561\n",
      "Epoch 2/30\n",
      "4/4 [==============================] - 1s 260ms/step - loss: 0.2664 - accuracy: 0.5613 - val_loss: 0.2408 - val_accuracy: 0.7561\n",
      "Epoch 3/30\n",
      "4/4 [==============================] - 1s 260ms/step - loss: 0.2566 - accuracy: 0.5831 - val_loss: 0.2375 - val_accuracy: 0.7561\n",
      "Epoch 4/30\n",
      "4/4 [==============================] - 1s 254ms/step - loss: 0.2503 - accuracy: 0.6158 - val_loss: 0.2348 - val_accuracy: 0.7561\n",
      "Epoch 5/30\n",
      "4/4 [==============================] - 1s 267ms/step - loss: 0.2572 - accuracy: 0.5995 - val_loss: 0.2331 - val_accuracy: 0.7561\n",
      "Epoch 6/30\n",
      "4/4 [==============================] - 1s 278ms/step - loss: 0.2482 - accuracy: 0.6240 - val_loss: 0.2314 - val_accuracy: 0.7561\n",
      "Epoch 7/30\n",
      "4/4 [==============================] - 1s 251ms/step - loss: 0.2391 - accuracy: 0.6213 - val_loss: 0.2297 - val_accuracy: 0.7561\n",
      "Epoch 8/30\n",
      "4/4 [==============================] - 1s 241ms/step - loss: 0.2498 - accuracy: 0.6131 - val_loss: 0.2284 - val_accuracy: 0.7561\n",
      "Epoch 9/30\n",
      "4/4 [==============================] - 1s 240ms/step - loss: 0.2451 - accuracy: 0.6076 - val_loss: 0.2268 - val_accuracy: 0.7561\n",
      "Epoch 10/30\n",
      "4/4 [==============================] - 1s 241ms/step - loss: 0.2349 - accuracy: 0.6294 - val_loss: 0.2254 - val_accuracy: 0.7561\n",
      "Epoch 11/30\n",
      "4/4 [==============================] - 1s 262ms/step - loss: 0.2291 - accuracy: 0.6512 - val_loss: 0.2238 - val_accuracy: 0.7561\n",
      "Epoch 12/30\n",
      "4/4 [==============================] - 1s 259ms/step - loss: 0.2364 - accuracy: 0.6403 - val_loss: 0.2228 - val_accuracy: 0.7561\n",
      "Epoch 13/30\n",
      "4/4 [==============================] - 1s 267ms/step - loss: 0.2292 - accuracy: 0.6676 - val_loss: 0.2218 - val_accuracy: 0.7561\n",
      "Epoch 14/30\n",
      "4/4 [==============================] - 1s 286ms/step - loss: 0.2260 - accuracy: 0.6730 - val_loss: 0.2211 - val_accuracy: 0.7561\n",
      "Epoch 15/30\n",
      "4/4 [==============================] - 1s 273ms/step - loss: 0.2165 - accuracy: 0.6894 - val_loss: 0.2202 - val_accuracy: 0.7561\n",
      "Epoch 16/30\n",
      "4/4 [==============================] - 1s 287ms/step - loss: 0.2182 - accuracy: 0.6839 - val_loss: 0.2190 - val_accuracy: 0.7561\n",
      "Epoch 17/30\n",
      "4/4 [==============================] - 1s 249ms/step - loss: 0.2171 - accuracy: 0.6948 - val_loss: 0.2184 - val_accuracy: 0.7561\n",
      "Epoch 18/30\n",
      "4/4 [==============================] - 1s 234ms/step - loss: 0.2147 - accuracy: 0.6839 - val_loss: 0.2178 - val_accuracy: 0.7561\n",
      "Epoch 19/30\n",
      "4/4 [==============================] - 1s 219ms/step - loss: 0.2092 - accuracy: 0.6948 - val_loss: 0.2161 - val_accuracy: 0.7561\n",
      "Epoch 20/30\n",
      "4/4 [==============================] - 1s 235ms/step - loss: 0.2096 - accuracy: 0.6921 - val_loss: 0.2135 - val_accuracy: 0.7561\n",
      "Epoch 21/30\n",
      "4/4 [==============================] - 1s 236ms/step - loss: 0.2108 - accuracy: 0.7030 - val_loss: 0.2118 - val_accuracy: 0.7561\n",
      "Epoch 22/30\n",
      "4/4 [==============================] - 1s 217ms/step - loss: 0.2059 - accuracy: 0.7112 - val_loss: 0.2105 - val_accuracy: 0.7561\n",
      "Epoch 23/30\n",
      "4/4 [==============================] - 1s 225ms/step - loss: 0.2026 - accuracy: 0.7221 - val_loss: 0.2087 - val_accuracy: 0.7561\n",
      "Epoch 24/30\n",
      "4/4 [==============================] - 1s 225ms/step - loss: 0.2003 - accuracy: 0.7112 - val_loss: 0.2086 - val_accuracy: 0.7561\n",
      "Epoch 25/30\n",
      "4/4 [==============================] - 1s 234ms/step - loss: 0.1969 - accuracy: 0.7384 - val_loss: 0.2100 - val_accuracy: 0.7561\n",
      "Epoch 26/30\n",
      "4/4 [==============================] - 1s 235ms/step - loss: 0.1956 - accuracy: 0.7302 - val_loss: 0.2108 - val_accuracy: 0.7561\n",
      "Epoch 27/30\n",
      "4/4 [==============================] - 1s 233ms/step - loss: 0.2066 - accuracy: 0.7248 - val_loss: 0.2110 - val_accuracy: 0.7561\n",
      "Epoch 28/30\n",
      "4/4 [==============================] - 1s 224ms/step - loss: 0.1965 - accuracy: 0.7384 - val_loss: 0.2095 - val_accuracy: 0.7561\n",
      "Epoch 29/30\n",
      "4/4 [==============================] - 1s 234ms/step - loss: 0.1940 - accuracy: 0.7357 - val_loss: 0.2080 - val_accuracy: 0.7561\n",
      "Epoch 30/30\n",
      "4/4 [==============================] - 1s 226ms/step - loss: 0.1821 - accuracy: 0.7520 - val_loss: 0.2077 - val_accuracy: 0.7561\n"
     ]
    }
   ],
   "source": [
    "model = Sequential()\n",
    "\n",
    "model.add(LSTM(units = 50, return_sequences = True, input_shape = (X_train.shape[1], 1)))\n",
    "model.add(Dropout(0.2))\n",
    "model.add(BatchNormalization())\n",
    "\n",
    "\n",
    "model.add(LSTM(units = 50))\n",
    "model.add(Dropout(0.25))\n",
    "model.add(BatchNormalization())\n",
    "\n",
    "model.add(Dense(2, activation='sigmoid'))\n",
    "\n",
    "model.compile(optimizer = 'adam', loss = 'mean_squared_error',metrics=['accuracy'])\n",
    "\n",
    "history=model.fit(X_train_m, y_train_m,validation_data=(X_val,y_val), epochs = 30, batch_size = 100)"
   ]
  },
  {
   "cell_type": "code",
   "execution_count": 33,
   "id": "87c5bd95",
   "metadata": {
    "ExecuteTime": {
     "end_time": "2022-03-11T13:06:48.468760Z",
     "start_time": "2022-03-11T13:06:48.310423Z"
    }
   },
   "outputs": [
    {
     "data": {
      "image/png": "[encoded data removed]",
      "text/plain": [
       "<Figure size 432x288 with 1 Axes>"
      ]
     },
     "metadata": {
      "needs_background": "light"
     },
     "output_type": "display_data"
    },
    {
     "data": {
      "text/plain": [
       "<Figure size 432x288 with 0 Axes>"
      ]
     },
     "metadata": {},
     "output_type": "display_data"
    }
   ],
   "source": [
    "plt.plot(history.history['accuracy'], label='acc')\n",
    "plt.plot(history.history['val_accuracy'], label='val_acc')\n",
    "plt.title('Training and validation accuracy evolution through epochs')\n",
    "plt.legend()\n",
    "plt.show()\n",
    "plt.savefig(\"Accuracy plot.jpg\")"
   ]
  },
  {
   "cell_type": "code",
   "execution_count": 34,
   "id": "47397b81",
   "metadata": {
    "ExecuteTime": {
     "end_time": "2022-03-11T13:06:48.817137Z",
     "start_time": "2022-03-11T13:06:48.469671Z"
    }
   },
   "outputs": [
    {
     "name": "stdout",
     "output_type": "stream",
     "text": [
      "13/13 [==============================] - 0s 24ms/step - loss: 0.2147 - accuracy: 0.7010\n"
     ]
    },
    {
     "data": {
      "text/plain": [
       "[0.21465633809566498, 0.7009803652763367]"
      ]
     },
     "execution_count": 34,
     "metadata": {},
     "output_type": "execute_result"
    }
   ],
   "source": [
    "model.evaluate(X_train,y_train)"
   ]
  },
  {
   "cell_type": "code",
   "execution_count": 35,
   "id": "d98cc966",
   "metadata": {
    "ExecuteTime": {
     "end_time": "2022-03-11T13:06:48.896197Z",
     "start_time": "2022-03-11T13:06:48.818118Z"
    }
   },
   "outputs": [
    {
     "name": "stdout",
     "output_type": "stream",
     "text": [
      "2/2 [==============================] - 0s 17ms/step - loss: 0.2197 - accuracy: 0.6739\n"
     ]
    },
    {
     "data": {
      "text/plain": [
       "[0.21968010067939758, 0.6739130616188049]"
      ]
     },
     "execution_count": 35,
     "metadata": {},
     "output_type": "execute_result"
    }
   ],
   "source": [
    "model.evaluate(X_test,y_test)"
   ]
  },
  {
   "cell_type": "code",
   "execution_count": null,
   "id": "cf88f5df",
   "metadata": {},
   "outputs": [],
   "source": []
  },
  {
   "cell_type": "code",
   "execution_count": null,
   "id": "807187ca",
   "metadata": {},
   "outputs": [],
   "source": []
  }
 ],
 "metadata": {
  "kernelspec": {
   "display_name": "Python 3",
   "language": "python",
   "name": "python3"
  },
  "language_info": {
   "codemirror_mode": {
    "name": "ipython",
    "version": 3
   },
   "file_extension": ".py",
   "mimetype": "text/x-python",
   "name": "python",
   "nbconvert_exporter": "python",
   "pygments_lexer": "ipython3",
   "version": "3.8.8"
  },
  "toc": {
   "base_numbering": 1,
   "nav_menu": {},
   "number_sections": true,
   "sideBar": true,
   "skip_h1_title": false,
   "title_cell": "Table of Contents",
   "title_sidebar": "Contents",
   "toc_cell": false,
   "toc_position": {
    "height": "calc(100% - 180px)",
    "left": "10px",
    "top": "150px",
    "width": "195.273px"
   },
   "toc_section_display": true,
   "toc_window_display": true
  }
 },
 "nbformat": 4,
 "nbformat_minor": 5
}
